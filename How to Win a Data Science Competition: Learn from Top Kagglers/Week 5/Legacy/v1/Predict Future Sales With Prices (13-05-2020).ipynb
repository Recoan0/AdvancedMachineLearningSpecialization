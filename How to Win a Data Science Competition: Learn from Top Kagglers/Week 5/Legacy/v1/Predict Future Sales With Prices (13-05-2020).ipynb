{
 "cells": [
  {
   "cell_type": "markdown",
   "metadata": {},
   "source": [
    "# Import Libraries"
   ]
  },
  {
   "cell_type": "code",
   "execution_count": 1,
   "metadata": {},
   "outputs": [
    {
     "name": "stderr",
     "output_type": "stream",
     "text": [
      "Using TensorFlow backend.\n"
     ]
    }
   ],
   "source": [
    "import keras\n",
    "import gc\n",
    "import tensorflow as tf\n",
    "import numpy as np\n",
    "import pandas as pd\n",
    "import xgboost as xgb\n",
    "import matplotlib.pyplot as plt\n",
    "from sklearn.model_selection import train_test_split, KFold\n",
    "from sklearn.metrics import mean_squared_error, accuracy_score, r2_score\n",
    "from sklearn.linear_model import LinearRegression\n",
    "from sklearn.ensemble import RandomForestClassifier"
   ]
  },
  {
   "cell_type": "code",
   "execution_count": 2,
   "metadata": {},
   "outputs": [],
   "source": [
    "# Set random seeds\n",
    "np.random.seed(0)\n",
    "tf.set_random_seed(0)"
   ]
  },
  {
   "cell_type": "markdown",
   "metadata": {},
   "source": [
    "# Open Data"
   ]
  },
  {
   "cell_type": "code",
   "execution_count": 3,
   "metadata": {},
   "outputs": [],
   "source": [
    "# Open data, csv files should be in same folder as notebook.\n",
    "notebook_dir = %pwd\n",
    "\n",
    "items = pd.read_csv(notebook_dir + \"/items.csv\")\n",
    "shops_data = pd.read_csv(notebook_dir + \"/shops.csv\")\n",
    "sales_train = pd.read_csv(notebook_dir + \"/sales_train.csv\")\n",
    "test = pd.read_csv(notebook_dir + \"/test.csv\")\n",
    "sample_submission = pd.read_csv(notebook_dir + \"/sample_submission.csv\")\n",
    "item_category = pd.read_csv(notebook_dir + \"/item_categories.csv\")"
   ]
  },
  {
   "cell_type": "markdown",
   "metadata": {},
   "source": [
    "# Exploratory Data Analysis"
   ]
  },
  {
   "cell_type": "code",
   "execution_count": 4,
   "metadata": {},
   "outputs": [
    {
     "data": {
      "text/html": [
       "<div>\n",
       "<style scoped>\n",
       "    .dataframe tbody tr th:only-of-type {\n",
       "        vertical-align: middle;\n",
       "    }\n",
       "\n",
       "    .dataframe tbody tr th {\n",
       "        vertical-align: top;\n",
       "    }\n",
       "\n",
       "    .dataframe thead th {\n",
       "        text-align: right;\n",
       "    }\n",
       "</style>\n",
       "<table border=\"1\" class=\"dataframe\">\n",
       "  <thead>\n",
       "    <tr style=\"text-align: right;\">\n",
       "      <th></th>\n",
       "      <th>item_name</th>\n",
       "      <th>item_id</th>\n",
       "      <th>item_category_id</th>\n",
       "    </tr>\n",
       "  </thead>\n",
       "  <tbody>\n",
       "    <tr>\n",
       "      <th>0</th>\n",
       "      <td>! ВО ВЛАСТИ НАВАЖДЕНИЯ (ПЛАСТ.)         D</td>\n",
       "      <td>0</td>\n",
       "      <td>40</td>\n",
       "    </tr>\n",
       "    <tr>\n",
       "      <th>1</th>\n",
       "      <td>!ABBYY FineReader 12 Professional Edition Full...</td>\n",
       "      <td>1</td>\n",
       "      <td>76</td>\n",
       "    </tr>\n",
       "    <tr>\n",
       "      <th>2</th>\n",
       "      <td>***В ЛУЧАХ СЛАВЫ   (UNV)                    D</td>\n",
       "      <td>2</td>\n",
       "      <td>40</td>\n",
       "    </tr>\n",
       "    <tr>\n",
       "      <th>3</th>\n",
       "      <td>***ГОЛУБАЯ ВОЛНА  (Univ)                      D</td>\n",
       "      <td>3</td>\n",
       "      <td>40</td>\n",
       "    </tr>\n",
       "    <tr>\n",
       "      <th>4</th>\n",
       "      <td>***КОРОБКА (СТЕКЛО)                       D</td>\n",
       "      <td>4</td>\n",
       "      <td>40</td>\n",
       "    </tr>\n",
       "    <tr>\n",
       "      <th>...</th>\n",
       "      <td>...</td>\n",
       "      <td>...</td>\n",
       "      <td>...</td>\n",
       "    </tr>\n",
       "    <tr>\n",
       "      <th>22165</th>\n",
       "      <td>Ядерный титбит 2 [PC, Цифровая версия]</td>\n",
       "      <td>22165</td>\n",
       "      <td>31</td>\n",
       "    </tr>\n",
       "    <tr>\n",
       "      <th>22166</th>\n",
       "      <td>Язык запросов 1С:Предприятия  [Цифровая версия]</td>\n",
       "      <td>22166</td>\n",
       "      <td>54</td>\n",
       "    </tr>\n",
       "    <tr>\n",
       "      <th>22167</th>\n",
       "      <td>Язык запросов 1С:Предприятия 8 (+CD). Хрустале...</td>\n",
       "      <td>22167</td>\n",
       "      <td>49</td>\n",
       "    </tr>\n",
       "    <tr>\n",
       "      <th>22168</th>\n",
       "      <td>Яйцо для Little Inu</td>\n",
       "      <td>22168</td>\n",
       "      <td>62</td>\n",
       "    </tr>\n",
       "    <tr>\n",
       "      <th>22169</th>\n",
       "      <td>Яйцо дракона (Игра престолов)</td>\n",
       "      <td>22169</td>\n",
       "      <td>69</td>\n",
       "    </tr>\n",
       "  </tbody>\n",
       "</table>\n",
       "<p>22170 rows × 3 columns</p>\n",
       "</div>"
      ],
      "text/plain": [
       "                                               item_name  item_id  \\\n",
       "0              ! ВО ВЛАСТИ НАВАЖДЕНИЯ (ПЛАСТ.)         D        0   \n",
       "1      !ABBYY FineReader 12 Professional Edition Full...        1   \n",
       "2          ***В ЛУЧАХ СЛАВЫ   (UNV)                    D        2   \n",
       "3        ***ГОЛУБАЯ ВОЛНА  (Univ)                      D        3   \n",
       "4            ***КОРОБКА (СТЕКЛО)                       D        4   \n",
       "...                                                  ...      ...   \n",
       "22165             Ядерный титбит 2 [PC, Цифровая версия]    22165   \n",
       "22166    Язык запросов 1С:Предприятия  [Цифровая версия]    22166   \n",
       "22167  Язык запросов 1С:Предприятия 8 (+CD). Хрустале...    22167   \n",
       "22168                                Яйцо для Little Inu    22168   \n",
       "22169                      Яйцо дракона (Игра престолов)    22169   \n",
       "\n",
       "       item_category_id  \n",
       "0                    40  \n",
       "1                    76  \n",
       "2                    40  \n",
       "3                    40  \n",
       "4                    40  \n",
       "...                 ...  \n",
       "22165                31  \n",
       "22166                54  \n",
       "22167                49  \n",
       "22168                62  \n",
       "22169                69  \n",
       "\n",
       "[22170 rows x 3 columns]"
      ]
     },
     "execution_count": 4,
     "metadata": {},
     "output_type": "execute_result"
    }
   ],
   "source": [
    "items"
   ]
  },
  {
   "cell_type": "code",
   "execution_count": 5,
   "metadata": {},
   "outputs": [
    {
     "data": {
      "text/html": [
       "<div>\n",
       "<style scoped>\n",
       "    .dataframe tbody tr th:only-of-type {\n",
       "        vertical-align: middle;\n",
       "    }\n",
       "\n",
       "    .dataframe tbody tr th {\n",
       "        vertical-align: top;\n",
       "    }\n",
       "\n",
       "    .dataframe thead th {\n",
       "        text-align: right;\n",
       "    }\n",
       "</style>\n",
       "<table border=\"1\" class=\"dataframe\">\n",
       "  <thead>\n",
       "    <tr style=\"text-align: right;\">\n",
       "      <th></th>\n",
       "      <th>ID</th>\n",
       "      <th>shop_id</th>\n",
       "      <th>item_id</th>\n",
       "    </tr>\n",
       "  </thead>\n",
       "  <tbody>\n",
       "    <tr>\n",
       "      <th>0</th>\n",
       "      <td>0</td>\n",
       "      <td>5</td>\n",
       "      <td>5037</td>\n",
       "    </tr>\n",
       "    <tr>\n",
       "      <th>1</th>\n",
       "      <td>1</td>\n",
       "      <td>5</td>\n",
       "      <td>5320</td>\n",
       "    </tr>\n",
       "    <tr>\n",
       "      <th>2</th>\n",
       "      <td>2</td>\n",
       "      <td>5</td>\n",
       "      <td>5233</td>\n",
       "    </tr>\n",
       "    <tr>\n",
       "      <th>3</th>\n",
       "      <td>3</td>\n",
       "      <td>5</td>\n",
       "      <td>5232</td>\n",
       "    </tr>\n",
       "    <tr>\n",
       "      <th>4</th>\n",
       "      <td>4</td>\n",
       "      <td>5</td>\n",
       "      <td>5268</td>\n",
       "    </tr>\n",
       "    <tr>\n",
       "      <th>...</th>\n",
       "      <td>...</td>\n",
       "      <td>...</td>\n",
       "      <td>...</td>\n",
       "    </tr>\n",
       "    <tr>\n",
       "      <th>214195</th>\n",
       "      <td>214195</td>\n",
       "      <td>45</td>\n",
       "      <td>18454</td>\n",
       "    </tr>\n",
       "    <tr>\n",
       "      <th>214196</th>\n",
       "      <td>214196</td>\n",
       "      <td>45</td>\n",
       "      <td>16188</td>\n",
       "    </tr>\n",
       "    <tr>\n",
       "      <th>214197</th>\n",
       "      <td>214197</td>\n",
       "      <td>45</td>\n",
       "      <td>15757</td>\n",
       "    </tr>\n",
       "    <tr>\n",
       "      <th>214198</th>\n",
       "      <td>214198</td>\n",
       "      <td>45</td>\n",
       "      <td>19648</td>\n",
       "    </tr>\n",
       "    <tr>\n",
       "      <th>214199</th>\n",
       "      <td>214199</td>\n",
       "      <td>45</td>\n",
       "      <td>969</td>\n",
       "    </tr>\n",
       "  </tbody>\n",
       "</table>\n",
       "<p>214200 rows × 3 columns</p>\n",
       "</div>"
      ],
      "text/plain": [
       "            ID  shop_id  item_id\n",
       "0            0        5     5037\n",
       "1            1        5     5320\n",
       "2            2        5     5233\n",
       "3            3        5     5232\n",
       "4            4        5     5268\n",
       "...        ...      ...      ...\n",
       "214195  214195       45    18454\n",
       "214196  214196       45    16188\n",
       "214197  214197       45    15757\n",
       "214198  214198       45    19648\n",
       "214199  214199       45      969\n",
       "\n",
       "[214200 rows x 3 columns]"
      ]
     },
     "execution_count": 5,
     "metadata": {},
     "output_type": "execute_result"
    }
   ],
   "source": [
    "test"
   ]
  },
  {
   "cell_type": "code",
   "execution_count": 6,
   "metadata": {},
   "outputs": [
    {
     "data": {
      "text/html": [
       "<div>\n",
       "<style scoped>\n",
       "    .dataframe tbody tr th:only-of-type {\n",
       "        vertical-align: middle;\n",
       "    }\n",
       "\n",
       "    .dataframe tbody tr th {\n",
       "        vertical-align: top;\n",
       "    }\n",
       "\n",
       "    .dataframe thead th {\n",
       "        text-align: right;\n",
       "    }\n",
       "</style>\n",
       "<table border=\"1\" class=\"dataframe\">\n",
       "  <thead>\n",
       "    <tr style=\"text-align: right;\">\n",
       "      <th></th>\n",
       "      <th>ID</th>\n",
       "      <th>item_cnt_month</th>\n",
       "    </tr>\n",
       "  </thead>\n",
       "  <tbody>\n",
       "    <tr>\n",
       "      <th>0</th>\n",
       "      <td>0</td>\n",
       "      <td>0.5</td>\n",
       "    </tr>\n",
       "    <tr>\n",
       "      <th>1</th>\n",
       "      <td>1</td>\n",
       "      <td>0.5</td>\n",
       "    </tr>\n",
       "    <tr>\n",
       "      <th>2</th>\n",
       "      <td>2</td>\n",
       "      <td>0.5</td>\n",
       "    </tr>\n",
       "    <tr>\n",
       "      <th>3</th>\n",
       "      <td>3</td>\n",
       "      <td>0.5</td>\n",
       "    </tr>\n",
       "    <tr>\n",
       "      <th>4</th>\n",
       "      <td>4</td>\n",
       "      <td>0.5</td>\n",
       "    </tr>\n",
       "    <tr>\n",
       "      <th>...</th>\n",
       "      <td>...</td>\n",
       "      <td>...</td>\n",
       "    </tr>\n",
       "    <tr>\n",
       "      <th>214195</th>\n",
       "      <td>214195</td>\n",
       "      <td>0.5</td>\n",
       "    </tr>\n",
       "    <tr>\n",
       "      <th>214196</th>\n",
       "      <td>214196</td>\n",
       "      <td>0.5</td>\n",
       "    </tr>\n",
       "    <tr>\n",
       "      <th>214197</th>\n",
       "      <td>214197</td>\n",
       "      <td>0.5</td>\n",
       "    </tr>\n",
       "    <tr>\n",
       "      <th>214198</th>\n",
       "      <td>214198</td>\n",
       "      <td>0.5</td>\n",
       "    </tr>\n",
       "    <tr>\n",
       "      <th>214199</th>\n",
       "      <td>214199</td>\n",
       "      <td>0.5</td>\n",
       "    </tr>\n",
       "  </tbody>\n",
       "</table>\n",
       "<p>214200 rows × 2 columns</p>\n",
       "</div>"
      ],
      "text/plain": [
       "            ID  item_cnt_month\n",
       "0            0             0.5\n",
       "1            1             0.5\n",
       "2            2             0.5\n",
       "3            3             0.5\n",
       "4            4             0.5\n",
       "...        ...             ...\n",
       "214195  214195             0.5\n",
       "214196  214196             0.5\n",
       "214197  214197             0.5\n",
       "214198  214198             0.5\n",
       "214199  214199             0.5\n",
       "\n",
       "[214200 rows x 2 columns]"
      ]
     },
     "execution_count": 6,
     "metadata": {},
     "output_type": "execute_result"
    }
   ],
   "source": [
    "sample_submission"
   ]
  },
  {
   "cell_type": "code",
   "execution_count": 15,
   "metadata": {},
   "outputs": [
    {
     "data": {
      "text/plain": [
       "0                       !Якутск Орджоникидзе, 56 фран\n",
       "1                       !Якутск ТЦ \"Центральный\" фран\n",
       "2                                    Адыгея ТЦ \"Мега\"\n",
       "3                      Балашиха ТРК \"Октябрь-Киномир\"\n",
       "4                            Волжский ТЦ \"Волга Молл\"\n",
       "5                              Вологда ТРЦ \"Мармелад\"\n",
       "6                          Воронеж (Плехановская, 13)\n",
       "7                              Воронеж ТРЦ \"Максимир\"\n",
       "8                        Воронеж ТРЦ Сити-Парк \"Град\"\n",
       "9                                   Выездная Торговля\n",
       "10                         Жуковский ул. Чкалова 39м?\n",
       "11                         Жуковский ул. Чкалова 39м²\n",
       "12                                Интернет-магазин ЧС\n",
       "13                                Казань ТЦ \"Бехетле\"\n",
       "14                            Казань ТЦ \"ПаркХаус\" II\n",
       "15                               Калуга ТРЦ \"XXI век\"\n",
       "16                                   Коломна ТЦ \"Рио\"\n",
       "17                      Красноярск ТЦ \"Взлетка Плаза\"\n",
       "18                               Красноярск ТЦ \"Июнь\"\n",
       "19                              Курск ТЦ \"Пушкинский\"\n",
       "20                                Москва \"Распродажа\"\n",
       "21                             Москва МТРЦ \"Афи Молл\"\n",
       "22                                 Москва Магазин С21\n",
       "23                   Москва ТК \"Буденовский\" (пав.А2)\n",
       "24                   Москва ТК \"Буденовский\" (пав.К7)\n",
       "25                                Москва ТРК \"Атриум\"\n",
       "26                        Москва ТЦ \"Ареал\" (Беляево)\n",
       "27                     Москва ТЦ \"МЕГА Белая Дача II\"\n",
       "28                    Москва ТЦ \"МЕГА Теплый Стан\" II\n",
       "29                 Москва ТЦ \"Новый век\" (Новокосино)\n",
       "30                             Москва ТЦ \"Перловский\"\n",
       "31                            Москва ТЦ \"Семеновский\"\n",
       "32                         Москва ТЦ \"Серебряный Дом\"\n",
       "33                                  Мытищи ТРК \"XL-3\"\n",
       "34                               Н.Новгород ТРЦ \"РИО\"\n",
       "35                        Н.Новгород ТРЦ \"Фантастика\"\n",
       "36              Новосибирск ТРЦ \"Галерея Новосибирск\"\n",
       "37                              Новосибирск ТЦ \"Мега\"\n",
       "38                                     Омск ТЦ \"Мега\"\n",
       "39              РостовНаДону ТРК \"Мегацентр Горизонт\"\n",
       "40    РостовНаДону ТРК \"Мегацентр Горизонт\" Островной\n",
       "41                             РостовНаДону ТЦ \"Мега\"\n",
       "42                             СПб ТК \"Невский Центр\"\n",
       "43                                    СПб ТК \"Сенная\"\n",
       "44                                Самара ТЦ \"Мелодия\"\n",
       "45                               Самара ТЦ \"ПаркХаус\"\n",
       "46                              Сергиев Посад ТЦ \"7Я\"\n",
       "47                             Сургут ТРЦ \"Сити Молл\"\n",
       "48                       Томск ТРЦ \"Изумрудный Город\"\n",
       "49                              Тюмень ТРЦ \"Кристалл\"\n",
       "50                                 Тюмень ТЦ \"Гудвин\"\n",
       "51                          Тюмень ТЦ \"Зеленый Берег\"\n",
       "52                               Уфа ТК \"Центральный\"\n",
       "53                                   Уфа ТЦ \"Семья\" 2\n",
       "54                                    Химки ТЦ \"Мега\"\n",
       "55                           Цифровой склад 1С-Онлайн\n",
       "56                               Чехов ТРЦ \"Карнавал\"\n",
       "57                            Якутск Орджоникидзе, 56\n",
       "58                            Якутск ТЦ \"Центральный\"\n",
       "59                             Ярославль ТЦ \"Альтаир\"\n",
       "Name: shop_name, dtype: object"
      ]
     },
     "execution_count": 15,
     "metadata": {},
     "output_type": "execute_result"
    }
   ],
   "source": [
    "shops_data['shop_name']"
   ]
  },
  {
   "cell_type": "markdown",
   "metadata": {},
   "source": [
    "Several shops are very similar in name (0 and 57, 1 and 58, 10 and 11). It might be advantageous to merge these."
   ]
  },
  {
   "cell_type": "code",
   "execution_count": 17,
   "metadata": {},
   "outputs": [
    {
     "name": "stdout",
     "output_type": "stream",
     "text": [
      "Amount of train samples: 2935843\n",
      "       date_block_num       shop_id       item_id    item_price  item_cnt_day\n",
      "count    2.935843e+06  2.935843e+06  2.935843e+06  2.935843e+06  2.935843e+06\n",
      "mean     1.456991e+01  3.300171e+01  1.019723e+04  8.908535e+02  1.242641e+00\n",
      "std      9.422992e+00  1.622698e+01  6.324293e+03  1.729801e+03  2.618837e+00\n",
      "min      0.000000e+00  0.000000e+00  0.000000e+00 -1.000000e+00 -2.200000e+01\n",
      "25%      7.000000e+00  2.200000e+01  4.476000e+03  2.490000e+02  1.000000e+00\n",
      "50%      1.400000e+01  3.100000e+01  9.343000e+03  3.990000e+02  1.000000e+00\n",
      "75%      2.300000e+01  4.700000e+01  1.568400e+04  9.990000e+02  1.000000e+00\n",
      "max      3.300000e+01  5.900000e+01  2.216900e+04  3.079800e+05  2.169000e+03\n",
      "Amount of unique train samples: 2935843\n"
     ]
    }
   ],
   "source": [
    "print('Amount of train samples: ' + str(len(sales_train.index)))\n",
    "print(sales_train.describe())\n",
    "\n",
    "# sales_train has duplicate rows which will influence training, drop duplicate rows\n",
    "sales_train.drop_duplicates(inplace = True)\n",
    "print('Amount of unique train samples: ' + str(len(sales_train.index)))"
   ]
  },
  {
   "cell_type": "code",
   "execution_count": 7,
   "metadata": {},
   "outputs": [
    {
     "data": {
      "text/plain": [
       "{'whiskers': [<matplotlib.lines.Line2D at 0x7f3c02a6f978>,\n",
       "  <matplotlib.lines.Line2D at 0x7f3c02a6fcc0>],\n",
       " 'caps': [<matplotlib.lines.Line2D at 0x7f3c02a83048>,\n",
       "  <matplotlib.lines.Line2D at 0x7f3c02a83390>],\n",
       " 'boxes': [<matplotlib.lines.Line2D at 0x7f3c02a6f588>],\n",
       " 'medians': [<matplotlib.lines.Line2D at 0x7f3c02a836d8>],\n",
       " 'fliers': [<matplotlib.lines.Line2D at 0x7f3c02a83a20>],\n",
       " 'means': []}"
      ]
     },
     "execution_count": 7,
     "metadata": {},
     "output_type": "execute_result"
    },
    {
     "data": {
      "image/png": "[encoded data removed]",
      "text/plain": [
       "<Figure size 432x288 with 1 Axes>"
      ]
     },
     "metadata": {
      "needs_background": "light"
     },
     "output_type": "display_data"
    }
   ],
   "source": [
    "plt.boxplot(sales_train['item_cnt_day'])"
   ]
  },
  {
   "cell_type": "markdown",
   "metadata": {},
   "source": [
    "As we can see, there are quite a few outliers with some people buying up to 2000+ items in one transaction. This will heavily skew our predicitons, and hence during preprocessing we should get rid of these outliers."
   ]
  },
  {
   "cell_type": "code",
   "execution_count": 8,
   "metadata": {},
   "outputs": [
    {
     "data": {
      "image/png": "[encoded data removed]",
      "text/plain": [
       "<Figure size 432x288 with 1 Axes>"
      ]
     },
     "metadata": {
      "needs_background": "light"
     },
     "output_type": "display_data"
    },
    {
     "name": "stdout",
     "output_type": "stream",
     "text": [
      "              date  date_block_num  shop_id  item_id  item_price  item_cnt_day\n",
      "484683  15.05.2013               4       32     2973        -1.0           1.0\n"
     ]
    }
   ],
   "source": [
    "plt.boxplot(sales_train['item_price'])\n",
    "plt.show()\n",
    "print(sales_train[sales_train['item_price'] < 0])"
   ]
  },
  {
   "cell_type": "markdown",
   "metadata": {},
   "source": [
    "As we can see the price also has some outliers with some prices being extremely high or below 0."
   ]
  },
  {
   "cell_type": "code",
   "execution_count": 10,
   "metadata": {},
   "outputs": [
    {
     "data": {
      "text/plain": [
       "date_block_num\n",
       "0     115689\n",
       "1     108613\n",
       "2     121347\n",
       "3      94109\n",
       "4      91759\n",
       "5     100403\n",
       "6     100548\n",
       "7     104772\n",
       "8      96137\n",
       "9      94202\n",
       "10     96736\n",
       "11    143246\n",
       "12     99349\n",
       "13     89829\n",
       "14     92732\n",
       "15     77906\n",
       "16     78528\n",
       "17     82408\n",
       "18     78759\n",
       "19     86614\n",
       "20     73157\n",
       "21     79361\n",
       "22     86428\n",
       "23    130785\n",
       "24     88522\n",
       "25     71808\n",
       "26     69977\n",
       "27     56274\n",
       "28     54548\n",
       "29     54617\n",
       "30     55549\n",
       "31     57029\n",
       "32     50588\n",
       "33     53514\n",
       "Name: item_cnt_day, dtype: int64"
      ]
     },
     "execution_count": 10,
     "metadata": {},
     "output_type": "execute_result"
    }
   ],
   "source": [
    "sales_train.groupby(by=['date_block_num'])['item_cnt_day'].count()"
   ]
  },
  {
   "cell_type": "markdown",
   "metadata": {},
   "source": [
    "as we can see not all months have the same amount of rows. This might skew training."
   ]
  },
  {
   "cell_type": "code",
   "execution_count": 20,
   "metadata": {},
   "outputs": [
    {
     "name": "stdout",
     "output_type": "stream",
     "text": [
      "test rows: 214200\n"
     ]
    },
    {
     "data": {
      "text/html": [
       "<div>\n",
       "<style scoped>\n",
       "    .dataframe tbody tr th:only-of-type {\n",
       "        vertical-align: middle;\n",
       "    }\n",
       "\n",
       "    .dataframe tbody tr th {\n",
       "        vertical-align: top;\n",
       "    }\n",
       "\n",
       "    .dataframe thead th {\n",
       "        text-align: right;\n",
       "    }\n",
       "</style>\n",
       "<table border=\"1\" class=\"dataframe\">\n",
       "  <thead>\n",
       "    <tr style=\"text-align: right;\">\n",
       "      <th></th>\n",
       "      <th>ID</th>\n",
       "      <th>shop_id</th>\n",
       "      <th>item_id</th>\n",
       "    </tr>\n",
       "  </thead>\n",
       "  <tbody>\n",
       "    <tr>\n",
       "      <th>0</th>\n",
       "      <td>0</td>\n",
       "      <td>5</td>\n",
       "      <td>5037</td>\n",
       "    </tr>\n",
       "    <tr>\n",
       "      <th>1</th>\n",
       "      <td>1</td>\n",
       "      <td>5</td>\n",
       "      <td>5320</td>\n",
       "    </tr>\n",
       "    <tr>\n",
       "      <th>2</th>\n",
       "      <td>2</td>\n",
       "      <td>5</td>\n",
       "      <td>5233</td>\n",
       "    </tr>\n",
       "    <tr>\n",
       "      <th>3</th>\n",
       "      <td>3</td>\n",
       "      <td>5</td>\n",
       "      <td>5232</td>\n",
       "    </tr>\n",
       "    <tr>\n",
       "      <th>4</th>\n",
       "      <td>4</td>\n",
       "      <td>5</td>\n",
       "      <td>5268</td>\n",
       "    </tr>\n",
       "  </tbody>\n",
       "</table>\n",
       "</div>"
      ],
      "text/plain": [
       "   ID  shop_id  item_id\n",
       "0   0        5     5037\n",
       "1   1        5     5320\n",
       "2   2        5     5233\n",
       "3   3        5     5232\n",
       "4   4        5     5268"
      ]
     },
     "execution_count": 20,
     "metadata": {},
     "output_type": "execute_result"
    }
   ],
   "source": [
    "print('test rows:', len(test))\n",
    "test.head()"
   ]
  },
  {
   "cell_type": "markdown",
   "metadata": {},
   "source": [
    "# Data Leakages\n",
    "During EDA no Data Leakages became apparant so we didn't use any during our training."
   ]
  },
  {
   "cell_type": "markdown",
   "metadata": {},
   "source": [
    "# Data Preprocessing and Generation\n",
    "\n",
    "### Product price\n",
    "We use the price of the last recorded month in a particular store as an estimate for the price in date_block 34.\n",
    "This allows us to use the price for training, and to better predict the eventual amount of sales."
   ]
  },
  {
   "cell_type": "code",
   "execution_count": 10,
   "metadata": {},
   "outputs": [
    {
     "name": "stdout",
     "output_type": "stream",
     "text": [
      "        shop_id  item_id  item_price\n",
      "0             0       30       265.0\n",
      "1             0       31       434.0\n",
      "2             0       32       221.0\n",
      "3             0       33       347.0\n",
      "4             0       35       247.0\n",
      "...         ...      ...         ...\n",
      "424119       59    22154       999.0\n",
      "424120       59    22155       149.0\n",
      "424121       59    22162       349.0\n",
      "424122       59    22164       699.0\n",
      "424123       59    22167       299.0\n",
      "\n",
      "[424124 rows x 3 columns]\n"
     ]
    }
   ],
   "source": [
    "most_recent_prices = sales_train.groupby(['shop_id', 'item_id'], as_index=False)['item_price'].last()\n",
    "print(most_recent_prices)"
   ]
  },
  {
   "cell_type": "markdown",
   "metadata": {},
   "source": [
    "### Merge Shops"
   ]
  },
  {
   "cell_type": "code",
   "execution_count": null,
   "metadata": {},
   "outputs": [],
   "source": [
    "# Merge shops with same name as found in EDA\n",
    "sales_train.loc[sales_train.shop_id == 0, 'shop_id'] = 57\n",
    "test.loc[test.shop_id == 0, 'shop_id'] = 57\n",
    "\n",
    "sales_train.loc[sales_train.shop_id == 1, 'shop_id'] = 58\n",
    "test.loc[test.shop_id == 1, 'shop_id'] = 58\n",
    "\n",
    "sales_train.loc[sales_train.shop_id == 10, 'shop_id'] = 11\n",
    "test.loc[test.shop_id == 10, 'shop_id'] = 11"
   ]
  },
  {
   "cell_type": "markdown",
   "metadata": {},
   "source": [
    "### Item category\n",
    "Adding item category to easier distinguish between different types of products"
   ]
  },
  {
   "cell_type": "code",
   "execution_count": 11,
   "metadata": {},
   "outputs": [
    {
     "data": {
      "text/html": [
       "<div>\n",
       "<style scoped>\n",
       "    .dataframe tbody tr th:only-of-type {\n",
       "        vertical-align: middle;\n",
       "    }\n",
       "\n",
       "    .dataframe tbody tr th {\n",
       "        vertical-align: top;\n",
       "    }\n",
       "\n",
       "    .dataframe thead th {\n",
       "        text-align: right;\n",
       "    }\n",
       "</style>\n",
       "<table border=\"1\" class=\"dataframe\">\n",
       "  <thead>\n",
       "    <tr style=\"text-align: right;\">\n",
       "      <th></th>\n",
       "      <th>item_id</th>\n",
       "      <th>item_category_id</th>\n",
       "    </tr>\n",
       "  </thead>\n",
       "  <tbody>\n",
       "    <tr>\n",
       "      <th>0</th>\n",
       "      <td>0</td>\n",
       "      <td>40</td>\n",
       "    </tr>\n",
       "    <tr>\n",
       "      <th>1</th>\n",
       "      <td>1</td>\n",
       "      <td>76</td>\n",
       "    </tr>\n",
       "    <tr>\n",
       "      <th>2</th>\n",
       "      <td>2</td>\n",
       "      <td>40</td>\n",
       "    </tr>\n",
       "    <tr>\n",
       "      <th>3</th>\n",
       "      <td>3</td>\n",
       "      <td>40</td>\n",
       "    </tr>\n",
       "    <tr>\n",
       "      <th>4</th>\n",
       "      <td>4</td>\n",
       "      <td>40</td>\n",
       "    </tr>\n",
       "    <tr>\n",
       "      <th>...</th>\n",
       "      <td>...</td>\n",
       "      <td>...</td>\n",
       "    </tr>\n",
       "    <tr>\n",
       "      <th>22165</th>\n",
       "      <td>22165</td>\n",
       "      <td>31</td>\n",
       "    </tr>\n",
       "    <tr>\n",
       "      <th>22166</th>\n",
       "      <td>22166</td>\n",
       "      <td>54</td>\n",
       "    </tr>\n",
       "    <tr>\n",
       "      <th>22167</th>\n",
       "      <td>22167</td>\n",
       "      <td>49</td>\n",
       "    </tr>\n",
       "    <tr>\n",
       "      <th>22168</th>\n",
       "      <td>22168</td>\n",
       "      <td>62</td>\n",
       "    </tr>\n",
       "    <tr>\n",
       "      <th>22169</th>\n",
       "      <td>22169</td>\n",
       "      <td>69</td>\n",
       "    </tr>\n",
       "  </tbody>\n",
       "</table>\n",
       "<p>22170 rows × 2 columns</p>\n",
       "</div>"
      ],
      "text/plain": [
       "       item_id  item_category_id\n",
       "0            0                40\n",
       "1            1                76\n",
       "2            2                40\n",
       "3            3                40\n",
       "4            4                40\n",
       "...        ...               ...\n",
       "22165    22165                31\n",
       "22166    22166                54\n",
       "22167    22167                49\n",
       "22168    22168                62\n",
       "22169    22169                69\n",
       "\n",
       "[22170 rows x 2 columns]"
      ]
     },
     "execution_count": 11,
     "metadata": {},
     "output_type": "execute_result"
    }
   ],
   "source": [
    "item_category_map = items[['item_id', 'item_category_id']]\n",
    "item_category_map"
   ]
  },
  {
   "cell_type": "markdown",
   "metadata": {},
   "source": [
    "### Month\n",
    "Adding Month index to make model able to distinguish between high and low selling months"
   ]
  },
  {
   "cell_type": "code",
   "execution_count": 12,
   "metadata": {},
   "outputs": [
    {
     "data": {
      "text/plain": [
       "0          0\n",
       "1          0\n",
       "2          0\n",
       "3          0\n",
       "4          0\n",
       "          ..\n",
       "2935844    9\n",
       "2935845    9\n",
       "2935846    9\n",
       "2935847    9\n",
       "2935848    9\n",
       "Name: date_block_num, Length: 2935843, dtype: int64"
      ]
     },
     "execution_count": 12,
     "metadata": {},
     "output_type": "execute_result"
    }
   ],
   "source": [
    "month_index = sales_train['date_block_num'] % 12\n",
    "month_index"
   ]
  },
  {
   "cell_type": "markdown",
   "metadata": {},
   "source": [
    "### Days in Month"
   ]
  },
  {
   "cell_type": "code",
   "execution_count": 13,
   "metadata": {},
   "outputs": [],
   "source": [
    "days_in_month = pd.Series([31,28,31,30,31,30,31,31,30,31,30,31])"
   ]
  },
  {
   "cell_type": "markdown",
   "metadata": {},
   "source": [
    "### Create dataframe for competition predictions\n",
    "Test DataFrame needs same columns as training set"
   ]
  },
  {
   "cell_type": "code",
   "execution_count": 14,
   "metadata": {},
   "outputs": [
    {
     "data": {
      "text/html": [
       "<div>\n",
       "<style scoped>\n",
       "    .dataframe tbody tr th:only-of-type {\n",
       "        vertical-align: middle;\n",
       "    }\n",
       "\n",
       "    .dataframe tbody tr th {\n",
       "        vertical-align: top;\n",
       "    }\n",
       "\n",
       "    .dataframe thead th {\n",
       "        text-align: right;\n",
       "    }\n",
       "</style>\n",
       "<table border=\"1\" class=\"dataframe\">\n",
       "  <thead>\n",
       "    <tr style=\"text-align: right;\">\n",
       "      <th></th>\n",
       "      <th>ID</th>\n",
       "      <th>shop_id</th>\n",
       "      <th>item_id</th>\n",
       "      <th>item_price</th>\n",
       "      <th>item_category_id</th>\n",
       "      <th>date_block_num</th>\n",
       "      <th>month_index</th>\n",
       "      <th>month_days</th>\n",
       "    </tr>\n",
       "  </thead>\n",
       "  <tbody>\n",
       "    <tr>\n",
       "      <th>0</th>\n",
       "      <td>0</td>\n",
       "      <td>5</td>\n",
       "      <td>5037</td>\n",
       "      <td>749.5</td>\n",
       "      <td>19</td>\n",
       "      <td>34</td>\n",
       "      <td>10</td>\n",
       "      <td>30</td>\n",
       "    </tr>\n",
       "    <tr>\n",
       "      <th>1</th>\n",
       "      <td>1</td>\n",
       "      <td>5</td>\n",
       "      <td>5320</td>\n",
       "      <td>NaN</td>\n",
       "      <td>55</td>\n",
       "      <td>34</td>\n",
       "      <td>10</td>\n",
       "      <td>30</td>\n",
       "    </tr>\n",
       "    <tr>\n",
       "      <th>2</th>\n",
       "      <td>2</td>\n",
       "      <td>5</td>\n",
       "      <td>5233</td>\n",
       "      <td>1199.0</td>\n",
       "      <td>19</td>\n",
       "      <td>34</td>\n",
       "      <td>10</td>\n",
       "      <td>30</td>\n",
       "    </tr>\n",
       "    <tr>\n",
       "      <th>3</th>\n",
       "      <td>3</td>\n",
       "      <td>5</td>\n",
       "      <td>5232</td>\n",
       "      <td>599.0</td>\n",
       "      <td>23</td>\n",
       "      <td>34</td>\n",
       "      <td>10</td>\n",
       "      <td>30</td>\n",
       "    </tr>\n",
       "    <tr>\n",
       "      <th>4</th>\n",
       "      <td>4</td>\n",
       "      <td>5</td>\n",
       "      <td>5268</td>\n",
       "      <td>NaN</td>\n",
       "      <td>20</td>\n",
       "      <td>34</td>\n",
       "      <td>10</td>\n",
       "      <td>30</td>\n",
       "    </tr>\n",
       "    <tr>\n",
       "      <th>...</th>\n",
       "      <td>...</td>\n",
       "      <td>...</td>\n",
       "      <td>...</td>\n",
       "      <td>...</td>\n",
       "      <td>...</td>\n",
       "      <td>...</td>\n",
       "      <td>...</td>\n",
       "      <td>...</td>\n",
       "    </tr>\n",
       "    <tr>\n",
       "      <th>214195</th>\n",
       "      <td>214195</td>\n",
       "      <td>45</td>\n",
       "      <td>18454</td>\n",
       "      <td>99.0</td>\n",
       "      <td>55</td>\n",
       "      <td>34</td>\n",
       "      <td>10</td>\n",
       "      <td>30</td>\n",
       "    </tr>\n",
       "    <tr>\n",
       "      <th>214196</th>\n",
       "      <td>214196</td>\n",
       "      <td>45</td>\n",
       "      <td>16188</td>\n",
       "      <td>NaN</td>\n",
       "      <td>64</td>\n",
       "      <td>34</td>\n",
       "      <td>10</td>\n",
       "      <td>30</td>\n",
       "    </tr>\n",
       "    <tr>\n",
       "      <th>214197</th>\n",
       "      <td>214197</td>\n",
       "      <td>45</td>\n",
       "      <td>15757</td>\n",
       "      <td>199.0</td>\n",
       "      <td>55</td>\n",
       "      <td>34</td>\n",
       "      <td>10</td>\n",
       "      <td>30</td>\n",
       "    </tr>\n",
       "    <tr>\n",
       "      <th>214198</th>\n",
       "      <td>214198</td>\n",
       "      <td>45</td>\n",
       "      <td>19648</td>\n",
       "      <td>NaN</td>\n",
       "      <td>40</td>\n",
       "      <td>34</td>\n",
       "      <td>10</td>\n",
       "      <td>30</td>\n",
       "    </tr>\n",
       "    <tr>\n",
       "      <th>214199</th>\n",
       "      <td>214199</td>\n",
       "      <td>45</td>\n",
       "      <td>969</td>\n",
       "      <td>549.0</td>\n",
       "      <td>37</td>\n",
       "      <td>34</td>\n",
       "      <td>10</td>\n",
       "      <td>30</td>\n",
       "    </tr>\n",
       "  </tbody>\n",
       "</table>\n",
       "<p>214200 rows × 8 columns</p>\n",
       "</div>"
      ],
      "text/plain": [
       "            ID  shop_id  item_id  item_price  item_category_id  \\\n",
       "0            0        5     5037       749.5                19   \n",
       "1            1        5     5320         NaN                55   \n",
       "2            2        5     5233      1199.0                19   \n",
       "3            3        5     5232       599.0                23   \n",
       "4            4        5     5268         NaN                20   \n",
       "...        ...      ...      ...         ...               ...   \n",
       "214195  214195       45    18454        99.0                55   \n",
       "214196  214196       45    16188         NaN                64   \n",
       "214197  214197       45    15757       199.0                55   \n",
       "214198  214198       45    19648         NaN                40   \n",
       "214199  214199       45      969       549.0                37   \n",
       "\n",
       "        date_block_num  month_index  month_days  \n",
       "0                   34           10          30  \n",
       "1                   34           10          30  \n",
       "2                   34           10          30  \n",
       "3                   34           10          30  \n",
       "4                   34           10          30  \n",
       "...                ...          ...         ...  \n",
       "214195              34           10          30  \n",
       "214196              34           10          30  \n",
       "214197              34           10          30  \n",
       "214198              34           10          30  \n",
       "214199              34           10          30  \n",
       "\n",
       "[214200 rows x 8 columns]"
      ]
     },
     "execution_count": 14,
     "metadata": {},
     "output_type": "execute_result"
    }
   ],
   "source": [
    "test_data = pd.merge(test, most_recent_prices, on=['shop_id', 'item_id'], how='left')\n",
    "test_data = pd.merge(test_data, item_category_map, on=['item_id'], how='left')\n",
    "test_data['date_block_num'] = 34\n",
    "test_data['month_index'] = test_data['date_block_num'] % 12\n",
    "test_data['month_days'] = test_data['month_index'].map(days_in_month).astype(np.int8)\n",
    "test_data"
   ]
  },
  {
   "cell_type": "code",
   "execution_count": 15,
   "metadata": {},
   "outputs": [
    {
     "data": {
      "text/plain": [
       "102796"
      ]
     },
     "execution_count": 15,
     "metadata": {},
     "output_type": "execute_result"
    }
   ],
   "source": [
    "np.sum(test_data['item_price'].isnull())"
   ]
  },
  {
   "cell_type": "markdown",
   "metadata": {},
   "source": [
    "As we can see, the item_price is still empty in roughly half of the cases. Since the item price during training is always present, it will be hard for the model to predict what the amount of sales will be for an unknown price. Hence we need to find a way to fill in these values.\n",
    "\n",
    "We use the average price of an item in the category per shop in last month:"
   ]
  },
  {
   "cell_type": "code",
   "execution_count": 16,
   "metadata": {},
   "outputs": [
    {
     "name": "stdout",
     "output_type": "stream",
     "text": [
      "      shop_id  item_category_id    item_price\n",
      "0           2                 3   1649.357143\n",
      "1           2                 6   2319.857143\n",
      "2           2                 7   2126.000000\n",
      "3           2                12  33656.666667\n",
      "4           2                15  16990.000000\n",
      "...       ...               ...           ...\n",
      "1755       59                72   1083.615385\n",
      "1756       59                73    729.500000\n",
      "1757       59                75   1626.363636\n",
      "1758       59                79    802.550000\n",
      "1759       59                83    129.000000\n",
      "\n",
      "[1760 rows x 3 columns]\n"
     ]
    }
   ],
   "source": [
    "sales_train_with_item_category = pd.merge(sales_train, item_category_map, on=['item_id'], how='left')\n",
    "category_avg_price_map = sales_train_with_item_category[sales_train_with_item_category['date_block_num'] == 33].groupby(['shop_id', 'item_category_id'], as_index=False)['item_price'].mean()\n",
    "print(category_avg_price_map)"
   ]
  },
  {
   "cell_type": "code",
   "execution_count": 17,
   "metadata": {},
   "outputs": [
    {
     "data": {
      "text/html": [
       "<div>\n",
       "<style scoped>\n",
       "    .dataframe tbody tr th:only-of-type {\n",
       "        vertical-align: middle;\n",
       "    }\n",
       "\n",
       "    .dataframe tbody tr th {\n",
       "        vertical-align: top;\n",
       "    }\n",
       "\n",
       "    .dataframe thead th {\n",
       "        text-align: right;\n",
       "    }\n",
       "</style>\n",
       "<table border=\"1\" class=\"dataframe\">\n",
       "  <thead>\n",
       "    <tr style=\"text-align: right;\">\n",
       "      <th></th>\n",
       "      <th>shop_id</th>\n",
       "      <th>item_category_id</th>\n",
       "      <th>item_price</th>\n",
       "    </tr>\n",
       "  </thead>\n",
       "  <tbody>\n",
       "    <tr>\n",
       "      <th>0</th>\n",
       "      <td>5</td>\n",
       "      <td>19</td>\n",
       "      <td>1548.945946</td>\n",
       "    </tr>\n",
       "    <tr>\n",
       "      <th>1</th>\n",
       "      <td>5</td>\n",
       "      <td>55</td>\n",
       "      <td>340.886792</td>\n",
       "    </tr>\n",
       "    <tr>\n",
       "      <th>2</th>\n",
       "      <td>5</td>\n",
       "      <td>19</td>\n",
       "      <td>1548.945946</td>\n",
       "    </tr>\n",
       "    <tr>\n",
       "      <th>3</th>\n",
       "      <td>5</td>\n",
       "      <td>23</td>\n",
       "      <td>1786.225455</td>\n",
       "    </tr>\n",
       "    <tr>\n",
       "      <th>4</th>\n",
       "      <td>5</td>\n",
       "      <td>20</td>\n",
       "      <td>3182.194030</td>\n",
       "    </tr>\n",
       "    <tr>\n",
       "      <th>...</th>\n",
       "      <td>...</td>\n",
       "      <td>...</td>\n",
       "      <td>...</td>\n",
       "    </tr>\n",
       "    <tr>\n",
       "      <th>214195</th>\n",
       "      <td>45</td>\n",
       "      <td>55</td>\n",
       "      <td>334.277108</td>\n",
       "    </tr>\n",
       "    <tr>\n",
       "      <th>214196</th>\n",
       "      <td>45</td>\n",
       "      <td>64</td>\n",
       "      <td>1157.333333</td>\n",
       "    </tr>\n",
       "    <tr>\n",
       "      <th>214197</th>\n",
       "      <td>45</td>\n",
       "      <td>55</td>\n",
       "      <td>334.277108</td>\n",
       "    </tr>\n",
       "    <tr>\n",
       "      <th>214198</th>\n",
       "      <td>45</td>\n",
       "      <td>40</td>\n",
       "      <td>326.846154</td>\n",
       "    </tr>\n",
       "    <tr>\n",
       "      <th>214199</th>\n",
       "      <td>45</td>\n",
       "      <td>37</td>\n",
       "      <td>401.250000</td>\n",
       "    </tr>\n",
       "  </tbody>\n",
       "</table>\n",
       "<p>214200 rows × 3 columns</p>\n",
       "</div>"
      ],
      "text/plain": [
       "        shop_id  item_category_id   item_price\n",
       "0             5                19  1548.945946\n",
       "1             5                55   340.886792\n",
       "2             5                19  1548.945946\n",
       "3             5                23  1786.225455\n",
       "4             5                20  3182.194030\n",
       "...         ...               ...          ...\n",
       "214195       45                55   334.277108\n",
       "214196       45                64  1157.333333\n",
       "214197       45                55   334.277108\n",
       "214198       45                40   326.846154\n",
       "214199       45                37   401.250000\n",
       "\n",
       "[214200 rows x 3 columns]"
      ]
     },
     "execution_count": 17,
     "metadata": {},
     "output_type": "execute_result"
    }
   ],
   "source": [
    "nan_replacement = pd.merge(test_data[['shop_id', 'item_category_id']], category_avg_price_map, on=['shop_id', 'item_category_id'], how='left')\n",
    "nan_replacement"
   ]
  },
  {
   "cell_type": "markdown",
   "metadata": {},
   "source": [
    "We now have the item prices that we can replace the nan values with per shop, now all we have to do is combine test_data with nan_replacement:"
   ]
  },
  {
   "cell_type": "code",
   "execution_count": 18,
   "metadata": {},
   "outputs": [
    {
     "data": {
      "text/html": [
       "<div>\n",
       "<style scoped>\n",
       "    .dataframe tbody tr th:only-of-type {\n",
       "        vertical-align: middle;\n",
       "    }\n",
       "\n",
       "    .dataframe tbody tr th {\n",
       "        vertical-align: top;\n",
       "    }\n",
       "\n",
       "    .dataframe thead th {\n",
       "        text-align: right;\n",
       "    }\n",
       "</style>\n",
       "<table border=\"1\" class=\"dataframe\">\n",
       "  <thead>\n",
       "    <tr style=\"text-align: right;\">\n",
       "      <th></th>\n",
       "      <th>ID</th>\n",
       "      <th>date_block_num</th>\n",
       "      <th>shop_id</th>\n",
       "      <th>item_id</th>\n",
       "      <th>item_price</th>\n",
       "      <th>item_category_id</th>\n",
       "      <th>month_index</th>\n",
       "      <th>month_days</th>\n",
       "    </tr>\n",
       "  </thead>\n",
       "  <tbody>\n",
       "    <tr>\n",
       "      <th>0</th>\n",
       "      <td>0</td>\n",
       "      <td>34</td>\n",
       "      <td>5</td>\n",
       "      <td>5037</td>\n",
       "      <td>749.500000</td>\n",
       "      <td>19</td>\n",
       "      <td>10</td>\n",
       "      <td>30</td>\n",
       "    </tr>\n",
       "    <tr>\n",
       "      <th>1</th>\n",
       "      <td>1</td>\n",
       "      <td>34</td>\n",
       "      <td>5</td>\n",
       "      <td>5320</td>\n",
       "      <td>340.886792</td>\n",
       "      <td>55</td>\n",
       "      <td>10</td>\n",
       "      <td>30</td>\n",
       "    </tr>\n",
       "    <tr>\n",
       "      <th>2</th>\n",
       "      <td>2</td>\n",
       "      <td>34</td>\n",
       "      <td>5</td>\n",
       "      <td>5233</td>\n",
       "      <td>1199.000000</td>\n",
       "      <td>19</td>\n",
       "      <td>10</td>\n",
       "      <td>30</td>\n",
       "    </tr>\n",
       "    <tr>\n",
       "      <th>3</th>\n",
       "      <td>3</td>\n",
       "      <td>34</td>\n",
       "      <td>5</td>\n",
       "      <td>5232</td>\n",
       "      <td>599.000000</td>\n",
       "      <td>23</td>\n",
       "      <td>10</td>\n",
       "      <td>30</td>\n",
       "    </tr>\n",
       "    <tr>\n",
       "      <th>4</th>\n",
       "      <td>4</td>\n",
       "      <td>34</td>\n",
       "      <td>5</td>\n",
       "      <td>5268</td>\n",
       "      <td>3182.194030</td>\n",
       "      <td>20</td>\n",
       "      <td>10</td>\n",
       "      <td>30</td>\n",
       "    </tr>\n",
       "    <tr>\n",
       "      <th>...</th>\n",
       "      <td>...</td>\n",
       "      <td>...</td>\n",
       "      <td>...</td>\n",
       "      <td>...</td>\n",
       "      <td>...</td>\n",
       "      <td>...</td>\n",
       "      <td>...</td>\n",
       "      <td>...</td>\n",
       "    </tr>\n",
       "    <tr>\n",
       "      <th>214195</th>\n",
       "      <td>214195</td>\n",
       "      <td>34</td>\n",
       "      <td>45</td>\n",
       "      <td>18454</td>\n",
       "      <td>99.000000</td>\n",
       "      <td>55</td>\n",
       "      <td>10</td>\n",
       "      <td>30</td>\n",
       "    </tr>\n",
       "    <tr>\n",
       "      <th>214196</th>\n",
       "      <td>214196</td>\n",
       "      <td>34</td>\n",
       "      <td>45</td>\n",
       "      <td>16188</td>\n",
       "      <td>1157.333333</td>\n",
       "      <td>64</td>\n",
       "      <td>10</td>\n",
       "      <td>30</td>\n",
       "    </tr>\n",
       "    <tr>\n",
       "      <th>214197</th>\n",
       "      <td>214197</td>\n",
       "      <td>34</td>\n",
       "      <td>45</td>\n",
       "      <td>15757</td>\n",
       "      <td>199.000000</td>\n",
       "      <td>55</td>\n",
       "      <td>10</td>\n",
       "      <td>30</td>\n",
       "    </tr>\n",
       "    <tr>\n",
       "      <th>214198</th>\n",
       "      <td>214198</td>\n",
       "      <td>34</td>\n",
       "      <td>45</td>\n",
       "      <td>19648</td>\n",
       "      <td>326.846154</td>\n",
       "      <td>40</td>\n",
       "      <td>10</td>\n",
       "      <td>30</td>\n",
       "    </tr>\n",
       "    <tr>\n",
       "      <th>214199</th>\n",
       "      <td>214199</td>\n",
       "      <td>34</td>\n",
       "      <td>45</td>\n",
       "      <td>969</td>\n",
       "      <td>549.000000</td>\n",
       "      <td>37</td>\n",
       "      <td>10</td>\n",
       "      <td>30</td>\n",
       "    </tr>\n",
       "  </tbody>\n",
       "</table>\n",
       "<p>214200 rows × 8 columns</p>\n",
       "</div>"
      ],
      "text/plain": [
       "            ID  date_block_num  shop_id  item_id   item_price  \\\n",
       "0            0              34        5     5037   749.500000   \n",
       "1            1              34        5     5320   340.886792   \n",
       "2            2              34        5     5233  1199.000000   \n",
       "3            3              34        5     5232   599.000000   \n",
       "4            4              34        5     5268  3182.194030   \n",
       "...        ...             ...      ...      ...          ...   \n",
       "214195  214195              34       45    18454    99.000000   \n",
       "214196  214196              34       45    16188  1157.333333   \n",
       "214197  214197              34       45    15757   199.000000   \n",
       "214198  214198              34       45    19648   326.846154   \n",
       "214199  214199              34       45      969   549.000000   \n",
       "\n",
       "        item_category_id  month_index  month_days  \n",
       "0                     19           10          30  \n",
       "1                     55           10          30  \n",
       "2                     19           10          30  \n",
       "3                     23           10          30  \n",
       "4                     20           10          30  \n",
       "...                  ...          ...         ...  \n",
       "214195                55           10          30  \n",
       "214196                64           10          30  \n",
       "214197                55           10          30  \n",
       "214198                40           10          30  \n",
       "214199                37           10          30  \n",
       "\n",
       "[214200 rows x 8 columns]"
      ]
     },
     "execution_count": 18,
     "metadata": {},
     "output_type": "execute_result"
    }
   ],
   "source": [
    "test_data = test_data.combine_first(nan_replacement)\n",
    "test_data = test_data[['ID', 'date_block_num', 'shop_id', 'item_id', 'item_price', 'item_category_id', 'month_index', 'month_days']]\n",
    "test_data"
   ]
  },
  {
   "cell_type": "markdown",
   "metadata": {},
   "source": [
    "### Aggregate preprocessed features"
   ]
  },
  {
   "cell_type": "code",
   "execution_count": 19,
   "metadata": {},
   "outputs": [
    {
     "name": "stdout",
     "output_type": "stream",
     "text": [
      "         date_block_num  shop_id  item_id  item_price  item_cnt_day  \\\n",
      "0                     0        0       32       884.0           6.0   \n",
      "1                     0        0       33      1041.0           3.0   \n",
      "2                     0        0       35       247.0           1.0   \n",
      "3                     0        0       43       221.0           1.0   \n",
      "4                     0        0       51       257.0           2.0   \n",
      "...                 ...      ...      ...         ...           ...   \n",
      "1609119              33       59    22087       357.0           6.0   \n",
      "1609120              33       59    22088       238.0           2.0   \n",
      "1609121              33       59    22091       179.0           1.0   \n",
      "1609122              33       59    22100       629.0           1.0   \n",
      "1609123              33       59    22102      1250.0           1.0   \n",
      "\n",
      "         item_category_id  month_index  month_days  \n",
      "0                      40            0          31  \n",
      "1                      37            0          31  \n",
      "2                      40            0          31  \n",
      "3                      40            0          31  \n",
      "4                      57            0          31  \n",
      "...                   ...          ...         ...  \n",
      "1609119                83            9          31  \n",
      "1609120                83            9          31  \n",
      "1609121                83            9          31  \n",
      "1609122                42            9          31  \n",
      "1609123                42            9          31  \n",
      "\n",
      "[1609124 rows x 8 columns]\n"
     ]
    }
   ],
   "source": [
    "# Create new dataframe to use in training without redundant columns\n",
    "preprocessed_sales_train = sales_train.drop(columns=['date'])\n",
    "# Group by date, shop and item\n",
    "preprocessed_sales_train_grouped = preprocessed_sales_train.groupby(['date_block_num', 'shop_id', 'item_id'], as_index=False).sum()\n",
    "# Add item category\n",
    "preprocessed_sales_train_grouped = pd.merge(preprocessed_sales_train_grouped, item_category_map, on=['item_id'], how='left')\n",
    "# Add month index\n",
    "preprocessed_sales_train_grouped['month_index'] = preprocessed_sales_train_grouped['date_block_num'] % 12\n",
    "# Add month days\n",
    "preprocessed_sales_train_grouped['month_days'] = preprocessed_sales_train_grouped['month_index'].map(days_in_month).astype(np.int8)\n",
    "\n",
    "print(preprocessed_sales_train_grouped)"
   ]
  },
  {
   "cell_type": "markdown",
   "metadata": {},
   "source": [
    "We have now created a training dataframe, but as we saw during EDA there are many outliers with respect to the item_count_day, lets plot this."
   ]
  },
  {
   "cell_type": "code",
   "execution_count": 20,
   "metadata": {},
   "outputs": [
    {
     "data": {
      "image/png": "[encoded data removed]",
      "text/plain": [
       "<Figure size 432x288 with 1 Axes>"
      ]
     },
     "metadata": {
      "needs_background": "light"
     },
     "output_type": "display_data"
    },
    {
     "data": {
      "image/png": "[encoded data removed]",
      "text/plain": [
       "<Figure size 432x288 with 1 Axes>"
      ]
     },
     "metadata": {
      "needs_background": "light"
     },
     "output_type": "display_data"
    }
   ],
   "source": [
    "plt.figure(1)\n",
    "plt.boxplot(preprocessed_sales_train_grouped['item_cnt_day'])\n",
    "plt.figure(2)\n",
    "plt.hist(preprocessed_sales_train_grouped['item_cnt_day'])\n",
    "plt.show()"
   ]
  },
  {
   "cell_type": "markdown",
   "metadata": {},
   "source": [
    "As we can see in the aggregated dataframe there are also quite a few outliers while almost all values fall into the first box. That is why we will clip values to [0, 20] to prevent these outliers of influencing predictions too much. We assume that over the span of a month products only get sold a positive amount of times."
   ]
  },
  {
   "cell_type": "code",
   "execution_count": 21,
   "metadata": {},
   "outputs": [
    {
     "data": {
      "image/png": "[encoded data removed]",
      "text/plain": [
       "<Figure size 432x288 with 1 Axes>"
      ]
     },
     "metadata": {
      "needs_background": "light"
     },
     "output_type": "display_data"
    },
    {
     "data": {
      "image/png": "[encoded data removed]",
      "text/plain": [
       "<Figure size 432x288 with 1 Axes>"
      ]
     },
     "metadata": {
      "needs_background": "light"
     },
     "output_type": "display_data"
    }
   ],
   "source": [
    "preprocessed_sales_train_grouped['item_cnt_day'] = preprocessed_sales_train_grouped['item_cnt_day'].clip(0, 20)\n",
    "plt.figure(1)\n",
    "plt.boxplot(preprocessed_sales_train_grouped['item_cnt_day'])\n",
    "plt.figure(2)\n",
    "plt.hist(preprocessed_sales_train_grouped['item_cnt_day'])\n",
    "plt.show()"
   ]
  },
  {
   "cell_type": "code",
   "execution_count": 22,
   "metadata": {},
   "outputs": [
    {
     "data": {
      "image/png": "[encoded data removed]",
      "text/plain": [
       "<Figure size 432x288 with 1 Axes>"
      ]
     },
     "metadata": {
      "needs_background": "light"
     },
     "output_type": "display_data"
    },
    {
     "data": {
      "image/png": "[encoded data removed]",
      "text/plain": [
       "<Figure size 432x288 with 1 Axes>"
      ]
     },
     "metadata": {
      "needs_background": "light"
     },
     "output_type": "display_data"
    }
   ],
   "source": [
    "# Get rid of items with price > 100000\n",
    "preprocessed_sales_train_grouped = preprocessed_sales_train_grouped[preprocessed_sales_train_grouped['item_price'] < 100000]\n",
    "# Replace negative price with median\n",
    "median = preprocessed_sales_train_grouped[(preprocessed_sales_train_grouped['shop_id']==32)&(preprocessed_sales_train_grouped['item_id']==2973)&(preprocessed_sales_train_grouped['date_block_num']==4)&(preprocessed_sales_train_grouped['item_price']>0)]['item_price'].median()\n",
    "preprocessed_sales_train_grouped[preprocessed_sales_train_grouped['item_price'] < 0]['item_price'] = median\n",
    "\n",
    "plt.figure(1)\n",
    "plt.boxplot(preprocessed_sales_train_grouped['item_price'])\n",
    "plt.figure(2)\n",
    "plt.hist(preprocessed_sales_train_grouped['item_price'])\n",
    "plt.show()"
   ]
  },
  {
   "cell_type": "markdown",
   "metadata": {},
   "source": [
    "## Mean encodings\n",
    "\n",
    "In the extentions video mean encodings for time series are discussed. We use those (lagged values) here.\n",
    "First we add lagged sales for product shop combos. We dont have to do the train/validation split before introducing lagged values."
   ]
  },
  {
   "cell_type": "code",
   "execution_count": 23,
   "metadata": {},
   "outputs": [],
   "source": [
    "month_offsets = [1, 2, 3, 4, 5, 6, 12]\n",
    "\n",
    "# We shift the month by offset and rename the item_cnt_day to previous_month_count to get the previous amount.\n",
    "for offset in month_offsets:\n",
    "    sales_lagged = preprocessed_sales_train_grouped.copy()[['date_block_num', 'shop_id', 'item_id', 'item_cnt_day']]\n",
    "    sales_lagged['date_block_num'] += offset\n",
    "    sales_lagged.rename(columns={\"item_cnt_day\": f\"previous_{offset}month_shop_item_sales\"}, inplace=True)\n",
    "    preprocessed_sales_train_grouped = pd.merge(preprocessed_sales_train_grouped, sales_lagged, on=['date_block_num', 'shop_id', 'item_id'], how='left').fillna(0)\n",
    "    \n",
    "    # Do same for test_data\n",
    "    test_data = pd.merge(test_data, sales_lagged, on=['date_block_num', 'shop_id', 'item_id'], how='left').fillna(0)"
   ]
  },
  {
   "cell_type": "markdown",
   "metadata": {},
   "source": [
    "Now we also add lagged values for total shop sales of last month"
   ]
  },
  {
   "cell_type": "code",
   "execution_count": 24,
   "metadata": {},
   "outputs": [],
   "source": [
    "for offset in month_offsets:\n",
    "    shop_sales_lagged = preprocessed_sales_train_grouped.groupby(['date_block_num', 'shop_id'], as_index=False)['item_cnt_day'].sum()\n",
    "    shop_sales_lagged['date_block_num'] += offset\n",
    "    shop_sales_lagged.rename(columns={\"item_cnt_day\": f\"previous_{offset}month_shop_sales\"}, inplace=True)\n",
    "    preprocessed_sales_train_grouped = pd.merge(preprocessed_sales_train_grouped, shop_sales_lagged, on=['date_block_num', 'shop_id'], how='left').fillna(0)\n",
    "    \n",
    "    test_data = pd.merge(test_data, shop_sales_lagged, on=['date_block_num', 'shop_id'], how='left').fillna(0)"
   ]
  },
  {
   "cell_type": "markdown",
   "metadata": {},
   "source": [
    "Now we also add lagged value for total item sales of last month"
   ]
  },
  {
   "cell_type": "code",
   "execution_count": 25,
   "metadata": {},
   "outputs": [],
   "source": [
    "for offset in month_offsets:\n",
    "    item_sales_lagged = preprocessed_sales_train_grouped.groupby(['date_block_num', 'item_id'], as_index=False)['item_cnt_day'].sum()\n",
    "    item_sales_lagged['date_block_num'] += offset\n",
    "    item_sales_lagged.rename(columns={\"item_cnt_day\": f\"previous_{offset}month_item_sales\"}, inplace=True)\n",
    "    preprocessed_sales_train_grouped = pd.merge(preprocessed_sales_train_grouped, item_sales_lagged, on=['date_block_num', 'item_id'], how='left').fillna(0)\n",
    "    \n",
    "    test_data = pd.merge(test_data, item_sales_lagged, on=['date_block_num', 'item_id'], how='left').fillna(0)"
   ]
  },
  {
   "cell_type": "code",
   "execution_count": 26,
   "metadata": {},
   "outputs": [
    {
     "name": "stdout",
     "output_type": "stream",
     "text": [
      "         date_block_num  shop_id  item_id  item_price  item_cnt_day  \\\n",
      "687633               12        2       32       119.0           1.0   \n",
      "687634               12        2       33       199.0           1.0   \n",
      "687635               12        2       99       149.0           1.0   \n",
      "687636               12        2      482      6600.0           2.0   \n",
      "687637               12        2      485       300.0           1.0   \n",
      "...                 ...      ...      ...         ...           ...   \n",
      "1608406              33       59    22087       357.0           6.0   \n",
      "1608407              33       59    22088       238.0           2.0   \n",
      "1608408              33       59    22091       179.0           1.0   \n",
      "1608409              33       59    22100       629.0           1.0   \n",
      "1608410              33       59    22102      1250.0           1.0   \n",
      "\n",
      "         item_category_id  month_index  month_days  \\\n",
      "687633                 40            0          31   \n",
      "687634                 37            0          31   \n",
      "687635                 37            0          31   \n",
      "687636                 73            0          31   \n",
      "687637                 73            0          31   \n",
      "...                   ...          ...         ...   \n",
      "1608406                83            9          31   \n",
      "1608407                83            9          31   \n",
      "1608408                83            9          31   \n",
      "1608409                42            9          31   \n",
      "1608410                42            9          31   \n",
      "\n",
      "         previous_1month_shop_item_sales  previous_2month_shop_item_sales  \\\n",
      "687633                               0.0                              0.0   \n",
      "687634                               1.0                              2.0   \n",
      "687635                               0.0                              0.0   \n",
      "687636                               1.0                              2.0   \n",
      "687637                               1.0                              0.0   \n",
      "...                                  ...                              ...   \n",
      "1608406                              3.0                              2.0   \n",
      "1608407                              1.0                              7.0   \n",
      "1608408                              3.0                              0.0   \n",
      "1608409                              1.0                              0.0   \n",
      "1608410                              0.0                              2.0   \n",
      "\n",
      "         ...  previous_12month_shop_sales  previous_13month_shop_sales  \\\n",
      "687633   ...                       1146.0                          0.0   \n",
      "687634   ...                       1146.0                          0.0   \n",
      "687635   ...                       1146.0                          0.0   \n",
      "687636   ...                       1146.0                          0.0   \n",
      "687637   ...                       1146.0                          0.0   \n",
      "...      ...                          ...                          ...   \n",
      "1608406  ...                       1131.0                       1060.0   \n",
      "1608407  ...                       1131.0                       1060.0   \n",
      "1608408  ...                       1131.0                       1060.0   \n",
      "1608409  ...                       1131.0                       1060.0   \n",
      "1608410  ...                       1131.0                       1060.0   \n",
      "\n",
      "         previous_1month_item_sales  previous_2month_item_sales  \\\n",
      "687633                         89.0                        81.0   \n",
      "687634                         42.0                        15.0   \n",
      "687635                         24.0                         2.0   \n",
      "687636                         88.0                        85.0   \n",
      "687637                        111.0                       151.0   \n",
      "...                             ...                         ...   \n",
      "1608406                        60.0                        67.0   \n",
      "1608407                       130.0                       164.0   \n",
      "1608408                        43.0                        32.0   \n",
      "1608409                        94.0                       105.0   \n",
      "1608410                       144.0                       173.0   \n",
      "\n",
      "         previous_3month_item_sales  previous_4month_item_sales  \\\n",
      "687633                         58.0                        59.0   \n",
      "687634                         33.0                        43.0   \n",
      "687635                          0.0                         0.0   \n",
      "687636                        131.0                        90.0   \n",
      "687637                        171.0                       160.0   \n",
      "...                             ...                         ...   \n",
      "1608406                        90.0                        60.0   \n",
      "1608407                       141.0                       131.0   \n",
      "1608408                        30.0                        35.0   \n",
      "1608409                        33.0                         0.0   \n",
      "1608410                       204.0                       265.0   \n",
      "\n",
      "         previous_5month_item_sales  previous_6month_item_sales  \\\n",
      "687633                         72.0                        87.0   \n",
      "687634                         35.0                        46.0   \n",
      "687635                          0.0                         0.0   \n",
      "687636                         64.0                       101.0   \n",
      "687637                        135.0                       142.0   \n",
      "...                             ...                         ...   \n",
      "1608406                        65.0                        67.0   \n",
      "1608407                       148.0                       142.0   \n",
      "1608408                        31.0                        35.0   \n",
      "1608409                         0.0                         0.0   \n",
      "1608410                       376.0                         0.0   \n",
      "\n",
      "         previous_12month_item_sales  previous_13month_item_sales  \n",
      "687633                         242.0                          0.0  \n",
      "687634                          61.0                          0.0  \n",
      "687635                           0.0                          0.0  \n",
      "687636                         118.0                          0.0  \n",
      "687637                           0.0                          0.0  \n",
      "...                              ...                          ...  \n",
      "1608406                         83.0                         63.0  \n",
      "1608407                        127.0                         90.0  \n",
      "1608408                         25.0                         35.0  \n",
      "1608409                          0.0                          0.0  \n",
      "1608410                          0.0                          0.0  \n",
      "\n",
      "[920778 rows x 32 columns]\n",
      "            ID  date_block_num  shop_id  item_id   item_price  \\\n",
      "0            0              34        5     5037   749.500000   \n",
      "1            1              34        5     5320   340.886792   \n",
      "2            2              34        5     5233  1199.000000   \n",
      "3            3              34        5     5232   599.000000   \n",
      "4            4              34        5     5268  3182.194030   \n",
      "...        ...             ...      ...      ...          ...   \n",
      "214195  214195              34       45    18454    99.000000   \n",
      "214196  214196              34       45    16188  1157.333333   \n",
      "214197  214197              34       45    15757   199.000000   \n",
      "214198  214198              34       45    19648   326.846154   \n",
      "214199  214199              34       45      969   549.000000   \n",
      "\n",
      "        item_category_id  month_index  month_days  \\\n",
      "0                     19           10          30   \n",
      "1                     55           10          30   \n",
      "2                     19           10          30   \n",
      "3                     23           10          30   \n",
      "4                     20           10          30   \n",
      "...                  ...          ...         ...   \n",
      "214195                55           10          30   \n",
      "214196                64           10          30   \n",
      "214197                55           10          30   \n",
      "214198                40           10          30   \n",
      "214199                37           10          30   \n",
      "\n",
      "        previous_1month_shop_item_sales  previous_2month_shop_item_sales  ...  \\\n",
      "0                                   0.0                              1.0  ...   \n",
      "1                                   0.0                              0.0  ...   \n",
      "2                                   1.0                              3.0  ...   \n",
      "3                                   0.0                              0.0  ...   \n",
      "4                                   0.0                              0.0  ...   \n",
      "...                                 ...                              ...  ...   \n",
      "214195                              1.0                              0.0  ...   \n",
      "214196                              0.0                              0.0  ...   \n",
      "214197                              0.0                              0.0  ...   \n",
      "214198                              0.0                              0.0  ...   \n",
      "214199                              0.0                              0.0  ...   \n",
      "\n",
      "        previous_12month_shop_sales  previous_13month_shop_sales  \\\n",
      "0                            1303.0                       1112.0   \n",
      "1                            1303.0                       1112.0   \n",
      "2                            1303.0                       1112.0   \n",
      "3                            1303.0                       1112.0   \n",
      "4                            1303.0                       1112.0   \n",
      "...                             ...                          ...   \n",
      "214195                       1146.0                        855.0   \n",
      "214196                       1146.0                        855.0   \n",
      "214197                       1146.0                        855.0   \n",
      "214198                       1146.0                        855.0   \n",
      "214199                       1146.0                        855.0   \n",
      "\n",
      "        previous_1month_item_sales  previous_2month_item_sales  \\\n",
      "0                             25.0                       108.0   \n",
      "1                              0.0                         0.0   \n",
      "2                             42.0                        80.0   \n",
      "3                             28.0                        48.0   \n",
      "4                              0.0                         0.0   \n",
      "...                            ...                         ...   \n",
      "214195                         2.0                         1.0   \n",
      "214196                         1.0                         3.0   \n",
      "214197                         5.0                         3.0   \n",
      "214198                         2.0                         3.0   \n",
      "214199                         3.0                         5.0   \n",
      "\n",
      "        previous_3month_item_sales  previous_4month_item_sales  \\\n",
      "0                            119.0                        54.0   \n",
      "1                              0.0                         0.0   \n",
      "2                            150.0                        37.0   \n",
      "3                             65.0                         0.0   \n",
      "4                              0.0                         0.0   \n",
      "...                            ...                         ...   \n",
      "214195                         3.0                        12.0   \n",
      "214196                         0.0                         0.0   \n",
      "214197                         4.0                         4.0   \n",
      "214198                         7.0                         2.0   \n",
      "214199                         1.0                         2.0   \n",
      "\n",
      "        previous_5month_item_sales  previous_6month_item_sales  \\\n",
      "0                            105.0                        87.0   \n",
      "1                              0.0                         0.0   \n",
      "2                            119.0                        71.0   \n",
      "3                              0.0                         0.0   \n",
      "4                              0.0                         0.0   \n",
      "...                            ...                         ...   \n",
      "214195                        19.0                        26.0   \n",
      "214196                         0.0                         0.0   \n",
      "214197                         8.0                        11.0   \n",
      "214198                         4.0                         4.0   \n",
      "214199                         2.0                         3.0   \n",
      "\n",
      "        previous_12month_item_sales  previous_13month_item_sales  \n",
      "0                              65.0                         63.0  \n",
      "1                               0.0                          0.0  \n",
      "2                               0.0                          0.0  \n",
      "3                               0.0                          0.0  \n",
      "4                               0.0                          0.0  \n",
      "...                             ...                          ...  \n",
      "214195                          0.0                          0.0  \n",
      "214196                          0.0                          0.0  \n",
      "214197                          9.0                         15.0  \n",
      "214198                          0.0                          0.0  \n",
      "214199                          6.0                          8.0  \n",
      "\n",
      "[214200 rows x 32 columns]\n"
     ]
    }
   ],
   "source": [
    "# Dont use data from first 12 months (have no lag values)\n",
    "preprocessed_sales_train_grouped = preprocessed_sales_train_grouped[preprocessed_sales_train_grouped['date_block_num'] >= 12]\n",
    "\n",
    "print(preprocessed_sales_train_grouped)\n",
    "print(test_data)"
   ]
  },
  {
   "cell_type": "markdown",
   "metadata": {},
   "source": [
    "# Validation\n",
    "The Train/Test split is a time based split. The test data is the month (date_block_num 34) directly after the data in the train data (date_block_num 12 - 33). Hence for training we will use a time based split as well by using block 12 - 32 as training and using 33 as validation.\n",
    "\n",
    "After submitting the csv a few times and observing the loss for the public and private leaderboard to be almost identical we take these are both randomly sampled from the test set.\n",
    "\n",
    "### Train Validation Split"
   ]
  },
  {
   "cell_type": "code",
   "execution_count": 27,
   "metadata": {},
   "outputs": [],
   "source": [
    "X = preprocessed_sales_train_grouped.drop(columns=['item_cnt_day'])\n",
    "y = preprocessed_sales_train_grouped['item_cnt_day']"
   ]
  },
  {
   "cell_type": "code",
   "execution_count": 28,
   "metadata": {},
   "outputs": [],
   "source": [
    "# Time based validation gives worse result on leaderboard, probably due to not training on last month.\n",
    "# X_train, X_test, y_train, y_test = train_test_split(X, y, test_size = 0.2)\n",
    "X_train = X[X['date_block_num'] < 33]\n",
    "y_train = y[:len(X_train.index)]\n",
    "X_val = X[len(X_train.index):]\n",
    "y_val = y[len(X_train.index):]"
   ]
  },
  {
   "cell_type": "markdown",
   "metadata": {},
   "source": [
    "### Random Forest\n",
    "We use Random forest to plot accuracy against amount of trees to get an idea how good our features work with tree besed classifiers."
   ]
  },
  {
   "cell_type": "code",
   "execution_count": 29,
   "metadata": {},
   "outputs": [
    {
     "data": {
      "text/plain": [
       "RandomForestClassifier(bootstrap=True, class_weight=None, criterion='gini',\n",
       "            max_depth=7, max_features='auto', max_leaf_nodes=None,\n",
       "            min_impurity_decrease=0.0, min_impurity_split=None,\n",
       "            min_samples_leaf=1, min_samples_split=2,\n",
       "            min_weight_fraction_leaf=0.0, n_estimators=300, n_jobs=-1,\n",
       "            oob_score=False, random_state=None, verbose=0,\n",
       "            warm_start=False)"
      ]
     },
     "execution_count": 29,
     "metadata": {},
     "output_type": "execute_result"
    }
   ],
   "source": [
    "rf = RandomForestClassifier(n_estimators=300, max_depth=7, n_jobs=-1)\n",
    "rf.fit(X_train, y_train)"
   ]
  },
  {
   "cell_type": "code",
   "execution_count": 30,
   "metadata": {},
   "outputs": [],
   "source": [
    "predictions = []\n",
    "r2s = []\n",
    "accuracys = []\n",
    "\n",
    "for tree in rf.estimators_:\n",
    "    predictions.append(tree.predict_proba(X_val.fillna(0))[None, :])\n",
    "    \n",
    "predictions = np.vstack(predictions)"
   ]
  },
  {
   "cell_type": "code",
   "execution_count": 31,
   "metadata": {},
   "outputs": [],
   "source": [
    "# Compute cumulative average over predictions\n",
    "cum_mean = np.cumsum(predictions, axis=0)/np.arange(1, predictions.shape[0] + 1)[:, None, None]\n",
    "\n",
    "# Compute score for each n_estimator value\n",
    "for pred in cum_mean:\n",
    "    r2s.append(r2_score(y_val, np.argmax(pred, axis=1)))\n",
    "    accuracys.append(accuracy_score(y_val, np.argmax(pred, axis=1)))"
   ]
  },
  {
   "cell_type": "code",
   "execution_count": 32,
   "metadata": {},
   "outputs": [
    {
     "data": {
      "text/plain": [
       "16891"
      ]
     },
     "execution_count": 32,
     "metadata": {},
     "output_type": "execute_result"
    },
    {
     "data": {
      "image/png": "[encoded data removed]",
      "text/plain": [
       "<Figure size 720x432 with 1 Axes>"
      ]
     },
     "metadata": {
      "needs_background": "light"
     },
     "output_type": "display_data"
    },
    {
     "data": {
      "image/png": "[encoded data removed]",
      "text/plain": [
       "<Figure size 720x432 with 1 Axes>"
      ]
     },
     "metadata": {
      "needs_background": "light"
     },
     "output_type": "display_data"
    }
   ],
   "source": [
    "plt.figure(figsize=(10, 6))\n",
    "plt.plot(r2s, linewidth=3)\n",
    "plt.xlabel('num_trees')\n",
    "plt.ylabel('r2')\n",
    "\n",
    "plt.figure(figsize=(10, 6))\n",
    "plt.plot(accuracys, linewidth=3)\n",
    "plt.xlabel('num_trees')\n",
    "plt.ylabel('accuracy')\n",
    "plt.plot()\n",
    "\n",
    "del rf\n",
    "del predictions\n",
    "del r2s\n",
    "del accuracys\n",
    "gc.collect()"
   ]
  },
  {
   "cell_type": "markdown",
   "metadata": {},
   "source": [
    "# Training\n",
    "\n",
    "### Linear Regression\n",
    "We fit a linear regression model to the data."
   ]
  },
  {
   "cell_type": "code",
   "execution_count": 33,
   "metadata": {},
   "outputs": [
    {
     "name": "stdout",
     "output_type": "stream",
     "text": [
      "Validation R-squared for linreg is 0.308857\n"
     ]
    }
   ],
   "source": [
    "lr = LinearRegression()\n",
    "lr.fit(X_train.values, y_train)\n",
    "pred_lr = lr.predict(X_val.values)\n",
    "\n",
    "print('Validation R-squared for linreg is %f' % r2_score(y_val, pred_lr))"
   ]
  },
  {
   "cell_type": "markdown",
   "metadata": {},
   "source": [
    "### XGBoost (form of GBDT)\n",
    "We optimise the metric squarederror (built into XGBoost) which is the same as optimising the root squared error."
   ]
  },
  {
   "cell_type": "code",
   "execution_count": 34,
   "metadata": {},
   "outputs": [
    {
     "name": "stderr",
     "output_type": "stream",
     "text": [
      "/home/dustin/anaconda3/envs/coursera-aml/lib/python3.6/site-packages/xgboost/core.py:587: FutureWarning: Series.base is deprecated and will be removed in a future version\n",
      "  if getattr(data, 'base', None) is not None and \\\n",
      "/home/dustin/anaconda3/envs/coursera-aml/lib/python3.6/site-packages/xgboost/core.py:588: FutureWarning: Series.base is deprecated and will be removed in a future version\n",
      "  data.base is not None and isinstance(data, np.ndarray) \\\n"
     ]
    },
    {
     "name": "stdout",
     "output_type": "stream",
     "text": [
      "Train R-squared is 0.892143\n",
      "Train RSME: 0.8239213256610128\n",
      "model train score: 0.7862826593976524\n",
      "\n",
      "Validation R-squared is 0.676486\n",
      "Validation RSME: 1.4427192123221724\n",
      "model validation score: 0.7155500570993528\n"
     ]
    }
   ],
   "source": [
    "colsample_bytree = 0.5\n",
    "subsample = 0.8\n",
    "min_child_weight = 3\n",
    "learning_rate = 0.01\n",
    "max_depth = 10\n",
    "alpha = 500\n",
    "n_estimators = 1000\n",
    "\n",
    "xgb_reg = xgb.XGBRegressor(tree_method = 'gpu_hist', objective = 'reg:squarederror', \n",
    "                          colsample_bytree = colsample_bytree, learning_rate = learning_rate, max_depth = max_depth, \n",
    "                          alpha = alpha, n_estimators = n_estimators, min_child_weight = min_child_weight,\n",
    "                          subsample = subsample)\n",
    "\n",
    "xgb_reg.fit(X_train, y_train)\n",
    "\n",
    "train_preds = xgb_reg.predict(X_train)\n",
    "rounded_train_preds = np.around(train_preds)\n",
    "train_rmse = np.sqrt(mean_squared_error(y_train, train_preds))\n",
    "model_train_score = np.sum(y_train.to_numpy() == rounded_train_preds) / len(y_train.index)\n",
    "\n",
    "print('Train R-squared is %f' % r2_score(y_train, train_preds))\n",
    "print(f'Train RSME: {train_rmse}')\n",
    "print(f'model train score: {model_train_score}')\n",
    "print('')\n",
    "\n",
    "\n",
    "preds = xgb_reg.predict(X_val)\n",
    "rounded_preds = np.around(preds)\n",
    "rmse = np.sqrt(mean_squared_error(y_val, preds))\n",
    "model_validation_score = np.sum(y_val.to_numpy() == rounded_preds) / len(y_val.index)\n",
    "\n",
    "print('Validation R-squared is %f' % r2_score(y_val, preds))\n",
    "print(f'Validation RSME: {rmse}')\n",
    "print(f'model validation score: {model_validation_score}')"
   ]
  },
  {
   "cell_type": "markdown",
   "metadata": {},
   "source": [
    "Our XGBoost model has a validation score of ~0.694. The model performs several orders of magnitude better than random, but is still far from ideal.\n",
    "\n",
    "The discripancy between train and validation score is quite sizeable which means we are overfitting but further regularizing doesnt improve RMSE so we will leave it here."
   ]
  },
  {
   "cell_type": "markdown",
   "metadata": {},
   "source": [
    "### Random Forest"
   ]
  },
  {
   "cell_type": "code",
   "execution_count": 35,
   "metadata": {},
   "outputs": [
    {
     "name": "stdout",
     "output_type": "stream",
     "text": [
      "Validation R-squared for randforest is 0.053322\n"
     ]
    }
   ],
   "source": [
    "rf = RandomForestClassifier(n_estimators=300, max_depth=7, n_jobs=-1)\n",
    "rf.fit(X_train, y_train)\n",
    "\n",
    "pred_rf = rf.predict(X_val)\n",
    "print('Validation R-squared for randforest is %f' % r2_score(y_val, pred_rf))"
   ]
  },
  {
   "cell_type": "markdown",
   "metadata": {},
   "source": [
    "# Ensembling\n",
    "## Stacking"
   ]
  },
  {
   "cell_type": "code",
   "execution_count": null,
   "metadata": {},
   "outputs": [],
   "source": []
  },
  {
   "cell_type": "markdown",
   "metadata": {},
   "source": [
    "# Predicting competition data\n",
    "Using our XGB model"
   ]
  },
  {
   "cell_type": "code",
   "execution_count": 36,
   "metadata": {},
   "outputs": [
    {
     "name": "stderr",
     "output_type": "stream",
     "text": [
      "/home/dustin/anaconda3/envs/coursera-aml/lib/python3.6/site-packages/xgboost/core.py:587: FutureWarning: Series.base is deprecated and will be removed in a future version\n",
      "  if getattr(data, 'base', None) is not None and \\\n",
      "/home/dustin/anaconda3/envs/coursera-aml/lib/python3.6/site-packages/xgboost/core.py:588: FutureWarning: Series.base is deprecated and will be removed in a future version\n",
      "  data.base is not None and isinstance(data, np.ndarray) \\\n"
     ]
    },
    {
     "data": {
      "text/plain": [
       "array([ 1.2624526 ,  1.33399522,  1.10743237, ...,  0.98104256,\n",
       "        1.09485579,  1.08862734], dtype=float32)"
      ]
     },
     "execution_count": 36,
     "metadata": {},
     "output_type": "execute_result"
    }
   ],
   "source": [
    "xgb_predictor = xgb.XGBRegressor(tree_method = 'gpu_hist', objective = 'reg:squarederror', \n",
    "                          colsample_bytree = colsample_bytree, learning_rate = learning_rate, max_depth = max_depth, \n",
    "                          alpha = alpha, n_estimators = n_estimators)\n",
    "xgb_predictor.fit(X, y)\n",
    "\n",
    "xgb_predictor.predict(test_data.drop(columns=['ID']))"
   ]
  },
  {
   "cell_type": "markdown",
   "metadata": {},
   "source": [
    "# Build submission csv"
   ]
  },
  {
   "cell_type": "code",
   "execution_count": 37,
   "metadata": {},
   "outputs": [
    {
     "data": {
      "text/html": [
       "<div>\n",
       "<style scoped>\n",
       "    .dataframe tbody tr th:only-of-type {\n",
       "        vertical-align: middle;\n",
       "    }\n",
       "\n",
       "    .dataframe tbody tr th {\n",
       "        vertical-align: top;\n",
       "    }\n",
       "\n",
       "    .dataframe thead th {\n",
       "        text-align: right;\n",
       "    }\n",
       "</style>\n",
       "<table border=\"1\" class=\"dataframe\">\n",
       "  <thead>\n",
       "    <tr style=\"text-align: right;\">\n",
       "      <th></th>\n",
       "      <th>ID</th>\n",
       "      <th>item_cnt_month</th>\n",
       "    </tr>\n",
       "  </thead>\n",
       "  <tbody>\n",
       "    <tr>\n",
       "      <th>0</th>\n",
       "      <td>0</td>\n",
       "      <td>1.262453</td>\n",
       "    </tr>\n",
       "    <tr>\n",
       "      <th>1</th>\n",
       "      <td>1</td>\n",
       "      <td>1.333995</td>\n",
       "    </tr>\n",
       "    <tr>\n",
       "      <th>2</th>\n",
       "      <td>2</td>\n",
       "      <td>1.107432</td>\n",
       "    </tr>\n",
       "    <tr>\n",
       "      <th>3</th>\n",
       "      <td>3</td>\n",
       "      <td>0.898500</td>\n",
       "    </tr>\n",
       "    <tr>\n",
       "      <th>4</th>\n",
       "      <td>4</td>\n",
       "      <td>1.379089</td>\n",
       "    </tr>\n",
       "    <tr>\n",
       "      <th>...</th>\n",
       "      <td>...</td>\n",
       "      <td>...</td>\n",
       "    </tr>\n",
       "    <tr>\n",
       "      <th>214195</th>\n",
       "      <td>214195</td>\n",
       "      <td>0.984271</td>\n",
       "    </tr>\n",
       "    <tr>\n",
       "      <th>214196</th>\n",
       "      <td>214196</td>\n",
       "      <td>1.031210</td>\n",
       "    </tr>\n",
       "    <tr>\n",
       "      <th>214197</th>\n",
       "      <td>214197</td>\n",
       "      <td>0.981043</td>\n",
       "    </tr>\n",
       "    <tr>\n",
       "      <th>214198</th>\n",
       "      <td>214198</td>\n",
       "      <td>1.094856</td>\n",
       "    </tr>\n",
       "    <tr>\n",
       "      <th>214199</th>\n",
       "      <td>214199</td>\n",
       "      <td>1.088627</td>\n",
       "    </tr>\n",
       "  </tbody>\n",
       "</table>\n",
       "<p>214200 rows × 2 columns</p>\n",
       "</div>"
      ],
      "text/plain": [
       "            ID  item_cnt_month\n",
       "0            0        1.262453\n",
       "1            1        1.333995\n",
       "2            2        1.107432\n",
       "3            3        0.898500\n",
       "4            4        1.379089\n",
       "...        ...             ...\n",
       "214195  214195        0.984271\n",
       "214196  214196        1.031210\n",
       "214197  214197        0.981043\n",
       "214198  214198        1.094856\n",
       "214199  214199        1.088627\n",
       "\n",
       "[214200 rows x 2 columns]"
      ]
     },
     "execution_count": 37,
     "metadata": {},
     "output_type": "execute_result"
    }
   ],
   "source": [
    "submission = pd.DataFrame()\n",
    "submission['ID'] = test_data['ID']\n",
    "submission['item_cnt_month'] = xgb_predictor.predict(test_data.drop(columns=['ID']))\n",
    "\n",
    "submission_rounded = submission.copy()\n",
    "submission_rounded['item_cnt_month'] = np.around(submission['item_cnt_month'])\n",
    "\n",
    "submission"
   ]
  },
  {
   "cell_type": "code",
   "execution_count": 38,
   "metadata": {},
   "outputs": [],
   "source": [
    "submission.to_csv('submission.csv', index=False)\n",
    "submission_rounded.to_csv('submission_rounded.csv', index=False)"
   ]
  },
  {
   "cell_type": "markdown",
   "metadata": {},
   "source": [
    "# TODO\n",
    "1. Advanced Features II\n",
    "2. Ensembles"
   ]
  },
  {
   "cell_type": "code",
   "execution_count": null,
   "metadata": {},
   "outputs": [],
   "source": []
  }
 ],
 "metadata": {
  "kernelspec": {
   "display_name": "Python 3",
   "language": "python",
   "name": "python3"
  },
  "language_info": {
   "codemirror_mode": {
    "name": "ipython",
    "version": 3
   },
   "file_extension": ".py",
   "mimetype": "text/x-python",
   "name": "python",
   "nbconvert_exporter": "python",
   "pygments_lexer": "ipython3",
   "version": "3.6.10"
  }
 },
 "nbformat": 4,
 "nbformat_minor": 4
}
