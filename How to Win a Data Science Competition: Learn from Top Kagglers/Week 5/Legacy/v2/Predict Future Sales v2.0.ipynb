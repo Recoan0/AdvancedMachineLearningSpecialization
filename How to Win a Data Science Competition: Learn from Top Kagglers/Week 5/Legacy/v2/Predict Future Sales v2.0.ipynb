{
 "cells": [
  {
   "cell_type": "markdown",
   "metadata": {},
   "source": [
    "# Import Libraries"
   ]
  },
  {
   "cell_type": "code",
   "execution_count": 1,
   "metadata": {},
   "outputs": [
    {
     "name": "stderr",
     "output_type": "stream",
     "text": [
      "Using TensorFlow backend.\n"
     ]
    }
   ],
   "source": [
    "import keras\n",
    "import gc\n",
    "import tensorflow as tf\n",
    "import numpy as np\n",
    "import pandas as pd\n",
    "import xgboost as xgb\n",
    "import matplotlib.pyplot as plt\n",
    "from tqdm import tqdm_notebook as tqdm\n",
    "from sklearn.model_selection import train_test_split, KFold\n",
    "from sklearn.metrics import mean_squared_error, accuracy_score, r2_score\n",
    "from sklearn.linear_model import LinearRegression\n",
    "from sklearn.ensemble import RandomForestClassifier\n",
    "from sklearn.preprocessing import StandardScaler, MinMaxScaler\n",
    "from sklearn.neighbors import KNeighborsRegressor"
   ]
  },
  {
   "cell_type": "code",
   "execution_count": 2,
   "metadata": {},
   "outputs": [],
   "source": [
    "# Set random seeds\n",
    "np.random.seed(0)\n",
    "tf.set_random_seed(0)"
   ]
  },
  {
   "cell_type": "markdown",
   "metadata": {},
   "source": [
    "# Open Data"
   ]
  },
  {
   "cell_type": "code",
   "execution_count": 3,
   "metadata": {},
   "outputs": [],
   "source": [
    "# Open data, csv files should be in same folder as notebook.\n",
    "notebook_dir = %pwd\n",
    "\n",
    "items = pd.read_csv(notebook_dir + \"/items.csv\")\n",
    "shops = pd.read_csv(notebook_dir + \"/shops.csv\")\n",
    "train = pd.read_csv(notebook_dir + \"/sales_train.csv\")\n",
    "test = pd.read_csv(notebook_dir + \"/test.csv\")\n",
    "sample_submission = pd.read_csv(notebook_dir + \"/sample_submission.csv\")\n",
    "item_category = pd.read_csv(notebook_dir + \"/item_categories.csv\")"
   ]
  },
  {
   "cell_type": "markdown",
   "metadata": {},
   "source": [
    "# Exploratory Data Analysis\n",
    "## Additional Data"
   ]
  },
  {
   "cell_type": "code",
   "execution_count": 4,
   "metadata": {},
   "outputs": [
    {
     "name": "stdout",
     "output_type": "stream",
     "text": [
      "Amount of items: 22170\n"
     ]
    },
    {
     "data": {
      "text/html": [
       "<div>\n",
       "<style scoped>\n",
       "    .dataframe tbody tr th:only-of-type {\n",
       "        vertical-align: middle;\n",
       "    }\n",
       "\n",
       "    .dataframe tbody tr th {\n",
       "        vertical-align: top;\n",
       "    }\n",
       "\n",
       "    .dataframe thead th {\n",
       "        text-align: right;\n",
       "    }\n",
       "</style>\n",
       "<table border=\"1\" class=\"dataframe\">\n",
       "  <thead>\n",
       "    <tr style=\"text-align: right;\">\n",
       "      <th></th>\n",
       "      <th>item_name</th>\n",
       "      <th>item_id</th>\n",
       "      <th>item_category_id</th>\n",
       "    </tr>\n",
       "  </thead>\n",
       "  <tbody>\n",
       "    <tr>\n",
       "      <th>0</th>\n",
       "      <td>! ВО ВЛАСТИ НАВАЖДЕНИЯ (ПЛАСТ.)         D</td>\n",
       "      <td>0</td>\n",
       "      <td>40</td>\n",
       "    </tr>\n",
       "    <tr>\n",
       "      <th>1</th>\n",
       "      <td>!ABBYY FineReader 12 Professional Edition Full...</td>\n",
       "      <td>1</td>\n",
       "      <td>76</td>\n",
       "    </tr>\n",
       "    <tr>\n",
       "      <th>2</th>\n",
       "      <td>***В ЛУЧАХ СЛАВЫ   (UNV)                    D</td>\n",
       "      <td>2</td>\n",
       "      <td>40</td>\n",
       "    </tr>\n",
       "    <tr>\n",
       "      <th>3</th>\n",
       "      <td>***ГОЛУБАЯ ВОЛНА  (Univ)                      D</td>\n",
       "      <td>3</td>\n",
       "      <td>40</td>\n",
       "    </tr>\n",
       "    <tr>\n",
       "      <th>4</th>\n",
       "      <td>***КОРОБКА (СТЕКЛО)                       D</td>\n",
       "      <td>4</td>\n",
       "      <td>40</td>\n",
       "    </tr>\n",
       "  </tbody>\n",
       "</table>\n",
       "</div>"
      ],
      "text/plain": [
       "                                           item_name  item_id  \\\n",
       "0          ! ВО ВЛАСТИ НАВАЖДЕНИЯ (ПЛАСТ.)         D        0   \n",
       "1  !ABBYY FineReader 12 Professional Edition Full...        1   \n",
       "2      ***В ЛУЧАХ СЛАВЫ   (UNV)                    D        2   \n",
       "3    ***ГОЛУБАЯ ВОЛНА  (Univ)                      D        3   \n",
       "4        ***КОРОБКА (СТЕКЛО)                       D        4   \n",
       "\n",
       "   item_category_id  \n",
       "0                40  \n",
       "1                76  \n",
       "2                40  \n",
       "3                40  \n",
       "4                40  "
      ]
     },
     "execution_count": 4,
     "metadata": {},
     "output_type": "execute_result"
    }
   ],
   "source": [
    "print('Amount of items:', len(items))\n",
    "items.head()"
   ]
  },
  {
   "cell_type": "code",
   "execution_count": 5,
   "metadata": {},
   "outputs": [
    {
     "name": "stdout",
     "output_type": "stream",
     "text": [
      "Amount of shops: 60\n"
     ]
    },
    {
     "data": {
      "text/html": [
       "<div>\n",
       "<style scoped>\n",
       "    .dataframe tbody tr th:only-of-type {\n",
       "        vertical-align: middle;\n",
       "    }\n",
       "\n",
       "    .dataframe tbody tr th {\n",
       "        vertical-align: top;\n",
       "    }\n",
       "\n",
       "    .dataframe thead th {\n",
       "        text-align: right;\n",
       "    }\n",
       "</style>\n",
       "<table border=\"1\" class=\"dataframe\">\n",
       "  <thead>\n",
       "    <tr style=\"text-align: right;\">\n",
       "      <th></th>\n",
       "      <th>shop_name</th>\n",
       "      <th>shop_id</th>\n",
       "    </tr>\n",
       "  </thead>\n",
       "  <tbody>\n",
       "    <tr>\n",
       "      <th>0</th>\n",
       "      <td>!Якутск Орджоникидзе, 56 фран</td>\n",
       "      <td>0</td>\n",
       "    </tr>\n",
       "    <tr>\n",
       "      <th>1</th>\n",
       "      <td>!Якутск ТЦ \"Центральный\" фран</td>\n",
       "      <td>1</td>\n",
       "    </tr>\n",
       "    <tr>\n",
       "      <th>2</th>\n",
       "      <td>Адыгея ТЦ \"Мега\"</td>\n",
       "      <td>2</td>\n",
       "    </tr>\n",
       "    <tr>\n",
       "      <th>3</th>\n",
       "      <td>Балашиха ТРК \"Октябрь-Киномир\"</td>\n",
       "      <td>3</td>\n",
       "    </tr>\n",
       "    <tr>\n",
       "      <th>4</th>\n",
       "      <td>Волжский ТЦ \"Волга Молл\"</td>\n",
       "      <td>4</td>\n",
       "    </tr>\n",
       "  </tbody>\n",
       "</table>\n",
       "</div>"
      ],
      "text/plain": [
       "                        shop_name  shop_id\n",
       "0   !Якутск Орджоникидзе, 56 фран        0\n",
       "1   !Якутск ТЦ \"Центральный\" фран        1\n",
       "2                Адыгея ТЦ \"Мега\"        2\n",
       "3  Балашиха ТРК \"Октябрь-Киномир\"        3\n",
       "4        Волжский ТЦ \"Волга Молл\"        4"
      ]
     },
     "execution_count": 5,
     "metadata": {},
     "output_type": "execute_result"
    }
   ],
   "source": [
    "print('Amount of shops:', len(shops))\n",
    "shops.head()"
   ]
  },
  {
   "cell_type": "code",
   "execution_count": 6,
   "metadata": {},
   "outputs": [
    {
     "name": "stdout",
     "output_type": "stream",
     "text": [
      "Amount of item categories: 84\n"
     ]
    },
    {
     "data": {
      "text/html": [
       "<div>\n",
       "<style scoped>\n",
       "    .dataframe tbody tr th:only-of-type {\n",
       "        vertical-align: middle;\n",
       "    }\n",
       "\n",
       "    .dataframe tbody tr th {\n",
       "        vertical-align: top;\n",
       "    }\n",
       "\n",
       "    .dataframe thead th {\n",
       "        text-align: right;\n",
       "    }\n",
       "</style>\n",
       "<table border=\"1\" class=\"dataframe\">\n",
       "  <thead>\n",
       "    <tr style=\"text-align: right;\">\n",
       "      <th></th>\n",
       "      <th>item_category_name</th>\n",
       "      <th>item_category_id</th>\n",
       "    </tr>\n",
       "  </thead>\n",
       "  <tbody>\n",
       "    <tr>\n",
       "      <th>0</th>\n",
       "      <td>PC - Гарнитуры/Наушники</td>\n",
       "      <td>0</td>\n",
       "    </tr>\n",
       "    <tr>\n",
       "      <th>1</th>\n",
       "      <td>Аксессуары - PS2</td>\n",
       "      <td>1</td>\n",
       "    </tr>\n",
       "    <tr>\n",
       "      <th>2</th>\n",
       "      <td>Аксессуары - PS3</td>\n",
       "      <td>2</td>\n",
       "    </tr>\n",
       "    <tr>\n",
       "      <th>3</th>\n",
       "      <td>Аксессуары - PS4</td>\n",
       "      <td>3</td>\n",
       "    </tr>\n",
       "    <tr>\n",
       "      <th>4</th>\n",
       "      <td>Аксессуары - PSP</td>\n",
       "      <td>4</td>\n",
       "    </tr>\n",
       "  </tbody>\n",
       "</table>\n",
       "</div>"
      ],
      "text/plain": [
       "        item_category_name  item_category_id\n",
       "0  PC - Гарнитуры/Наушники                 0\n",
       "1         Аксессуары - PS2                 1\n",
       "2         Аксессуары - PS3                 2\n",
       "3         Аксессуары - PS4                 3\n",
       "4         Аксессуары - PSP                 4"
      ]
     },
     "execution_count": 6,
     "metadata": {},
     "output_type": "execute_result"
    }
   ],
   "source": [
    "print('Amount of item categories:', len(item_category))\n",
    "item_category.head()"
   ]
  },
  {
   "cell_type": "code",
   "execution_count": 7,
   "metadata": {},
   "outputs": [
    {
     "name": "stdout",
     "output_type": "stream",
     "text": [
      "Amount of item submissions: 214200\n"
     ]
    },
    {
     "data": {
      "text/html": [
       "<div>\n",
       "<style scoped>\n",
       "    .dataframe tbody tr th:only-of-type {\n",
       "        vertical-align: middle;\n",
       "    }\n",
       "\n",
       "    .dataframe tbody tr th {\n",
       "        vertical-align: top;\n",
       "    }\n",
       "\n",
       "    .dataframe thead th {\n",
       "        text-align: right;\n",
       "    }\n",
       "</style>\n",
       "<table border=\"1\" class=\"dataframe\">\n",
       "  <thead>\n",
       "    <tr style=\"text-align: right;\">\n",
       "      <th></th>\n",
       "      <th>ID</th>\n",
       "      <th>item_cnt_month</th>\n",
       "    </tr>\n",
       "  </thead>\n",
       "  <tbody>\n",
       "    <tr>\n",
       "      <th>0</th>\n",
       "      <td>0</td>\n",
       "      <td>0.5</td>\n",
       "    </tr>\n",
       "    <tr>\n",
       "      <th>1</th>\n",
       "      <td>1</td>\n",
       "      <td>0.5</td>\n",
       "    </tr>\n",
       "    <tr>\n",
       "      <th>2</th>\n",
       "      <td>2</td>\n",
       "      <td>0.5</td>\n",
       "    </tr>\n",
       "    <tr>\n",
       "      <th>3</th>\n",
       "      <td>3</td>\n",
       "      <td>0.5</td>\n",
       "    </tr>\n",
       "    <tr>\n",
       "      <th>4</th>\n",
       "      <td>4</td>\n",
       "      <td>0.5</td>\n",
       "    </tr>\n",
       "  </tbody>\n",
       "</table>\n",
       "</div>"
      ],
      "text/plain": [
       "   ID  item_cnt_month\n",
       "0   0             0.5\n",
       "1   1             0.5\n",
       "2   2             0.5\n",
       "3   3             0.5\n",
       "4   4             0.5"
      ]
     },
     "execution_count": 7,
     "metadata": {},
     "output_type": "execute_result"
    }
   ],
   "source": [
    "print('Amount of item submissions:', len(sample_submission))\n",
    "sample_submission.head()"
   ]
  },
  {
   "cell_type": "markdown",
   "metadata": {},
   "source": [
    "## Train"
   ]
  },
  {
   "cell_type": "code",
   "execution_count": 8,
   "metadata": {},
   "outputs": [
    {
     "name": "stdout",
     "output_type": "stream",
     "text": [
      "Size of train-set: 2935849\n"
     ]
    },
    {
     "data": {
      "text/html": [
       "<div>\n",
       "<style scoped>\n",
       "    .dataframe tbody tr th:only-of-type {\n",
       "        vertical-align: middle;\n",
       "    }\n",
       "\n",
       "    .dataframe tbody tr th {\n",
       "        vertical-align: top;\n",
       "    }\n",
       "\n",
       "    .dataframe thead th {\n",
       "        text-align: right;\n",
       "    }\n",
       "</style>\n",
       "<table border=\"1\" class=\"dataframe\">\n",
       "  <thead>\n",
       "    <tr style=\"text-align: right;\">\n",
       "      <th></th>\n",
       "      <th>date</th>\n",
       "      <th>date_block_num</th>\n",
       "      <th>shop_id</th>\n",
       "      <th>item_id</th>\n",
       "      <th>item_price</th>\n",
       "      <th>item_cnt_day</th>\n",
       "    </tr>\n",
       "  </thead>\n",
       "  <tbody>\n",
       "    <tr>\n",
       "      <th>0</th>\n",
       "      <td>02.01.2013</td>\n",
       "      <td>0</td>\n",
       "      <td>59</td>\n",
       "      <td>22154</td>\n",
       "      <td>999.00</td>\n",
       "      <td>1.0</td>\n",
       "    </tr>\n",
       "    <tr>\n",
       "      <th>1</th>\n",
       "      <td>03.01.2013</td>\n",
       "      <td>0</td>\n",
       "      <td>25</td>\n",
       "      <td>2552</td>\n",
       "      <td>899.00</td>\n",
       "      <td>1.0</td>\n",
       "    </tr>\n",
       "    <tr>\n",
       "      <th>2</th>\n",
       "      <td>05.01.2013</td>\n",
       "      <td>0</td>\n",
       "      <td>25</td>\n",
       "      <td>2552</td>\n",
       "      <td>899.00</td>\n",
       "      <td>-1.0</td>\n",
       "    </tr>\n",
       "    <tr>\n",
       "      <th>3</th>\n",
       "      <td>06.01.2013</td>\n",
       "      <td>0</td>\n",
       "      <td>25</td>\n",
       "      <td>2554</td>\n",
       "      <td>1709.05</td>\n",
       "      <td>1.0</td>\n",
       "    </tr>\n",
       "    <tr>\n",
       "      <th>4</th>\n",
       "      <td>15.01.2013</td>\n",
       "      <td>0</td>\n",
       "      <td>25</td>\n",
       "      <td>2555</td>\n",
       "      <td>1099.00</td>\n",
       "      <td>1.0</td>\n",
       "    </tr>\n",
       "  </tbody>\n",
       "</table>\n",
       "</div>"
      ],
      "text/plain": [
       "         date  date_block_num  shop_id  item_id  item_price  item_cnt_day\n",
       "0  02.01.2013               0       59    22154      999.00           1.0\n",
       "1  03.01.2013               0       25     2552      899.00           1.0\n",
       "2  05.01.2013               0       25     2552      899.00          -1.0\n",
       "3  06.01.2013               0       25     2554     1709.05           1.0\n",
       "4  15.01.2013               0       25     2555     1099.00           1.0"
      ]
     },
     "execution_count": 8,
     "metadata": {},
     "output_type": "execute_result"
    }
   ],
   "source": [
    "print('Size of train-set:', len(train))\n",
    "train.head()"
   ]
  },
  {
   "cell_type": "code",
   "execution_count": 9,
   "metadata": {},
   "outputs": [
    {
     "data": {
      "text/html": [
       "<div>\n",
       "<style scoped>\n",
       "    .dataframe tbody tr th:only-of-type {\n",
       "        vertical-align: middle;\n",
       "    }\n",
       "\n",
       "    .dataframe tbody tr th {\n",
       "        vertical-align: top;\n",
       "    }\n",
       "\n",
       "    .dataframe thead th {\n",
       "        text-align: right;\n",
       "    }\n",
       "</style>\n",
       "<table border=\"1\" class=\"dataframe\">\n",
       "  <thead>\n",
       "    <tr style=\"text-align: right;\">\n",
       "      <th></th>\n",
       "      <th>date_block_num</th>\n",
       "      <th>shop_id</th>\n",
       "      <th>item_id</th>\n",
       "      <th>item_price</th>\n",
       "      <th>item_cnt_day</th>\n",
       "    </tr>\n",
       "  </thead>\n",
       "  <tbody>\n",
       "    <tr>\n",
       "      <th>count</th>\n",
       "      <td>2.935849e+06</td>\n",
       "      <td>2.935849e+06</td>\n",
       "      <td>2.935849e+06</td>\n",
       "      <td>2.935849e+06</td>\n",
       "      <td>2.935849e+06</td>\n",
       "    </tr>\n",
       "    <tr>\n",
       "      <th>mean</th>\n",
       "      <td>1.456991e+01</td>\n",
       "      <td>3.300173e+01</td>\n",
       "      <td>1.019723e+04</td>\n",
       "      <td>8.908532e+02</td>\n",
       "      <td>1.242641e+00</td>\n",
       "    </tr>\n",
       "    <tr>\n",
       "      <th>std</th>\n",
       "      <td>9.422988e+00</td>\n",
       "      <td>1.622697e+01</td>\n",
       "      <td>6.324297e+03</td>\n",
       "      <td>1.729800e+03</td>\n",
       "      <td>2.618834e+00</td>\n",
       "    </tr>\n",
       "    <tr>\n",
       "      <th>min</th>\n",
       "      <td>0.000000e+00</td>\n",
       "      <td>0.000000e+00</td>\n",
       "      <td>0.000000e+00</td>\n",
       "      <td>-1.000000e+00</td>\n",
       "      <td>-2.200000e+01</td>\n",
       "    </tr>\n",
       "    <tr>\n",
       "      <th>25%</th>\n",
       "      <td>7.000000e+00</td>\n",
       "      <td>2.200000e+01</td>\n",
       "      <td>4.476000e+03</td>\n",
       "      <td>2.490000e+02</td>\n",
       "      <td>1.000000e+00</td>\n",
       "    </tr>\n",
       "    <tr>\n",
       "      <th>50%</th>\n",
       "      <td>1.400000e+01</td>\n",
       "      <td>3.100000e+01</td>\n",
       "      <td>9.343000e+03</td>\n",
       "      <td>3.990000e+02</td>\n",
       "      <td>1.000000e+00</td>\n",
       "    </tr>\n",
       "    <tr>\n",
       "      <th>75%</th>\n",
       "      <td>2.300000e+01</td>\n",
       "      <td>4.700000e+01</td>\n",
       "      <td>1.568400e+04</td>\n",
       "      <td>9.990000e+02</td>\n",
       "      <td>1.000000e+00</td>\n",
       "    </tr>\n",
       "    <tr>\n",
       "      <th>max</th>\n",
       "      <td>3.300000e+01</td>\n",
       "      <td>5.900000e+01</td>\n",
       "      <td>2.216900e+04</td>\n",
       "      <td>3.079800e+05</td>\n",
       "      <td>2.169000e+03</td>\n",
       "    </tr>\n",
       "  </tbody>\n",
       "</table>\n",
       "</div>"
      ],
      "text/plain": [
       "       date_block_num       shop_id       item_id    item_price  item_cnt_day\n",
       "count    2.935849e+06  2.935849e+06  2.935849e+06  2.935849e+06  2.935849e+06\n",
       "mean     1.456991e+01  3.300173e+01  1.019723e+04  8.908532e+02  1.242641e+00\n",
       "std      9.422988e+00  1.622697e+01  6.324297e+03  1.729800e+03  2.618834e+00\n",
       "min      0.000000e+00  0.000000e+00  0.000000e+00 -1.000000e+00 -2.200000e+01\n",
       "25%      7.000000e+00  2.200000e+01  4.476000e+03  2.490000e+02  1.000000e+00\n",
       "50%      1.400000e+01  3.100000e+01  9.343000e+03  3.990000e+02  1.000000e+00\n",
       "75%      2.300000e+01  4.700000e+01  1.568400e+04  9.990000e+02  1.000000e+00\n",
       "max      3.300000e+01  5.900000e+01  2.216900e+04  3.079800e+05  2.169000e+03"
      ]
     },
     "execution_count": 9,
     "metadata": {},
     "output_type": "execute_result"
    }
   ],
   "source": [
    "train.describe()"
   ]
  },
  {
   "cell_type": "markdown",
   "metadata": {},
   "source": [
    "As we can see price and item count vary by quite a lot and are in some cases invalid (negative price)"
   ]
  },
  {
   "cell_type": "code",
   "execution_count": 10,
   "metadata": {},
   "outputs": [],
   "source": [
    "# Drop duplicates so they cannot influence training\n",
    "train.drop_duplicates(inplace=True)"
   ]
  },
  {
   "cell_type": "code",
   "execution_count": 11,
   "metadata": {},
   "outputs": [
    {
     "data": {
      "text/plain": [
       "{'whiskers': [<matplotlib.lines.Line2D at 0x7f96b9128c50>,\n",
       "  <matplotlib.lines.Line2D at 0x7f96b9128f98>],\n",
       " 'caps': [<matplotlib.lines.Line2D at 0x7f96b90bf320>,\n",
       "  <matplotlib.lines.Line2D at 0x7f96b90bf668>],\n",
       " 'boxes': [<matplotlib.lines.Line2D at 0x7f96b9128ac8>],\n",
       " 'medians': [<matplotlib.lines.Line2D at 0x7f96b90bf9b0>],\n",
       " 'fliers': [<matplotlib.lines.Line2D at 0x7f96b90bfcf8>],\n",
       " 'means': []}"
      ]
     },
     "execution_count": 11,
     "metadata": {},
     "output_type": "execute_result"
    },
    {
     "data": {
      "image/png": "[encoded data removed]",
      "text/plain": [
       "<Figure size 432x288 with 1 Axes>"
      ]
     },
     "metadata": {
      "needs_background": "light"
     },
     "output_type": "display_data"
    }
   ],
   "source": [
    "plt.boxplot(train['item_cnt_day'])"
   ]
  },
  {
   "cell_type": "code",
   "execution_count": 12,
   "metadata": {},
   "outputs": [
    {
     "data": {
      "text/plain": [
       "{'whiskers': [<matplotlib.lines.Line2D at 0x7f96b90bd908>,\n",
       "  <matplotlib.lines.Line2D at 0x7f96b90bdc50>],\n",
       " 'caps': [<matplotlib.lines.Line2D at 0x7f96b90bdf98>,\n",
       "  <matplotlib.lines.Line2D at 0x7f96b904a320>],\n",
       " 'boxes': [<matplotlib.lines.Line2D at 0x7f96b90bd588>],\n",
       " 'medians': [<matplotlib.lines.Line2D at 0x7f96b904a668>],\n",
       " 'fliers': [<matplotlib.lines.Line2D at 0x7f96b904a9b0>],\n",
       " 'means': []}"
      ]
     },
     "execution_count": 12,
     "metadata": {},
     "output_type": "execute_result"
    },
    {
     "data": {
      "image/png": "[encoded data removed]",
      "text/plain": [
       "<Figure size 432x288 with 1 Axes>"
      ]
     },
     "metadata": {
      "needs_background": "light"
     },
     "output_type": "display_data"
    }
   ],
   "source": [
    "plt.boxplot(train['item_price'])"
   ]
  },
  {
   "cell_type": "code",
   "execution_count": 13,
   "metadata": {},
   "outputs": [
    {
     "data": {
      "text/plain": [
       "(array([ 7.,  0.,  4.,  6.,  8.,  4.,  1.,  2.,  1.,  1.]),\n",
       " array([  50588. ,   59853.8,   69119.6,   78385.4,   87651.2,   96917. ,\n",
       "         106182.8,  115448.6,  124714.4,  133980.2,  143246. ]),\n",
       " <a list of 10 Patch objects>)"
      ]
     },
     "execution_count": 13,
     "metadata": {},
     "output_type": "execute_result"
    },
    {
     "data": {
      "image/png": "[encoded data removed]",
      "text/plain": [
       "<Figure size 432x288 with 1 Axes>"
      ]
     },
     "metadata": {
      "needs_background": "light"
     },
     "output_type": "display_data"
    }
   ],
   "source": [
    "plt.hist(train.groupby(by=['date_block_num'])['item_cnt_day'].count())"
   ]
  },
  {
   "cell_type": "markdown",
   "metadata": {},
   "source": [
    "The item count has quite a few outliers. The amount of rows for each month is also vastly different. Both of these findings can influence training."
   ]
  },
  {
   "cell_type": "markdown",
   "metadata": {},
   "source": [
    "## Test"
   ]
  },
  {
   "cell_type": "code",
   "execution_count": 14,
   "metadata": {},
   "outputs": [
    {
     "name": "stdout",
     "output_type": "stream",
     "text": [
      "Size of test-set: 214200\n"
     ]
    },
    {
     "data": {
      "text/html": [
       "<div>\n",
       "<style scoped>\n",
       "    .dataframe tbody tr th:only-of-type {\n",
       "        vertical-align: middle;\n",
       "    }\n",
       "\n",
       "    .dataframe tbody tr th {\n",
       "        vertical-align: top;\n",
       "    }\n",
       "\n",
       "    .dataframe thead th {\n",
       "        text-align: right;\n",
       "    }\n",
       "</style>\n",
       "<table border=\"1\" class=\"dataframe\">\n",
       "  <thead>\n",
       "    <tr style=\"text-align: right;\">\n",
       "      <th></th>\n",
       "      <th>ID</th>\n",
       "      <th>shop_id</th>\n",
       "      <th>item_id</th>\n",
       "    </tr>\n",
       "  </thead>\n",
       "  <tbody>\n",
       "    <tr>\n",
       "      <th>0</th>\n",
       "      <td>0</td>\n",
       "      <td>5</td>\n",
       "      <td>5037</td>\n",
       "    </tr>\n",
       "    <tr>\n",
       "      <th>1</th>\n",
       "      <td>1</td>\n",
       "      <td>5</td>\n",
       "      <td>5320</td>\n",
       "    </tr>\n",
       "    <tr>\n",
       "      <th>2</th>\n",
       "      <td>2</td>\n",
       "      <td>5</td>\n",
       "      <td>5233</td>\n",
       "    </tr>\n",
       "    <tr>\n",
       "      <th>3</th>\n",
       "      <td>3</td>\n",
       "      <td>5</td>\n",
       "      <td>5232</td>\n",
       "    </tr>\n",
       "    <tr>\n",
       "      <th>4</th>\n",
       "      <td>4</td>\n",
       "      <td>5</td>\n",
       "      <td>5268</td>\n",
       "    </tr>\n",
       "  </tbody>\n",
       "</table>\n",
       "</div>"
      ],
      "text/plain": [
       "   ID  shop_id  item_id\n",
       "0   0        5     5037\n",
       "1   1        5     5320\n",
       "2   2        5     5233\n",
       "3   3        5     5232\n",
       "4   4        5     5268"
      ]
     },
     "execution_count": 14,
     "metadata": {},
     "output_type": "execute_result"
    }
   ],
   "source": [
    "print('Size of test-set:', len(test))\n",
    "test.head()"
   ]
  },
  {
   "cell_type": "markdown",
   "metadata": {},
   "source": [
    "as we can see test does not have many features. We will have to create those."
   ]
  },
  {
   "cell_type": "code",
   "execution_count": 15,
   "metadata": {},
   "outputs": [
    {
     "data": {
      "text/plain": [
       "(18, 16707, 363, 0)"
      ]
     },
     "execution_count": 15,
     "metadata": {},
     "output_type": "execute_result"
    }
   ],
   "source": [
    "train['shop_id'].nunique() - test['shop_id'].nunique(), \\\n",
    "train['item_id'].nunique() - test['item_id'].nunique(), \\\n",
    "len(list(set(test['item_id']) - set(train['item_id']))), \\\n",
    "len(list(set(test['shop_id']) - set(train['shop_id'])))"
   ]
  },
  {
   "cell_type": "markdown",
   "metadata": {},
   "source": [
    "We can see that some shops and many items do not appear in the test set but do in the train set. These will not be necessary for training.\n",
    "\n",
    "Also 363 items that appear in the test set never appear in the train set. Since training on the test dataframe will almost never give output as 0, we should make sure the distribution between train and test is similar to improve training performance. We can do this by adding rows with 0 sales as values."
   ]
  },
  {
   "cell_type": "markdown",
   "metadata": {},
   "source": [
    "# Data Leakages\n",
    "During EDA we discovered that many items and shops are not being asked for in the test set. We remove these from the train set."
   ]
  },
  {
   "cell_type": "code",
   "execution_count": 16,
   "metadata": {},
   "outputs": [
    {
     "name": "stdout",
     "output_type": "stream",
     "text": [
      "before size: 2935843 \n",
      " after size: 1224434\n"
     ]
    }
   ],
   "source": [
    "before_size = len(train)\n",
    "train = train[train['shop_id'].isin(test['shop_id'].unique())]\n",
    "train = train[train['item_id'].isin(test['item_id'].unique())]\n",
    "after_size = len(train)\n",
    "print(f'before size: {before_size}', '\\n', f'after size: {after_size}')"
   ]
  },
  {
   "cell_type": "markdown",
   "metadata": {},
   "source": [
    "# Data Preprocessing and Generation\n",
    "We are dealing with a 1 month future prediction problem. If we teach the model to predict sales 1 month into the future, then we can use all features provided in the training set instead of being limited to the test sets features."
   ]
  },
  {
   "cell_type": "code",
   "execution_count": 17,
   "metadata": {},
   "outputs": [],
   "source": [
    "train_data = train.drop(columns=['date']) \\\n",
    ".groupby(by=['date_block_num', 'shop_id', 'item_id'], as_index=False) \\\n",
    ".agg({'item_price':['sum', 'mean'], 'item_cnt_day':['sum', 'mean', 'count']})\n",
    "\n",
    "# Rename columns\n",
    "train_data.columns = ['date_block_num', 'shop_id', 'item_id', \\\n",
    "                      'summed_item_price', 'mean_item_price', \\\n",
    "                      'total_item_cnt', 'mean_item_cnt', 'transactions']"
   ]
  },
  {
   "cell_type": "markdown",
   "metadata": {},
   "source": [
    "## Add Missing Combinations\n",
    "We add the missing product shop month combos to make the distribution train/test similar"
   ]
  },
  {
   "cell_type": "code",
   "execution_count": 18,
   "metadata": {},
   "outputs": [],
   "source": [
    "# Build empty DataFrame\n",
    "shop_ids = train_data['shop_id'].unique()\n",
    "item_ids = train_data['item_id'].unique()  \n",
    "\n",
    "# Extend later with item ids in test\n",
    "item_ids = np.concatenate([item_ids, np.array(list(set(test['item_id']) - set(train['item_id'])))])\n",
    "item_ids.sort()\n",
    "\n",
    "empty_df = []\n",
    "for month_block in range(34):\n",
    "    for shop_id in shop_ids:\n",
    "        for item_id in item_ids:\n",
    "            empty_df.append([month_block, shop_id, item_id])\n",
    "\n",
    "empty_df = pd.DataFrame(empty_df, columns=['date_block_num', 'shop_id', 'item_id'])"
   ]
  },
  {
   "cell_type": "code",
   "execution_count": 19,
   "metadata": {},
   "outputs": [],
   "source": [
    "# Merge train_data into empty_df and fill NaNs with 0\n",
    "train_data = pd.merge(empty_df, train_data, on=['date_block_num', 'shop_id', 'item_id'], how='left').fillna(0)"
   ]
  },
  {
   "cell_type": "markdown",
   "metadata": {},
   "source": [
    "## Clean Data"
   ]
  },
  {
   "cell_type": "code",
   "execution_count": 20,
   "metadata": {},
   "outputs": [],
   "source": [
    "# Remove price outliers\n",
    "train_data = train_data[train_data['summed_item_price'] >= 0]\n",
    "train_data = train_data[train_data['summed_item_price'] < 400000]"
   ]
  },
  {
   "cell_type": "code",
   "execution_count": 21,
   "metadata": {},
   "outputs": [],
   "source": [
    "# Remove count outliers\n",
    "train_data = train_data[train_data['total_item_cnt'] >= 0]\n",
    "train_data = train_data[train_data['total_item_cnt'] <= 20]\n",
    "\n",
    "# Or Clip them\n",
    "# train_data['item_cnt_day'] = train_data['item_cnt_day'].clip(0, 20)"
   ]
  },
  {
   "cell_type": "markdown",
   "metadata": {},
   "source": [
    "## Target"
   ]
  },
  {
   "cell_type": "code",
   "execution_count": 22,
   "metadata": {},
   "outputs": [],
   "source": [
    "train_data['target'] = train_data.sort_values('date_block_num')\\\n",
    ".groupby(['shop_id', 'item_id'])['total_item_cnt']\\\n",
    ".shift(-1)"
   ]
  },
  {
   "cell_type": "markdown",
   "metadata": {},
   "source": [
    "## Basic Features"
   ]
  },
  {
   "cell_type": "markdown",
   "metadata": {},
   "source": [
    "### Month"
   ]
  },
  {
   "cell_type": "code",
   "execution_count": 23,
   "metadata": {},
   "outputs": [],
   "source": [
    "train_data['month'] = train_data['date_block_num'] % 12"
   ]
  },
  {
   "cell_type": "markdown",
   "metadata": {},
   "source": [
    "### Year"
   ]
  },
  {
   "cell_type": "code",
   "execution_count": 24,
   "metadata": {},
   "outputs": [],
   "source": [
    "train_data['year'] = train_data['date_block_num'] // 12 + 2013"
   ]
  },
  {
   "cell_type": "markdown",
   "metadata": {},
   "source": [
    "### Days in Month"
   ]
  },
  {
   "cell_type": "code",
   "execution_count": 25,
   "metadata": {},
   "outputs": [],
   "source": [
    "days_in_month = pd.Series([31,28,31,30,31,30,31,31,30,31,30,31])\n",
    "train_data['days_in_month'] = train_data['month'].map(days_in_month).astype(np.int8)"
   ]
  },
  {
   "cell_type": "markdown",
   "metadata": {},
   "source": [
    "### Item Category"
   ]
  },
  {
   "cell_type": "code",
   "execution_count": 26,
   "metadata": {},
   "outputs": [],
   "source": [
    "item_category_map = items[['item_id', 'item_category_id']]\n",
    "train_data = pd.merge(train_data, item_category_map, on=['item_id'])"
   ]
  },
  {
   "cell_type": "markdown",
   "metadata": {},
   "source": [
    "### Unit Price"
   ]
  },
  {
   "cell_type": "code",
   "execution_count": 27,
   "metadata": {},
   "outputs": [],
   "source": [
    "train_data['unit_item_price'] = (train_data['summed_item_price'] // train_data['total_item_cnt']).fillna(0).replace(np.inf, 0)"
   ]
  },
  {
   "cell_type": "markdown",
   "metadata": {},
   "source": [
    "### Month Shop Sales"
   ]
  },
  {
   "cell_type": "code",
   "execution_count": 28,
   "metadata": {},
   "outputs": [],
   "source": [
    "month_shop_sales = train_data.groupby(['date_block_num', 'shop_id'], as_index=False)['total_item_cnt'].sum().rename(columns={'total_item_cnt': 'month_shop_sales'})\n",
    "train_data = pd.merge(train_data, month_shop_sales, on=['date_block_num', 'shop_id'], how='left').fillna(0)"
   ]
  },
  {
   "cell_type": "markdown",
   "metadata": {},
   "source": [
    "### Month Item Sales"
   ]
  },
  {
   "cell_type": "code",
   "execution_count": 29,
   "metadata": {},
   "outputs": [],
   "source": [
    "month_item_sales = train_data.groupby(['date_block_num', 'item_id'], as_index=False)['total_item_cnt'].sum().rename(columns={'total_item_cnt': 'month_item_sales'})\n",
    "train_data = pd.merge(train_data, month_item_sales, on=['date_block_num', 'item_id'], how='left').fillna(0)"
   ]
  },
  {
   "cell_type": "markdown",
   "metadata": {},
   "source": [
    "## Historical Features\n",
    "### Historical Prices"
   ]
  },
  {
   "cell_type": "code",
   "execution_count": 30,
   "metadata": {},
   "outputs": [],
   "source": [
    "historical_prices = train_data.groupby(by=['item_id'], as_index=False) \\\n",
    ".agg({'summed_item_price': [np.min, np.max]})\n",
    "\n",
    "historical_prices.columns = ['item_id', 'hist_min_price', 'hist_max_price']\n",
    "train_data = pd.merge(train_data, historical_prices, on='item_id', how='left').fillna(0)"
   ]
  },
  {
   "cell_type": "markdown",
   "metadata": {},
   "source": [
    "### Change from Historical Prices"
   ]
  },
  {
   "cell_type": "code",
   "execution_count": 31,
   "metadata": {},
   "outputs": [],
   "source": [
    "train_data['price_increase'] = train_data['summed_item_price'] - train_data['hist_min_price']\n",
    "train_data['price_decrease'] = train_data['summed_item_price'] - train_data['hist_max_price']"
   ]
  },
  {
   "cell_type": "markdown",
   "metadata": {},
   "source": [
    "## Downcast types"
   ]
  },
  {
   "cell_type": "code",
   "execution_count": 32,
   "metadata": {},
   "outputs": [],
   "source": [
    "train_data['date_block_num'] = train_data['date_block_num'].astype(np.int8)\n",
    "train_data['shop_id'] = train_data['shop_id'].astype(np.int16)\n",
    "train_data['item_id'] = train_data['item_id'].astype(np.int16)\n",
    "train_data['summed_item_price'] = train_data['summed_item_price'].astype(np.float32)\n",
    "train_data['mean_item_price'] = train_data['mean_item_price'].astype(np.float32)\n",
    "train_data['unit_item_price'] = train_data['unit_item_price'].astype(np.int32)\n",
    "train_data['hist_min_price'] = train_data['hist_min_price'].astype(np.float32)\n",
    "train_data['hist_max_price'] = train_data['hist_max_price'].astype(np.float32)\n",
    "train_data['price_increase'] = train_data['price_increase'].astype(np.float32)\n",
    "train_data['price_decrease'] = train_data['price_decrease'].astype(np.float32)\n",
    "train_data['total_item_cnt'] = train_data['total_item_cnt'].astype(np.int32)\n",
    "train_data['mean_item_cnt'] = train_data['total_item_cnt'].astype(np.float32)\n",
    "train_data['transactions'] = train_data['transactions'].astype(np.int32)\n",
    "train_data['month'] = train_data['month'].astype(np.int8)\n",
    "train_data['year'] = train_data['year'].astype(np.int16)\n",
    "train_data['item_category_id'] = train_data['item_category_id'].astype(np.int16)\n",
    "train_data['month_shop_sales'] = train_data['month_shop_sales'].astype(np.int32)\n",
    "train_data['month_item_sales'] = train_data['month_item_sales'].astype(np.int32)"
   ]
  },
  {
   "cell_type": "markdown",
   "metadata": {},
   "source": [
    "## Lag Based Features\n",
    "### Sale Lags"
   ]
  },
  {
   "cell_type": "code",
   "execution_count": 33,
   "metadata": {},
   "outputs": [],
   "source": [
    "lags = [1, 2, 3, 6, 12]\n",
    "# lags = [1, 2, 3]\n",
    "\n",
    "def add_lag_features(train_data, grouped_data, lags, old_name, new_name, merge_list):\n",
    "    for lag in lags:\n",
    "        lag_series = grouped_data.copy()\n",
    "        composed_name = f'{new_name}_lag{lag}m'\n",
    "        lag_series['date_block_num'] += lag\n",
    "        lag_series.rename(columns={old_name: composed_name}, inplace=True)\n",
    "        \n",
    "        train_data = pd.merge(train_data, lag_series, on=merge_list, how='left').fillna(0)\n",
    "        train_data[composed_name] = train_data[composed_name].astype(train_data[old_name].dtype)\n",
    "        \n",
    "        del lag_series\n",
    "        gc.collect()\n",
    "    return train_data"
   ]
  },
  {
   "cell_type": "code",
   "execution_count": 34,
   "metadata": {},
   "outputs": [],
   "source": [
    "# Month Shop Item Sales\n",
    "month_shop_item = train_data[['date_block_num', 'shop_id', 'item_id', 'total_item_cnt']]\n",
    "train_data = add_lag_features(train_data, month_shop_item, lags, 'total_item_cnt', 'month_shop_item_sales', ['date_block_num', 'shop_id', 'item_id'])\n",
    "\n",
    "# Month Shop Sales\n",
    "month_shop = train_data.groupby(['date_block_num', 'shop_id'], as_index=False)['month_shop_sales'].mean()\n",
    "train_data = add_lag_features(train_data, month_shop, lags, 'month_shop_sales', 'month_shop_sales', ['date_block_num', 'shop_id'])\n",
    "\n",
    "# Month Item Sales\n",
    "month_item = train_data.groupby(['date_block_num', 'item_id'], as_index=False)['month_item_sales'].mean()\n",
    "train_data = add_lag_features(train_data, month_item, lags, 'month_item_sales', 'month_item_sales', ['date_block_num', 'item_id'])"
   ]
  },
  {
   "cell_type": "markdown",
   "metadata": {},
   "source": [
    "### Sales Count Trend"
   ]
  },
  {
   "cell_type": "code",
   "execution_count": 35,
   "metadata": {},
   "outputs": [],
   "source": [
    "def add_trend(train_data, total_count, lags, base_feat_name, new_name):\n",
    "    train_data[new_name] = total_count\n",
    "    for lag in lags:\n",
    "        composed_name = f'{base_feat_name}_lag{lag}m'\n",
    "        train_data[new_name] -= train_data[composed_name] / len(lags)\n",
    "        \n",
    "    train_data[new_name] = train_data[new_name].astype(np.float32)\n",
    "    return train_data"
   ]
  },
  {
   "cell_type": "code",
   "execution_count": 36,
   "metadata": {},
   "outputs": [],
   "source": [
    "# Trend Shop Item Sales\n",
    "train_data = add_trend(train_data, train_data['total_item_cnt'], lags, 'month_shop_item_sales', 'shop_item_trend')\n",
    "\n",
    "# Trend Shop Sales\n",
    "train_data = add_trend(train_data, train_data['month_shop_sales'], lags, 'month_shop_sales', 'shop_trend')\n",
    "\n",
    "# Trend Item Sales\n",
    "train_data = add_trend(train_data, train_data['month_item_sales'], lags, 'month_item_sales', 'item_trend')"
   ]
  },
  {
   "cell_type": "markdown",
   "metadata": {},
   "source": [
    "Remove the first max(lag) months of train dataset as these have no lag values."
   ]
  },
  {
   "cell_type": "code",
   "execution_count": 37,
   "metadata": {},
   "outputs": [],
   "source": [
    "train_data = train_data[train_data['date_block_num'] >= max(lags)]"
   ]
  },
  {
   "cell_type": "markdown",
   "metadata": {},
   "source": [
    "## Result"
   ]
  },
  {
   "cell_type": "code",
   "execution_count": 38,
   "metadata": {},
   "outputs": [
    {
     "data": {
      "text/html": [
       "<div>\n",
       "<style scoped>\n",
       "    .dataframe tbody tr th:only-of-type {\n",
       "        vertical-align: middle;\n",
       "    }\n",
       "\n",
       "    .dataframe tbody tr th {\n",
       "        vertical-align: top;\n",
       "    }\n",
       "\n",
       "    .dataframe thead th {\n",
       "        text-align: right;\n",
       "    }\n",
       "</style>\n",
       "<table border=\"1\" class=\"dataframe\">\n",
       "  <thead>\n",
       "    <tr style=\"text-align: right;\">\n",
       "      <th></th>\n",
       "      <th>count</th>\n",
       "      <th>mean</th>\n",
       "      <th>std</th>\n",
       "      <th>min</th>\n",
       "      <th>25%</th>\n",
       "      <th>50%</th>\n",
       "      <th>75%</th>\n",
       "      <th>max</th>\n",
       "    </tr>\n",
       "  </thead>\n",
       "  <tbody>\n",
       "    <tr>\n",
       "      <th>date_block_num</th>\n",
       "      <td>4708036.0</td>\n",
       "      <td>22.499862</td>\n",
       "      <td>6.344737</td>\n",
       "      <td>12.000000</td>\n",
       "      <td>17.000000</td>\n",
       "      <td>22.000000</td>\n",
       "      <td>28.000000</td>\n",
       "      <td>33.000000</td>\n",
       "    </tr>\n",
       "    <tr>\n",
       "      <th>shop_id</th>\n",
       "      <td>4708036.0</td>\n",
       "      <td>31.643266</td>\n",
       "      <td>17.563453</td>\n",
       "      <td>2.000000</td>\n",
       "      <td>16.000000</td>\n",
       "      <td>35.000000</td>\n",
       "      <td>47.000000</td>\n",
       "      <td>59.000000</td>\n",
       "    </tr>\n",
       "    <tr>\n",
       "      <th>item_id</th>\n",
       "      <td>4708036.0</td>\n",
       "      <td>11019.941696</td>\n",
       "      <td>6251.749247</td>\n",
       "      <td>30.000000</td>\n",
       "      <td>5382.000000</td>\n",
       "      <td>11207.000000</td>\n",
       "      <td>16071.000000</td>\n",
       "      <td>22167.000000</td>\n",
       "    </tr>\n",
       "    <tr>\n",
       "      <th>summed_item_price</th>\n",
       "      <td>4708036.0</td>\n",
       "      <td>201.474991</td>\n",
       "      <td>2062.762939</td>\n",
       "      <td>0.000000</td>\n",
       "      <td>0.000000</td>\n",
       "      <td>0.000000</td>\n",
       "      <td>0.000000</td>\n",
       "      <td>366860.000000</td>\n",
       "    </tr>\n",
       "    <tr>\n",
       "      <th>mean_item_price</th>\n",
       "      <td>4708036.0</td>\n",
       "      <td>96.350044</td>\n",
       "      <td>605.202209</td>\n",
       "      <td>0.000000</td>\n",
       "      <td>0.000000</td>\n",
       "      <td>0.000000</td>\n",
       "      <td>0.000000</td>\n",
       "      <td>42990.000000</td>\n",
       "    </tr>\n",
       "    <tr>\n",
       "      <th>total_item_cnt</th>\n",
       "      <td>4708036.0</td>\n",
       "      <td>0.204145</td>\n",
       "      <td>0.929529</td>\n",
       "      <td>0.000000</td>\n",
       "      <td>0.000000</td>\n",
       "      <td>0.000000</td>\n",
       "      <td>0.000000</td>\n",
       "      <td>20.000000</td>\n",
       "    </tr>\n",
       "    <tr>\n",
       "      <th>mean_item_cnt</th>\n",
       "      <td>4708036.0</td>\n",
       "      <td>0.204145</td>\n",
       "      <td>0.929529</td>\n",
       "      <td>0.000000</td>\n",
       "      <td>0.000000</td>\n",
       "      <td>0.000000</td>\n",
       "      <td>0.000000</td>\n",
       "      <td>20.000000</td>\n",
       "    </tr>\n",
       "    <tr>\n",
       "      <th>transactions</th>\n",
       "      <td>4708036.0</td>\n",
       "      <td>0.185371</td>\n",
       "      <td>0.762452</td>\n",
       "      <td>0.000000</td>\n",
       "      <td>0.000000</td>\n",
       "      <td>0.000000</td>\n",
       "      <td>0.000000</td>\n",
       "      <td>18.000000</td>\n",
       "    </tr>\n",
       "    <tr>\n",
       "      <th>target</th>\n",
       "      <td>4708036.0</td>\n",
       "      <td>0.196718</td>\n",
       "      <td>0.908252</td>\n",
       "      <td>0.000000</td>\n",
       "      <td>0.000000</td>\n",
       "      <td>0.000000</td>\n",
       "      <td>0.000000</td>\n",
       "      <td>20.000000</td>\n",
       "    </tr>\n",
       "    <tr>\n",
       "      <th>month</th>\n",
       "      <td>4708036.0</td>\n",
       "      <td>5.044846</td>\n",
       "      <td>3.239628</td>\n",
       "      <td>0.000000</td>\n",
       "      <td>2.000000</td>\n",
       "      <td>5.000000</td>\n",
       "      <td>8.000000</td>\n",
       "      <td>11.000000</td>\n",
       "    </tr>\n",
       "    <tr>\n",
       "      <th>year</th>\n",
       "      <td>4708036.0</td>\n",
       "      <td>2014.454585</td>\n",
       "      <td>0.497933</td>\n",
       "      <td>2014.000000</td>\n",
       "      <td>2014.000000</td>\n",
       "      <td>2014.000000</td>\n",
       "      <td>2015.000000</td>\n",
       "      <td>2015.000000</td>\n",
       "    </tr>\n",
       "    <tr>\n",
       "      <th>days_in_month</th>\n",
       "      <td>4708036.0</td>\n",
       "      <td>30.409064</td>\n",
       "      <td>0.887276</td>\n",
       "      <td>28.000000</td>\n",
       "      <td>30.000000</td>\n",
       "      <td>31.000000</td>\n",
       "      <td>31.000000</td>\n",
       "      <td>31.000000</td>\n",
       "    </tr>\n",
       "    <tr>\n",
       "      <th>item_category_id</th>\n",
       "      <td>4708036.0</td>\n",
       "      <td>46.314478</td>\n",
       "      <td>16.709694</td>\n",
       "      <td>0.000000</td>\n",
       "      <td>37.000000</td>\n",
       "      <td>43.000000</td>\n",
       "      <td>58.000000</td>\n",
       "      <td>83.000000</td>\n",
       "    </tr>\n",
       "    <tr>\n",
       "      <th>unit_item_price</th>\n",
       "      <td>4708036.0</td>\n",
       "      <td>92.534029</td>\n",
       "      <td>582.465133</td>\n",
       "      <td>0.000000</td>\n",
       "      <td>0.000000</td>\n",
       "      <td>0.000000</td>\n",
       "      <td>0.000000</td>\n",
       "      <td>94970.000000</td>\n",
       "    </tr>\n",
       "    <tr>\n",
       "      <th>month_shop_sales</th>\n",
       "      <td>4708036.0</td>\n",
       "      <td>1039.465576</td>\n",
       "      <td>774.436703</td>\n",
       "      <td>0.000000</td>\n",
       "      <td>612.000000</td>\n",
       "      <td>854.000000</td>\n",
       "      <td>1166.000000</td>\n",
       "      <td>6645.000000</td>\n",
       "    </tr>\n",
       "    <tr>\n",
       "      <th>month_item_sales</th>\n",
       "      <td>4708036.0</td>\n",
       "      <td>8.434005</td>\n",
       "      <td>24.090913</td>\n",
       "      <td>0.000000</td>\n",
       "      <td>0.000000</td>\n",
       "      <td>0.000000</td>\n",
       "      <td>7.000000</td>\n",
       "      <td>392.000000</td>\n",
       "    </tr>\n",
       "    <tr>\n",
       "      <th>hist_min_price</th>\n",
       "      <td>4708036.0</td>\n",
       "      <td>0.000000</td>\n",
       "      <td>0.000000</td>\n",
       "      <td>0.000000</td>\n",
       "      <td>0.000000</td>\n",
       "      <td>0.000000</td>\n",
       "      <td>0.000000</td>\n",
       "      <td>0.000000</td>\n",
       "    </tr>\n",
       "    <tr>\n",
       "      <th>hist_max_price</th>\n",
       "      <td>4708036.0</td>\n",
       "      <td>5196.814941</td>\n",
       "      <td>11356.205078</td>\n",
       "      <td>0.000000</td>\n",
       "      <td>798.000000</td>\n",
       "      <td>2099.000000</td>\n",
       "      <td>5196.000000</td>\n",
       "      <td>366860.000000</td>\n",
       "    </tr>\n",
       "    <tr>\n",
       "      <th>price_increase</th>\n",
       "      <td>4708036.0</td>\n",
       "      <td>201.474991</td>\n",
       "      <td>2062.762939</td>\n",
       "      <td>0.000000</td>\n",
       "      <td>0.000000</td>\n",
       "      <td>0.000000</td>\n",
       "      <td>0.000000</td>\n",
       "      <td>366860.000000</td>\n",
       "    </tr>\n",
       "    <tr>\n",
       "      <th>price_decrease</th>\n",
       "      <td>4708036.0</td>\n",
       "      <td>-4995.342773</td>\n",
       "      <td>10661.282227</td>\n",
       "      <td>-366860.000000</td>\n",
       "      <td>-5094.160156</td>\n",
       "      <td>-2093.000000</td>\n",
       "      <td>-796.000000</td>\n",
       "      <td>0.000000</td>\n",
       "    </tr>\n",
       "    <tr>\n",
       "      <th>month_shop_item_sales_lag1m</th>\n",
       "      <td>4708036.0</td>\n",
       "      <td>0.200695</td>\n",
       "      <td>0.925135</td>\n",
       "      <td>0.000000</td>\n",
       "      <td>0.000000</td>\n",
       "      <td>0.000000</td>\n",
       "      <td>0.000000</td>\n",
       "      <td>20.000000</td>\n",
       "    </tr>\n",
       "    <tr>\n",
       "      <th>month_shop_item_sales_lag2m</th>\n",
       "      <td>4708036.0</td>\n",
       "      <td>0.196975</td>\n",
       "      <td>0.924936</td>\n",
       "      <td>0.000000</td>\n",
       "      <td>0.000000</td>\n",
       "      <td>0.000000</td>\n",
       "      <td>0.000000</td>\n",
       "      <td>20.000000</td>\n",
       "    </tr>\n",
       "    <tr>\n",
       "      <th>month_shop_item_sales_lag3m</th>\n",
       "      <td>4708036.0</td>\n",
       "      <td>0.190937</td>\n",
       "      <td>0.918426</td>\n",
       "      <td>0.000000</td>\n",
       "      <td>0.000000</td>\n",
       "      <td>0.000000</td>\n",
       "      <td>0.000000</td>\n",
       "      <td>20.000000</td>\n",
       "    </tr>\n",
       "    <tr>\n",
       "      <th>month_shop_item_sales_lag6m</th>\n",
       "      <td>4708036.0</td>\n",
       "      <td>0.177754</td>\n",
       "      <td>0.907024</td>\n",
       "      <td>0.000000</td>\n",
       "      <td>0.000000</td>\n",
       "      <td>0.000000</td>\n",
       "      <td>0.000000</td>\n",
       "      <td>20.000000</td>\n",
       "    </tr>\n",
       "    <tr>\n",
       "      <th>month_shop_item_sales_lag12m</th>\n",
       "      <td>4708036.0</td>\n",
       "      <td>0.135875</td>\n",
       "      <td>0.811886</td>\n",
       "      <td>0.000000</td>\n",
       "      <td>0.000000</td>\n",
       "      <td>0.000000</td>\n",
       "      <td>0.000000</td>\n",
       "      <td>20.000000</td>\n",
       "    </tr>\n",
       "    <tr>\n",
       "      <th>month_shop_sales_lag1m</th>\n",
       "      <td>4708036.0</td>\n",
       "      <td>1033.267255</td>\n",
       "      <td>765.434378</td>\n",
       "      <td>0.000000</td>\n",
       "      <td>605.000000</td>\n",
       "      <td>853.000000</td>\n",
       "      <td>1172.000000</td>\n",
       "      <td>6645.000000</td>\n",
       "    </tr>\n",
       "    <tr>\n",
       "      <th>month_shop_sales_lag2m</th>\n",
       "      <td>4708036.0</td>\n",
       "      <td>1011.421169</td>\n",
       "      <td>756.966873</td>\n",
       "      <td>0.000000</td>\n",
       "      <td>593.000000</td>\n",
       "      <td>835.000000</td>\n",
       "      <td>1157.000000</td>\n",
       "      <td>6645.000000</td>\n",
       "    </tr>\n",
       "    <tr>\n",
       "      <th>month_shop_sales_lag3m</th>\n",
       "      <td>4708036.0</td>\n",
       "      <td>979.990167</td>\n",
       "      <td>745.719247</td>\n",
       "      <td>0.000000</td>\n",
       "      <td>571.000000</td>\n",
       "      <td>808.000000</td>\n",
       "      <td>1120.000000</td>\n",
       "      <td>6645.000000</td>\n",
       "    </tr>\n",
       "    <tr>\n",
       "      <th>month_shop_sales_lag6m</th>\n",
       "      <td>4708036.0</td>\n",
       "      <td>910.910871</td>\n",
       "      <td>718.591625</td>\n",
       "      <td>0.000000</td>\n",
       "      <td>523.000000</td>\n",
       "      <td>753.000000</td>\n",
       "      <td>1079.000000</td>\n",
       "      <td>6645.000000</td>\n",
       "    </tr>\n",
       "    <tr>\n",
       "      <th>month_shop_sales_lag12m</th>\n",
       "      <td>4708036.0</td>\n",
       "      <td>696.048347</td>\n",
       "      <td>539.057077</td>\n",
       "      <td>0.000000</td>\n",
       "      <td>392.000000</td>\n",
       "      <td>592.000000</td>\n",
       "      <td>880.000000</td>\n",
       "      <td>3585.000000</td>\n",
       "    </tr>\n",
       "    <tr>\n",
       "      <th>month_item_sales_lag1m</th>\n",
       "      <td>4708036.0</td>\n",
       "      <td>8.446752</td>\n",
       "      <td>24.860195</td>\n",
       "      <td>0.000000</td>\n",
       "      <td>0.000000</td>\n",
       "      <td>0.000000</td>\n",
       "      <td>6.000000</td>\n",
       "      <td>392.000000</td>\n",
       "    </tr>\n",
       "    <tr>\n",
       "      <th>month_item_sales_lag2m</th>\n",
       "      <td>4708036.0</td>\n",
       "      <td>8.287220</td>\n",
       "      <td>24.895182</td>\n",
       "      <td>0.000000</td>\n",
       "      <td>0.000000</td>\n",
       "      <td>0.000000</td>\n",
       "      <td>6.000000</td>\n",
       "      <td>390.000000</td>\n",
       "    </tr>\n",
       "    <tr>\n",
       "      <th>month_item_sales_lag3m</th>\n",
       "      <td>4708036.0</td>\n",
       "      <td>8.035976</td>\n",
       "      <td>24.727446</td>\n",
       "      <td>0.000000</td>\n",
       "      <td>0.000000</td>\n",
       "      <td>0.000000</td>\n",
       "      <td>6.000000</td>\n",
       "      <td>390.000000</td>\n",
       "    </tr>\n",
       "    <tr>\n",
       "      <th>month_item_sales_lag6m</th>\n",
       "      <td>4708036.0</td>\n",
       "      <td>7.480455</td>\n",
       "      <td>24.629530</td>\n",
       "      <td>0.000000</td>\n",
       "      <td>0.000000</td>\n",
       "      <td>0.000000</td>\n",
       "      <td>4.000000</td>\n",
       "      <td>390.000000</td>\n",
       "    </tr>\n",
       "    <tr>\n",
       "      <th>month_item_sales_lag12m</th>\n",
       "      <td>4708036.0</td>\n",
       "      <td>5.717215</td>\n",
       "      <td>22.215477</td>\n",
       "      <td>0.000000</td>\n",
       "      <td>0.000000</td>\n",
       "      <td>0.000000</td>\n",
       "      <td>1.000000</td>\n",
       "      <td>390.000000</td>\n",
       "    </tr>\n",
       "    <tr>\n",
       "      <th>shop_item_trend</th>\n",
       "      <td>4708036.0</td>\n",
       "      <td>0.023697</td>\n",
       "      <td>0.780643</td>\n",
       "      <td>-14.000000</td>\n",
       "      <td>0.000000</td>\n",
       "      <td>0.000000</td>\n",
       "      <td>0.000000</td>\n",
       "      <td>20.000000</td>\n",
       "    </tr>\n",
       "    <tr>\n",
       "      <th>shop_trend</th>\n",
       "      <td>4708036.0</td>\n",
       "      <td>113.138000</td>\n",
       "      <td>271.348724</td>\n",
       "      <td>-578.799988</td>\n",
       "      <td>-11.800000</td>\n",
       "      <td>66.199997</td>\n",
       "      <td>175.199997</td>\n",
       "      <td>3146.199951</td>\n",
       "    </tr>\n",
       "    <tr>\n",
       "      <th>item_trend</th>\n",
       "      <td>4708036.0</td>\n",
       "      <td>0.840481</td>\n",
       "      <td>17.107054</td>\n",
       "      <td>-186.600006</td>\n",
       "      <td>-0.800000</td>\n",
       "      <td>0.000000</td>\n",
       "      <td>0.000000</td>\n",
       "      <td>392.000000</td>\n",
       "    </tr>\n",
       "  </tbody>\n",
       "</table>\n",
       "</div>"
      ],
      "text/plain": [
       "                                  count          mean           std  \\\n",
       "date_block_num                4708036.0     22.499862      6.344737   \n",
       "shop_id                       4708036.0     31.643266     17.563453   \n",
       "item_id                       4708036.0  11019.941696   6251.749247   \n",
       "summed_item_price             4708036.0    201.474991   2062.762939   \n",
       "mean_item_price               4708036.0     96.350044    605.202209   \n",
       "total_item_cnt                4708036.0      0.204145      0.929529   \n",
       "mean_item_cnt                 4708036.0      0.204145      0.929529   \n",
       "transactions                  4708036.0      0.185371      0.762452   \n",
       "target                        4708036.0      0.196718      0.908252   \n",
       "month                         4708036.0      5.044846      3.239628   \n",
       "year                          4708036.0   2014.454585      0.497933   \n",
       "days_in_month                 4708036.0     30.409064      0.887276   \n",
       "item_category_id              4708036.0     46.314478     16.709694   \n",
       "unit_item_price               4708036.0     92.534029    582.465133   \n",
       "month_shop_sales              4708036.0   1039.465576    774.436703   \n",
       "month_item_sales              4708036.0      8.434005     24.090913   \n",
       "hist_min_price                4708036.0      0.000000      0.000000   \n",
       "hist_max_price                4708036.0   5196.814941  11356.205078   \n",
       "price_increase                4708036.0    201.474991   2062.762939   \n",
       "price_decrease                4708036.0  -4995.342773  10661.282227   \n",
       "month_shop_item_sales_lag1m   4708036.0      0.200695      0.925135   \n",
       "month_shop_item_sales_lag2m   4708036.0      0.196975      0.924936   \n",
       "month_shop_item_sales_lag3m   4708036.0      0.190937      0.918426   \n",
       "month_shop_item_sales_lag6m   4708036.0      0.177754      0.907024   \n",
       "month_shop_item_sales_lag12m  4708036.0      0.135875      0.811886   \n",
       "month_shop_sales_lag1m        4708036.0   1033.267255    765.434378   \n",
       "month_shop_sales_lag2m        4708036.0   1011.421169    756.966873   \n",
       "month_shop_sales_lag3m        4708036.0    979.990167    745.719247   \n",
       "month_shop_sales_lag6m        4708036.0    910.910871    718.591625   \n",
       "month_shop_sales_lag12m       4708036.0    696.048347    539.057077   \n",
       "month_item_sales_lag1m        4708036.0      8.446752     24.860195   \n",
       "month_item_sales_lag2m        4708036.0      8.287220     24.895182   \n",
       "month_item_sales_lag3m        4708036.0      8.035976     24.727446   \n",
       "month_item_sales_lag6m        4708036.0      7.480455     24.629530   \n",
       "month_item_sales_lag12m       4708036.0      5.717215     22.215477   \n",
       "shop_item_trend               4708036.0      0.023697      0.780643   \n",
       "shop_trend                    4708036.0    113.138000    271.348724   \n",
       "item_trend                    4708036.0      0.840481     17.107054   \n",
       "\n",
       "                                        min          25%           50%  \\\n",
       "date_block_num                    12.000000    17.000000     22.000000   \n",
       "shop_id                            2.000000    16.000000     35.000000   \n",
       "item_id                           30.000000  5382.000000  11207.000000   \n",
       "summed_item_price                  0.000000     0.000000      0.000000   \n",
       "mean_item_price                    0.000000     0.000000      0.000000   \n",
       "total_item_cnt                     0.000000     0.000000      0.000000   \n",
       "mean_item_cnt                      0.000000     0.000000      0.000000   \n",
       "transactions                       0.000000     0.000000      0.000000   \n",
       "target                             0.000000     0.000000      0.000000   \n",
       "month                              0.000000     2.000000      5.000000   \n",
       "year                            2014.000000  2014.000000   2014.000000   \n",
       "days_in_month                     28.000000    30.000000     31.000000   \n",
       "item_category_id                   0.000000    37.000000     43.000000   \n",
       "unit_item_price                    0.000000     0.000000      0.000000   \n",
       "month_shop_sales                   0.000000   612.000000    854.000000   \n",
       "month_item_sales                   0.000000     0.000000      0.000000   \n",
       "hist_min_price                     0.000000     0.000000      0.000000   \n",
       "hist_max_price                     0.000000   798.000000   2099.000000   \n",
       "price_increase                     0.000000     0.000000      0.000000   \n",
       "price_decrease               -366860.000000 -5094.160156  -2093.000000   \n",
       "month_shop_item_sales_lag1m        0.000000     0.000000      0.000000   \n",
       "month_shop_item_sales_lag2m        0.000000     0.000000      0.000000   \n",
       "month_shop_item_sales_lag3m        0.000000     0.000000      0.000000   \n",
       "month_shop_item_sales_lag6m        0.000000     0.000000      0.000000   \n",
       "month_shop_item_sales_lag12m       0.000000     0.000000      0.000000   \n",
       "month_shop_sales_lag1m             0.000000   605.000000    853.000000   \n",
       "month_shop_sales_lag2m             0.000000   593.000000    835.000000   \n",
       "month_shop_sales_lag3m             0.000000   571.000000    808.000000   \n",
       "month_shop_sales_lag6m             0.000000   523.000000    753.000000   \n",
       "month_shop_sales_lag12m            0.000000   392.000000    592.000000   \n",
       "month_item_sales_lag1m             0.000000     0.000000      0.000000   \n",
       "month_item_sales_lag2m             0.000000     0.000000      0.000000   \n",
       "month_item_sales_lag3m             0.000000     0.000000      0.000000   \n",
       "month_item_sales_lag6m             0.000000     0.000000      0.000000   \n",
       "month_item_sales_lag12m            0.000000     0.000000      0.000000   \n",
       "shop_item_trend                  -14.000000     0.000000      0.000000   \n",
       "shop_trend                      -578.799988   -11.800000     66.199997   \n",
       "item_trend                      -186.600006    -0.800000      0.000000   \n",
       "\n",
       "                                       75%            max  \n",
       "date_block_num                   28.000000      33.000000  \n",
       "shop_id                          47.000000      59.000000  \n",
       "item_id                       16071.000000   22167.000000  \n",
       "summed_item_price                 0.000000  366860.000000  \n",
       "mean_item_price                   0.000000   42990.000000  \n",
       "total_item_cnt                    0.000000      20.000000  \n",
       "mean_item_cnt                     0.000000      20.000000  \n",
       "transactions                      0.000000      18.000000  \n",
       "target                            0.000000      20.000000  \n",
       "month                             8.000000      11.000000  \n",
       "year                           2015.000000    2015.000000  \n",
       "days_in_month                    31.000000      31.000000  \n",
       "item_category_id                 58.000000      83.000000  \n",
       "unit_item_price                   0.000000   94970.000000  \n",
       "month_shop_sales               1166.000000    6645.000000  \n",
       "month_item_sales                  7.000000     392.000000  \n",
       "hist_min_price                    0.000000       0.000000  \n",
       "hist_max_price                 5196.000000  366860.000000  \n",
       "price_increase                    0.000000  366860.000000  \n",
       "price_decrease                 -796.000000       0.000000  \n",
       "month_shop_item_sales_lag1m       0.000000      20.000000  \n",
       "month_shop_item_sales_lag2m       0.000000      20.000000  \n",
       "month_shop_item_sales_lag3m       0.000000      20.000000  \n",
       "month_shop_item_sales_lag6m       0.000000      20.000000  \n",
       "month_shop_item_sales_lag12m      0.000000      20.000000  \n",
       "month_shop_sales_lag1m         1172.000000    6645.000000  \n",
       "month_shop_sales_lag2m         1157.000000    6645.000000  \n",
       "month_shop_sales_lag3m         1120.000000    6645.000000  \n",
       "month_shop_sales_lag6m         1079.000000    6645.000000  \n",
       "month_shop_sales_lag12m         880.000000    3585.000000  \n",
       "month_item_sales_lag1m            6.000000     392.000000  \n",
       "month_item_sales_lag2m            6.000000     390.000000  \n",
       "month_item_sales_lag3m            6.000000     390.000000  \n",
       "month_item_sales_lag6m            4.000000     390.000000  \n",
       "month_item_sales_lag12m           1.000000     390.000000  \n",
       "shop_item_trend                   0.000000      20.000000  \n",
       "shop_trend                      175.199997    3146.199951  \n",
       "item_trend                        0.000000     392.000000  "
      ]
     },
     "execution_count": 38,
     "metadata": {},
     "output_type": "execute_result"
    }
   ],
   "source": [
    "train_data.describe().T"
   ]
  },
  {
   "cell_type": "markdown",
   "metadata": {},
   "source": [
    "### Memory Cleanup"
   ]
  },
  {
   "cell_type": "code",
   "execution_count": 39,
   "metadata": {},
   "outputs": [
    {
     "data": {
      "text/plain": [
       "0"
      ]
     },
     "execution_count": 39,
     "metadata": {},
     "output_type": "execute_result"
    }
   ],
   "source": [
    "del month_item\n",
    "del month_shop\n",
    "del month_shop_item\n",
    "del historical_prices\n",
    "del month_item_sales\n",
    "del month_shop_sales\n",
    "del item_category_map\n",
    "del days_in_month\n",
    "del empty_df\n",
    "del train\n",
    "gc.collect()"
   ]
  },
  {
   "cell_type": "markdown",
   "metadata": {},
   "source": [
    "# Validation\n",
    "The Train/Test split is a time based split. The test data is the month (date_block_num 34) directly after the data in the train data (date_block_num 12 - 33). We will be using ensembling later so our validation set will be used to train the 2nd layer model.We also predict 1 month into the future. Hence for training we will use a time based split as well by using block 12 - 31 as training and using 32 as validation for the individual models. Ensemble validation is done in the ensemble part.\n",
    "\n",
    "After submitting the csv a few times and observing the loss for the public and private leaderboard to be almost identical we take these are both randomly sampled from the test set.\n",
    "\n",
    "### Train Validation Split"
   ]
  },
  {
   "cell_type": "code",
   "execution_count": 40,
   "metadata": {},
   "outputs": [
    {
     "data": {
      "text/plain": [
       "0"
      ]
     },
     "execution_count": 40,
     "metadata": {},
     "output_type": "execute_result"
    }
   ],
   "source": [
    "train_set = train_data[train_data['date_block_num'] < 29]\n",
    "valid_set = train_data[(train_data['date_block_num'] >= 29) & (train_data['date_block_num'] < 33)]\n",
    "test_set = train_data[train_data['date_block_num'] == 33]\n",
    "del train_data\n",
    "gc.collect()"
   ]
  },
  {
   "cell_type": "markdown",
   "metadata": {},
   "source": [
    "# Mean Encodings"
   ]
  },
  {
   "cell_type": "code",
   "execution_count": 41,
   "metadata": {},
   "outputs": [],
   "source": [
    "encoding_names = []"
   ]
  },
  {
   "cell_type": "markdown",
   "metadata": {},
   "source": [
    "### Shop"
   ]
  },
  {
   "cell_type": "code",
   "execution_count": 42,
   "metadata": {},
   "outputs": [],
   "source": [
    "mean_shop_sales = train_set.groupby(['shop_id'], as_index=False)['target'].mean().rename(columns={'target': 'mean_shop'})\n",
    "train_set = pd.merge(train_set, mean_shop_sales, on=['shop_id'], how='left')\n",
    "valid_set = pd.merge(valid_set, mean_shop_sales, on=['shop_id'], how='left')\n",
    "test_set = pd.merge(test_set, mean_shop_sales, on=['shop_id'], how='left')\n",
    "encoding_names.append('mean_shop')"
   ]
  },
  {
   "cell_type": "markdown",
   "metadata": {},
   "source": [
    "### Item"
   ]
  },
  {
   "cell_type": "code",
   "execution_count": 43,
   "metadata": {},
   "outputs": [],
   "source": [
    "mean_item_sales = train_set.groupby(['item_id'], as_index=False)['target'].mean().rename(columns={'target': 'mean_item'})\n",
    "train_set = pd.merge(train_set, mean_item_sales, on=['item_id'], how='left')\n",
    "valid_set = pd.merge(valid_set, mean_item_sales, on=['item_id'], how='left')\n",
    "test_set = pd.merge(test_set, mean_item_sales, on=['item_id'], how='left')\n",
    "encoding_names.append('mean_item')"
   ]
  },
  {
   "cell_type": "markdown",
   "metadata": {},
   "source": [
    "### Shop Item"
   ]
  },
  {
   "cell_type": "code",
   "execution_count": 44,
   "metadata": {},
   "outputs": [],
   "source": [
    "mean_shop_item_sales = train_set.groupby(['shop_id', 'item_id'], as_index=False)['target'].mean().rename(columns={'target': 'mean_shop_item'})\n",
    "train_set = pd.merge(train_set, mean_shop_item_sales, on=['shop_id', 'item_id'], how='left')\n",
    "valid_set = pd.merge(valid_set, mean_shop_item_sales, on=['shop_id', 'item_id'], how='left')\n",
    "test_set = pd.merge(test_set, mean_shop_item_sales, on=['shop_id', 'item_id'], how='left')\n",
    "encoding_names.append('mean_shop_item')"
   ]
  },
  {
   "cell_type": "markdown",
   "metadata": {},
   "source": [
    "### Year"
   ]
  },
  {
   "cell_type": "code",
   "execution_count": 45,
   "metadata": {},
   "outputs": [],
   "source": [
    "mean_year_sales = train_set.groupby(['year'], as_index=False)['target'].mean().rename(columns={'target': 'mean_year'})\n",
    "train_set = pd.merge(train_set, mean_year_sales, on=['year'], how='left')\n",
    "valid_set = pd.merge(valid_set, mean_year_sales, on=['year'], how='left')\n",
    "test_set = pd.merge(test_set, mean_year_sales, on=['year'], how='left')\n",
    "encoding_names.append('mean_year')"
   ]
  },
  {
   "cell_type": "markdown",
   "metadata": {},
   "source": [
    "### Month"
   ]
  },
  {
   "cell_type": "code",
   "execution_count": 46,
   "metadata": {},
   "outputs": [],
   "source": [
    "mean_month_sales = train_set.groupby(['month'], as_index=False)['target'].mean().rename(columns={'target': 'mean_month'})\n",
    "train_set = pd.merge(train_set, mean_month_sales, on=['month'], how='left')\n",
    "valid_set = pd.merge(valid_set, mean_month_sales, on=['month'], how='left')\n",
    "test_set = pd.merge(test_set, mean_month_sales, on=['month'], how='left')\n",
    "encoding_names.append('mean_month')"
   ]
  },
  {
   "cell_type": "markdown",
   "metadata": {},
   "source": [
    "### Year Item"
   ]
  },
  {
   "cell_type": "code",
   "execution_count": 47,
   "metadata": {},
   "outputs": [],
   "source": [
    "mean_year_item_sales = train_set.groupby(['year', 'item_id'], as_index=False)['target'].mean().rename(columns={'target': 'mean_year_item'})\n",
    "train_set = pd.merge(train_set, mean_year_item_sales, on=['year', 'item_id'], how='left')\n",
    "valid_set = pd.merge(valid_set, mean_year_item_sales, on=['year', 'item_id'], how='left')\n",
    "test_set = pd.merge(test_set, mean_year_item_sales, on=['year', 'item_id'], how='left')\n",
    "encoding_names.append('mean_year_item')"
   ]
  },
  {
   "cell_type": "markdown",
   "metadata": {},
   "source": [
    "### Month Item"
   ]
  },
  {
   "cell_type": "code",
   "execution_count": 48,
   "metadata": {},
   "outputs": [],
   "source": [
    "mean_month_item_sales = train_set.groupby(['month', 'item_id'], as_index=False)['target'].mean().rename(columns={'target': 'mean_month_item'})\n",
    "train_set = pd.merge(train_set, mean_month_item_sales, on=['month', 'item_id'], how='left')\n",
    "valid_set = pd.merge(valid_set, mean_month_item_sales, on=['month', 'item_id'], how='left')\n",
    "test_set = pd.merge(test_set, mean_month_item_sales, on=['month', 'item_id'], how='left')\n",
    "encoding_names.append('mean_month_item')"
   ]
  },
  {
   "cell_type": "markdown",
   "metadata": {},
   "source": [
    "Change data types to save memory and runtime:"
   ]
  },
  {
   "cell_type": "code",
   "execution_count": 49,
   "metadata": {},
   "outputs": [],
   "source": [
    "for df in [train_set, valid_set, test_set]:\n",
    "    for name in encoding_names:\n",
    "        df[name] = df[name].astype(np.float32)"
   ]
  },
  {
   "cell_type": "markdown",
   "metadata": {},
   "source": [
    "# Create Train and Validation Datasets"
   ]
  },
  {
   "cell_type": "code",
   "execution_count": 50,
   "metadata": {},
   "outputs": [],
   "source": [
    "X_train = train_set.drop(columns=['target'])\n",
    "y_train = train_set['target']\n",
    "X_val = valid_set.drop(columns=['target'])\n",
    "y_val = valid_set['target']"
   ]
  },
  {
   "cell_type": "code",
   "execution_count": 51,
   "metadata": {},
   "outputs": [
    {
     "data": {
      "text/html": [
       "<div>\n",
       "<style scoped>\n",
       "    .dataframe tbody tr th:only-of-type {\n",
       "        vertical-align: middle;\n",
       "    }\n",
       "\n",
       "    .dataframe tbody tr th {\n",
       "        vertical-align: top;\n",
       "    }\n",
       "\n",
       "    .dataframe thead th {\n",
       "        text-align: right;\n",
       "    }\n",
       "</style>\n",
       "<table border=\"1\" class=\"dataframe\">\n",
       "  <thead>\n",
       "    <tr style=\"text-align: right;\">\n",
       "      <th></th>\n",
       "      <th>count</th>\n",
       "      <th>mean</th>\n",
       "      <th>std</th>\n",
       "      <th>min</th>\n",
       "      <th>25%</th>\n",
       "      <th>50%</th>\n",
       "      <th>75%</th>\n",
       "      <th>max</th>\n",
       "    </tr>\n",
       "  </thead>\n",
       "  <tbody>\n",
       "    <tr>\n",
       "      <th>date_block_num</th>\n",
       "      <td>3637815.0</td>\n",
       "      <td>19.999243</td>\n",
       "      <td>4.899197</td>\n",
       "      <td>12.000000</td>\n",
       "      <td>16.000000</td>\n",
       "      <td>20.000000</td>\n",
       "      <td>24.000000</td>\n",
       "      <td>28.000000</td>\n",
       "    </tr>\n",
       "    <tr>\n",
       "      <th>shop_id</th>\n",
       "      <td>3637815.0</td>\n",
       "      <td>31.643203</td>\n",
       "      <td>17.563421</td>\n",
       "      <td>2.000000</td>\n",
       "      <td>16.000000</td>\n",
       "      <td>35.000000</td>\n",
       "      <td>47.000000</td>\n",
       "      <td>59.000000</td>\n",
       "    </tr>\n",
       "    <tr>\n",
       "      <th>item_id</th>\n",
       "      <td>3637815.0</td>\n",
       "      <td>11020.056637</td>\n",
       "      <td>6251.696858</td>\n",
       "      <td>30.000000</td>\n",
       "      <td>5382.000000</td>\n",
       "      <td>11207.000000</td>\n",
       "      <td>16071.000000</td>\n",
       "      <td>22167.000000</td>\n",
       "    </tr>\n",
       "    <tr>\n",
       "      <th>summed_item_price</th>\n",
       "      <td>3637815.0</td>\n",
       "      <td>193.128311</td>\n",
       "      <td>2157.464111</td>\n",
       "      <td>0.000000</td>\n",
       "      <td>0.000000</td>\n",
       "      <td>0.000000</td>\n",
       "      <td>0.000000</td>\n",
       "      <td>366860.000000</td>\n",
       "    </tr>\n",
       "    <tr>\n",
       "      <th>mean_item_price</th>\n",
       "      <td>3637815.0</td>\n",
       "      <td>86.556358</td>\n",
       "      <td>540.192505</td>\n",
       "      <td>0.000000</td>\n",
       "      <td>0.000000</td>\n",
       "      <td>0.000000</td>\n",
       "      <td>0.000000</td>\n",
       "      <td>33490.000000</td>\n",
       "    </tr>\n",
       "    <tr>\n",
       "      <th>total_item_cnt</th>\n",
       "      <td>3637815.0</td>\n",
       "      <td>0.196865</td>\n",
       "      <td>0.936342</td>\n",
       "      <td>0.000000</td>\n",
       "      <td>0.000000</td>\n",
       "      <td>0.000000</td>\n",
       "      <td>0.000000</td>\n",
       "      <td>20.000000</td>\n",
       "    </tr>\n",
       "    <tr>\n",
       "      <th>mean_item_cnt</th>\n",
       "      <td>3637815.0</td>\n",
       "      <td>0.196865</td>\n",
       "      <td>0.936342</td>\n",
       "      <td>0.000000</td>\n",
       "      <td>0.000000</td>\n",
       "      <td>0.000000</td>\n",
       "      <td>0.000000</td>\n",
       "      <td>20.000000</td>\n",
       "    </tr>\n",
       "    <tr>\n",
       "      <th>transactions</th>\n",
       "      <td>3637815.0</td>\n",
       "      <td>0.178063</td>\n",
       "      <td>0.766183</td>\n",
       "      <td>0.000000</td>\n",
       "      <td>0.000000</td>\n",
       "      <td>0.000000</td>\n",
       "      <td>0.000000</td>\n",
       "      <td>18.000000</td>\n",
       "    </tr>\n",
       "    <tr>\n",
       "      <th>month</th>\n",
       "      <td>3637815.0</td>\n",
       "      <td>4.469718</td>\n",
       "      <td>3.396960</td>\n",
       "      <td>0.000000</td>\n",
       "      <td>2.000000</td>\n",
       "      <td>4.000000</td>\n",
       "      <td>7.000000</td>\n",
       "      <td>11.000000</td>\n",
       "    </tr>\n",
       "    <tr>\n",
       "      <th>year</th>\n",
       "      <td>3637815.0</td>\n",
       "      <td>2014.294127</td>\n",
       "      <td>0.455649</td>\n",
       "      <td>2014.000000</td>\n",
       "      <td>2014.000000</td>\n",
       "      <td>2014.000000</td>\n",
       "      <td>2015.000000</td>\n",
       "      <td>2015.000000</td>\n",
       "    </tr>\n",
       "    <tr>\n",
       "      <th>days_in_month</th>\n",
       "      <td>3637815.0</td>\n",
       "      <td>30.352878</td>\n",
       "      <td>0.966630</td>\n",
       "      <td>28.000000</td>\n",
       "      <td>30.000000</td>\n",
       "      <td>31.000000</td>\n",
       "      <td>31.000000</td>\n",
       "      <td>31.000000</td>\n",
       "    </tr>\n",
       "    <tr>\n",
       "      <th>item_category_id</th>\n",
       "      <td>3637815.0</td>\n",
       "      <td>46.314721</td>\n",
       "      <td>16.709353</td>\n",
       "      <td>0.000000</td>\n",
       "      <td>37.000000</td>\n",
       "      <td>43.000000</td>\n",
       "      <td>58.000000</td>\n",
       "      <td>83.000000</td>\n",
       "    </tr>\n",
       "    <tr>\n",
       "      <th>unit_item_price</th>\n",
       "      <td>3637815.0</td>\n",
       "      <td>82.922453</td>\n",
       "      <td>517.163895</td>\n",
       "      <td>0.000000</td>\n",
       "      <td>0.000000</td>\n",
       "      <td>0.000000</td>\n",
       "      <td>0.000000</td>\n",
       "      <td>94970.000000</td>\n",
       "    </tr>\n",
       "    <tr>\n",
       "      <th>month_shop_sales</th>\n",
       "      <td>3637815.0</td>\n",
       "      <td>1002.264633</td>\n",
       "      <td>758.619792</td>\n",
       "      <td>0.000000</td>\n",
       "      <td>585.000000</td>\n",
       "      <td>826.000000</td>\n",
       "      <td>1127.000000</td>\n",
       "      <td>6645.000000</td>\n",
       "    </tr>\n",
       "    <tr>\n",
       "      <th>month_item_sales</th>\n",
       "      <td>3637815.0</td>\n",
       "      <td>8.121941</td>\n",
       "      <td>24.568103</td>\n",
       "      <td>0.000000</td>\n",
       "      <td>0.000000</td>\n",
       "      <td>0.000000</td>\n",
       "      <td>6.000000</td>\n",
       "      <td>390.000000</td>\n",
       "    </tr>\n",
       "    <tr>\n",
       "      <th>hist_min_price</th>\n",
       "      <td>3637815.0</td>\n",
       "      <td>0.000000</td>\n",
       "      <td>0.000000</td>\n",
       "      <td>0.000000</td>\n",
       "      <td>0.000000</td>\n",
       "      <td>0.000000</td>\n",
       "      <td>0.000000</td>\n",
       "      <td>0.000000</td>\n",
       "    </tr>\n",
       "    <tr>\n",
       "      <th>hist_max_price</th>\n",
       "      <td>3637815.0</td>\n",
       "      <td>5195.009766</td>\n",
       "      <td>11341.472656</td>\n",
       "      <td>0.000000</td>\n",
       "      <td>798.000000</td>\n",
       "      <td>2099.000000</td>\n",
       "      <td>5196.000000</td>\n",
       "      <td>366860.000000</td>\n",
       "    </tr>\n",
       "    <tr>\n",
       "      <th>price_increase</th>\n",
       "      <td>3637815.0</td>\n",
       "      <td>193.128311</td>\n",
       "      <td>2157.464111</td>\n",
       "      <td>0.000000</td>\n",
       "      <td>0.000000</td>\n",
       "      <td>0.000000</td>\n",
       "      <td>0.000000</td>\n",
       "      <td>366860.000000</td>\n",
       "    </tr>\n",
       "    <tr>\n",
       "      <th>price_decrease</th>\n",
       "      <td>3637815.0</td>\n",
       "      <td>-5001.880371</td>\n",
       "      <td>10602.217773</td>\n",
       "      <td>-366860.000000</td>\n",
       "      <td>-5097.000000</td>\n",
       "      <td>-2093.000000</td>\n",
       "      <td>-796.000000</td>\n",
       "      <td>0.000000</td>\n",
       "    </tr>\n",
       "    <tr>\n",
       "      <th>month_shop_item_sales_lag1m</th>\n",
       "      <td>3637815.0</td>\n",
       "      <td>0.195383</td>\n",
       "      <td>0.939054</td>\n",
       "      <td>0.000000</td>\n",
       "      <td>0.000000</td>\n",
       "      <td>0.000000</td>\n",
       "      <td>0.000000</td>\n",
       "      <td>20.000000</td>\n",
       "    </tr>\n",
       "    <tr>\n",
       "      <th>month_shop_item_sales_lag2m</th>\n",
       "      <td>3637815.0</td>\n",
       "      <td>0.192400</td>\n",
       "      <td>0.941710</td>\n",
       "      <td>0.000000</td>\n",
       "      <td>0.000000</td>\n",
       "      <td>0.000000</td>\n",
       "      <td>0.000000</td>\n",
       "      <td>20.000000</td>\n",
       "    </tr>\n",
       "    <tr>\n",
       "      <th>month_shop_item_sales_lag3m</th>\n",
       "      <td>3637815.0</td>\n",
       "      <td>0.186212</td>\n",
       "      <td>0.935163</td>\n",
       "      <td>0.000000</td>\n",
       "      <td>0.000000</td>\n",
       "      <td>0.000000</td>\n",
       "      <td>0.000000</td>\n",
       "      <td>20.000000</td>\n",
       "    </tr>\n",
       "    <tr>\n",
       "      <th>month_shop_item_sales_lag6m</th>\n",
       "      <td>3637815.0</td>\n",
       "      <td>0.156448</td>\n",
       "      <td>0.864717</td>\n",
       "      <td>0.000000</td>\n",
       "      <td>0.000000</td>\n",
       "      <td>0.000000</td>\n",
       "      <td>0.000000</td>\n",
       "      <td>20.000000</td>\n",
       "    </tr>\n",
       "    <tr>\n",
       "      <th>month_shop_item_sales_lag12m</th>\n",
       "      <td>3637815.0</td>\n",
       "      <td>0.122613</td>\n",
       "      <td>0.783847</td>\n",
       "      <td>0.000000</td>\n",
       "      <td>0.000000</td>\n",
       "      <td>0.000000</td>\n",
       "      <td>0.000000</td>\n",
       "      <td>20.000000</td>\n",
       "    </tr>\n",
       "    <tr>\n",
       "      <th>month_shop_sales_lag1m</th>\n",
       "      <td>3637815.0</td>\n",
       "      <td>1007.084722</td>\n",
       "      <td>757.941498</td>\n",
       "      <td>0.000000</td>\n",
       "      <td>585.000000</td>\n",
       "      <td>833.000000</td>\n",
       "      <td>1163.000000</td>\n",
       "      <td>6645.000000</td>\n",
       "    </tr>\n",
       "    <tr>\n",
       "      <th>month_shop_sales_lag2m</th>\n",
       "      <td>3637815.0</td>\n",
       "      <td>988.902171</td>\n",
       "      <td>749.219986</td>\n",
       "      <td>0.000000</td>\n",
       "      <td>577.000000</td>\n",
       "      <td>817.000000</td>\n",
       "      <td>1150.000000</td>\n",
       "      <td>6645.000000</td>\n",
       "    </tr>\n",
       "    <tr>\n",
       "      <th>month_shop_sales_lag3m</th>\n",
       "      <td>3637815.0</td>\n",
       "      <td>956.774429</td>\n",
       "      <td>735.469887</td>\n",
       "      <td>0.000000</td>\n",
       "      <td>556.000000</td>\n",
       "      <td>787.000000</td>\n",
       "      <td>1120.000000</td>\n",
       "      <td>6645.000000</td>\n",
       "    </tr>\n",
       "    <tr>\n",
       "      <th>month_shop_sales_lag6m</th>\n",
       "      <td>3637815.0</td>\n",
       "      <td>803.334600</td>\n",
       "      <td>585.800896</td>\n",
       "      <td>0.000000</td>\n",
       "      <td>472.000000</td>\n",
       "      <td>691.000000</td>\n",
       "      <td>967.000000</td>\n",
       "      <td>4211.000000</td>\n",
       "    </tr>\n",
       "    <tr>\n",
       "      <th>month_shop_sales_lag12m</th>\n",
       "      <td>3637815.0</td>\n",
       "      <td>628.949934</td>\n",
       "      <td>499.727983</td>\n",
       "      <td>0.000000</td>\n",
       "      <td>362.000000</td>\n",
       "      <td>543.000000</td>\n",
       "      <td>780.000000</td>\n",
       "      <td>3585.000000</td>\n",
       "    </tr>\n",
       "    <tr>\n",
       "      <th>month_item_sales_lag1m</th>\n",
       "      <td>3637815.0</td>\n",
       "      <td>8.224759</td>\n",
       "      <td>25.535810</td>\n",
       "      <td>0.000000</td>\n",
       "      <td>0.000000</td>\n",
       "      <td>0.000000</td>\n",
       "      <td>5.000000</td>\n",
       "      <td>390.000000</td>\n",
       "    </tr>\n",
       "    <tr>\n",
       "      <th>month_item_sales_lag2m</th>\n",
       "      <td>3637815.0</td>\n",
       "      <td>8.096045</td>\n",
       "      <td>25.673534</td>\n",
       "      <td>0.000000</td>\n",
       "      <td>0.000000</td>\n",
       "      <td>0.000000</td>\n",
       "      <td>5.000000</td>\n",
       "      <td>390.000000</td>\n",
       "    </tr>\n",
       "    <tr>\n",
       "      <th>month_item_sales_lag3m</th>\n",
       "      <td>3637815.0</td>\n",
       "      <td>7.839290</td>\n",
       "      <td>25.590039</td>\n",
       "      <td>0.000000</td>\n",
       "      <td>0.000000</td>\n",
       "      <td>0.000000</td>\n",
       "      <td>4.000000</td>\n",
       "      <td>390.000000</td>\n",
       "    </tr>\n",
       "    <tr>\n",
       "      <th>month_item_sales_lag6m</th>\n",
       "      <td>3637815.0</td>\n",
       "      <td>6.589873</td>\n",
       "      <td>23.771246</td>\n",
       "      <td>0.000000</td>\n",
       "      <td>0.000000</td>\n",
       "      <td>0.000000</td>\n",
       "      <td>3.000000</td>\n",
       "      <td>390.000000</td>\n",
       "    </tr>\n",
       "    <tr>\n",
       "      <th>month_item_sales_lag12m</th>\n",
       "      <td>3637815.0</td>\n",
       "      <td>5.162501</td>\n",
       "      <td>21.332809</td>\n",
       "      <td>0.000000</td>\n",
       "      <td>0.000000</td>\n",
       "      <td>0.000000</td>\n",
       "      <td>1.000000</td>\n",
       "      <td>390.000000</td>\n",
       "    </tr>\n",
       "    <tr>\n",
       "      <th>shop_item_trend</th>\n",
       "      <td>3637815.0</td>\n",
       "      <td>0.026254</td>\n",
       "      <td>0.775328</td>\n",
       "      <td>-14.000000</td>\n",
       "      <td>0.000000</td>\n",
       "      <td>0.000000</td>\n",
       "      <td>0.000000</td>\n",
       "      <td>20.000000</td>\n",
       "    </tr>\n",
       "    <tr>\n",
       "      <th>shop_trend</th>\n",
       "      <td>3637815.0</td>\n",
       "      <td>125.255470</td>\n",
       "      <td>291.292023</td>\n",
       "      <td>-467.200012</td>\n",
       "      <td>-9.200000</td>\n",
       "      <td>66.599998</td>\n",
       "      <td>183.800003</td>\n",
       "      <td>3146.199951</td>\n",
       "    </tr>\n",
       "    <tr>\n",
       "      <th>item_trend</th>\n",
       "      <td>3637815.0</td>\n",
       "      <td>0.939447</td>\n",
       "      <td>17.037888</td>\n",
       "      <td>-186.600006</td>\n",
       "      <td>-0.400000</td>\n",
       "      <td>0.000000</td>\n",
       "      <td>0.000000</td>\n",
       "      <td>390.000000</td>\n",
       "    </tr>\n",
       "    <tr>\n",
       "      <th>mean_shop</th>\n",
       "      <td>3637815.0</td>\n",
       "      <td>0.199900</td>\n",
       "      <td>0.136150</td>\n",
       "      <td>0.000000</td>\n",
       "      <td>0.129705</td>\n",
       "      <td>0.167144</td>\n",
       "      <td>0.216598</td>\n",
       "      <td>0.735374</td>\n",
       "    </tr>\n",
       "    <tr>\n",
       "      <th>mean_item</th>\n",
       "      <td>3637815.0</td>\n",
       "      <td>0.199900</td>\n",
       "      <td>0.436983</td>\n",
       "      <td>0.000000</td>\n",
       "      <td>0.001401</td>\n",
       "      <td>0.053371</td>\n",
       "      <td>0.211485</td>\n",
       "      <td>7.486179</td>\n",
       "    </tr>\n",
       "    <tr>\n",
       "      <th>mean_shop_item</th>\n",
       "      <td>3637815.0</td>\n",
       "      <td>0.199900</td>\n",
       "      <td>0.589536</td>\n",
       "      <td>0.000000</td>\n",
       "      <td>0.000000</td>\n",
       "      <td>0.000000</td>\n",
       "      <td>0.176471</td>\n",
       "      <td>18.500000</td>\n",
       "    </tr>\n",
       "    <tr>\n",
       "      <th>mean_year</th>\n",
       "      <td>3637815.0</td>\n",
       "      <td>0.199900</td>\n",
       "      <td>0.005022</td>\n",
       "      <td>0.196659</td>\n",
       "      <td>0.196659</td>\n",
       "      <td>0.196659</td>\n",
       "      <td>0.207680</td>\n",
       "      <td>0.207680</td>\n",
       "    </tr>\n",
       "    <tr>\n",
       "      <th>mean_month</th>\n",
       "      <td>3637815.0</td>\n",
       "      <td>0.199900</td>\n",
       "      <td>0.046177</td>\n",
       "      <td>0.164346</td>\n",
       "      <td>0.175155</td>\n",
       "      <td>0.187682</td>\n",
       "      <td>0.195918</td>\n",
       "      <td>0.365948</td>\n",
       "    </tr>\n",
       "    <tr>\n",
       "      <th>mean_year_item</th>\n",
       "      <td>3637815.0</td>\n",
       "      <td>0.199900</td>\n",
       "      <td>0.472954</td>\n",
       "      <td>0.000000</td>\n",
       "      <td>0.000000</td>\n",
       "      <td>0.033333</td>\n",
       "      <td>0.198413</td>\n",
       "      <td>8.632812</td>\n",
       "    </tr>\n",
       "    <tr>\n",
       "      <th>mean_month_item</th>\n",
       "      <td>3637815.0</td>\n",
       "      <td>0.199900</td>\n",
       "      <td>0.571825</td>\n",
       "      <td>0.000000</td>\n",
       "      <td>0.000000</td>\n",
       "      <td>0.023810</td>\n",
       "      <td>0.166667</td>\n",
       "      <td>13.296296</td>\n",
       "    </tr>\n",
       "  </tbody>\n",
       "</table>\n",
       "</div>"
      ],
      "text/plain": [
       "                                  count          mean           std  \\\n",
       "date_block_num                3637815.0     19.999243      4.899197   \n",
       "shop_id                       3637815.0     31.643203     17.563421   \n",
       "item_id                       3637815.0  11020.056637   6251.696858   \n",
       "summed_item_price             3637815.0    193.128311   2157.464111   \n",
       "mean_item_price               3637815.0     86.556358    540.192505   \n",
       "total_item_cnt                3637815.0      0.196865      0.936342   \n",
       "mean_item_cnt                 3637815.0      0.196865      0.936342   \n",
       "transactions                  3637815.0      0.178063      0.766183   \n",
       "month                         3637815.0      4.469718      3.396960   \n",
       "year                          3637815.0   2014.294127      0.455649   \n",
       "days_in_month                 3637815.0     30.352878      0.966630   \n",
       "item_category_id              3637815.0     46.314721     16.709353   \n",
       "unit_item_price               3637815.0     82.922453    517.163895   \n",
       "month_shop_sales              3637815.0   1002.264633    758.619792   \n",
       "month_item_sales              3637815.0      8.121941     24.568103   \n",
       "hist_min_price                3637815.0      0.000000      0.000000   \n",
       "hist_max_price                3637815.0   5195.009766  11341.472656   \n",
       "price_increase                3637815.0    193.128311   2157.464111   \n",
       "price_decrease                3637815.0  -5001.880371  10602.217773   \n",
       "month_shop_item_sales_lag1m   3637815.0      0.195383      0.939054   \n",
       "month_shop_item_sales_lag2m   3637815.0      0.192400      0.941710   \n",
       "month_shop_item_sales_lag3m   3637815.0      0.186212      0.935163   \n",
       "month_shop_item_sales_lag6m   3637815.0      0.156448      0.864717   \n",
       "month_shop_item_sales_lag12m  3637815.0      0.122613      0.783847   \n",
       "month_shop_sales_lag1m        3637815.0   1007.084722    757.941498   \n",
       "month_shop_sales_lag2m        3637815.0    988.902171    749.219986   \n",
       "month_shop_sales_lag3m        3637815.0    956.774429    735.469887   \n",
       "month_shop_sales_lag6m        3637815.0    803.334600    585.800896   \n",
       "month_shop_sales_lag12m       3637815.0    628.949934    499.727983   \n",
       "month_item_sales_lag1m        3637815.0      8.224759     25.535810   \n",
       "month_item_sales_lag2m        3637815.0      8.096045     25.673534   \n",
       "month_item_sales_lag3m        3637815.0      7.839290     25.590039   \n",
       "month_item_sales_lag6m        3637815.0      6.589873     23.771246   \n",
       "month_item_sales_lag12m       3637815.0      5.162501     21.332809   \n",
       "shop_item_trend               3637815.0      0.026254      0.775328   \n",
       "shop_trend                    3637815.0    125.255470    291.292023   \n",
       "item_trend                    3637815.0      0.939447     17.037888   \n",
       "mean_shop                     3637815.0      0.199900      0.136150   \n",
       "mean_item                     3637815.0      0.199900      0.436983   \n",
       "mean_shop_item                3637815.0      0.199900      0.589536   \n",
       "mean_year                     3637815.0      0.199900      0.005022   \n",
       "mean_month                    3637815.0      0.199900      0.046177   \n",
       "mean_year_item                3637815.0      0.199900      0.472954   \n",
       "mean_month_item               3637815.0      0.199900      0.571825   \n",
       "\n",
       "                                        min          25%           50%  \\\n",
       "date_block_num                    12.000000    16.000000     20.000000   \n",
       "shop_id                            2.000000    16.000000     35.000000   \n",
       "item_id                           30.000000  5382.000000  11207.000000   \n",
       "summed_item_price                  0.000000     0.000000      0.000000   \n",
       "mean_item_price                    0.000000     0.000000      0.000000   \n",
       "total_item_cnt                     0.000000     0.000000      0.000000   \n",
       "mean_item_cnt                      0.000000     0.000000      0.000000   \n",
       "transactions                       0.000000     0.000000      0.000000   \n",
       "month                              0.000000     2.000000      4.000000   \n",
       "year                            2014.000000  2014.000000   2014.000000   \n",
       "days_in_month                     28.000000    30.000000     31.000000   \n",
       "item_category_id                   0.000000    37.000000     43.000000   \n",
       "unit_item_price                    0.000000     0.000000      0.000000   \n",
       "month_shop_sales                   0.000000   585.000000    826.000000   \n",
       "month_item_sales                   0.000000     0.000000      0.000000   \n",
       "hist_min_price                     0.000000     0.000000      0.000000   \n",
       "hist_max_price                     0.000000   798.000000   2099.000000   \n",
       "price_increase                     0.000000     0.000000      0.000000   \n",
       "price_decrease               -366860.000000 -5097.000000  -2093.000000   \n",
       "month_shop_item_sales_lag1m        0.000000     0.000000      0.000000   \n",
       "month_shop_item_sales_lag2m        0.000000     0.000000      0.000000   \n",
       "month_shop_item_sales_lag3m        0.000000     0.000000      0.000000   \n",
       "month_shop_item_sales_lag6m        0.000000     0.000000      0.000000   \n",
       "month_shop_item_sales_lag12m       0.000000     0.000000      0.000000   \n",
       "month_shop_sales_lag1m             0.000000   585.000000    833.000000   \n",
       "month_shop_sales_lag2m             0.000000   577.000000    817.000000   \n",
       "month_shop_sales_lag3m             0.000000   556.000000    787.000000   \n",
       "month_shop_sales_lag6m             0.000000   472.000000    691.000000   \n",
       "month_shop_sales_lag12m            0.000000   362.000000    543.000000   \n",
       "month_item_sales_lag1m             0.000000     0.000000      0.000000   \n",
       "month_item_sales_lag2m             0.000000     0.000000      0.000000   \n",
       "month_item_sales_lag3m             0.000000     0.000000      0.000000   \n",
       "month_item_sales_lag6m             0.000000     0.000000      0.000000   \n",
       "month_item_sales_lag12m            0.000000     0.000000      0.000000   \n",
       "shop_item_trend                  -14.000000     0.000000      0.000000   \n",
       "shop_trend                      -467.200012    -9.200000     66.599998   \n",
       "item_trend                      -186.600006    -0.400000      0.000000   \n",
       "mean_shop                          0.000000     0.129705      0.167144   \n",
       "mean_item                          0.000000     0.001401      0.053371   \n",
       "mean_shop_item                     0.000000     0.000000      0.000000   \n",
       "mean_year                          0.196659     0.196659      0.196659   \n",
       "mean_month                         0.164346     0.175155      0.187682   \n",
       "mean_year_item                     0.000000     0.000000      0.033333   \n",
       "mean_month_item                    0.000000     0.000000      0.023810   \n",
       "\n",
       "                                       75%            max  \n",
       "date_block_num                   24.000000      28.000000  \n",
       "shop_id                          47.000000      59.000000  \n",
       "item_id                       16071.000000   22167.000000  \n",
       "summed_item_price                 0.000000  366860.000000  \n",
       "mean_item_price                   0.000000   33490.000000  \n",
       "total_item_cnt                    0.000000      20.000000  \n",
       "mean_item_cnt                     0.000000      20.000000  \n",
       "transactions                      0.000000      18.000000  \n",
       "month                             7.000000      11.000000  \n",
       "year                           2015.000000    2015.000000  \n",
       "days_in_month                    31.000000      31.000000  \n",
       "item_category_id                 58.000000      83.000000  \n",
       "unit_item_price                   0.000000   94970.000000  \n",
       "month_shop_sales               1127.000000    6645.000000  \n",
       "month_item_sales                  6.000000     390.000000  \n",
       "hist_min_price                    0.000000       0.000000  \n",
       "hist_max_price                 5196.000000  366860.000000  \n",
       "price_increase                    0.000000  366860.000000  \n",
       "price_decrease                 -796.000000       0.000000  \n",
       "month_shop_item_sales_lag1m       0.000000      20.000000  \n",
       "month_shop_item_sales_lag2m       0.000000      20.000000  \n",
       "month_shop_item_sales_lag3m       0.000000      20.000000  \n",
       "month_shop_item_sales_lag6m       0.000000      20.000000  \n",
       "month_shop_item_sales_lag12m      0.000000      20.000000  \n",
       "month_shop_sales_lag1m         1163.000000    6645.000000  \n",
       "month_shop_sales_lag2m         1150.000000    6645.000000  \n",
       "month_shop_sales_lag3m         1120.000000    6645.000000  \n",
       "month_shop_sales_lag6m          967.000000    4211.000000  \n",
       "month_shop_sales_lag12m         780.000000    3585.000000  \n",
       "month_item_sales_lag1m            5.000000     390.000000  \n",
       "month_item_sales_lag2m            5.000000     390.000000  \n",
       "month_item_sales_lag3m            4.000000     390.000000  \n",
       "month_item_sales_lag6m            3.000000     390.000000  \n",
       "month_item_sales_lag12m           1.000000     390.000000  \n",
       "shop_item_trend                   0.000000      20.000000  \n",
       "shop_trend                      183.800003    3146.199951  \n",
       "item_trend                        0.000000     390.000000  \n",
       "mean_shop                         0.216598       0.735374  \n",
       "mean_item                         0.211485       7.486179  \n",
       "mean_shop_item                    0.176471      18.500000  \n",
       "mean_year                         0.207680       0.207680  \n",
       "mean_month                        0.195918       0.365948  \n",
       "mean_year_item                    0.198413       8.632812  \n",
       "mean_month_item                   0.166667      13.296296  "
      ]
     },
     "execution_count": 51,
     "metadata": {},
     "output_type": "execute_result"
    }
   ],
   "source": [
    "X_train.describe().T"
   ]
  },
  {
   "cell_type": "markdown",
   "metadata": {},
   "source": [
    "# Build Test Set\n",
    "We want to predict block 34 so block 33 is our test data. We build the dataframe to contain all data we need."
   ]
  },
  {
   "cell_type": "code",
   "execution_count": 52,
   "metadata": {},
   "outputs": [
    {
     "data": {
      "text/plain": [
       "0"
      ]
     },
     "execution_count": 52,
     "metadata": {},
     "output_type": "execute_result"
    }
   ],
   "source": [
    "latest_records = pd.concat([train_set, valid_set, test_set]).drop_duplicates(subset=['shop_id', 'item_id'], keep='last')\n",
    "\n",
    "X_test = pd.merge(test, latest_records, on=['shop_id', 'item_id'], how='left').drop(columns=['ID'])\n",
    "X_test['year'] = 2015\n",
    "X_test['month'] = 9\n",
    "X_test.drop(columns=['target'], inplace=True)\n",
    "\n",
    "for x in [train_set, valid_set, test_set]:\n",
    "    del x\n",
    "gc.collect()"
   ]
  },
  {
   "cell_type": "markdown",
   "metadata": {},
   "source": [
    "### Fill in missing values in all sets"
   ]
  },
  {
   "cell_type": "code",
   "execution_count": 53,
   "metadata": {},
   "outputs": [
    {
     "data": {
      "application/vnd.jupyter.widget-view+json": {
       "model_id": "bc9141dd3f664f5e9063f0646e4f353d",
       "version_major": 2,
       "version_minor": 0
      },
      "text/plain": [
       "HBox(children=(IntProgress(value=0, max=42), HTML(value='')))"
      ]
     },
     "metadata": {},
     "output_type": "display_data"
    },
    {
     "name": "stdout",
     "output_type": "stream",
     "text": [
      "\n"
     ]
    },
    {
     "data": {
      "application/vnd.jupyter.widget-view+json": {
       "model_id": "a33f65fd3cc54188ba53b32aa63fbbee",
       "version_major": 2,
       "version_minor": 0
      },
      "text/plain": [
       "HBox(children=(IntProgress(value=0, max=42), HTML(value='')))"
      ]
     },
     "metadata": {},
     "output_type": "display_data"
    },
    {
     "name": "stdout",
     "output_type": "stream",
     "text": [
      "\n"
     ]
    },
    {
     "data": {
      "application/vnd.jupyter.widget-view+json": {
       "model_id": "e8cd225dd8844ad5994ba9ed3c126d6c",
       "version_major": 2,
       "version_minor": 0
      },
      "text/plain": [
       "HBox(children=(IntProgress(value=0, max=42), HTML(value='')))"
      ]
     },
     "metadata": {},
     "output_type": "display_data"
    },
    {
     "name": "stdout",
     "output_type": "stream",
     "text": [
      "\n"
     ]
    }
   ],
   "source": [
    "sets = [X_train, X_val, X_test]\n",
    "\n",
    "for dset in sets:\n",
    "    for shop_id in tqdm(dset['shop_id'].unique()):\n",
    "        for column in dset.columns:\n",
    "            shop_median = dset[dset['shop_id'] == shop_id][column].median()\n",
    "            dset.loc[(dset[column].isnull()) \\\n",
    "                       & (dset['shop_id'] == shop_id), column] = shop_median\n",
    "\n",
    "X_test.fillna(X_test.mean(), inplace=True)"
   ]
  },
  {
   "cell_type": "code",
   "execution_count": 54,
   "metadata": {},
   "outputs": [],
   "source": [
    "for dset in [X_train, X_val, X_test]:\n",
    "    dset.drop(columns=['date_block_num'], inplace=True)"
   ]
  },
  {
   "cell_type": "code",
   "execution_count": 55,
   "metadata": {},
   "outputs": [],
   "source": [
    "X_test = X_test[X_train.columns]"
   ]
  },
  {
   "cell_type": "code",
   "execution_count": 56,
   "metadata": {},
   "outputs": [
    {
     "data": {
      "text/html": [
       "<div>\n",
       "<style scoped>\n",
       "    .dataframe tbody tr th:only-of-type {\n",
       "        vertical-align: middle;\n",
       "    }\n",
       "\n",
       "    .dataframe tbody tr th {\n",
       "        vertical-align: top;\n",
       "    }\n",
       "\n",
       "    .dataframe thead th {\n",
       "        text-align: right;\n",
       "    }\n",
       "</style>\n",
       "<table border=\"1\" class=\"dataframe\">\n",
       "  <thead>\n",
       "    <tr style=\"text-align: right;\">\n",
       "      <th></th>\n",
       "      <th>count</th>\n",
       "      <th>mean</th>\n",
       "      <th>std</th>\n",
       "      <th>min</th>\n",
       "      <th>25%</th>\n",
       "      <th>50%</th>\n",
       "      <th>75%</th>\n",
       "      <th>max</th>\n",
       "    </tr>\n",
       "  </thead>\n",
       "  <tbody>\n",
       "    <tr>\n",
       "      <th>shop_id</th>\n",
       "      <td>214200.0</td>\n",
       "      <td>31.642857</td>\n",
       "      <td>17.561933</td>\n",
       "      <td>2.000000</td>\n",
       "      <td>16.000000</td>\n",
       "      <td>34.500000</td>\n",
       "      <td>47.000000</td>\n",
       "      <td>59.000000</td>\n",
       "    </tr>\n",
       "    <tr>\n",
       "      <th>item_id</th>\n",
       "      <td>214200.0</td>\n",
       "      <td>11019.398627</td>\n",
       "      <td>6252.644590</td>\n",
       "      <td>30.000000</td>\n",
       "      <td>5381.500000</td>\n",
       "      <td>11203.000000</td>\n",
       "      <td>16071.500000</td>\n",
       "      <td>22167.000000</td>\n",
       "    </tr>\n",
       "    <tr>\n",
       "      <th>summed_item_price</th>\n",
       "      <td>214200.0</td>\n",
       "      <td>271.737000</td>\n",
       "      <td>1962.680176</td>\n",
       "      <td>0.000000</td>\n",
       "      <td>0.000000</td>\n",
       "      <td>0.000000</td>\n",
       "      <td>0.000000</td>\n",
       "      <td>182146.000000</td>\n",
       "    </tr>\n",
       "    <tr>\n",
       "      <th>mean_item_price</th>\n",
       "      <td>214200.0</td>\n",
       "      <td>157.145203</td>\n",
       "      <td>1006.168030</td>\n",
       "      <td>0.000000</td>\n",
       "      <td>0.000000</td>\n",
       "      <td>0.000000</td>\n",
       "      <td>0.000000</td>\n",
       "      <td>42990.000000</td>\n",
       "    </tr>\n",
       "    <tr>\n",
       "      <th>total_item_cnt</th>\n",
       "      <td>214200.0</td>\n",
       "      <td>0.241741</td>\n",
       "      <td>0.948915</td>\n",
       "      <td>0.000000</td>\n",
       "      <td>0.000000</td>\n",
       "      <td>0.000000</td>\n",
       "      <td>0.000000</td>\n",
       "      <td>20.000000</td>\n",
       "    </tr>\n",
       "    <tr>\n",
       "      <th>mean_item_cnt</th>\n",
       "      <td>214200.0</td>\n",
       "      <td>0.241741</td>\n",
       "      <td>0.948915</td>\n",
       "      <td>0.000000</td>\n",
       "      <td>0.000000</td>\n",
       "      <td>0.000000</td>\n",
       "      <td>0.000000</td>\n",
       "      <td>20.000000</td>\n",
       "    </tr>\n",
       "    <tr>\n",
       "      <th>transactions</th>\n",
       "      <td>214200.0</td>\n",
       "      <td>0.220752</td>\n",
       "      <td>0.767657</td>\n",
       "      <td>0.000000</td>\n",
       "      <td>0.000000</td>\n",
       "      <td>0.000000</td>\n",
       "      <td>0.000000</td>\n",
       "      <td>17.000000</td>\n",
       "    </tr>\n",
       "    <tr>\n",
       "      <th>month</th>\n",
       "      <td>214200.0</td>\n",
       "      <td>9.000000</td>\n",
       "      <td>0.000000</td>\n",
       "      <td>9.000000</td>\n",
       "      <td>9.000000</td>\n",
       "      <td>9.000000</td>\n",
       "      <td>9.000000</td>\n",
       "      <td>9.000000</td>\n",
       "    </tr>\n",
       "    <tr>\n",
       "      <th>year</th>\n",
       "      <td>214200.0</td>\n",
       "      <td>2015.000000</td>\n",
       "      <td>0.000000</td>\n",
       "      <td>2015.000000</td>\n",
       "      <td>2015.000000</td>\n",
       "      <td>2015.000000</td>\n",
       "      <td>2015.000000</td>\n",
       "      <td>2015.000000</td>\n",
       "    </tr>\n",
       "    <tr>\n",
       "      <th>days_in_month</th>\n",
       "      <td>214200.0</td>\n",
       "      <td>30.999388</td>\n",
       "      <td>0.025283</td>\n",
       "      <td>28.000000</td>\n",
       "      <td>31.000000</td>\n",
       "      <td>31.000000</td>\n",
       "      <td>31.000000</td>\n",
       "      <td>31.000000</td>\n",
       "    </tr>\n",
       "    <tr>\n",
       "      <th>item_category_id</th>\n",
       "      <td>214200.0</td>\n",
       "      <td>46.308375</td>\n",
       "      <td>16.714875</td>\n",
       "      <td>0.000000</td>\n",
       "      <td>37.000000</td>\n",
       "      <td>43.000000</td>\n",
       "      <td>58.000000</td>\n",
       "      <td>83.000000</td>\n",
       "    </tr>\n",
       "    <tr>\n",
       "      <th>unit_item_price</th>\n",
       "      <td>214200.0</td>\n",
       "      <td>151.548198</td>\n",
       "      <td>981.592203</td>\n",
       "      <td>0.000000</td>\n",
       "      <td>0.000000</td>\n",
       "      <td>0.000000</td>\n",
       "      <td>0.000000</td>\n",
       "      <td>42990.000000</td>\n",
       "    </tr>\n",
       "    <tr>\n",
       "      <th>month_shop_sales</th>\n",
       "      <td>214200.0</td>\n",
       "      <td>1215.528796</td>\n",
       "      <td>898.488192</td>\n",
       "      <td>0.000000</td>\n",
       "      <td>707.000000</td>\n",
       "      <td>984.500000</td>\n",
       "      <td>1272.000000</td>\n",
       "      <td>4602.000000</td>\n",
       "    </tr>\n",
       "    <tr>\n",
       "      <th>month_item_sales</th>\n",
       "      <td>214200.0</td>\n",
       "      <td>9.889729</td>\n",
       "      <td>21.904462</td>\n",
       "      <td>0.000000</td>\n",
       "      <td>1.000000</td>\n",
       "      <td>3.000000</td>\n",
       "      <td>10.000000</td>\n",
       "      <td>392.000000</td>\n",
       "    </tr>\n",
       "    <tr>\n",
       "      <th>hist_min_price</th>\n",
       "      <td>214200.0</td>\n",
       "      <td>0.000000</td>\n",
       "      <td>0.000000</td>\n",
       "      <td>0.000000</td>\n",
       "      <td>0.000000</td>\n",
       "      <td>0.000000</td>\n",
       "      <td>0.000000</td>\n",
       "      <td>0.000000</td>\n",
       "    </tr>\n",
       "    <tr>\n",
       "      <th>hist_max_price</th>\n",
       "      <td>214200.0</td>\n",
       "      <td>5213.212891</td>\n",
       "      <td>11431.453125</td>\n",
       "      <td>0.000000</td>\n",
       "      <td>799.000000</td>\n",
       "      <td>2099.000000</td>\n",
       "      <td>5196.000000</td>\n",
       "      <td>366860.000000</td>\n",
       "    </tr>\n",
       "    <tr>\n",
       "      <th>price_increase</th>\n",
       "      <td>214200.0</td>\n",
       "      <td>271.737000</td>\n",
       "      <td>1962.680176</td>\n",
       "      <td>0.000000</td>\n",
       "      <td>0.000000</td>\n",
       "      <td>0.000000</td>\n",
       "      <td>0.000000</td>\n",
       "      <td>182146.000000</td>\n",
       "    </tr>\n",
       "    <tr>\n",
       "      <th>price_decrease</th>\n",
       "      <td>214200.0</td>\n",
       "      <td>-4941.473633</td>\n",
       "      <td>10843.606445</td>\n",
       "      <td>-366860.000000</td>\n",
       "      <td>-4998.000000</td>\n",
       "      <td>-2049.949951</td>\n",
       "      <td>-796.000000</td>\n",
       "      <td>0.000000</td>\n",
       "    </tr>\n",
       "    <tr>\n",
       "      <th>month_shop_item_sales_lag1m</th>\n",
       "      <td>214200.0</td>\n",
       "      <td>0.226900</td>\n",
       "      <td>0.929271</td>\n",
       "      <td>0.000000</td>\n",
       "      <td>0.000000</td>\n",
       "      <td>0.000000</td>\n",
       "      <td>0.000000</td>\n",
       "      <td>20.000000</td>\n",
       "    </tr>\n",
       "    <tr>\n",
       "      <th>month_shop_item_sales_lag2m</th>\n",
       "      <td>214200.0</td>\n",
       "      <td>0.249832</td>\n",
       "      <td>0.929281</td>\n",
       "      <td>0.000000</td>\n",
       "      <td>0.000000</td>\n",
       "      <td>0.000000</td>\n",
       "      <td>0.000000</td>\n",
       "      <td>20.000000</td>\n",
       "    </tr>\n",
       "    <tr>\n",
       "      <th>month_shop_item_sales_lag3m</th>\n",
       "      <td>214200.0</td>\n",
       "      <td>0.218053</td>\n",
       "      <td>0.847210</td>\n",
       "      <td>0.000000</td>\n",
       "      <td>0.000000</td>\n",
       "      <td>0.000000</td>\n",
       "      <td>0.000000</td>\n",
       "      <td>20.000000</td>\n",
       "    </tr>\n",
       "    <tr>\n",
       "      <th>month_shop_item_sales_lag6m</th>\n",
       "      <td>214200.0</td>\n",
       "      <td>0.193618</td>\n",
       "      <td>0.862384</td>\n",
       "      <td>0.000000</td>\n",
       "      <td>0.000000</td>\n",
       "      <td>0.000000</td>\n",
       "      <td>0.000000</td>\n",
       "      <td>20.000000</td>\n",
       "    </tr>\n",
       "    <tr>\n",
       "      <th>month_shop_item_sales_lag12m</th>\n",
       "      <td>214200.0</td>\n",
       "      <td>0.194122</td>\n",
       "      <td>0.945297</td>\n",
       "      <td>0.000000</td>\n",
       "      <td>0.000000</td>\n",
       "      <td>0.000000</td>\n",
       "      <td>0.000000</td>\n",
       "      <td>20.000000</td>\n",
       "    </tr>\n",
       "    <tr>\n",
       "      <th>month_shop_sales_lag1m</th>\n",
       "      <td>214200.0</td>\n",
       "      <td>1159.279150</td>\n",
       "      <td>786.442079</td>\n",
       "      <td>0.000000</td>\n",
       "      <td>726.000000</td>\n",
       "      <td>1014.000000</td>\n",
       "      <td>1228.000000</td>\n",
       "      <td>4410.000000</td>\n",
       "    </tr>\n",
       "    <tr>\n",
       "      <th>month_shop_sales_lag2m</th>\n",
       "      <td>214200.0</td>\n",
       "      <td>1275.086261</td>\n",
       "      <td>802.537741</td>\n",
       "      <td>0.000000</td>\n",
       "      <td>841.000000</td>\n",
       "      <td>1053.000000</td>\n",
       "      <td>1358.000000</td>\n",
       "      <td>4579.000000</td>\n",
       "    </tr>\n",
       "    <tr>\n",
       "      <th>month_shop_sales_lag3m</th>\n",
       "      <td>214200.0</td>\n",
       "      <td>1113.626195</td>\n",
       "      <td>783.743061</td>\n",
       "      <td>0.000000</td>\n",
       "      <td>734.000000</td>\n",
       "      <td>897.000000</td>\n",
       "      <td>1185.000000</td>\n",
       "      <td>6645.000000</td>\n",
       "    </tr>\n",
       "    <tr>\n",
       "      <th>month_shop_sales_lag6m</th>\n",
       "      <td>214200.0</td>\n",
       "      <td>987.844687</td>\n",
       "      <td>749.061018</td>\n",
       "      <td>0.000000</td>\n",
       "      <td>564.000000</td>\n",
       "      <td>833.000000</td>\n",
       "      <td>988.000000</td>\n",
       "      <td>6645.000000</td>\n",
       "    </tr>\n",
       "    <tr>\n",
       "      <th>month_shop_sales_lag12m</th>\n",
       "      <td>214200.0</td>\n",
       "      <td>988.454986</td>\n",
       "      <td>640.364424</td>\n",
       "      <td>0.000000</td>\n",
       "      <td>691.000000</td>\n",
       "      <td>849.000000</td>\n",
       "      <td>1105.000000</td>\n",
       "      <td>3502.000000</td>\n",
       "    </tr>\n",
       "    <tr>\n",
       "      <th>month_item_sales_lag1m</th>\n",
       "      <td>214200.0</td>\n",
       "      <td>9.519379</td>\n",
       "      <td>23.614028</td>\n",
       "      <td>0.000000</td>\n",
       "      <td>0.000000</td>\n",
       "      <td>3.000000</td>\n",
       "      <td>9.000000</td>\n",
       "      <td>392.000000</td>\n",
       "    </tr>\n",
       "    <tr>\n",
       "      <th>month_item_sales_lag2m</th>\n",
       "      <td>214200.0</td>\n",
       "      <td>10.488959</td>\n",
       "      <td>24.834494</td>\n",
       "      <td>0.000000</td>\n",
       "      <td>0.000000</td>\n",
       "      <td>3.000000</td>\n",
       "      <td>10.000000</td>\n",
       "      <td>390.000000</td>\n",
       "    </tr>\n",
       "    <tr>\n",
       "      <th>month_item_sales_lag3m</th>\n",
       "      <td>214200.0</td>\n",
       "      <td>9.162096</td>\n",
       "      <td>21.021511</td>\n",
       "      <td>0.000000</td>\n",
       "      <td>0.000000</td>\n",
       "      <td>2.000000</td>\n",
       "      <td>9.000000</td>\n",
       "      <td>348.000000</td>\n",
       "    </tr>\n",
       "    <tr>\n",
       "      <th>month_item_sales_lag6m</th>\n",
       "      <td>214200.0</td>\n",
       "      <td>8.128133</td>\n",
       "      <td>21.389285</td>\n",
       "      <td>0.000000</td>\n",
       "      <td>0.000000</td>\n",
       "      <td>1.000000</td>\n",
       "      <td>8.000000</td>\n",
       "      <td>352.000000</td>\n",
       "    </tr>\n",
       "    <tr>\n",
       "      <th>month_item_sales_lag12m</th>\n",
       "      <td>214200.0</td>\n",
       "      <td>8.135663</td>\n",
       "      <td>25.879761</td>\n",
       "      <td>0.000000</td>\n",
       "      <td>0.000000</td>\n",
       "      <td>0.000000</td>\n",
       "      <td>6.000000</td>\n",
       "      <td>353.000000</td>\n",
       "    </tr>\n",
       "    <tr>\n",
       "      <th>shop_item_trend</th>\n",
       "      <td>214200.0</td>\n",
       "      <td>0.025236</td>\n",
       "      <td>0.852757</td>\n",
       "      <td>-12.400000</td>\n",
       "      <td>0.000000</td>\n",
       "      <td>0.000000</td>\n",
       "      <td>0.000000</td>\n",
       "      <td>20.000000</td>\n",
       "    </tr>\n",
       "    <tr>\n",
       "      <th>shop_trend</th>\n",
       "      <td>214200.0</td>\n",
       "      <td>110.670540</td>\n",
       "      <td>220.129120</td>\n",
       "      <td>-578.799988</td>\n",
       "      <td>3.200000</td>\n",
       "      <td>64.599998</td>\n",
       "      <td>142.399994</td>\n",
       "      <td>1165.000000</td>\n",
       "    </tr>\n",
       "    <tr>\n",
       "      <th>item_trend</th>\n",
       "      <td>214200.0</td>\n",
       "      <td>0.802794</td>\n",
       "      <td>18.209177</td>\n",
       "      <td>-171.199997</td>\n",
       "      <td>-2.200000</td>\n",
       "      <td>0.000000</td>\n",
       "      <td>1.800000</td>\n",
       "      <td>392.000000</td>\n",
       "    </tr>\n",
       "    <tr>\n",
       "      <th>mean_shop</th>\n",
       "      <td>214200.0</td>\n",
       "      <td>0.200017</td>\n",
       "      <td>0.136294</td>\n",
       "      <td>0.000000</td>\n",
       "      <td>0.129705</td>\n",
       "      <td>0.170280</td>\n",
       "      <td>0.216598</td>\n",
       "      <td>0.735374</td>\n",
       "    </tr>\n",
       "    <tr>\n",
       "      <th>mean_item</th>\n",
       "      <td>214200.0</td>\n",
       "      <td>0.201847</td>\n",
       "      <td>0.445100</td>\n",
       "      <td>0.000000</td>\n",
       "      <td>0.001401</td>\n",
       "      <td>0.054622</td>\n",
       "      <td>0.211485</td>\n",
       "      <td>7.486179</td>\n",
       "    </tr>\n",
       "    <tr>\n",
       "      <th>mean_shop_item</th>\n",
       "      <td>214200.0</td>\n",
       "      <td>0.203373</td>\n",
       "      <td>0.614238</td>\n",
       "      <td>0.000000</td>\n",
       "      <td>0.000000</td>\n",
       "      <td>0.000000</td>\n",
       "      <td>0.176471</td>\n",
       "      <td>18.500000</td>\n",
       "    </tr>\n",
       "    <tr>\n",
       "      <th>mean_year</th>\n",
       "      <td>214200.0</td>\n",
       "      <td>0.207679</td>\n",
       "      <td>0.000063</td>\n",
       "      <td>0.196659</td>\n",
       "      <td>0.207680</td>\n",
       "      <td>0.207680</td>\n",
       "      <td>0.207680</td>\n",
       "      <td>0.207680</td>\n",
       "    </tr>\n",
       "    <tr>\n",
       "      <th>mean_month</th>\n",
       "      <td>214200.0</td>\n",
       "      <td>0.229341</td>\n",
       "      <td>0.001138</td>\n",
       "      <td>0.164346</td>\n",
       "      <td>0.229372</td>\n",
       "      <td>0.229372</td>\n",
       "      <td>0.229372</td>\n",
       "      <td>0.229372</td>\n",
       "    </tr>\n",
       "    <tr>\n",
       "      <th>mean_year_item</th>\n",
       "      <td>214200.0</td>\n",
       "      <td>0.210216</td>\n",
       "      <td>0.450363</td>\n",
       "      <td>0.000000</td>\n",
       "      <td>0.000000</td>\n",
       "      <td>0.057143</td>\n",
       "      <td>0.219048</td>\n",
       "      <td>8.632812</td>\n",
       "    </tr>\n",
       "    <tr>\n",
       "      <th>mean_month_item</th>\n",
       "      <td>214200.0</td>\n",
       "      <td>0.233453</td>\n",
       "      <td>0.767950</td>\n",
       "      <td>0.000000</td>\n",
       "      <td>0.000000</td>\n",
       "      <td>0.000000</td>\n",
       "      <td>0.166667</td>\n",
       "      <td>13.296296</td>\n",
       "    </tr>\n",
       "  </tbody>\n",
       "</table>\n",
       "</div>"
      ],
      "text/plain": [
       "                                 count          mean           std  \\\n",
       "shop_id                       214200.0     31.642857     17.561933   \n",
       "item_id                       214200.0  11019.398627   6252.644590   \n",
       "summed_item_price             214200.0    271.737000   1962.680176   \n",
       "mean_item_price               214200.0    157.145203   1006.168030   \n",
       "total_item_cnt                214200.0      0.241741      0.948915   \n",
       "mean_item_cnt                 214200.0      0.241741      0.948915   \n",
       "transactions                  214200.0      0.220752      0.767657   \n",
       "month                         214200.0      9.000000      0.000000   \n",
       "year                          214200.0   2015.000000      0.000000   \n",
       "days_in_month                 214200.0     30.999388      0.025283   \n",
       "item_category_id              214200.0     46.308375     16.714875   \n",
       "unit_item_price               214200.0    151.548198    981.592203   \n",
       "month_shop_sales              214200.0   1215.528796    898.488192   \n",
       "month_item_sales              214200.0      9.889729     21.904462   \n",
       "hist_min_price                214200.0      0.000000      0.000000   \n",
       "hist_max_price                214200.0   5213.212891  11431.453125   \n",
       "price_increase                214200.0    271.737000   1962.680176   \n",
       "price_decrease                214200.0  -4941.473633  10843.606445   \n",
       "month_shop_item_sales_lag1m   214200.0      0.226900      0.929271   \n",
       "month_shop_item_sales_lag2m   214200.0      0.249832      0.929281   \n",
       "month_shop_item_sales_lag3m   214200.0      0.218053      0.847210   \n",
       "month_shop_item_sales_lag6m   214200.0      0.193618      0.862384   \n",
       "month_shop_item_sales_lag12m  214200.0      0.194122      0.945297   \n",
       "month_shop_sales_lag1m        214200.0   1159.279150    786.442079   \n",
       "month_shop_sales_lag2m        214200.0   1275.086261    802.537741   \n",
       "month_shop_sales_lag3m        214200.0   1113.626195    783.743061   \n",
       "month_shop_sales_lag6m        214200.0    987.844687    749.061018   \n",
       "month_shop_sales_lag12m       214200.0    988.454986    640.364424   \n",
       "month_item_sales_lag1m        214200.0      9.519379     23.614028   \n",
       "month_item_sales_lag2m        214200.0     10.488959     24.834494   \n",
       "month_item_sales_lag3m        214200.0      9.162096     21.021511   \n",
       "month_item_sales_lag6m        214200.0      8.128133     21.389285   \n",
       "month_item_sales_lag12m       214200.0      8.135663     25.879761   \n",
       "shop_item_trend               214200.0      0.025236      0.852757   \n",
       "shop_trend                    214200.0    110.670540    220.129120   \n",
       "item_trend                    214200.0      0.802794     18.209177   \n",
       "mean_shop                     214200.0      0.200017      0.136294   \n",
       "mean_item                     214200.0      0.201847      0.445100   \n",
       "mean_shop_item                214200.0      0.203373      0.614238   \n",
       "mean_year                     214200.0      0.207679      0.000063   \n",
       "mean_month                    214200.0      0.229341      0.001138   \n",
       "mean_year_item                214200.0      0.210216      0.450363   \n",
       "mean_month_item               214200.0      0.233453      0.767950   \n",
       "\n",
       "                                        min          25%           50%  \\\n",
       "shop_id                            2.000000    16.000000     34.500000   \n",
       "item_id                           30.000000  5381.500000  11203.000000   \n",
       "summed_item_price                  0.000000     0.000000      0.000000   \n",
       "mean_item_price                    0.000000     0.000000      0.000000   \n",
       "total_item_cnt                     0.000000     0.000000      0.000000   \n",
       "mean_item_cnt                      0.000000     0.000000      0.000000   \n",
       "transactions                       0.000000     0.000000      0.000000   \n",
       "month                              9.000000     9.000000      9.000000   \n",
       "year                            2015.000000  2015.000000   2015.000000   \n",
       "days_in_month                     28.000000    31.000000     31.000000   \n",
       "item_category_id                   0.000000    37.000000     43.000000   \n",
       "unit_item_price                    0.000000     0.000000      0.000000   \n",
       "month_shop_sales                   0.000000   707.000000    984.500000   \n",
       "month_item_sales                   0.000000     1.000000      3.000000   \n",
       "hist_min_price                     0.000000     0.000000      0.000000   \n",
       "hist_max_price                     0.000000   799.000000   2099.000000   \n",
       "price_increase                     0.000000     0.000000      0.000000   \n",
       "price_decrease               -366860.000000 -4998.000000  -2049.949951   \n",
       "month_shop_item_sales_lag1m        0.000000     0.000000      0.000000   \n",
       "month_shop_item_sales_lag2m        0.000000     0.000000      0.000000   \n",
       "month_shop_item_sales_lag3m        0.000000     0.000000      0.000000   \n",
       "month_shop_item_sales_lag6m        0.000000     0.000000      0.000000   \n",
       "month_shop_item_sales_lag12m       0.000000     0.000000      0.000000   \n",
       "month_shop_sales_lag1m             0.000000   726.000000   1014.000000   \n",
       "month_shop_sales_lag2m             0.000000   841.000000   1053.000000   \n",
       "month_shop_sales_lag3m             0.000000   734.000000    897.000000   \n",
       "month_shop_sales_lag6m             0.000000   564.000000    833.000000   \n",
       "month_shop_sales_lag12m            0.000000   691.000000    849.000000   \n",
       "month_item_sales_lag1m             0.000000     0.000000      3.000000   \n",
       "month_item_sales_lag2m             0.000000     0.000000      3.000000   \n",
       "month_item_sales_lag3m             0.000000     0.000000      2.000000   \n",
       "month_item_sales_lag6m             0.000000     0.000000      1.000000   \n",
       "month_item_sales_lag12m            0.000000     0.000000      0.000000   \n",
       "shop_item_trend                  -12.400000     0.000000      0.000000   \n",
       "shop_trend                      -578.799988     3.200000     64.599998   \n",
       "item_trend                      -171.199997    -2.200000      0.000000   \n",
       "mean_shop                          0.000000     0.129705      0.170280   \n",
       "mean_item                          0.000000     0.001401      0.054622   \n",
       "mean_shop_item                     0.000000     0.000000      0.000000   \n",
       "mean_year                          0.196659     0.207680      0.207680   \n",
       "mean_month                         0.164346     0.229372      0.229372   \n",
       "mean_year_item                     0.000000     0.000000      0.057143   \n",
       "mean_month_item                    0.000000     0.000000      0.000000   \n",
       "\n",
       "                                       75%            max  \n",
       "shop_id                          47.000000      59.000000  \n",
       "item_id                       16071.500000   22167.000000  \n",
       "summed_item_price                 0.000000  182146.000000  \n",
       "mean_item_price                   0.000000   42990.000000  \n",
       "total_item_cnt                    0.000000      20.000000  \n",
       "mean_item_cnt                     0.000000      20.000000  \n",
       "transactions                      0.000000      17.000000  \n",
       "month                             9.000000       9.000000  \n",
       "year                           2015.000000    2015.000000  \n",
       "days_in_month                    31.000000      31.000000  \n",
       "item_category_id                 58.000000      83.000000  \n",
       "unit_item_price                   0.000000   42990.000000  \n",
       "month_shop_sales               1272.000000    4602.000000  \n",
       "month_item_sales                 10.000000     392.000000  \n",
       "hist_min_price                    0.000000       0.000000  \n",
       "hist_max_price                 5196.000000  366860.000000  \n",
       "price_increase                    0.000000  182146.000000  \n",
       "price_decrease                 -796.000000       0.000000  \n",
       "month_shop_item_sales_lag1m       0.000000      20.000000  \n",
       "month_shop_item_sales_lag2m       0.000000      20.000000  \n",
       "month_shop_item_sales_lag3m       0.000000      20.000000  \n",
       "month_shop_item_sales_lag6m       0.000000      20.000000  \n",
       "month_shop_item_sales_lag12m      0.000000      20.000000  \n",
       "month_shop_sales_lag1m         1228.000000    4410.000000  \n",
       "month_shop_sales_lag2m         1358.000000    4579.000000  \n",
       "month_shop_sales_lag3m         1185.000000    6645.000000  \n",
       "month_shop_sales_lag6m          988.000000    6645.000000  \n",
       "month_shop_sales_lag12m        1105.000000    3502.000000  \n",
       "month_item_sales_lag1m            9.000000     392.000000  \n",
       "month_item_sales_lag2m           10.000000     390.000000  \n",
       "month_item_sales_lag3m            9.000000     348.000000  \n",
       "month_item_sales_lag6m            8.000000     352.000000  \n",
       "month_item_sales_lag12m           6.000000     353.000000  \n",
       "shop_item_trend                   0.000000      20.000000  \n",
       "shop_trend                      142.399994    1165.000000  \n",
       "item_trend                        1.800000     392.000000  \n",
       "mean_shop                         0.216598       0.735374  \n",
       "mean_item                         0.211485       7.486179  \n",
       "mean_shop_item                    0.176471      18.500000  \n",
       "mean_year                         0.207680       0.207680  \n",
       "mean_month                        0.229372       0.229372  \n",
       "mean_year_item                    0.219048       8.632812  \n",
       "mean_month_item                   0.166667      13.296296  "
      ]
     },
     "execution_count": 56,
     "metadata": {},
     "output_type": "execute_result"
    }
   ],
   "source": [
    "X_test.describe().T"
   ]
  },
  {
   "cell_type": "markdown",
   "metadata": {},
   "source": [
    "# Training"
   ]
  },
  {
   "cell_type": "code",
   "execution_count": 57,
   "metadata": {},
   "outputs": [],
   "source": [
    "def print_prediciton_scores(model_name, y, preds, pred_type):\n",
    "    print(f'{pred_type} R-squared for {model_name}: {r2_score(y, preds)}' )\n",
    "    print(f'{pred_type} RMSE for {model_name}: {np.sqrt(mean_squared_error(y, preds))}')\n",
    "    print(f'{pred_type} Accuracy Score for {model_name}: {accuracy_score(y, np.around(preds))}')"
   ]
  },
  {
   "cell_type": "markdown",
   "metadata": {},
   "source": [
    "## Linear Regression"
   ]
  },
  {
   "cell_type": "code",
   "execution_count": 58,
   "metadata": {},
   "outputs": [],
   "source": [
    "non_linear_columns = ['shop_id', 'item_id', 'item_category_id']\n",
    "lr_columns = list(X_train.drop(columns=non_linear_columns).columns)\n",
    "lr_train = X_train[lr_columns]\n",
    "lr_val = X_val[lr_columns]\n",
    "lr_test = X_test[lr_columns]"
   ]
  },
  {
   "cell_type": "code",
   "execution_count": 59,
   "metadata": {},
   "outputs": [],
   "source": [
    "lr_scaler = MinMaxScaler()\n",
    "lr_scaler.fit(lr_train)\n",
    "lr_train = lr_scaler.transform(lr_train)\n",
    "lr_val = lr_scaler.transform(lr_val)\n",
    "lr_test = lr_scaler.transform(lr_test)"
   ]
  },
  {
   "cell_type": "code",
   "execution_count": 60,
   "metadata": {},
   "outputs": [
    {
     "data": {
      "text/plain": [
       "LinearRegression(copy_X=True, fit_intercept=True, n_jobs=-1, normalize=False)"
      ]
     },
     "execution_count": 60,
     "metadata": {},
     "output_type": "execute_result"
    }
   ],
   "source": [
    "lr = LinearRegression(n_jobs=-1)\n",
    "lr.fit(lr_train, y_train)"
   ]
  },
  {
   "cell_type": "code",
   "execution_count": 61,
   "metadata": {},
   "outputs": [
    {
     "name": "stdout",
     "output_type": "stream",
     "text": [
      "Train R-squared for LR: 0.5976394247003531\n",
      "Train RMSE for LR: 0.5930641699582586\n",
      "Train Accuracy Score for LR: 0.8784743039434386\n",
      "Validation R-squared for LR: 0.04677520046379269\n",
      "Validation RMSE for LR: 0.8792119568933318\n",
      "Validation Accuracy Score for LR: 0.8295659729927332\n"
     ]
    },
    {
     "data": {
      "text/plain": [
       "0"
      ]
     },
     "execution_count": 61,
     "metadata": {},
     "output_type": "execute_result"
    }
   ],
   "source": [
    "train_pred_lr = lr.predict(lr_train)\n",
    "valid_pred_lr = lr.predict(lr_val)\n",
    "test_pred_lr = lr.predict(lr_test)\n",
    "\n",
    "print_prediciton_scores('LR', y_train, train_pred_lr, 'Train')\n",
    "print_prediciton_scores('LR', y_val, valid_pred_lr, 'Validation')\n",
    "\n",
    "del train_pred_lr\n",
    "del lr_scaler\n",
    "del lr_train\n",
    "del lr_val\n",
    "del lr_test\n",
    "gc.collect()"
   ]
  },
  {
   "cell_type": "markdown",
   "metadata": {},
   "source": [
    "## XGBoost"
   ]
  },
  {
   "cell_type": "code",
   "execution_count": 62,
   "metadata": {},
   "outputs": [
    {
     "name": "stderr",
     "output_type": "stream",
     "text": [
      "/home/dustin/anaconda3/envs/coursera-aml/lib/python3.6/site-packages/xgboost/core.py:587: FutureWarning: Series.base is deprecated and will be removed in a future version\n",
      "  if getattr(data, 'base', None) is not None and \\\n",
      "/home/dustin/anaconda3/envs/coursera-aml/lib/python3.6/site-packages/xgboost/core.py:588: FutureWarning: Series.base is deprecated and will be removed in a future version\n",
      "  data.base is not None and isinstance(data, np.ndarray) \\\n"
     ]
    },
    {
     "name": "stdout",
     "output_type": "stream",
     "text": [
      "[0]\tvalidation_0-rmse:0.969566\tvalidation_1-rmse:0.933388\n",
      "Multiple eval metrics have been passed: 'validation_1-rmse' will be used for early stopping.\n",
      "\n",
      "Will train until validation_1-rmse hasn't improved in 20 rounds.\n",
      "[20]\tvalidation_0-rmse:0.795061\tvalidation_1-rmse:0.845756\n",
      "[40]\tvalidation_0-rmse:0.691821\tvalidation_1-rmse:0.811946\n",
      "[60]\tvalidation_0-rmse:0.629301\tvalidation_1-rmse:0.805545\n",
      "Stopping. Best iteration:\n",
      "[58]\tvalidation_0-rmse:0.634936\tvalidation_1-rmse:0.804488\n",
      "\n"
     ]
    },
    {
     "data": {
      "text/plain": [
       "XGBRegressor(alpha=500, base_score=0.5, booster='gbtree', colsample_bylevel=1,\n",
       "       colsample_bynode=1, colsample_bytree=0.7, gamma=0,\n",
       "       importance_type='gain', learning_rate=0.02, max_delta_step=0,\n",
       "       max_depth=8, min_child_weight=1000, missing=None, n_estimators=500,\n",
       "       n_jobs=1, nthread=None, objective='reg:squarederror',\n",
       "       random_state=0, reg_alpha=0, reg_lambda=1, scale_pos_weight=1,\n",
       "       seed=None, silent=None, subsample=0.7, tree_method='gpu_hist',\n",
       "       verbosity=1)"
      ]
     },
     "execution_count": 62,
     "metadata": {},
     "output_type": "execute_result"
    }
   ],
   "source": [
    "colsample_bytree = 0.7\n",
    "subsample = 0.7\n",
    "min_child_weight = 1000\n",
    "learning_rate = 0.02\n",
    "max_depth = 8\n",
    "alpha = 500\n",
    "n_estimators = 500\n",
    "\n",
    "xgb_reg = xgb.XGBRegressor(tree_method = 'gpu_hist', gpu_id=1, objective = 'reg:squarederror', \n",
    "                          colsample_bytree = colsample_bytree, learning_rate = learning_rate, max_depth = max_depth, \n",
    "                          alpha = alpha, n_estimators = n_estimators, min_child_weight = min_child_weight,\n",
    "                          subsample = subsample)\n",
    "\n",
    "xgb_reg.fit(X_train, y_train, eval_metric='rmse',\n",
    "            eval_set=[(X_train, y_train), (X_val, y_val)],\n",
    "            verbose=20, early_stopping_rounds=20)"
   ]
  },
  {
   "cell_type": "code",
   "execution_count": 63,
   "metadata": {},
   "outputs": [
    {
     "name": "stdout",
     "output_type": "stream",
     "text": [
      "Validation R-squared for XGB: 0.2019191064325061\n",
      "Validation RMSE for XGB: 0.8044876402744204\n",
      "Validation Accuracy Score for XGB: 0.8449406340003784\n"
     ]
    },
    {
     "data": {
      "text/plain": [
       "35"
      ]
     },
     "execution_count": 63,
     "metadata": {},
     "output_type": "execute_result"
    }
   ],
   "source": [
    "# train_pred_xgb = xgb_reg.predict(X_train)\n",
    "valid_pred_xgb = xgb_reg.predict(X_val)\n",
    "test_pred_xgb = xgb_reg.predict(X_test)\n",
    "# print_prediciton_scores('XGB', y_train, train_pred_xgb, 'Train')\n",
    "print_prediciton_scores('XGB', y_val, valid_pred_xgb, 'Validation')\n",
    "\n",
    "# del train_pred_xgb\n",
    "gc.collect()"
   ]
  },
  {
   "cell_type": "markdown",
   "metadata": {},
   "source": [
    "## Random Forest\n",
    "We use Random forest to plot accuracy against amount of trees to get an idea how good our features work with tree besed classifiers."
   ]
  },
  {
   "cell_type": "code",
   "execution_count": 64,
   "metadata": {},
   "outputs": [
    {
     "data": {
      "text/plain": [
       "RandomForestClassifier(bootstrap=True, class_weight=None, criterion='gini',\n",
       "            max_depth=7, max_features='auto', max_leaf_nodes=None,\n",
       "            min_impurity_decrease=0.0, min_impurity_split=None,\n",
       "            min_samples_leaf=1, min_samples_split=2,\n",
       "            min_weight_fraction_leaf=0.0, n_estimators=50, n_jobs=-1,\n",
       "            oob_score=False, random_state=None, verbose=0,\n",
       "            warm_start=False)"
      ]
     },
     "execution_count": 64,
     "metadata": {},
     "output_type": "execute_result"
    }
   ],
   "source": [
    "rf = RandomForestClassifier(n_estimators=50, max_depth=7, n_jobs=-1)\n",
    "rf.fit(X_train, y_train)"
   ]
  },
  {
   "cell_type": "code",
   "execution_count": 65,
   "metadata": {},
   "outputs": [
    {
     "name": "stdout",
     "output_type": "stream",
     "text": [
      "Validation R-squared for RF: 0.05471525457847459\n",
      "Validation RMSE for RF: 0.8755425240742573\n",
      "Validation Accuracy Score for RF: 0.8723741961705835\n"
     ]
    },
    {
     "data": {
      "text/plain": [
       "18"
      ]
     },
     "execution_count": 65,
     "metadata": {},
     "output_type": "execute_result"
    }
   ],
   "source": [
    "# train_pred_rf = rf.predict(X_train)\n",
    "valid_pred_rf = rf.predict(X_val)\n",
    "test_pred_rf = rf.predict(X_test)\n",
    "# print_prediciton_scores('RF', y_train, train_pred_rf, 'Train')\n",
    "print_prediciton_scores('RF', y_val, valid_pred_rf, 'Validation')\n",
    "\n",
    "# del train_pred_rf\n",
    "gc.collect()"
   ]
  },
  {
   "cell_type": "markdown",
   "metadata": {},
   "source": [
    "## KNN"
   ]
  },
  {
   "cell_type": "code",
   "execution_count": 80,
   "metadata": {},
   "outputs": [],
   "source": [
    "non_linear_columns = ['shop_id', 'item_id', 'item_category_id']\n",
    "knn_columns = list(X_train.drop(columns=non_linear_columns).columns)\n",
    "knn_train = X_train[-100000:][knn_columns]\n",
    "knn_y = y_train[-100000:]"
   ]
  },
  {
   "cell_type": "code",
   "execution_count": 81,
   "metadata": {},
   "outputs": [],
   "source": [
    "knn_scaler = MinMaxScaler()\n",
    "knn_scaler.fit(knn_train)\n",
    "knn_train = knn_scaler.transform(knn_train)\n",
    "knn_val = knn_scaler.transform(X_val[knn_columns])\n",
    "knn_test = knn_scaler.transform(X_test[knn_columns])"
   ]
  },
  {
   "cell_type": "code",
   "execution_count": 82,
   "metadata": {},
   "outputs": [
    {
     "data": {
      "text/plain": [
       "KNeighborsRegressor(algorithm='auto', leaf_size=13, metric='minkowski',\n",
       "          metric_params=None, n_jobs=-1, n_neighbors=9, p=2,\n",
       "          weights='uniform')"
      ]
     },
     "execution_count": 82,
     "metadata": {},
     "output_type": "execute_result"
    }
   ],
   "source": [
    "knn = KNeighborsRegressor(n_neighbors=9, leaf_size=13, n_jobs=-1)\n",
    "knn.fit(knn_train, knn_y)"
   ]
  },
  {
   "cell_type": "code",
   "execution_count": 83,
   "metadata": {},
   "outputs": [
    {
     "name": "stdout",
     "output_type": "stream",
     "text": [
      "Validation R-squared for KNN: 0.01876101526289531\n",
      "Validation RMSE for KNN: 0.8920379204314849\n",
      "Validation Accuracy Score for KNN: 0.8590399129189665\n"
     ]
    },
    {
     "data": {
      "text/plain": [
       "14488"
      ]
     },
     "execution_count": 83,
     "metadata": {},
     "output_type": "execute_result"
    }
   ],
   "source": [
    "valid_pred_knn = knn.predict(knn_val)\n",
    "test_pred_knn = knn.predict(knn_test)\n",
    "\n",
    "print_prediciton_scores('KNN', y_val, valid_pred_knn, 'Validation')\n",
    "\n",
    "del knn_scaler\n",
    "del knn_train\n",
    "del knn_val\n",
    "del knn_test\n",
    "gc.collect()"
   ]
  },
  {
   "cell_type": "markdown",
   "metadata": {},
   "source": [
    "## Prediction Comparisons"
   ]
  },
  {
   "cell_type": "code",
   "execution_count": 70,
   "metadata": {},
   "outputs": [],
   "source": [
    "def draw_scatter(x, y):\n",
    "    fig, ax = plt.subplots()\n",
    "    ax.scatter(x, y)\n",
    "    \n",
    "    lims = [\n",
    "        np.min([ax.get_xlim(), ax.get_ylim()]),  # min of both axes\n",
    "        np.max([ax.get_xlim(), ax.get_ylim()]),  # max of both axes\n",
    "    ]\n",
    "    \n",
    "    ax.plot(lims, lims, 'k-', alpha=0.75, zorder=0)\n",
    "    plt.draw()"
   ]
  },
  {
   "cell_type": "code",
   "execution_count": 71,
   "metadata": {},
   "outputs": [
    {
     "data": {
      "image/png": "[encoded data removed]",
      "text/plain": [
       "<Figure size 432x288 with 1 Axes>"
      ]
     },
     "metadata": {
      "needs_background": "light"
     },
     "output_type": "display_data"
    },
    {
     "data": {
      "image/png": "[encoded data removed]",
      "text/plain": [
       "<Figure size 432x288 with 1 Axes>"
      ]
     },
     "metadata": {
      "needs_background": "light"
     },
     "output_type": "display_data"
    },
    {
     "data": {
      "image/png": "[encoded data removed]",
      "text/plain": [
       "<Figure size 432x288 with 1 Axes>"
      ]
     },
     "metadata": {
      "needs_background": "light"
     },
     "output_type": "display_data"
    },
    {
     "data": {
      "image/png": "[encoded data removed]",
      "text/plain": [
       "<Figure size 432x288 with 1 Axes>"
      ]
     },
     "metadata": {
      "needs_background": "light"
     },
     "output_type": "display_data"
    },
    {
     "data": {
      "image/png": "[encoded data removed]",
      "text/plain": [
       "<Figure size 432x288 with 1 Axes>"
      ]
     },
     "metadata": {
      "needs_background": "light"
     },
     "output_type": "display_data"
    },
    {
     "data": {
      "image/png": "[encoded data removed]",
      "text/plain": [
       "<Figure size 432x288 with 1 Axes>"
      ]
     },
     "metadata": {
      "needs_background": "light"
     },
     "output_type": "display_data"
    }
   ],
   "source": [
    "draw_scatter(valid_pred_lr, valid_pred_xgb)\n",
    "draw_scatter(valid_pred_lr, valid_pred_rf)\n",
    "draw_scatter(valid_pred_lr, valid_pred_knn)\n",
    "draw_scatter(valid_pred_xgb, valid_pred_rf)\n",
    "draw_scatter(valid_pred_xgb, valid_pred_knn)\n",
    "draw_scatter(valid_pred_rf, valid_pred_knn)"
   ]
  },
  {
   "cell_type": "markdown",
   "metadata": {},
   "source": [
    "As we can see, all models give reasonably spread predictions. This will allow our 2nd level model to extract more information."
   ]
  },
  {
   "cell_type": "markdown",
   "metadata": {},
   "source": [
    "# Ensembling\n",
    "## Dataset Ensemble Training\n",
    "Create validation scheme for ensemble model."
   ]
  },
  {
   "cell_type": "code",
   "execution_count": 72,
   "metadata": {},
   "outputs": [],
   "source": [
    "X_fl = pd.DataFrame(valid_pred_lr, columns=['lr'])\n",
    "X_fl['xgb'] = valid_pred_xgb\n",
    "X_fl['rf'] = valid_pred_rf\n",
    "X_fl['knn'] = valid_pred_knn\n",
    "y_fl = y_val"
   ]
  },
  {
   "cell_type": "code",
   "execution_count": 73,
   "metadata": {},
   "outputs": [
    {
     "data": {
      "text/html": [
       "<div>\n",
       "<style scoped>\n",
       "    .dataframe tbody tr th:only-of-type {\n",
       "        vertical-align: middle;\n",
       "    }\n",
       "\n",
       "    .dataframe tbody tr th {\n",
       "        vertical-align: top;\n",
       "    }\n",
       "\n",
       "    .dataframe thead th {\n",
       "        text-align: right;\n",
       "    }\n",
       "</style>\n",
       "<table border=\"1\" class=\"dataframe\">\n",
       "  <thead>\n",
       "    <tr style=\"text-align: right;\">\n",
       "      <th></th>\n",
       "      <th>lr</th>\n",
       "      <th>xgb</th>\n",
       "      <th>rf</th>\n",
       "      <th>knn</th>\n",
       "    </tr>\n",
       "  </thead>\n",
       "  <tbody>\n",
       "    <tr>\n",
       "      <th>count</th>\n",
       "      <td>856214.000000</td>\n",
       "      <td>856214.000000</td>\n",
       "      <td>856214.000000</td>\n",
       "      <td>856214.000000</td>\n",
       "    </tr>\n",
       "    <tr>\n",
       "      <th>mean</th>\n",
       "      <td>0.220084</td>\n",
       "      <td>0.281803</td>\n",
       "      <td>0.016120</td>\n",
       "      <td>0.021754</td>\n",
       "    </tr>\n",
       "    <tr>\n",
       "      <th>std</th>\n",
       "      <td>0.690657</td>\n",
       "      <td>0.379465</td>\n",
       "      <td>0.187264</td>\n",
       "      <td>0.224500</td>\n",
       "    </tr>\n",
       "    <tr>\n",
       "      <th>min</th>\n",
       "      <td>-3.670034</td>\n",
       "      <td>0.050109</td>\n",
       "      <td>0.000000</td>\n",
       "      <td>0.000000</td>\n",
       "    </tr>\n",
       "    <tr>\n",
       "      <th>25%</th>\n",
       "      <td>0.007266</td>\n",
       "      <td>0.151817</td>\n",
       "      <td>0.000000</td>\n",
       "      <td>0.000000</td>\n",
       "    </tr>\n",
       "    <tr>\n",
       "      <th>50%</th>\n",
       "      <td>0.037146</td>\n",
       "      <td>0.158037</td>\n",
       "      <td>0.000000</td>\n",
       "      <td>0.000000</td>\n",
       "    </tr>\n",
       "    <tr>\n",
       "      <th>75%</th>\n",
       "      <td>0.179480</td>\n",
       "      <td>0.256333</td>\n",
       "      <td>0.000000</td>\n",
       "      <td>0.000000</td>\n",
       "    </tr>\n",
       "    <tr>\n",
       "      <th>max</th>\n",
       "      <td>19.302905</td>\n",
       "      <td>8.422966</td>\n",
       "      <td>8.000000</td>\n",
       "      <td>10.333333</td>\n",
       "    </tr>\n",
       "  </tbody>\n",
       "</table>\n",
       "</div>"
      ],
      "text/plain": [
       "                  lr            xgb             rf            knn\n",
       "count  856214.000000  856214.000000  856214.000000  856214.000000\n",
       "mean        0.220084       0.281803       0.016120       0.021754\n",
       "std         0.690657       0.379465       0.187264       0.224500\n",
       "min        -3.670034       0.050109       0.000000       0.000000\n",
       "25%         0.007266       0.151817       0.000000       0.000000\n",
       "50%         0.037146       0.158037       0.000000       0.000000\n",
       "75%         0.179480       0.256333       0.000000       0.000000\n",
       "max        19.302905       8.422966       8.000000      10.333333"
      ]
     },
     "execution_count": 73,
     "metadata": {},
     "output_type": "execute_result"
    }
   ],
   "source": [
    "X_fl.describe()"
   ]
  },
  {
   "cell_type": "markdown",
   "metadata": {},
   "source": [
    "## Ensemble Model"
   ]
  },
  {
   "cell_type": "code",
   "execution_count": 74,
   "metadata": {},
   "outputs": [
    {
     "data": {
      "text/plain": [
       "LinearRegression(copy_X=True, fit_intercept=True, n_jobs=-1, normalize=False)"
      ]
     },
     "execution_count": 74,
     "metadata": {},
     "output_type": "execute_result"
    }
   ],
   "source": [
    "meta_lr = LinearRegression(n_jobs=-1)\n",
    "meta_lr.fit(X_fl, y_fl)"
   ]
  },
  {
   "cell_type": "code",
   "execution_count": 75,
   "metadata": {},
   "outputs": [
    {
     "name": "stdout",
     "output_type": "stream",
     "text": [
      "Train R-squared for Meta: 0.23349242387588476\n",
      "Train RMSE for Meta: 0.7884136690860556\n",
      "Train Accuracy Score for Meta: 0.8561913260002756\n"
     ]
    }
   ],
   "source": [
    "train_pred_meta = meta_lr.predict(X_fl)\n",
    "print_prediciton_scores('Meta', y_val, train_pred_meta, 'Train')"
   ]
  },
  {
   "cell_type": "markdown",
   "metadata": {},
   "source": [
    "# Predicting Competition Data"
   ]
  },
  {
   "cell_type": "markdown",
   "metadata": {},
   "source": [
    "## Dataset Ensemble Prediction"
   ]
  },
  {
   "cell_type": "code",
   "execution_count": 76,
   "metadata": {},
   "outputs": [],
   "source": [
    "X_fl_test = pd.DataFrame(test_pred_lr, columns=['lr'])\n",
    "X_fl_test['xgb'] = test_pred_xgb\n",
    "X_fl_test['rf'] = test_pred_rf\n",
    "X_fl_test['knn'] = test_pred_knn"
   ]
  },
  {
   "cell_type": "markdown",
   "metadata": {},
   "source": [
    "## Predict"
   ]
  },
  {
   "cell_type": "code",
   "execution_count": 77,
   "metadata": {},
   "outputs": [
    {
     "data": {
      "text/plain": [
       "array([ 0.52239613,  0.11070628,  0.23240038, ...,  0.19724621,\n",
       "        0.11201687,  0.20370195])"
      ]
     },
     "execution_count": 77,
     "metadata": {},
     "output_type": "execute_result"
    }
   ],
   "source": [
    "pred_meta = meta_lr.predict(X_fl_test)\n",
    "pred_meta"
   ]
  },
  {
   "cell_type": "markdown",
   "metadata": {},
   "source": [
    "## Build Submission CSV"
   ]
  },
  {
   "cell_type": "code",
   "execution_count": 78,
   "metadata": {},
   "outputs": [
    {
     "data": {
      "text/html": [
       "<div>\n",
       "<style scoped>\n",
       "    .dataframe tbody tr th:only-of-type {\n",
       "        vertical-align: middle;\n",
       "    }\n",
       "\n",
       "    .dataframe tbody tr th {\n",
       "        vertical-align: top;\n",
       "    }\n",
       "\n",
       "    .dataframe thead th {\n",
       "        text-align: right;\n",
       "    }\n",
       "</style>\n",
       "<table border=\"1\" class=\"dataframe\">\n",
       "  <thead>\n",
       "    <tr style=\"text-align: right;\">\n",
       "      <th></th>\n",
       "      <th>ID</th>\n",
       "      <th>item_cnt_month</th>\n",
       "    </tr>\n",
       "  </thead>\n",
       "  <tbody>\n",
       "    <tr>\n",
       "      <th>count</th>\n",
       "      <td>214200.000000</td>\n",
       "      <td>214200.000000</td>\n",
       "    </tr>\n",
       "    <tr>\n",
       "      <th>mean</th>\n",
       "      <td>107099.500000</td>\n",
       "      <td>0.244257</td>\n",
       "    </tr>\n",
       "    <tr>\n",
       "      <th>std</th>\n",
       "      <td>61834.358168</td>\n",
       "      <td>0.445999</td>\n",
       "    </tr>\n",
       "    <tr>\n",
       "      <th>min</th>\n",
       "      <td>0.000000</td>\n",
       "      <td>0.000000</td>\n",
       "    </tr>\n",
       "    <tr>\n",
       "      <th>25%</th>\n",
       "      <td>53549.750000</td>\n",
       "      <td>0.111023</td>\n",
       "    </tr>\n",
       "    <tr>\n",
       "      <th>50%</th>\n",
       "      <td>107099.500000</td>\n",
       "      <td>0.120845</td>\n",
       "    </tr>\n",
       "    <tr>\n",
       "      <th>75%</th>\n",
       "      <td>160649.250000</td>\n",
       "      <td>0.209123</td>\n",
       "    </tr>\n",
       "    <tr>\n",
       "      <th>max</th>\n",
       "      <td>214199.000000</td>\n",
       "      <td>14.253470</td>\n",
       "    </tr>\n",
       "  </tbody>\n",
       "</table>\n",
       "</div>"
      ],
      "text/plain": [
       "                  ID  item_cnt_month\n",
       "count  214200.000000   214200.000000\n",
       "mean   107099.500000        0.244257\n",
       "std     61834.358168        0.445999\n",
       "min         0.000000        0.000000\n",
       "25%     53549.750000        0.111023\n",
       "50%    107099.500000        0.120845\n",
       "75%    160649.250000        0.209123\n",
       "max    214199.000000       14.253470"
      ]
     },
     "execution_count": 78,
     "metadata": {},
     "output_type": "execute_result"
    }
   ],
   "source": [
    "submission = pd.DataFrame()\n",
    "submission['ID'] = sample_submission['ID']\n",
    "submission['item_cnt_month'] = pred_meta.clip(0, 20)\n",
    "\n",
    "submission_rounded = submission.copy()\n",
    "submission_rounded['item_cnt_month'] = np.around(submission['item_cnt_month'])\n",
    "\n",
    "submission.describe()"
   ]
  },
  {
   "cell_type": "code",
   "execution_count": 79,
   "metadata": {},
   "outputs": [],
   "source": [
    "submission.to_csv('submission.csv', index=False)\n",
    "submission_rounded.to_csv('submission_rounded.csv', index=False)"
   ]
  },
  {
   "cell_type": "code",
   "execution_count": null,
   "metadata": {},
   "outputs": [],
   "source": []
  }
 ],
 "metadata": {
  "kernelspec": {
   "display_name": "Python 3",
   "language": "python",
   "name": "python3"
  },
  "language_info": {
   "codemirror_mode": {
    "name": "ipython",
    "version": 3
   },
   "file_extension": ".py",
   "mimetype": "text/x-python",
   "name": "python",
   "nbconvert_exporter": "python",
   "pygments_lexer": "ipython3",
   "version": "3.6.10"
  }
 },
 "nbformat": 4,
 "nbformat_minor": 4
}
