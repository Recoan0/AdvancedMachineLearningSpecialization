{
 "cells": [
  {
   "cell_type": "markdown",
   "metadata": {},
   "source": [
    "# Import Libraries"
   ]
  },
  {
   "cell_type": "code",
   "execution_count": 2,
   "metadata": {},
   "outputs": [
    {
     "name": "stderr",
     "output_type": "stream",
     "text": [
      "Using TensorFlow backend.\n"
     ]
    }
   ],
   "source": [
    "import keras\n",
    "import gc\n",
    "import tensorflow as tf\n",
    "import numpy as np\n",
    "import pandas as pd\n",
    "import xgboost as xgb\n",
    "import matplotlib.pyplot as plt\n",
    "from sklearn.model_selection import train_test_split, KFold\n",
    "from sklearn.metrics import mean_squared_error, accuracy_score, r2_score\n",
    "from sklearn.linear_model import LinearRegression\n",
    "from sklearn.ensemble import RandomForestClassifier"
   ]
  },
  {
   "cell_type": "code",
   "execution_count": 3,
   "metadata": {},
   "outputs": [],
   "source": [
    "# Set random seeds\n",
    "np.random.seed(0)\n",
    "tf.set_random_seed(0)"
   ]
  },
  {
   "cell_type": "markdown",
   "metadata": {},
   "source": [
    "# Open Data"
   ]
  },
  {
   "cell_type": "code",
   "execution_count": 4,
   "metadata": {},
   "outputs": [],
   "source": [
    "# Open data, csv files should be in same folder as notebook.\n",
    "notebook_dir = %pwd\n",
    "\n",
    "items = pd.read_csv(notebook_dir + \"/items.csv\")\n",
    "shops = pd.read_csv(notebook_dir + \"/shops.csv\")\n",
    "train = pd.read_csv(notebook_dir + \"/sales_train.csv\")\n",
    "test = pd.read_csv(notebook_dir + \"/test.csv\")\n",
    "sample_submission = pd.read_csv(notebook_dir + \"/sample_submission.csv\")\n",
    "item_category = pd.read_csv(notebook_dir + \"/item_categories.csv\")"
   ]
  },
  {
   "cell_type": "markdown",
   "metadata": {},
   "source": [
    "# Exploratory Data Analysis\n",
    "## Additional Data"
   ]
  },
  {
   "cell_type": "code",
   "execution_count": 5,
   "metadata": {},
   "outputs": [
    {
     "name": "stdout",
     "output_type": "stream",
     "text": [
      "Amount of items: 22170\n"
     ]
    },
    {
     "data": {
      "text/html": [
       "<div>\n",
       "<style scoped>\n",
       "    .dataframe tbody tr th:only-of-type {\n",
       "        vertical-align: middle;\n",
       "    }\n",
       "\n",
       "    .dataframe tbody tr th {\n",
       "        vertical-align: top;\n",
       "    }\n",
       "\n",
       "    .dataframe thead th {\n",
       "        text-align: right;\n",
       "    }\n",
       "</style>\n",
       "<table border=\"1\" class=\"dataframe\">\n",
       "  <thead>\n",
       "    <tr style=\"text-align: right;\">\n",
       "      <th></th>\n",
       "      <th>item_name</th>\n",
       "      <th>item_id</th>\n",
       "      <th>item_category_id</th>\n",
       "    </tr>\n",
       "  </thead>\n",
       "  <tbody>\n",
       "    <tr>\n",
       "      <th>0</th>\n",
       "      <td>! ВО ВЛАСТИ НАВАЖДЕНИЯ (ПЛАСТ.)         D</td>\n",
       "      <td>0</td>\n",
       "      <td>40</td>\n",
       "    </tr>\n",
       "    <tr>\n",
       "      <th>1</th>\n",
       "      <td>!ABBYY FineReader 12 Professional Edition Full...</td>\n",
       "      <td>1</td>\n",
       "      <td>76</td>\n",
       "    </tr>\n",
       "    <tr>\n",
       "      <th>2</th>\n",
       "      <td>***В ЛУЧАХ СЛАВЫ   (UNV)                    D</td>\n",
       "      <td>2</td>\n",
       "      <td>40</td>\n",
       "    </tr>\n",
       "    <tr>\n",
       "      <th>3</th>\n",
       "      <td>***ГОЛУБАЯ ВОЛНА  (Univ)                      D</td>\n",
       "      <td>3</td>\n",
       "      <td>40</td>\n",
       "    </tr>\n",
       "    <tr>\n",
       "      <th>4</th>\n",
       "      <td>***КОРОБКА (СТЕКЛО)                       D</td>\n",
       "      <td>4</td>\n",
       "      <td>40</td>\n",
       "    </tr>\n",
       "  </tbody>\n",
       "</table>\n",
       "</div>"
      ],
      "text/plain": [
       "                                           item_name  item_id  \\\n",
       "0          ! ВО ВЛАСТИ НАВАЖДЕНИЯ (ПЛАСТ.)         D        0   \n",
       "1  !ABBYY FineReader 12 Professional Edition Full...        1   \n",
       "2      ***В ЛУЧАХ СЛАВЫ   (UNV)                    D        2   \n",
       "3    ***ГОЛУБАЯ ВОЛНА  (Univ)                      D        3   \n",
       "4        ***КОРОБКА (СТЕКЛО)                       D        4   \n",
       "\n",
       "   item_category_id  \n",
       "0                40  \n",
       "1                76  \n",
       "2                40  \n",
       "3                40  \n",
       "4                40  "
      ]
     },
     "execution_count": 5,
     "metadata": {},
     "output_type": "execute_result"
    }
   ],
   "source": [
    "print('Amount of items:', len(items))\n",
    "items.head()"
   ]
  },
  {
   "cell_type": "code",
   "execution_count": 6,
   "metadata": {},
   "outputs": [
    {
     "name": "stdout",
     "output_type": "stream",
     "text": [
      "Amount of shops: 60\n"
     ]
    },
    {
     "data": {
      "text/html": [
       "<div>\n",
       "<style scoped>\n",
       "    .dataframe tbody tr th:only-of-type {\n",
       "        vertical-align: middle;\n",
       "    }\n",
       "\n",
       "    .dataframe tbody tr th {\n",
       "        vertical-align: top;\n",
       "    }\n",
       "\n",
       "    .dataframe thead th {\n",
       "        text-align: right;\n",
       "    }\n",
       "</style>\n",
       "<table border=\"1\" class=\"dataframe\">\n",
       "  <thead>\n",
       "    <tr style=\"text-align: right;\">\n",
       "      <th></th>\n",
       "      <th>shop_name</th>\n",
       "      <th>shop_id</th>\n",
       "    </tr>\n",
       "  </thead>\n",
       "  <tbody>\n",
       "    <tr>\n",
       "      <th>0</th>\n",
       "      <td>!Якутск Орджоникидзе, 56 фран</td>\n",
       "      <td>0</td>\n",
       "    </tr>\n",
       "    <tr>\n",
       "      <th>1</th>\n",
       "      <td>!Якутск ТЦ \"Центральный\" фран</td>\n",
       "      <td>1</td>\n",
       "    </tr>\n",
       "    <tr>\n",
       "      <th>2</th>\n",
       "      <td>Адыгея ТЦ \"Мега\"</td>\n",
       "      <td>2</td>\n",
       "    </tr>\n",
       "    <tr>\n",
       "      <th>3</th>\n",
       "      <td>Балашиха ТРК \"Октябрь-Киномир\"</td>\n",
       "      <td>3</td>\n",
       "    </tr>\n",
       "    <tr>\n",
       "      <th>4</th>\n",
       "      <td>Волжский ТЦ \"Волга Молл\"</td>\n",
       "      <td>4</td>\n",
       "    </tr>\n",
       "  </tbody>\n",
       "</table>\n",
       "</div>"
      ],
      "text/plain": [
       "                        shop_name  shop_id\n",
       "0   !Якутск Орджоникидзе, 56 фран        0\n",
       "1   !Якутск ТЦ \"Центральный\" фран        1\n",
       "2                Адыгея ТЦ \"Мега\"        2\n",
       "3  Балашиха ТРК \"Октябрь-Киномир\"        3\n",
       "4        Волжский ТЦ \"Волга Молл\"        4"
      ]
     },
     "execution_count": 6,
     "metadata": {},
     "output_type": "execute_result"
    }
   ],
   "source": [
    "print('Amount of shops:', len(shops))\n",
    "shops.head()"
   ]
  },
  {
   "cell_type": "code",
   "execution_count": 7,
   "metadata": {},
   "outputs": [
    {
     "name": "stdout",
     "output_type": "stream",
     "text": [
      "Amount of item categories: 84\n"
     ]
    },
    {
     "data": {
      "text/html": [
       "<div>\n",
       "<style scoped>\n",
       "    .dataframe tbody tr th:only-of-type {\n",
       "        vertical-align: middle;\n",
       "    }\n",
       "\n",
       "    .dataframe tbody tr th {\n",
       "        vertical-align: top;\n",
       "    }\n",
       "\n",
       "    .dataframe thead th {\n",
       "        text-align: right;\n",
       "    }\n",
       "</style>\n",
       "<table border=\"1\" class=\"dataframe\">\n",
       "  <thead>\n",
       "    <tr style=\"text-align: right;\">\n",
       "      <th></th>\n",
       "      <th>item_category_name</th>\n",
       "      <th>item_category_id</th>\n",
       "    </tr>\n",
       "  </thead>\n",
       "  <tbody>\n",
       "    <tr>\n",
       "      <th>0</th>\n",
       "      <td>PC - Гарнитуры/Наушники</td>\n",
       "      <td>0</td>\n",
       "    </tr>\n",
       "    <tr>\n",
       "      <th>1</th>\n",
       "      <td>Аксессуары - PS2</td>\n",
       "      <td>1</td>\n",
       "    </tr>\n",
       "    <tr>\n",
       "      <th>2</th>\n",
       "      <td>Аксессуары - PS3</td>\n",
       "      <td>2</td>\n",
       "    </tr>\n",
       "    <tr>\n",
       "      <th>3</th>\n",
       "      <td>Аксессуары - PS4</td>\n",
       "      <td>3</td>\n",
       "    </tr>\n",
       "    <tr>\n",
       "      <th>4</th>\n",
       "      <td>Аксессуары - PSP</td>\n",
       "      <td>4</td>\n",
       "    </tr>\n",
       "  </tbody>\n",
       "</table>\n",
       "</div>"
      ],
      "text/plain": [
       "        item_category_name  item_category_id\n",
       "0  PC - Гарнитуры/Наушники                 0\n",
       "1         Аксессуары - PS2                 1\n",
       "2         Аксессуары - PS3                 2\n",
       "3         Аксессуары - PS4                 3\n",
       "4         Аксессуары - PSP                 4"
      ]
     },
     "execution_count": 7,
     "metadata": {},
     "output_type": "execute_result"
    }
   ],
   "source": [
    "print('Amount of item categories:', len(item_category))\n",
    "item_category.head()"
   ]
  },
  {
   "cell_type": "code",
   "execution_count": 8,
   "metadata": {},
   "outputs": [
    {
     "data": {
      "text/html": [
       "<div>\n",
       "<style scoped>\n",
       "    .dataframe tbody tr th:only-of-type {\n",
       "        vertical-align: middle;\n",
       "    }\n",
       "\n",
       "    .dataframe tbody tr th {\n",
       "        vertical-align: top;\n",
       "    }\n",
       "\n",
       "    .dataframe thead th {\n",
       "        text-align: right;\n",
       "    }\n",
       "</style>\n",
       "<table border=\"1\" class=\"dataframe\">\n",
       "  <thead>\n",
       "    <tr style=\"text-align: right;\">\n",
       "      <th></th>\n",
       "      <th>ID</th>\n",
       "      <th>item_cnt_month</th>\n",
       "    </tr>\n",
       "  </thead>\n",
       "  <tbody>\n",
       "    <tr>\n",
       "      <th>0</th>\n",
       "      <td>0</td>\n",
       "      <td>0.5</td>\n",
       "    </tr>\n",
       "    <tr>\n",
       "      <th>1</th>\n",
       "      <td>1</td>\n",
       "      <td>0.5</td>\n",
       "    </tr>\n",
       "    <tr>\n",
       "      <th>2</th>\n",
       "      <td>2</td>\n",
       "      <td>0.5</td>\n",
       "    </tr>\n",
       "    <tr>\n",
       "      <th>3</th>\n",
       "      <td>3</td>\n",
       "      <td>0.5</td>\n",
       "    </tr>\n",
       "    <tr>\n",
       "      <th>4</th>\n",
       "      <td>4</td>\n",
       "      <td>0.5</td>\n",
       "    </tr>\n",
       "  </tbody>\n",
       "</table>\n",
       "</div>"
      ],
      "text/plain": [
       "   ID  item_cnt_month\n",
       "0   0             0.5\n",
       "1   1             0.5\n",
       "2   2             0.5\n",
       "3   3             0.5\n",
       "4   4             0.5"
      ]
     },
     "execution_count": 8,
     "metadata": {},
     "output_type": "execute_result"
    }
   ],
   "source": [
    "sample_submission.head()"
   ]
  },
  {
   "cell_type": "markdown",
   "metadata": {},
   "source": [
    "## Train"
   ]
  },
  {
   "cell_type": "code",
   "execution_count": 9,
   "metadata": {},
   "outputs": [
    {
     "name": "stdout",
     "output_type": "stream",
     "text": [
      "Size of train-set: 2935849\n"
     ]
    },
    {
     "data": {
      "text/html": [
       "<div>\n",
       "<style scoped>\n",
       "    .dataframe tbody tr th:only-of-type {\n",
       "        vertical-align: middle;\n",
       "    }\n",
       "\n",
       "    .dataframe tbody tr th {\n",
       "        vertical-align: top;\n",
       "    }\n",
       "\n",
       "    .dataframe thead th {\n",
       "        text-align: right;\n",
       "    }\n",
       "</style>\n",
       "<table border=\"1\" class=\"dataframe\">\n",
       "  <thead>\n",
       "    <tr style=\"text-align: right;\">\n",
       "      <th></th>\n",
       "      <th>date</th>\n",
       "      <th>date_block_num</th>\n",
       "      <th>shop_id</th>\n",
       "      <th>item_id</th>\n",
       "      <th>item_price</th>\n",
       "      <th>item_cnt_day</th>\n",
       "    </tr>\n",
       "  </thead>\n",
       "  <tbody>\n",
       "    <tr>\n",
       "      <th>0</th>\n",
       "      <td>02.01.2013</td>\n",
       "      <td>0</td>\n",
       "      <td>59</td>\n",
       "      <td>22154</td>\n",
       "      <td>999.00</td>\n",
       "      <td>1.0</td>\n",
       "    </tr>\n",
       "    <tr>\n",
       "      <th>1</th>\n",
       "      <td>03.01.2013</td>\n",
       "      <td>0</td>\n",
       "      <td>25</td>\n",
       "      <td>2552</td>\n",
       "      <td>899.00</td>\n",
       "      <td>1.0</td>\n",
       "    </tr>\n",
       "    <tr>\n",
       "      <th>2</th>\n",
       "      <td>05.01.2013</td>\n",
       "      <td>0</td>\n",
       "      <td>25</td>\n",
       "      <td>2552</td>\n",
       "      <td>899.00</td>\n",
       "      <td>-1.0</td>\n",
       "    </tr>\n",
       "    <tr>\n",
       "      <th>3</th>\n",
       "      <td>06.01.2013</td>\n",
       "      <td>0</td>\n",
       "      <td>25</td>\n",
       "      <td>2554</td>\n",
       "      <td>1709.05</td>\n",
       "      <td>1.0</td>\n",
       "    </tr>\n",
       "    <tr>\n",
       "      <th>4</th>\n",
       "      <td>15.01.2013</td>\n",
       "      <td>0</td>\n",
       "      <td>25</td>\n",
       "      <td>2555</td>\n",
       "      <td>1099.00</td>\n",
       "      <td>1.0</td>\n",
       "    </tr>\n",
       "  </tbody>\n",
       "</table>\n",
       "</div>"
      ],
      "text/plain": [
       "         date  date_block_num  shop_id  item_id  item_price  item_cnt_day\n",
       "0  02.01.2013               0       59    22154      999.00           1.0\n",
       "1  03.01.2013               0       25     2552      899.00           1.0\n",
       "2  05.01.2013               0       25     2552      899.00          -1.0\n",
       "3  06.01.2013               0       25     2554     1709.05           1.0\n",
       "4  15.01.2013               0       25     2555     1099.00           1.0"
      ]
     },
     "execution_count": 9,
     "metadata": {},
     "output_type": "execute_result"
    }
   ],
   "source": [
    "print('Size of train-set:', len(train))\n",
    "train.head()"
   ]
  },
  {
   "cell_type": "code",
   "execution_count": 10,
   "metadata": {},
   "outputs": [
    {
     "data": {
      "text/html": [
       "<div>\n",
       "<style scoped>\n",
       "    .dataframe tbody tr th:only-of-type {\n",
       "        vertical-align: middle;\n",
       "    }\n",
       "\n",
       "    .dataframe tbody tr th {\n",
       "        vertical-align: top;\n",
       "    }\n",
       "\n",
       "    .dataframe thead th {\n",
       "        text-align: right;\n",
       "    }\n",
       "</style>\n",
       "<table border=\"1\" class=\"dataframe\">\n",
       "  <thead>\n",
       "    <tr style=\"text-align: right;\">\n",
       "      <th></th>\n",
       "      <th>date_block_num</th>\n",
       "      <th>shop_id</th>\n",
       "      <th>item_id</th>\n",
       "      <th>item_price</th>\n",
       "      <th>item_cnt_day</th>\n",
       "    </tr>\n",
       "  </thead>\n",
       "  <tbody>\n",
       "    <tr>\n",
       "      <th>count</th>\n",
       "      <td>2.935849e+06</td>\n",
       "      <td>2.935849e+06</td>\n",
       "      <td>2.935849e+06</td>\n",
       "      <td>2.935849e+06</td>\n",
       "      <td>2.935849e+06</td>\n",
       "    </tr>\n",
       "    <tr>\n",
       "      <th>mean</th>\n",
       "      <td>1.456991e+01</td>\n",
       "      <td>3.300173e+01</td>\n",
       "      <td>1.019723e+04</td>\n",
       "      <td>8.908532e+02</td>\n",
       "      <td>1.242641e+00</td>\n",
       "    </tr>\n",
       "    <tr>\n",
       "      <th>std</th>\n",
       "      <td>9.422988e+00</td>\n",
       "      <td>1.622697e+01</td>\n",
       "      <td>6.324297e+03</td>\n",
       "      <td>1.729800e+03</td>\n",
       "      <td>2.618834e+00</td>\n",
       "    </tr>\n",
       "    <tr>\n",
       "      <th>min</th>\n",
       "      <td>0.000000e+00</td>\n",
       "      <td>0.000000e+00</td>\n",
       "      <td>0.000000e+00</td>\n",
       "      <td>-1.000000e+00</td>\n",
       "      <td>-2.200000e+01</td>\n",
       "    </tr>\n",
       "    <tr>\n",
       "      <th>25%</th>\n",
       "      <td>7.000000e+00</td>\n",
       "      <td>2.200000e+01</td>\n",
       "      <td>4.476000e+03</td>\n",
       "      <td>2.490000e+02</td>\n",
       "      <td>1.000000e+00</td>\n",
       "    </tr>\n",
       "    <tr>\n",
       "      <th>50%</th>\n",
       "      <td>1.400000e+01</td>\n",
       "      <td>3.100000e+01</td>\n",
       "      <td>9.343000e+03</td>\n",
       "      <td>3.990000e+02</td>\n",
       "      <td>1.000000e+00</td>\n",
       "    </tr>\n",
       "    <tr>\n",
       "      <th>75%</th>\n",
       "      <td>2.300000e+01</td>\n",
       "      <td>4.700000e+01</td>\n",
       "      <td>1.568400e+04</td>\n",
       "      <td>9.990000e+02</td>\n",
       "      <td>1.000000e+00</td>\n",
       "    </tr>\n",
       "    <tr>\n",
       "      <th>max</th>\n",
       "      <td>3.300000e+01</td>\n",
       "      <td>5.900000e+01</td>\n",
       "      <td>2.216900e+04</td>\n",
       "      <td>3.079800e+05</td>\n",
       "      <td>2.169000e+03</td>\n",
       "    </tr>\n",
       "  </tbody>\n",
       "</table>\n",
       "</div>"
      ],
      "text/plain": [
       "       date_block_num       shop_id       item_id    item_price  item_cnt_day\n",
       "count    2.935849e+06  2.935849e+06  2.935849e+06  2.935849e+06  2.935849e+06\n",
       "mean     1.456991e+01  3.300173e+01  1.019723e+04  8.908532e+02  1.242641e+00\n",
       "std      9.422988e+00  1.622697e+01  6.324297e+03  1.729800e+03  2.618834e+00\n",
       "min      0.000000e+00  0.000000e+00  0.000000e+00 -1.000000e+00 -2.200000e+01\n",
       "25%      7.000000e+00  2.200000e+01  4.476000e+03  2.490000e+02  1.000000e+00\n",
       "50%      1.400000e+01  3.100000e+01  9.343000e+03  3.990000e+02  1.000000e+00\n",
       "75%      2.300000e+01  4.700000e+01  1.568400e+04  9.990000e+02  1.000000e+00\n",
       "max      3.300000e+01  5.900000e+01  2.216900e+04  3.079800e+05  2.169000e+03"
      ]
     },
     "execution_count": 10,
     "metadata": {},
     "output_type": "execute_result"
    }
   ],
   "source": [
    "train.describe()"
   ]
  },
  {
   "cell_type": "markdown",
   "metadata": {},
   "source": [
    "As we can see price and item count vary by quite a lot and are in some cases invalid (negative price)"
   ]
  },
  {
   "cell_type": "code",
   "execution_count": 11,
   "metadata": {},
   "outputs": [],
   "source": [
    "# Drop duplicates so they cannot influence training\n",
    "train.drop_duplicates(inplace=True)"
   ]
  },
  {
   "cell_type": "code",
   "execution_count": 12,
   "metadata": {},
   "outputs": [
    {
     "data": {
      "text/plain": [
       "{'whiskers': [<matplotlib.lines.Line2D at 0x7f00f8f6cdd8>,\n",
       "  <matplotlib.lines.Line2D at 0x7f00f8f80160>],\n",
       " 'caps': [<matplotlib.lines.Line2D at 0x7f00f8f804a8>,\n",
       "  <matplotlib.lines.Line2D at 0x7f00f8f807f0>],\n",
       " 'boxes': [<matplotlib.lines.Line2D at 0x7f00f8f6cc50>],\n",
       " 'medians': [<matplotlib.lines.Line2D at 0x7f00f8f80b38>],\n",
       " 'fliers': [<matplotlib.lines.Line2D at 0x7f00f8f80e80>],\n",
       " 'means': []}"
      ]
     },
     "execution_count": 12,
     "metadata": {},
     "output_type": "execute_result"
    },
    {
     "data": {
      "image/png": "[encoded data removed]",
      "text/plain": [
       "<Figure size 432x288 with 1 Axes>"
      ]
     },
     "metadata": {
      "needs_background": "light"
     },
     "output_type": "display_data"
    }
   ],
   "source": [
    "plt.boxplot(train['item_cnt_day'])"
   ]
  },
  {
   "cell_type": "code",
   "execution_count": 13,
   "metadata": {},
   "outputs": [
    {
     "data": {
      "text/plain": [
       "{'whiskers': [<matplotlib.lines.Line2D at 0x7f00f8f03b38>,\n",
       "  <matplotlib.lines.Line2D at 0x7f00f8f03ef0>],\n",
       " 'caps': [<matplotlib.lines.Line2D at 0x7f00f8f10278>,\n",
       "  <matplotlib.lines.Line2D at 0x7f00f8f105c0>],\n",
       " 'boxes': [<matplotlib.lines.Line2D at 0x7f00f8f039e8>],\n",
       " 'medians': [<matplotlib.lines.Line2D at 0x7f00f8f10908>],\n",
       " 'fliers': [<matplotlib.lines.Line2D at 0x7f00f8f10c50>],\n",
       " 'means': []}"
      ]
     },
     "execution_count": 13,
     "metadata": {},
     "output_type": "execute_result"
    },
    {
     "data": {
      "image/png": "[encoded data removed]",
      "text/plain": [
       "<Figure size 432x288 with 1 Axes>"
      ]
     },
     "metadata": {
      "needs_background": "light"
     },
     "output_type": "display_data"
    }
   ],
   "source": [
    "plt.boxplot(train['item_price'])"
   ]
  },
  {
   "cell_type": "code",
   "execution_count": 14,
   "metadata": {},
   "outputs": [
    {
     "data": {
      "text/plain": [
       "(array([ 7.,  0.,  4.,  6.,  8.,  4.,  1.,  2.,  1.,  1.]),\n",
       " array([  50588. ,   59853.8,   69119.6,   78385.4,   87651.2,   96917. ,\n",
       "         106182.8,  115448.6,  124714.4,  133980.2,  143246. ]),\n",
       " <a list of 10 Patch objects>)"
      ]
     },
     "execution_count": 14,
     "metadata": {},
     "output_type": "execute_result"
    },
    {
     "data": {
      "image/png": "[encoded data removed]",
      "text/plain": [
       "<Figure size 432x288 with 1 Axes>"
      ]
     },
     "metadata": {
      "needs_background": "light"
     },
     "output_type": "display_data"
    }
   ],
   "source": [
    "plt.hist(train.groupby(by=['date_block_num'])['item_cnt_day'].count())"
   ]
  },
  {
   "cell_type": "markdown",
   "metadata": {},
   "source": [
    "The item count has quite a few outliers. The amount of rows for each month is also vastly different. Both of these findings can influence training."
   ]
  },
  {
   "cell_type": "markdown",
   "metadata": {},
   "source": [
    "## Test"
   ]
  },
  {
   "cell_type": "code",
   "execution_count": 15,
   "metadata": {},
   "outputs": [
    {
     "name": "stdout",
     "output_type": "stream",
     "text": [
      "Size of test-set: 214200\n"
     ]
    },
    {
     "data": {
      "text/html": [
       "<div>\n",
       "<style scoped>\n",
       "    .dataframe tbody tr th:only-of-type {\n",
       "        vertical-align: middle;\n",
       "    }\n",
       "\n",
       "    .dataframe tbody tr th {\n",
       "        vertical-align: top;\n",
       "    }\n",
       "\n",
       "    .dataframe thead th {\n",
       "        text-align: right;\n",
       "    }\n",
       "</style>\n",
       "<table border=\"1\" class=\"dataframe\">\n",
       "  <thead>\n",
       "    <tr style=\"text-align: right;\">\n",
       "      <th></th>\n",
       "      <th>ID</th>\n",
       "      <th>shop_id</th>\n",
       "      <th>item_id</th>\n",
       "    </tr>\n",
       "  </thead>\n",
       "  <tbody>\n",
       "    <tr>\n",
       "      <th>0</th>\n",
       "      <td>0</td>\n",
       "      <td>5</td>\n",
       "      <td>5037</td>\n",
       "    </tr>\n",
       "    <tr>\n",
       "      <th>1</th>\n",
       "      <td>1</td>\n",
       "      <td>5</td>\n",
       "      <td>5320</td>\n",
       "    </tr>\n",
       "    <tr>\n",
       "      <th>2</th>\n",
       "      <td>2</td>\n",
       "      <td>5</td>\n",
       "      <td>5233</td>\n",
       "    </tr>\n",
       "    <tr>\n",
       "      <th>3</th>\n",
       "      <td>3</td>\n",
       "      <td>5</td>\n",
       "      <td>5232</td>\n",
       "    </tr>\n",
       "    <tr>\n",
       "      <th>4</th>\n",
       "      <td>4</td>\n",
       "      <td>5</td>\n",
       "      <td>5268</td>\n",
       "    </tr>\n",
       "  </tbody>\n",
       "</table>\n",
       "</div>"
      ],
      "text/plain": [
       "   ID  shop_id  item_id\n",
       "0   0        5     5037\n",
       "1   1        5     5320\n",
       "2   2        5     5233\n",
       "3   3        5     5232\n",
       "4   4        5     5268"
      ]
     },
     "execution_count": 15,
     "metadata": {},
     "output_type": "execute_result"
    }
   ],
   "source": [
    "print('Size of test-set:', len(test))\n",
    "test.head()"
   ]
  },
  {
   "cell_type": "markdown",
   "metadata": {},
   "source": [
    "as we can see test does not have many features. We will have to create those."
   ]
  },
  {
   "cell_type": "code",
   "execution_count": 16,
   "metadata": {},
   "outputs": [
    {
     "data": {
      "text/plain": [
       "(18, 16707, 363, 0)"
      ]
     },
     "execution_count": 16,
     "metadata": {},
     "output_type": "execute_result"
    }
   ],
   "source": [
    "train['shop_id'].nunique() - test['shop_id'].nunique(), \\\n",
    "train['item_id'].nunique() - test['item_id'].nunique(), \\\n",
    "len(list(set(test['item_id']) - set(train['item_id']))), \\\n",
    "len(list(set(test['shop_id']) - set(train['shop_id'])))"
   ]
  },
  {
   "cell_type": "markdown",
   "metadata": {},
   "source": [
    "We can see that some shops and many items do not appear in the test set but do in the train set. These will not be necessary for training.\n",
    "\n",
    "Also 363 items that appear in the test set never appear in the train set. Since training on the test dataframe will almost never give output as 0, we should make sure the distribution between train and test is similar to improve training performance. We can do this by adding rows with 0 sales as values."
   ]
  },
  {
   "cell_type": "markdown",
   "metadata": {},
   "source": [
    "# Data Leakages\n",
    "During EDA we discovered that many items and shops are not being asked for in the test set. We remove these from the train set."
   ]
  },
  {
   "cell_type": "code",
   "execution_count": 17,
   "metadata": {},
   "outputs": [
    {
     "name": "stdout",
     "output_type": "stream",
     "text": [
      "before size: 2935843 \n",
      " after size: 1224434\n"
     ]
    }
   ],
   "source": [
    "before_size = len(train)\n",
    "train = train[train['shop_id'].isin(test['shop_id'].unique())]\n",
    "train = train[train['item_id'].isin(test['item_id'].unique())]\n",
    "after_size = len(train)\n",
    "print(f'before size: {before_size}', '\\n', f'after size: {after_size}')"
   ]
  },
  {
   "cell_type": "markdown",
   "metadata": {},
   "source": [
    "# Data Preprocessing and Generation\n",
    "We are dealing with a 1 month future prediction problem. If we teach the model to predict sales 1 month into the future, then we can use all features provided in the training set instead of being limited to the test sets features."
   ]
  },
  {
   "cell_type": "code",
   "execution_count": 18,
   "metadata": {},
   "outputs": [],
   "source": [
    "train_data = train.drop(columns=['date']) \\\n",
    ".groupby(by=['date_block_num', 'shop_id', 'item_id'], as_index=False) \\\n",
    ".agg({'item_price':['sum', 'mean'], 'item_cnt_day':['sum']})"
   ]
  },
  {
   "cell_type": "markdown",
   "metadata": {},
   "source": [
    "## Add Missing Combinations\n",
    "We add the missing product shop month combos to make the distribution train/test similar"
   ]
  },
  {
   "cell_type": "code",
   "execution_count": 19,
   "metadata": {},
   "outputs": [],
   "source": [
    "# Build empty DataFrame\n",
    "shop_ids = train_data['shop_id'].unique()\n",
    "item_ids = train_data['item_id'].unique()  \n",
    "\n",
    "# Extend later with item ids in test\n",
    "# item_ids = np.concatenate([item_ids, np.array(list(set(test['item_id']) - set(train['item_id'])))])\n",
    "# item_ids.sort()\n",
    "\n",
    "empty_df = []\n",
    "for month_block in range(34):\n",
    "    for shop_id in shop_ids:\n",
    "        for item_id in item_ids:\n",
    "            empty_df.append([month_block, shop_id, item_id])\n",
    "\n",
    "empty_df = pd.DataFrame(empty_df, columns=['date_block_num', 'shop_id', 'item_id'])"
   ]
  },
  {
   "cell_type": "code",
   "execution_count": 20,
   "metadata": {},
   "outputs": [],
   "source": [
    "# Merge train_data into empty_df and fill NaNs with 0\n",
    "train_data = pd.merge(empty_df, train_data, on=['date_block_num', 'shop_id', 'item_id'], how='left').fillna(0)"
   ]
  },
  {
   "cell_type": "markdown",
   "metadata": {},
   "source": [
    "## Clean Data"
   ]
  },
  {
   "cell_type": "code",
   "execution_count": 21,
   "metadata": {},
   "outputs": [],
   "source": [
    "# Remove price outliers\n",
    "train_data = train_data[train_data['item_price'] >= 0]\n",
    "train_data = train_data[train_data['item_price'] < 100000]"
   ]
  },
  {
   "cell_type": "code",
   "execution_count": 22,
   "metadata": {},
   "outputs": [],
   "source": [
    "# Remove count outliers\n",
    "train_data = train_data[train_data['item_cnt_day'] >= 0]\n",
    "train_data = train_data[train_data['item_cnt_day'] <= 20]\n",
    "\n",
    "# Or Clip them\n",
    "# train_data['item_cnt_day'] = train_data['item_cnt_day'].clip(0, 20)"
   ]
  },
  {
   "cell_type": "markdown",
   "metadata": {},
   "source": [
    "## Basic Features"
   ]
  },
  {
   "cell_type": "markdown",
   "metadata": {},
   "source": [
    "### Date Block Num"
   ]
  },
  {
   "cell_type": "code",
   "execution_count": 23,
   "metadata": {},
   "outputs": [],
   "source": [
    "test_data['date_block_num'] = 34"
   ]
  },
  {
   "cell_type": "markdown",
   "metadata": {},
   "source": [
    "### Month"
   ]
  },
  {
   "cell_type": "code",
   "execution_count": 24,
   "metadata": {},
   "outputs": [],
   "source": [
    "train_data['month'] = train_data['date_block_num'] % 12\n",
    "test_data['month'] = test_data['date_block_num'] % 12"
   ]
  },
  {
   "cell_type": "markdown",
   "metadata": {},
   "source": [
    "### Year"
   ]
  },
  {
   "cell_type": "code",
   "execution_count": 34,
   "metadata": {},
   "outputs": [],
   "source": [
    "train_data['year'] = train_data['date_block_num'] // 12 + 2013\n",
    "test_data['year'] = test_data['date_block_num'] // 12 + 2013"
   ]
  },
  {
   "cell_type": "markdown",
   "metadata": {},
   "source": [
    "### Days in Month"
   ]
  },
  {
   "cell_type": "code",
   "execution_count": 26,
   "metadata": {},
   "outputs": [],
   "source": [
    "days_in_month = pd.Series([31,28,31,30,31,30,31,31,30,31,30,31])\n",
    "train_data['days_in_month'] = train_data['month'].map(days_in_month).astype(np.int8)\n",
    "test_data['days_in_month'] = test_data['month'].map(days_in_month).astype(np.int8)"
   ]
  },
  {
   "cell_type": "markdown",
   "metadata": {},
   "source": [
    "### Item Category"
   ]
  },
  {
   "cell_type": "code",
   "execution_count": 27,
   "metadata": {},
   "outputs": [],
   "source": [
    "item_category_map = items[['item_id', 'item_category_id']]\n",
    "train_data = pd.merge(train_data, item_category_map, on=['item_id'])\n",
    "test_data = pd.merge(test_data, item_category_map, on=['item_id'])"
   ]
  },
  {
   "cell_type": "markdown",
   "metadata": {},
   "source": [
    "## Downcast types"
   ]
  },
  {
   "cell_type": "code",
   "execution_count": 35,
   "metadata": {},
   "outputs": [],
   "source": [
    "train_data['date_block_num'] = train_data['date_block_num'].astype(np.int8)\n",
    "train_data['shop_id'] = train_data['shop_id'].astype(np.int16)\n",
    "train_data['item_id'] = train_data['item_id'].astype(np.int16)\n",
    "train_data['item_price'] = train_data['item_price'].astype(np.float32)\n",
    "train_data['item_cnt_day'] = train_data['item_cnt_day'].astype(np.int16)\n",
    "train_data['month'] = train_data['month'].astype(np.int8)\n",
    "train_data['year'] = train_data['year'].astype(np.int16)\n",
    "train_data['item_category_id'] = train_data['item_category_id'].astype(np.int16)"
   ]
  },
  {
   "cell_type": "markdown",
   "metadata": {},
   "source": [
    "## Lag Based Features"
   ]
  },
  {
   "cell_type": "code",
   "execution_count": 29,
   "metadata": {},
   "outputs": [],
   "source": [
    "lags = [1, 2, 3, 6, 12]\n",
    "\n",
    "def add_lag_features(train_data, test_data, grouped_data, lags, old_name, new_name, merge_list):\n",
    "    for lag in lags:\n",
    "        lag_series = grouped_data.copy()\n",
    "        composed_name = f'{new_name}_lag{lag}m'\n",
    "        lag_series['date_block_num'] += lag\n",
    "        lag_series.rename(columns={old_name: composed_name}, inplace=True)\n",
    "        train_data = pd.merge(train_data, lag_series, on=merge_list, how='left').fillna(0)\n",
    "        test_data = pd.merge(test_data, lag_series, on=merge_list, how='left').fillna(0)\n",
    "        \n",
    "        train_data[composed_name] = train_data[composed_name].astype(train_data[old_name].dtype)\n",
    "        test_data[composed_name] = test_data[composed_name].astype(train_data[old_name].dtype)\n",
    "        \n",
    "    return train_data, test_data"
   ]
  },
  {
   "cell_type": "code",
   "execution_count": 30,
   "metadata": {},
   "outputs": [],
   "source": [
    "# Month Shop Item Sales\n",
    "month_shop_item = train_data[['date_block_num', 'shop_id', 'item_id', 'item_cnt_day']]\n",
    "train_data, test_data = add_lag_features(train_data, test_data, month_shop_item, lags, 'item_cnt_day', 'month_shop_item_sales', ['date_block_num', 'shop_id', 'item_id'])\n",
    "\n",
    "# Month Shop Sales\n",
    "month_shop = train_data.groupby(['date_block_num', 'shop_id'], as_index=False)['item_cnt_day'].sum()\n",
    "train_data, test_data = add_lag_features(train_data, test_data, month_shop, lags, 'item_cnt_day', 'month_shop_sales', ['date_block_num', 'shop_id'])\n",
    "\n",
    "# Month Item Sales\n",
    "month_item = train_data.groupby(['date_block_num', 'item_id'], as_index=False)['item_cnt_day'].sum()\n",
    "train_data, test_data = add_lag_features(train_data, test_data, month_item, lags, 'item_cnt_day', 'month_item_sales', ['date_block_num', 'item_id'])"
   ]
  },
  {
   "cell_type": "markdown",
   "metadata": {},
   "source": [
    "Remove the first max(lag) months of train dataset as these have no lag values."
   ]
  },
  {
   "cell_type": "code",
   "execution_count": 31,
   "metadata": {},
   "outputs": [],
   "source": [
    "train_data = train_data[train_data['date_block_num'] >= max(lags)]"
   ]
  },
  {
   "cell_type": "markdown",
   "metadata": {},
   "source": [
    "## Result"
   ]
  },
  {
   "cell_type": "code",
   "execution_count": 36,
   "metadata": {},
   "outputs": [
    {
     "data": {
      "text/html": [
       "<div>\n",
       "<style scoped>\n",
       "    .dataframe tbody tr th:only-of-type {\n",
       "        vertical-align: middle;\n",
       "    }\n",
       "\n",
       "    .dataframe tbody tr th {\n",
       "        vertical-align: top;\n",
       "    }\n",
       "\n",
       "    .dataframe thead th {\n",
       "        text-align: right;\n",
       "    }\n",
       "</style>\n",
       "<table border=\"1\" class=\"dataframe\">\n",
       "  <thead>\n",
       "    <tr style=\"text-align: right;\">\n",
       "      <th></th>\n",
       "      <th>date_block_num</th>\n",
       "      <th>shop_id</th>\n",
       "      <th>item_id</th>\n",
       "      <th>item_price</th>\n",
       "      <th>item_cnt_day</th>\n",
       "      <th>month</th>\n",
       "      <th>year</th>\n",
       "      <th>days_in_month</th>\n",
       "      <th>item_category_id</th>\n",
       "      <th>month_shop_item_sales_lag1m</th>\n",
       "      <th>...</th>\n",
       "      <th>month_shop_sales_lag1m</th>\n",
       "      <th>month_shop_sales_lag2m</th>\n",
       "      <th>month_shop_sales_lag3m</th>\n",
       "      <th>month_shop_sales_lag6m</th>\n",
       "      <th>month_shop_sales_lag12m</th>\n",
       "      <th>month_item_sales_lag1m</th>\n",
       "      <th>month_item_sales_lag2m</th>\n",
       "      <th>month_item_sales_lag3m</th>\n",
       "      <th>month_item_sales_lag6m</th>\n",
       "      <th>month_item_sales_lag12m</th>\n",
       "    </tr>\n",
       "  </thead>\n",
       "  <tbody>\n",
       "    <tr>\n",
       "      <th>504</th>\n",
       "      <td>12</td>\n",
       "      <td>2</td>\n",
       "      <td>33</td>\n",
       "      <td>199.0</td>\n",
       "      <td>1</td>\n",
       "      <td>0</td>\n",
       "      <td>2014</td>\n",
       "      <td>31</td>\n",
       "      <td>37</td>\n",
       "      <td>1</td>\n",
       "      <td>...</td>\n",
       "      <td>555</td>\n",
       "      <td>299</td>\n",
       "      <td>201</td>\n",
       "      <td>242</td>\n",
       "      <td>248</td>\n",
       "      <td>38</td>\n",
       "      <td>12</td>\n",
       "      <td>30</td>\n",
       "      <td>38</td>\n",
       "      <td>42</td>\n",
       "    </tr>\n",
       "    <tr>\n",
       "      <th>505</th>\n",
       "      <td>12</td>\n",
       "      <td>3</td>\n",
       "      <td>33</td>\n",
       "      <td>199.0</td>\n",
       "      <td>2</td>\n",
       "      <td>0</td>\n",
       "      <td>2014</td>\n",
       "      <td>31</td>\n",
       "      <td>37</td>\n",
       "      <td>1</td>\n",
       "      <td>...</td>\n",
       "      <td>462</td>\n",
       "      <td>375</td>\n",
       "      <td>279</td>\n",
       "      <td>204</td>\n",
       "      <td>187</td>\n",
       "      <td>38</td>\n",
       "      <td>12</td>\n",
       "      <td>30</td>\n",
       "      <td>38</td>\n",
       "      <td>42</td>\n",
       "    </tr>\n",
       "    <tr>\n",
       "      <th>506</th>\n",
       "      <td>12</td>\n",
       "      <td>4</td>\n",
       "      <td>33</td>\n",
       "      <td>0.0</td>\n",
       "      <td>0</td>\n",
       "      <td>0</td>\n",
       "      <td>2014</td>\n",
       "      <td>31</td>\n",
       "      <td>37</td>\n",
       "      <td>0</td>\n",
       "      <td>...</td>\n",
       "      <td>857</td>\n",
       "      <td>477</td>\n",
       "      <td>472</td>\n",
       "      <td>371</td>\n",
       "      <td>434</td>\n",
       "      <td>38</td>\n",
       "      <td>12</td>\n",
       "      <td>30</td>\n",
       "      <td>38</td>\n",
       "      <td>42</td>\n",
       "    </tr>\n",
       "    <tr>\n",
       "      <th>507</th>\n",
       "      <td>12</td>\n",
       "      <td>6</td>\n",
       "      <td>33</td>\n",
       "      <td>199.0</td>\n",
       "      <td>3</td>\n",
       "      <td>0</td>\n",
       "      <td>2014</td>\n",
       "      <td>31</td>\n",
       "      <td>37</td>\n",
       "      <td>1</td>\n",
       "      <td>...</td>\n",
       "      <td>1683</td>\n",
       "      <td>1015</td>\n",
       "      <td>925</td>\n",
       "      <td>680</td>\n",
       "      <td>704</td>\n",
       "      <td>38</td>\n",
       "      <td>12</td>\n",
       "      <td>30</td>\n",
       "      <td>38</td>\n",
       "      <td>42</td>\n",
       "    </tr>\n",
       "    <tr>\n",
       "      <th>508</th>\n",
       "      <td>12</td>\n",
       "      <td>7</td>\n",
       "      <td>33</td>\n",
       "      <td>199.0</td>\n",
       "      <td>1</td>\n",
       "      <td>0</td>\n",
       "      <td>2014</td>\n",
       "      <td>31</td>\n",
       "      <td>37</td>\n",
       "      <td>1</td>\n",
       "      <td>...</td>\n",
       "      <td>1181</td>\n",
       "      <td>788</td>\n",
       "      <td>646</td>\n",
       "      <td>523</td>\n",
       "      <td>534</td>\n",
       "      <td>38</td>\n",
       "      <td>12</td>\n",
       "      <td>30</td>\n",
       "      <td>38</td>\n",
       "      <td>42</td>\n",
       "    </tr>\n",
       "    <tr>\n",
       "      <th>...</th>\n",
       "      <td>...</td>\n",
       "      <td>...</td>\n",
       "      <td>...</td>\n",
       "      <td>...</td>\n",
       "      <td>...</td>\n",
       "      <td>...</td>\n",
       "      <td>...</td>\n",
       "      <td>...</td>\n",
       "      <td>...</td>\n",
       "      <td>...</td>\n",
       "      <td>...</td>\n",
       "      <td>...</td>\n",
       "      <td>...</td>\n",
       "      <td>...</td>\n",
       "      <td>...</td>\n",
       "      <td>...</td>\n",
       "      <td>...</td>\n",
       "      <td>...</td>\n",
       "      <td>...</td>\n",
       "      <td>...</td>\n",
       "      <td>...</td>\n",
       "    </tr>\n",
       "    <tr>\n",
       "      <th>6728113</th>\n",
       "      <td>33</td>\n",
       "      <td>49</td>\n",
       "      <td>15925</td>\n",
       "      <td>0.0</td>\n",
       "      <td>0</td>\n",
       "      <td>9</td>\n",
       "      <td>2015</td>\n",
       "      <td>31</td>\n",
       "      <td>72</td>\n",
       "      <td>0</td>\n",
       "      <td>...</td>\n",
       "      <td>542</td>\n",
       "      <td>885</td>\n",
       "      <td>743</td>\n",
       "      <td>416</td>\n",
       "      <td>400</td>\n",
       "      <td>0</td>\n",
       "      <td>0</td>\n",
       "      <td>0</td>\n",
       "      <td>0</td>\n",
       "      <td>0</td>\n",
       "    </tr>\n",
       "    <tr>\n",
       "      <th>6728114</th>\n",
       "      <td>33</td>\n",
       "      <td>39</td>\n",
       "      <td>15925</td>\n",
       "      <td>0.0</td>\n",
       "      <td>0</td>\n",
       "      <td>9</td>\n",
       "      <td>2015</td>\n",
       "      <td>31</td>\n",
       "      <td>72</td>\n",
       "      <td>0</td>\n",
       "      <td>...</td>\n",
       "      <td>652</td>\n",
       "      <td>711</td>\n",
       "      <td>488</td>\n",
       "      <td>468</td>\n",
       "      <td>393</td>\n",
       "      <td>0</td>\n",
       "      <td>0</td>\n",
       "      <td>0</td>\n",
       "      <td>0</td>\n",
       "      <td>0</td>\n",
       "    </tr>\n",
       "    <tr>\n",
       "      <th>6728115</th>\n",
       "      <td>33</td>\n",
       "      <td>48</td>\n",
       "      <td>15925</td>\n",
       "      <td>0.0</td>\n",
       "      <td>0</td>\n",
       "      <td>9</td>\n",
       "      <td>2015</td>\n",
       "      <td>31</td>\n",
       "      <td>72</td>\n",
       "      <td>0</td>\n",
       "      <td>...</td>\n",
       "      <td>1020</td>\n",
       "      <td>1251</td>\n",
       "      <td>973</td>\n",
       "      <td>783</td>\n",
       "      <td>849</td>\n",
       "      <td>0</td>\n",
       "      <td>0</td>\n",
       "      <td>0</td>\n",
       "      <td>0</td>\n",
       "      <td>0</td>\n",
       "    </tr>\n",
       "    <tr>\n",
       "      <th>6728116</th>\n",
       "      <td>33</td>\n",
       "      <td>34</td>\n",
       "      <td>15925</td>\n",
       "      <td>0.0</td>\n",
       "      <td>0</td>\n",
       "      <td>9</td>\n",
       "      <td>2015</td>\n",
       "      <td>31</td>\n",
       "      <td>72</td>\n",
       "      <td>0</td>\n",
       "      <td>...</td>\n",
       "      <td>369</td>\n",
       "      <td>421</td>\n",
       "      <td>360</td>\n",
       "      <td>295</td>\n",
       "      <td>219</td>\n",
       "      <td>0</td>\n",
       "      <td>0</td>\n",
       "      <td>0</td>\n",
       "      <td>0</td>\n",
       "      <td>0</td>\n",
       "    </tr>\n",
       "    <tr>\n",
       "      <th>6728117</th>\n",
       "      <td>33</td>\n",
       "      <td>36</td>\n",
       "      <td>15925</td>\n",
       "      <td>0.0</td>\n",
       "      <td>0</td>\n",
       "      <td>9</td>\n",
       "      <td>2015</td>\n",
       "      <td>31</td>\n",
       "      <td>72</td>\n",
       "      <td>0</td>\n",
       "      <td>...</td>\n",
       "      <td>0</td>\n",
       "      <td>0</td>\n",
       "      <td>0</td>\n",
       "      <td>0</td>\n",
       "      <td>0</td>\n",
       "      <td>0</td>\n",
       "      <td>0</td>\n",
       "      <td>0</td>\n",
       "      <td>0</td>\n",
       "      <td>0</td>\n",
       "    </tr>\n",
       "  </tbody>\n",
       "</table>\n",
       "<p>4353220 rows × 24 columns</p>\n",
       "</div>"
      ],
      "text/plain": [
       "         date_block_num  shop_id  item_id  item_price  item_cnt_day  month  \\\n",
       "504                  12        2       33       199.0             1      0   \n",
       "505                  12        3       33       199.0             2      0   \n",
       "506                  12        4       33         0.0             0      0   \n",
       "507                  12        6       33       199.0             3      0   \n",
       "508                  12        7       33       199.0             1      0   \n",
       "...                 ...      ...      ...         ...           ...    ...   \n",
       "6728113              33       49    15925         0.0             0      9   \n",
       "6728114              33       39    15925         0.0             0      9   \n",
       "6728115              33       48    15925         0.0             0      9   \n",
       "6728116              33       34    15925         0.0             0      9   \n",
       "6728117              33       36    15925         0.0             0      9   \n",
       "\n",
       "         year  days_in_month  item_category_id  month_shop_item_sales_lag1m  \\\n",
       "504      2014             31                37                            1   \n",
       "505      2014             31                37                            1   \n",
       "506      2014             31                37                            0   \n",
       "507      2014             31                37                            1   \n",
       "508      2014             31                37                            1   \n",
       "...       ...            ...               ...                          ...   \n",
       "6728113  2015             31                72                            0   \n",
       "6728114  2015             31                72                            0   \n",
       "6728115  2015             31                72                            0   \n",
       "6728116  2015             31                72                            0   \n",
       "6728117  2015             31                72                            0   \n",
       "\n",
       "         ...  month_shop_sales_lag1m  month_shop_sales_lag2m  \\\n",
       "504      ...                     555                     299   \n",
       "505      ...                     462                     375   \n",
       "506      ...                     857                     477   \n",
       "507      ...                    1683                    1015   \n",
       "508      ...                    1181                     788   \n",
       "...      ...                     ...                     ...   \n",
       "6728113  ...                     542                     885   \n",
       "6728114  ...                     652                     711   \n",
       "6728115  ...                    1020                    1251   \n",
       "6728116  ...                     369                     421   \n",
       "6728117  ...                       0                       0   \n",
       "\n",
       "         month_shop_sales_lag3m  month_shop_sales_lag6m  \\\n",
       "504                         201                     242   \n",
       "505                         279                     204   \n",
       "506                         472                     371   \n",
       "507                         925                     680   \n",
       "508                         646                     523   \n",
       "...                         ...                     ...   \n",
       "6728113                     743                     416   \n",
       "6728114                     488                     468   \n",
       "6728115                     973                     783   \n",
       "6728116                     360                     295   \n",
       "6728117                       0                       0   \n",
       "\n",
       "         month_shop_sales_lag12m  month_item_sales_lag1m  \\\n",
       "504                          248                      38   \n",
       "505                          187                      38   \n",
       "506                          434                      38   \n",
       "507                          704                      38   \n",
       "508                          534                      38   \n",
       "...                          ...                     ...   \n",
       "6728113                      400                       0   \n",
       "6728114                      393                       0   \n",
       "6728115                      849                       0   \n",
       "6728116                      219                       0   \n",
       "6728117                        0                       0   \n",
       "\n",
       "         month_item_sales_lag2m  month_item_sales_lag3m  \\\n",
       "504                          12                      30   \n",
       "505                          12                      30   \n",
       "506                          12                      30   \n",
       "507                          12                      30   \n",
       "508                          12                      30   \n",
       "...                         ...                     ...   \n",
       "6728113                       0                       0   \n",
       "6728114                       0                       0   \n",
       "6728115                       0                       0   \n",
       "6728116                       0                       0   \n",
       "6728117                       0                       0   \n",
       "\n",
       "         month_item_sales_lag6m  month_item_sales_lag12m  \n",
       "504                          38                       42  \n",
       "505                          38                       42  \n",
       "506                          38                       42  \n",
       "507                          38                       42  \n",
       "508                          38                       42  \n",
       "...                         ...                      ...  \n",
       "6728113                       0                        0  \n",
       "6728114                       0                        0  \n",
       "6728115                       0                        0  \n",
       "6728116                       0                        0  \n",
       "6728117                       0                        0  \n",
       "\n",
       "[4353220 rows x 24 columns]"
      ]
     },
     "execution_count": 36,
     "metadata": {},
     "output_type": "execute_result"
    }
   ],
   "source": [
    "train_data"
   ]
  },
  {
   "cell_type": "code",
   "execution_count": 37,
   "metadata": {},
   "outputs": [
    {
     "data": {
      "text/html": [
       "<div>\n",
       "<style scoped>\n",
       "    .dataframe tbody tr th:only-of-type {\n",
       "        vertical-align: middle;\n",
       "    }\n",
       "\n",
       "    .dataframe tbody tr th {\n",
       "        vertical-align: top;\n",
       "    }\n",
       "\n",
       "    .dataframe thead th {\n",
       "        text-align: right;\n",
       "    }\n",
       "</style>\n",
       "<table border=\"1\" class=\"dataframe\">\n",
       "  <thead>\n",
       "    <tr style=\"text-align: right;\">\n",
       "      <th></th>\n",
       "      <th>ID</th>\n",
       "      <th>shop_id</th>\n",
       "      <th>item_id</th>\n",
       "      <th>date_block_num</th>\n",
       "      <th>month</th>\n",
       "      <th>year</th>\n",
       "      <th>days_in_month</th>\n",
       "      <th>item_category_id</th>\n",
       "      <th>month_shop_item_sales_lag1m</th>\n",
       "      <th>month_shop_item_sales_lag2m</th>\n",
       "      <th>...</th>\n",
       "      <th>month_shop_sales_lag1m</th>\n",
       "      <th>month_shop_sales_lag2m</th>\n",
       "      <th>month_shop_sales_lag3m</th>\n",
       "      <th>month_shop_sales_lag6m</th>\n",
       "      <th>month_shop_sales_lag12m</th>\n",
       "      <th>month_item_sales_lag1m</th>\n",
       "      <th>month_item_sales_lag2m</th>\n",
       "      <th>month_item_sales_lag3m</th>\n",
       "      <th>month_item_sales_lag6m</th>\n",
       "      <th>month_item_sales_lag12m</th>\n",
       "    </tr>\n",
       "  </thead>\n",
       "  <tbody>\n",
       "    <tr>\n",
       "      <th>0</th>\n",
       "      <td>0</td>\n",
       "      <td>5</td>\n",
       "      <td>5037</td>\n",
       "      <td>34</td>\n",
       "      <td>10</td>\n",
       "      <td>2015</td>\n",
       "      <td>30</td>\n",
       "      <td>19</td>\n",
       "      <td>0</td>\n",
       "      <td>1</td>\n",
       "      <td>...</td>\n",
       "      <td>989</td>\n",
       "      <td>956</td>\n",
       "      <td>1156</td>\n",
       "      <td>773</td>\n",
       "      <td>777</td>\n",
       "      <td>25</td>\n",
       "      <td>88</td>\n",
       "      <td>117</td>\n",
       "      <td>82</td>\n",
       "      <td>53</td>\n",
       "    </tr>\n",
       "    <tr>\n",
       "      <th>1</th>\n",
       "      <td>5100</td>\n",
       "      <td>4</td>\n",
       "      <td>5037</td>\n",
       "      <td>34</td>\n",
       "      <td>10</td>\n",
       "      <td>2015</td>\n",
       "      <td>30</td>\n",
       "      <td>19</td>\n",
       "      <td>0</td>\n",
       "      <td>0</td>\n",
       "      <td>...</td>\n",
       "      <td>688</td>\n",
       "      <td>640</td>\n",
       "      <td>790</td>\n",
       "      <td>601</td>\n",
       "      <td>786</td>\n",
       "      <td>25</td>\n",
       "      <td>88</td>\n",
       "      <td>117</td>\n",
       "      <td>82</td>\n",
       "      <td>53</td>\n",
       "    </tr>\n",
       "    <tr>\n",
       "      <th>2</th>\n",
       "      <td>10200</td>\n",
       "      <td>6</td>\n",
       "      <td>5037</td>\n",
       "      <td>34</td>\n",
       "      <td>10</td>\n",
       "      <td>2015</td>\n",
       "      <td>30</td>\n",
       "      <td>19</td>\n",
       "      <td>1</td>\n",
       "      <td>0</td>\n",
       "      <td>...</td>\n",
       "      <td>1528</td>\n",
       "      <td>1304</td>\n",
       "      <td>1355</td>\n",
       "      <td>1084</td>\n",
       "      <td>1522</td>\n",
       "      <td>25</td>\n",
       "      <td>88</td>\n",
       "      <td>117</td>\n",
       "      <td>82</td>\n",
       "      <td>53</td>\n",
       "    </tr>\n",
       "    <tr>\n",
       "      <th>3</th>\n",
       "      <td>15300</td>\n",
       "      <td>3</td>\n",
       "      <td>5037</td>\n",
       "      <td>34</td>\n",
       "      <td>10</td>\n",
       "      <td>2015</td>\n",
       "      <td>30</td>\n",
       "      <td>19</td>\n",
       "      <td>0</td>\n",
       "      <td>0</td>\n",
       "      <td>...</td>\n",
       "      <td>606</td>\n",
       "      <td>561</td>\n",
       "      <td>587</td>\n",
       "      <td>565</td>\n",
       "      <td>679</td>\n",
       "      <td>25</td>\n",
       "      <td>88</td>\n",
       "      <td>117</td>\n",
       "      <td>82</td>\n",
       "      <td>53</td>\n",
       "    </tr>\n",
       "    <tr>\n",
       "      <th>4</th>\n",
       "      <td>20400</td>\n",
       "      <td>2</td>\n",
       "      <td>5037</td>\n",
       "      <td>34</td>\n",
       "      <td>10</td>\n",
       "      <td>2015</td>\n",
       "      <td>30</td>\n",
       "      <td>19</td>\n",
       "      <td>0</td>\n",
       "      <td>1</td>\n",
       "      <td>...</td>\n",
       "      <td>665</td>\n",
       "      <td>726</td>\n",
       "      <td>877</td>\n",
       "      <td>545</td>\n",
       "      <td>585</td>\n",
       "      <td>25</td>\n",
       "      <td>88</td>\n",
       "      <td>117</td>\n",
       "      <td>82</td>\n",
       "      <td>53</td>\n",
       "    </tr>\n",
       "    <tr>\n",
       "      <th>...</th>\n",
       "      <td>...</td>\n",
       "      <td>...</td>\n",
       "      <td>...</td>\n",
       "      <td>...</td>\n",
       "      <td>...</td>\n",
       "      <td>...</td>\n",
       "      <td>...</td>\n",
       "      <td>...</td>\n",
       "      <td>...</td>\n",
       "      <td>...</td>\n",
       "      <td>...</td>\n",
       "      <td>...</td>\n",
       "      <td>...</td>\n",
       "      <td>...</td>\n",
       "      <td>...</td>\n",
       "      <td>...</td>\n",
       "      <td>...</td>\n",
       "      <td>...</td>\n",
       "      <td>...</td>\n",
       "      <td>...</td>\n",
       "      <td>...</td>\n",
       "    </tr>\n",
       "    <tr>\n",
       "      <th>214195</th>\n",
       "      <td>193799</td>\n",
       "      <td>46</td>\n",
       "      <td>969</td>\n",
       "      <td>34</td>\n",
       "      <td>10</td>\n",
       "      <td>2015</td>\n",
       "      <td>30</td>\n",
       "      <td>37</td>\n",
       "      <td>0</td>\n",
       "      <td>0</td>\n",
       "      <td>...</td>\n",
       "      <td>1158</td>\n",
       "      <td>1067</td>\n",
       "      <td>1421</td>\n",
       "      <td>1067</td>\n",
       "      <td>1260</td>\n",
       "      <td>3</td>\n",
       "      <td>5</td>\n",
       "      <td>1</td>\n",
       "      <td>2</td>\n",
       "      <td>6</td>\n",
       "    </tr>\n",
       "    <tr>\n",
       "      <th>214196</th>\n",
       "      <td>198899</td>\n",
       "      <td>41</td>\n",
       "      <td>969</td>\n",
       "      <td>34</td>\n",
       "      <td>10</td>\n",
       "      <td>2015</td>\n",
       "      <td>30</td>\n",
       "      <td>37</td>\n",
       "      <td>0</td>\n",
       "      <td>0</td>\n",
       "      <td>...</td>\n",
       "      <td>702</td>\n",
       "      <td>589</td>\n",
       "      <td>814</td>\n",
       "      <td>646</td>\n",
       "      <td>744</td>\n",
       "      <td>3</td>\n",
       "      <td>5</td>\n",
       "      <td>1</td>\n",
       "      <td>2</td>\n",
       "      <td>6</td>\n",
       "    </tr>\n",
       "    <tr>\n",
       "      <th>214197</th>\n",
       "      <td>203999</td>\n",
       "      <td>44</td>\n",
       "      <td>969</td>\n",
       "      <td>34</td>\n",
       "      <td>10</td>\n",
       "      <td>2015</td>\n",
       "      <td>30</td>\n",
       "      <td>37</td>\n",
       "      <td>1</td>\n",
       "      <td>0</td>\n",
       "      <td>...</td>\n",
       "      <td>755</td>\n",
       "      <td>724</td>\n",
       "      <td>703</td>\n",
       "      <td>596</td>\n",
       "      <td>691</td>\n",
       "      <td>3</td>\n",
       "      <td>5</td>\n",
       "      <td>1</td>\n",
       "      <td>2</td>\n",
       "      <td>6</td>\n",
       "    </tr>\n",
       "    <tr>\n",
       "      <th>214198</th>\n",
       "      <td>209099</td>\n",
       "      <td>39</td>\n",
       "      <td>969</td>\n",
       "      <td>34</td>\n",
       "      <td>10</td>\n",
       "      <td>2015</td>\n",
       "      <td>30</td>\n",
       "      <td>37</td>\n",
       "      <td>0</td>\n",
       "      <td>0</td>\n",
       "      <td>...</td>\n",
       "      <td>707</td>\n",
       "      <td>652</td>\n",
       "      <td>711</td>\n",
       "      <td>518</td>\n",
       "      <td>539</td>\n",
       "      <td>3</td>\n",
       "      <td>5</td>\n",
       "      <td>1</td>\n",
       "      <td>2</td>\n",
       "      <td>6</td>\n",
       "    </tr>\n",
       "    <tr>\n",
       "      <th>214199</th>\n",
       "      <td>214199</td>\n",
       "      <td>45</td>\n",
       "      <td>969</td>\n",
       "      <td>34</td>\n",
       "      <td>10</td>\n",
       "      <td>2015</td>\n",
       "      <td>30</td>\n",
       "      <td>37</td>\n",
       "      <td>0</td>\n",
       "      <td>0</td>\n",
       "      <td>...</td>\n",
       "      <td>607</td>\n",
       "      <td>624</td>\n",
       "      <td>653</td>\n",
       "      <td>545</td>\n",
       "      <td>751</td>\n",
       "      <td>3</td>\n",
       "      <td>5</td>\n",
       "      <td>1</td>\n",
       "      <td>2</td>\n",
       "      <td>6</td>\n",
       "    </tr>\n",
       "  </tbody>\n",
       "</table>\n",
       "<p>214200 rows × 23 columns</p>\n",
       "</div>"
      ],
      "text/plain": [
       "            ID  shop_id  item_id  date_block_num  month  year  days_in_month  \\\n",
       "0            0        5     5037              34     10  2015             30   \n",
       "1         5100        4     5037              34     10  2015             30   \n",
       "2        10200        6     5037              34     10  2015             30   \n",
       "3        15300        3     5037              34     10  2015             30   \n",
       "4        20400        2     5037              34     10  2015             30   \n",
       "...        ...      ...      ...             ...    ...   ...            ...   \n",
       "214195  193799       46      969              34     10  2015             30   \n",
       "214196  198899       41      969              34     10  2015             30   \n",
       "214197  203999       44      969              34     10  2015             30   \n",
       "214198  209099       39      969              34     10  2015             30   \n",
       "214199  214199       45      969              34     10  2015             30   \n",
       "\n",
       "        item_category_id  month_shop_item_sales_lag1m  \\\n",
       "0                     19                            0   \n",
       "1                     19                            0   \n",
       "2                     19                            1   \n",
       "3                     19                            0   \n",
       "4                     19                            0   \n",
       "...                  ...                          ...   \n",
       "214195                37                            0   \n",
       "214196                37                            0   \n",
       "214197                37                            1   \n",
       "214198                37                            0   \n",
       "214199                37                            0   \n",
       "\n",
       "        month_shop_item_sales_lag2m  ...  month_shop_sales_lag1m  \\\n",
       "0                                 1  ...                     989   \n",
       "1                                 0  ...                     688   \n",
       "2                                 0  ...                    1528   \n",
       "3                                 0  ...                     606   \n",
       "4                                 1  ...                     665   \n",
       "...                             ...  ...                     ...   \n",
       "214195                            0  ...                    1158   \n",
       "214196                            0  ...                     702   \n",
       "214197                            0  ...                     755   \n",
       "214198                            0  ...                     707   \n",
       "214199                            0  ...                     607   \n",
       "\n",
       "        month_shop_sales_lag2m  month_shop_sales_lag3m  \\\n",
       "0                          956                    1156   \n",
       "1                          640                     790   \n",
       "2                         1304                    1355   \n",
       "3                          561                     587   \n",
       "4                          726                     877   \n",
       "...                        ...                     ...   \n",
       "214195                    1067                    1421   \n",
       "214196                     589                     814   \n",
       "214197                     724                     703   \n",
       "214198                     652                     711   \n",
       "214199                     624                     653   \n",
       "\n",
       "        month_shop_sales_lag6m  month_shop_sales_lag12m  \\\n",
       "0                          773                      777   \n",
       "1                          601                      786   \n",
       "2                         1084                     1522   \n",
       "3                          565                      679   \n",
       "4                          545                      585   \n",
       "...                        ...                      ...   \n",
       "214195                    1067                     1260   \n",
       "214196                     646                      744   \n",
       "214197                     596                      691   \n",
       "214198                     518                      539   \n",
       "214199                     545                      751   \n",
       "\n",
       "        month_item_sales_lag1m  month_item_sales_lag2m  \\\n",
       "0                           25                      88   \n",
       "1                           25                      88   \n",
       "2                           25                      88   \n",
       "3                           25                      88   \n",
       "4                           25                      88   \n",
       "...                        ...                     ...   \n",
       "214195                       3                       5   \n",
       "214196                       3                       5   \n",
       "214197                       3                       5   \n",
       "214198                       3                       5   \n",
       "214199                       3                       5   \n",
       "\n",
       "        month_item_sales_lag3m  month_item_sales_lag6m  \\\n",
       "0                          117                      82   \n",
       "1                          117                      82   \n",
       "2                          117                      82   \n",
       "3                          117                      82   \n",
       "4                          117                      82   \n",
       "...                        ...                     ...   \n",
       "214195                       1                       2   \n",
       "214196                       1                       2   \n",
       "214197                       1                       2   \n",
       "214198                       1                       2   \n",
       "214199                       1                       2   \n",
       "\n",
       "        month_item_sales_lag12m  \n",
       "0                            53  \n",
       "1                            53  \n",
       "2                            53  \n",
       "3                            53  \n",
       "4                            53  \n",
       "...                         ...  \n",
       "214195                        6  \n",
       "214196                        6  \n",
       "214197                        6  \n",
       "214198                        6  \n",
       "214199                        6  \n",
       "\n",
       "[214200 rows x 23 columns]"
      ]
     },
     "execution_count": 37,
     "metadata": {},
     "output_type": "execute_result"
    }
   ],
   "source": [
    "test_data"
   ]
  },
  {
   "cell_type": "markdown",
   "metadata": {},
   "source": [
    "# Validation\n",
    "The Train/Test split is a time based split. The test data is the month (date_block_num 34) directly after the data in the train data (date_block_num 12 - 33). Hence for training we will use a time based split as well by using block 12 - 32 as training and using 33 as validation.\n",
    "\n",
    "After submitting the csv a few times and observing the loss for the public and private leaderboard to be almost identical we take these are both randomly sampled from the test set.\n",
    "\n",
    "### Train Validation Split"
   ]
  },
  {
   "cell_type": "code",
   "execution_count": 32,
   "metadata": {},
   "outputs": [],
   "source": [
    "X = train_data.drop(columns=['item_cnt_day', 'item_price'])\n",
    "y = train_data['item_cnt_day']\n",
    "\n",
    "#del train_data\n",
    "#gc.collect()"
   ]
  },
  {
   "cell_type": "code",
   "execution_count": 33,
   "metadata": {},
   "outputs": [],
   "source": [
    "X_train = X[X['date_block_num'] < 33]\n",
    "y_train = y[X['date_block_num'] < 33]\n",
    "X_val = X[X['date_block_num'] == 33]\n",
    "y_val = y[X['date_block_num'] == 33]"
   ]
  },
  {
   "cell_type": "markdown",
   "metadata": {},
   "source": [
    "# Training"
   ]
  },
  {
   "cell_type": "code",
   "execution_count": 34,
   "metadata": {},
   "outputs": [
    {
     "name": "stdout",
     "output_type": "stream",
     "text": [
      "Validation R-squared for linreg is 0.270714\n"
     ]
    }
   ],
   "source": [
    "lr = LinearRegression()\n",
    "lr.fit(X_train, y_train)\n",
    "pred_lr = lr.predict(X_val.values)\n",
    "\n",
    "print('Validation R-squared for linreg is %f' % r2_score(y_val, pred_lr))"
   ]
  },
  {
   "cell_type": "markdown",
   "metadata": {},
   "source": [
    "### Random Forest\n",
    "We use Random forest to plot accuracy against amount of trees to get an idea how good our features work with tree besed classifiers."
   ]
  },
  {
   "cell_type": "code",
   "execution_count": 46,
   "metadata": {},
   "outputs": [
    {
     "data": {
      "text/plain": [
       "RandomForestClassifier(bootstrap=True, class_weight=None, criterion='gini',\n",
       "            max_depth=7, max_features='auto', max_leaf_nodes=None,\n",
       "            min_impurity_decrease=0.0, min_impurity_split=None,\n",
       "            min_samples_leaf=1, min_samples_split=2,\n",
       "            min_weight_fraction_leaf=0.0, n_estimators=100, n_jobs=-1,\n",
       "            oob_score=False, random_state=None, verbose=0,\n",
       "            warm_start=False)"
      ]
     },
     "execution_count": 46,
     "metadata": {},
     "output_type": "execute_result"
    }
   ],
   "source": [
    "rf = RandomForestClassifier(n_estimators=100, max_depth=7, n_jobs=-1)\n",
    "rf.fit(X_train, y_train)"
   ]
  },
  {
   "cell_type": "code",
   "execution_count": null,
   "metadata": {},
   "outputs": [],
   "source": [
    "predictions = []\n",
    "r2s = []\n",
    "accuracys = []\n",
    "\n",
    "for tree in rf.estimators_:\n",
    "    predictions.append(tree.predict_proba(X_val.fillna(0))[None, :])\n",
    "    \n",
    "predictions = np.vstack(predictions)"
   ]
  },
  {
   "cell_type": "code",
   "execution_count": 44,
   "metadata": {},
   "outputs": [],
   "source": [
    "# Compute cumulative average over predictions\n",
    "cum_mean = np.cumsum(predictions, axis=0)/np.arange(1, predictions.shape[0] + 1)[:, None, None]\n",
    "\n",
    "# Compute score for each n_estimator value\n",
    "for pred in cum_mean:\n",
    "    r2s.append(r2_score(y_val, np.argmax(pred, axis=1)))\n",
    "    accuracys.append(accuracy_score(y_val, np.argmax(pred, axis=1)))"
   ]
  },
  {
   "cell_type": "code",
   "execution_count": 45,
   "metadata": {},
   "outputs": [
    {
     "data": {
      "text/plain": [
       "4688"
      ]
     },
     "execution_count": 45,
     "metadata": {},
     "output_type": "execute_result"
    },
    {
     "data": {
      "image/png": "[encoded data removed]",
      "text/plain": [
       "<Figure size 720x432 with 1 Axes>"
      ]
     },
     "metadata": {
      "needs_background": "light"
     },
     "output_type": "display_data"
    },
    {
     "data": {
      "image/png": "[encoded data removed]",
      "text/plain": [
       "<Figure size 720x432 with 1 Axes>"
      ]
     },
     "metadata": {
      "needs_background": "light"
     },
     "output_type": "display_data"
    }
   ],
   "source": [
    "plt.figure(figsize=(10, 6))\n",
    "plt.plot(r2s, linewidth=3)\n",
    "plt.xlabel('num_trees')\n",
    "plt.ylabel('r2')\n",
    "\n",
    "plt.figure(figsize=(10, 6))\n",
    "plt.plot(accuracys, linewidth=3)\n",
    "plt.xlabel('num_trees')\n",
    "plt.ylabel('accuracy')\n",
    "plt.plot()\n",
    "\n",
    "del rf\n",
    "del predictions\n",
    "del r2s\n",
    "del accuracys\n",
    "gc.collect()"
   ]
  },
  {
   "cell_type": "code",
   "execution_count": null,
   "metadata": {},
   "outputs": [],
   "source": []
  }
 ],
 "metadata": {
  "kernelspec": {
   "display_name": "Python 3",
   "language": "python",
   "name": "python3"
  },
  "language_info": {
   "codemirror_mode": {
    "name": "ipython",
    "version": 3
   },
   "file_extension": ".py",
   "mimetype": "text/x-python",
   "name": "python",
   "nbconvert_exporter": "python",
   "pygments_lexer": "ipython3",
   "version": "3.6.10"
  }
 },
 "nbformat": 4,
 "nbformat_minor": 4
}
