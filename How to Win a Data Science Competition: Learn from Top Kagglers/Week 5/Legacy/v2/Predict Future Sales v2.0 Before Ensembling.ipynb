{
 "cells": [
  {
   "cell_type": "markdown",
   "metadata": {},
   "source": [
    "# Import Libraries"
   ]
  },
  {
   "cell_type": "code",
   "execution_count": 1,
   "metadata": {},
   "outputs": [
    {
     "name": "stderr",
     "output_type": "stream",
     "text": [
      "Using TensorFlow backend.\n"
     ]
    }
   ],
   "source": [
    "import keras\n",
    "import gc\n",
    "import tensorflow as tf\n",
    "import numpy as np\n",
    "import pandas as pd\n",
    "import xgboost as xgb\n",
    "import matplotlib.pyplot as plt\n",
    "from sklearn.model_selection import train_test_split, KFold\n",
    "from sklearn.metrics import mean_squared_error, accuracy_score, r2_score\n",
    "from sklearn.linear_model import LinearRegression\n",
    "from sklearn.ensemble import RandomForestClassifier"
   ]
  },
  {
   "cell_type": "code",
   "execution_count": 2,
   "metadata": {},
   "outputs": [],
   "source": [
    "# Set random seeds\n",
    "np.random.seed(0)\n",
    "tf.set_random_seed(0)"
   ]
  },
  {
   "cell_type": "markdown",
   "metadata": {},
   "source": [
    "# Open Data"
   ]
  },
  {
   "cell_type": "code",
   "execution_count": 3,
   "metadata": {},
   "outputs": [],
   "source": [
    "# Open data, csv files should be in same folder as notebook.\n",
    "notebook_dir = %pwd\n",
    "\n",
    "items = pd.read_csv(notebook_dir + \"/items.csv\")\n",
    "shops = pd.read_csv(notebook_dir + \"/shops.csv\")\n",
    "train = pd.read_csv(notebook_dir + \"/sales_train.csv\")\n",
    "test = pd.read_csv(notebook_dir + \"/test.csv\")\n",
    "sample_submission = pd.read_csv(notebook_dir + \"/sample_submission.csv\")\n",
    "item_category = pd.read_csv(notebook_dir + \"/item_categories.csv\")"
   ]
  },
  {
   "cell_type": "markdown",
   "metadata": {},
   "source": [
    "# Exploratory Data Analysis\n",
    "## Additional Data"
   ]
  },
  {
   "cell_type": "code",
   "execution_count": 4,
   "metadata": {},
   "outputs": [
    {
     "name": "stdout",
     "output_type": "stream",
     "text": [
      "Amount of items: 22170\n"
     ]
    },
    {
     "data": {
      "text/html": [
       "<div>\n",
       "<style scoped>\n",
       "    .dataframe tbody tr th:only-of-type {\n",
       "        vertical-align: middle;\n",
       "    }\n",
       "\n",
       "    .dataframe tbody tr th {\n",
       "        vertical-align: top;\n",
       "    }\n",
       "\n",
       "    .dataframe thead th {\n",
       "        text-align: right;\n",
       "    }\n",
       "</style>\n",
       "<table border=\"1\" class=\"dataframe\">\n",
       "  <thead>\n",
       "    <tr style=\"text-align: right;\">\n",
       "      <th></th>\n",
       "      <th>item_name</th>\n",
       "      <th>item_id</th>\n",
       "      <th>item_category_id</th>\n",
       "    </tr>\n",
       "  </thead>\n",
       "  <tbody>\n",
       "    <tr>\n",
       "      <th>0</th>\n",
       "      <td>! ВО ВЛАСТИ НАВАЖДЕНИЯ (ПЛАСТ.)         D</td>\n",
       "      <td>0</td>\n",
       "      <td>40</td>\n",
       "    </tr>\n",
       "    <tr>\n",
       "      <th>1</th>\n",
       "      <td>!ABBYY FineReader 12 Professional Edition Full...</td>\n",
       "      <td>1</td>\n",
       "      <td>76</td>\n",
       "    </tr>\n",
       "    <tr>\n",
       "      <th>2</th>\n",
       "      <td>***В ЛУЧАХ СЛАВЫ   (UNV)                    D</td>\n",
       "      <td>2</td>\n",
       "      <td>40</td>\n",
       "    </tr>\n",
       "    <tr>\n",
       "      <th>3</th>\n",
       "      <td>***ГОЛУБАЯ ВОЛНА  (Univ)                      D</td>\n",
       "      <td>3</td>\n",
       "      <td>40</td>\n",
       "    </tr>\n",
       "    <tr>\n",
       "      <th>4</th>\n",
       "      <td>***КОРОБКА (СТЕКЛО)                       D</td>\n",
       "      <td>4</td>\n",
       "      <td>40</td>\n",
       "    </tr>\n",
       "  </tbody>\n",
       "</table>\n",
       "</div>"
      ],
      "text/plain": [
       "                                           item_name  item_id  \\\n",
       "0          ! ВО ВЛАСТИ НАВАЖДЕНИЯ (ПЛАСТ.)         D        0   \n",
       "1  !ABBYY FineReader 12 Professional Edition Full...        1   \n",
       "2      ***В ЛУЧАХ СЛАВЫ   (UNV)                    D        2   \n",
       "3    ***ГОЛУБАЯ ВОЛНА  (Univ)                      D        3   \n",
       "4        ***КОРОБКА (СТЕКЛО)                       D        4   \n",
       "\n",
       "   item_category_id  \n",
       "0                40  \n",
       "1                76  \n",
       "2                40  \n",
       "3                40  \n",
       "4                40  "
      ]
     },
     "execution_count": 4,
     "metadata": {},
     "output_type": "execute_result"
    }
   ],
   "source": [
    "print('Amount of items:', len(items))\n",
    "items.head()"
   ]
  },
  {
   "cell_type": "code",
   "execution_count": 5,
   "metadata": {},
   "outputs": [
    {
     "name": "stdout",
     "output_type": "stream",
     "text": [
      "Amount of shops: 60\n"
     ]
    },
    {
     "data": {
      "text/html": [
       "<div>\n",
       "<style scoped>\n",
       "    .dataframe tbody tr th:only-of-type {\n",
       "        vertical-align: middle;\n",
       "    }\n",
       "\n",
       "    .dataframe tbody tr th {\n",
       "        vertical-align: top;\n",
       "    }\n",
       "\n",
       "    .dataframe thead th {\n",
       "        text-align: right;\n",
       "    }\n",
       "</style>\n",
       "<table border=\"1\" class=\"dataframe\">\n",
       "  <thead>\n",
       "    <tr style=\"text-align: right;\">\n",
       "      <th></th>\n",
       "      <th>shop_name</th>\n",
       "      <th>shop_id</th>\n",
       "    </tr>\n",
       "  </thead>\n",
       "  <tbody>\n",
       "    <tr>\n",
       "      <th>0</th>\n",
       "      <td>!Якутск Орджоникидзе, 56 фран</td>\n",
       "      <td>0</td>\n",
       "    </tr>\n",
       "    <tr>\n",
       "      <th>1</th>\n",
       "      <td>!Якутск ТЦ \"Центральный\" фран</td>\n",
       "      <td>1</td>\n",
       "    </tr>\n",
       "    <tr>\n",
       "      <th>2</th>\n",
       "      <td>Адыгея ТЦ \"Мега\"</td>\n",
       "      <td>2</td>\n",
       "    </tr>\n",
       "    <tr>\n",
       "      <th>3</th>\n",
       "      <td>Балашиха ТРК \"Октябрь-Киномир\"</td>\n",
       "      <td>3</td>\n",
       "    </tr>\n",
       "    <tr>\n",
       "      <th>4</th>\n",
       "      <td>Волжский ТЦ \"Волга Молл\"</td>\n",
       "      <td>4</td>\n",
       "    </tr>\n",
       "  </tbody>\n",
       "</table>\n",
       "</div>"
      ],
      "text/plain": [
       "                        shop_name  shop_id\n",
       "0   !Якутск Орджоникидзе, 56 фран        0\n",
       "1   !Якутск ТЦ \"Центральный\" фран        1\n",
       "2                Адыгея ТЦ \"Мега\"        2\n",
       "3  Балашиха ТРК \"Октябрь-Киномир\"        3\n",
       "4        Волжский ТЦ \"Волга Молл\"        4"
      ]
     },
     "execution_count": 5,
     "metadata": {},
     "output_type": "execute_result"
    }
   ],
   "source": [
    "print('Amount of shops:', len(shops))\n",
    "shops.head()"
   ]
  },
  {
   "cell_type": "code",
   "execution_count": 6,
   "metadata": {},
   "outputs": [
    {
     "name": "stdout",
     "output_type": "stream",
     "text": [
      "Amount of item categories: 84\n"
     ]
    },
    {
     "data": {
      "text/html": [
       "<div>\n",
       "<style scoped>\n",
       "    .dataframe tbody tr th:only-of-type {\n",
       "        vertical-align: middle;\n",
       "    }\n",
       "\n",
       "    .dataframe tbody tr th {\n",
       "        vertical-align: top;\n",
       "    }\n",
       "\n",
       "    .dataframe thead th {\n",
       "        text-align: right;\n",
       "    }\n",
       "</style>\n",
       "<table border=\"1\" class=\"dataframe\">\n",
       "  <thead>\n",
       "    <tr style=\"text-align: right;\">\n",
       "      <th></th>\n",
       "      <th>item_category_name</th>\n",
       "      <th>item_category_id</th>\n",
       "    </tr>\n",
       "  </thead>\n",
       "  <tbody>\n",
       "    <tr>\n",
       "      <th>0</th>\n",
       "      <td>PC - Гарнитуры/Наушники</td>\n",
       "      <td>0</td>\n",
       "    </tr>\n",
       "    <tr>\n",
       "      <th>1</th>\n",
       "      <td>Аксессуары - PS2</td>\n",
       "      <td>1</td>\n",
       "    </tr>\n",
       "    <tr>\n",
       "      <th>2</th>\n",
       "      <td>Аксессуары - PS3</td>\n",
       "      <td>2</td>\n",
       "    </tr>\n",
       "    <tr>\n",
       "      <th>3</th>\n",
       "      <td>Аксессуары - PS4</td>\n",
       "      <td>3</td>\n",
       "    </tr>\n",
       "    <tr>\n",
       "      <th>4</th>\n",
       "      <td>Аксессуары - PSP</td>\n",
       "      <td>4</td>\n",
       "    </tr>\n",
       "  </tbody>\n",
       "</table>\n",
       "</div>"
      ],
      "text/plain": [
       "        item_category_name  item_category_id\n",
       "0  PC - Гарнитуры/Наушники                 0\n",
       "1         Аксессуары - PS2                 1\n",
       "2         Аксессуары - PS3                 2\n",
       "3         Аксессуары - PS4                 3\n",
       "4         Аксессуары - PSP                 4"
      ]
     },
     "execution_count": 6,
     "metadata": {},
     "output_type": "execute_result"
    }
   ],
   "source": [
    "print('Amount of item categories:', len(item_category))\n",
    "item_category.head()"
   ]
  },
  {
   "cell_type": "code",
   "execution_count": 7,
   "metadata": {},
   "outputs": [
    {
     "name": "stdout",
     "output_type": "stream",
     "text": [
      "Amount of item submissions: 214200\n"
     ]
    },
    {
     "data": {
      "text/html": [
       "<div>\n",
       "<style scoped>\n",
       "    .dataframe tbody tr th:only-of-type {\n",
       "        vertical-align: middle;\n",
       "    }\n",
       "\n",
       "    .dataframe tbody tr th {\n",
       "        vertical-align: top;\n",
       "    }\n",
       "\n",
       "    .dataframe thead th {\n",
       "        text-align: right;\n",
       "    }\n",
       "</style>\n",
       "<table border=\"1\" class=\"dataframe\">\n",
       "  <thead>\n",
       "    <tr style=\"text-align: right;\">\n",
       "      <th></th>\n",
       "      <th>ID</th>\n",
       "      <th>item_cnt_month</th>\n",
       "    </tr>\n",
       "  </thead>\n",
       "  <tbody>\n",
       "    <tr>\n",
       "      <th>0</th>\n",
       "      <td>0</td>\n",
       "      <td>0.5</td>\n",
       "    </tr>\n",
       "    <tr>\n",
       "      <th>1</th>\n",
       "      <td>1</td>\n",
       "      <td>0.5</td>\n",
       "    </tr>\n",
       "    <tr>\n",
       "      <th>2</th>\n",
       "      <td>2</td>\n",
       "      <td>0.5</td>\n",
       "    </tr>\n",
       "    <tr>\n",
       "      <th>3</th>\n",
       "      <td>3</td>\n",
       "      <td>0.5</td>\n",
       "    </tr>\n",
       "    <tr>\n",
       "      <th>4</th>\n",
       "      <td>4</td>\n",
       "      <td>0.5</td>\n",
       "    </tr>\n",
       "  </tbody>\n",
       "</table>\n",
       "</div>"
      ],
      "text/plain": [
       "   ID  item_cnt_month\n",
       "0   0             0.5\n",
       "1   1             0.5\n",
       "2   2             0.5\n",
       "3   3             0.5\n",
       "4   4             0.5"
      ]
     },
     "execution_count": 7,
     "metadata": {},
     "output_type": "execute_result"
    }
   ],
   "source": [
    "print('Amount of item submissions:', len(sample_submission))\n",
    "sample_submission.head()"
   ]
  },
  {
   "cell_type": "markdown",
   "metadata": {},
   "source": [
    "## Train"
   ]
  },
  {
   "cell_type": "code",
   "execution_count": 8,
   "metadata": {},
   "outputs": [
    {
     "name": "stdout",
     "output_type": "stream",
     "text": [
      "Size of train-set: 2935849\n"
     ]
    },
    {
     "data": {
      "text/html": [
       "<div>\n",
       "<style scoped>\n",
       "    .dataframe tbody tr th:only-of-type {\n",
       "        vertical-align: middle;\n",
       "    }\n",
       "\n",
       "    .dataframe tbody tr th {\n",
       "        vertical-align: top;\n",
       "    }\n",
       "\n",
       "    .dataframe thead th {\n",
       "        text-align: right;\n",
       "    }\n",
       "</style>\n",
       "<table border=\"1\" class=\"dataframe\">\n",
       "  <thead>\n",
       "    <tr style=\"text-align: right;\">\n",
       "      <th></th>\n",
       "      <th>date</th>\n",
       "      <th>date_block_num</th>\n",
       "      <th>shop_id</th>\n",
       "      <th>item_id</th>\n",
       "      <th>item_price</th>\n",
       "      <th>item_cnt_day</th>\n",
       "    </tr>\n",
       "  </thead>\n",
       "  <tbody>\n",
       "    <tr>\n",
       "      <th>0</th>\n",
       "      <td>02.01.2013</td>\n",
       "      <td>0</td>\n",
       "      <td>59</td>\n",
       "      <td>22154</td>\n",
       "      <td>999.00</td>\n",
       "      <td>1.0</td>\n",
       "    </tr>\n",
       "    <tr>\n",
       "      <th>1</th>\n",
       "      <td>03.01.2013</td>\n",
       "      <td>0</td>\n",
       "      <td>25</td>\n",
       "      <td>2552</td>\n",
       "      <td>899.00</td>\n",
       "      <td>1.0</td>\n",
       "    </tr>\n",
       "    <tr>\n",
       "      <th>2</th>\n",
       "      <td>05.01.2013</td>\n",
       "      <td>0</td>\n",
       "      <td>25</td>\n",
       "      <td>2552</td>\n",
       "      <td>899.00</td>\n",
       "      <td>-1.0</td>\n",
       "    </tr>\n",
       "    <tr>\n",
       "      <th>3</th>\n",
       "      <td>06.01.2013</td>\n",
       "      <td>0</td>\n",
       "      <td>25</td>\n",
       "      <td>2554</td>\n",
       "      <td>1709.05</td>\n",
       "      <td>1.0</td>\n",
       "    </tr>\n",
       "    <tr>\n",
       "      <th>4</th>\n",
       "      <td>15.01.2013</td>\n",
       "      <td>0</td>\n",
       "      <td>25</td>\n",
       "      <td>2555</td>\n",
       "      <td>1099.00</td>\n",
       "      <td>1.0</td>\n",
       "    </tr>\n",
       "  </tbody>\n",
       "</table>\n",
       "</div>"
      ],
      "text/plain": [
       "         date  date_block_num  shop_id  item_id  item_price  item_cnt_day\n",
       "0  02.01.2013               0       59    22154      999.00           1.0\n",
       "1  03.01.2013               0       25     2552      899.00           1.0\n",
       "2  05.01.2013               0       25     2552      899.00          -1.0\n",
       "3  06.01.2013               0       25     2554     1709.05           1.0\n",
       "4  15.01.2013               0       25     2555     1099.00           1.0"
      ]
     },
     "execution_count": 8,
     "metadata": {},
     "output_type": "execute_result"
    }
   ],
   "source": [
    "print('Size of train-set:', len(train))\n",
    "train.head()"
   ]
  },
  {
   "cell_type": "code",
   "execution_count": 9,
   "metadata": {},
   "outputs": [
    {
     "data": {
      "text/html": [
       "<div>\n",
       "<style scoped>\n",
       "    .dataframe tbody tr th:only-of-type {\n",
       "        vertical-align: middle;\n",
       "    }\n",
       "\n",
       "    .dataframe tbody tr th {\n",
       "        vertical-align: top;\n",
       "    }\n",
       "\n",
       "    .dataframe thead th {\n",
       "        text-align: right;\n",
       "    }\n",
       "</style>\n",
       "<table border=\"1\" class=\"dataframe\">\n",
       "  <thead>\n",
       "    <tr style=\"text-align: right;\">\n",
       "      <th></th>\n",
       "      <th>date_block_num</th>\n",
       "      <th>shop_id</th>\n",
       "      <th>item_id</th>\n",
       "      <th>item_price</th>\n",
       "      <th>item_cnt_day</th>\n",
       "    </tr>\n",
       "  </thead>\n",
       "  <tbody>\n",
       "    <tr>\n",
       "      <th>count</th>\n",
       "      <td>2.935849e+06</td>\n",
       "      <td>2.935849e+06</td>\n",
       "      <td>2.935849e+06</td>\n",
       "      <td>2.935849e+06</td>\n",
       "      <td>2.935849e+06</td>\n",
       "    </tr>\n",
       "    <tr>\n",
       "      <th>mean</th>\n",
       "      <td>1.456991e+01</td>\n",
       "      <td>3.300173e+01</td>\n",
       "      <td>1.019723e+04</td>\n",
       "      <td>8.908532e+02</td>\n",
       "      <td>1.242641e+00</td>\n",
       "    </tr>\n",
       "    <tr>\n",
       "      <th>std</th>\n",
       "      <td>9.422988e+00</td>\n",
       "      <td>1.622697e+01</td>\n",
       "      <td>6.324297e+03</td>\n",
       "      <td>1.729800e+03</td>\n",
       "      <td>2.618834e+00</td>\n",
       "    </tr>\n",
       "    <tr>\n",
       "      <th>min</th>\n",
       "      <td>0.000000e+00</td>\n",
       "      <td>0.000000e+00</td>\n",
       "      <td>0.000000e+00</td>\n",
       "      <td>-1.000000e+00</td>\n",
       "      <td>-2.200000e+01</td>\n",
       "    </tr>\n",
       "    <tr>\n",
       "      <th>25%</th>\n",
       "      <td>7.000000e+00</td>\n",
       "      <td>2.200000e+01</td>\n",
       "      <td>4.476000e+03</td>\n",
       "      <td>2.490000e+02</td>\n",
       "      <td>1.000000e+00</td>\n",
       "    </tr>\n",
       "    <tr>\n",
       "      <th>50%</th>\n",
       "      <td>1.400000e+01</td>\n",
       "      <td>3.100000e+01</td>\n",
       "      <td>9.343000e+03</td>\n",
       "      <td>3.990000e+02</td>\n",
       "      <td>1.000000e+00</td>\n",
       "    </tr>\n",
       "    <tr>\n",
       "      <th>75%</th>\n",
       "      <td>2.300000e+01</td>\n",
       "      <td>4.700000e+01</td>\n",
       "      <td>1.568400e+04</td>\n",
       "      <td>9.990000e+02</td>\n",
       "      <td>1.000000e+00</td>\n",
       "    </tr>\n",
       "    <tr>\n",
       "      <th>max</th>\n",
       "      <td>3.300000e+01</td>\n",
       "      <td>5.900000e+01</td>\n",
       "      <td>2.216900e+04</td>\n",
       "      <td>3.079800e+05</td>\n",
       "      <td>2.169000e+03</td>\n",
       "    </tr>\n",
       "  </tbody>\n",
       "</table>\n",
       "</div>"
      ],
      "text/plain": [
       "       date_block_num       shop_id       item_id    item_price  item_cnt_day\n",
       "count    2.935849e+06  2.935849e+06  2.935849e+06  2.935849e+06  2.935849e+06\n",
       "mean     1.456991e+01  3.300173e+01  1.019723e+04  8.908532e+02  1.242641e+00\n",
       "std      9.422988e+00  1.622697e+01  6.324297e+03  1.729800e+03  2.618834e+00\n",
       "min      0.000000e+00  0.000000e+00  0.000000e+00 -1.000000e+00 -2.200000e+01\n",
       "25%      7.000000e+00  2.200000e+01  4.476000e+03  2.490000e+02  1.000000e+00\n",
       "50%      1.400000e+01  3.100000e+01  9.343000e+03  3.990000e+02  1.000000e+00\n",
       "75%      2.300000e+01  4.700000e+01  1.568400e+04  9.990000e+02  1.000000e+00\n",
       "max      3.300000e+01  5.900000e+01  2.216900e+04  3.079800e+05  2.169000e+03"
      ]
     },
     "execution_count": 9,
     "metadata": {},
     "output_type": "execute_result"
    }
   ],
   "source": [
    "train.describe()"
   ]
  },
  {
   "cell_type": "markdown",
   "metadata": {},
   "source": [
    "As we can see price and item count vary by quite a lot and are in some cases invalid (negative price)"
   ]
  },
  {
   "cell_type": "code",
   "execution_count": 10,
   "metadata": {},
   "outputs": [],
   "source": [
    "# Drop duplicates so they cannot influence training\n",
    "train.drop_duplicates(inplace=True)"
   ]
  },
  {
   "cell_type": "code",
   "execution_count": 11,
   "metadata": {},
   "outputs": [
    {
     "data": {
      "text/plain": [
       "{'whiskers': [<matplotlib.lines.Line2D at 0x7fb7f3f10cc0>,\n",
       "  <matplotlib.lines.Line2D at 0x7fb7f3f27048>],\n",
       " 'caps': [<matplotlib.lines.Line2D at 0x7fb7f3f27390>,\n",
       "  <matplotlib.lines.Line2D at 0x7fb7f3f276d8>],\n",
       " 'boxes': [<matplotlib.lines.Line2D at 0x7fb7f3f10b38>],\n",
       " 'medians': [<matplotlib.lines.Line2D at 0x7fb7f3f27a20>],\n",
       " 'fliers': [<matplotlib.lines.Line2D at 0x7fb7f3f27d68>],\n",
       " 'means': []}"
      ]
     },
     "execution_count": 11,
     "metadata": {},
     "output_type": "execute_result"
    },
    {
     "data": {
      "image/png": "[encoded data removed]",
      "text/plain": [
       "<Figure size 432x288 with 1 Axes>"
      ]
     },
     "metadata": {
      "needs_background": "light"
     },
     "output_type": "display_data"
    }
   ],
   "source": [
    "plt.boxplot(train['item_cnt_day'])"
   ]
  },
  {
   "cell_type": "code",
   "execution_count": 12,
   "metadata": {},
   "outputs": [
    {
     "data": {
      "text/plain": [
       "{'whiskers': [<matplotlib.lines.Line2D at 0x7fb7f3ea9a58>,\n",
       "  <matplotlib.lines.Line2D at 0x7fb7f3ea9dd8>],\n",
       " 'caps': [<matplotlib.lines.Line2D at 0x7fb7f3eb5160>,\n",
       "  <matplotlib.lines.Line2D at 0x7fb7f3eb54a8>],\n",
       " 'boxes': [<matplotlib.lines.Line2D at 0x7fb7f3ea9748>],\n",
       " 'medians': [<matplotlib.lines.Line2D at 0x7fb7f3eb57f0>],\n",
       " 'fliers': [<matplotlib.lines.Line2D at 0x7fb7f3eb5b38>],\n",
       " 'means': []}"
      ]
     },
     "execution_count": 12,
     "metadata": {},
     "output_type": "execute_result"
    },
    {
     "data": {
      "image/png": "[encoded data removed]",
      "text/plain": [
       "<Figure size 432x288 with 1 Axes>"
      ]
     },
     "metadata": {
      "needs_background": "light"
     },
     "output_type": "display_data"
    }
   ],
   "source": [
    "plt.boxplot(train['item_price'])"
   ]
  },
  {
   "cell_type": "code",
   "execution_count": 13,
   "metadata": {},
   "outputs": [
    {
     "data": {
      "text/plain": [
       "(array([ 7.,  0.,  4.,  6.,  8.,  4.,  1.,  2.,  1.,  1.]),\n",
       " array([  50588. ,   59853.8,   69119.6,   78385.4,   87651.2,   96917. ,\n",
       "         106182.8,  115448.6,  124714.4,  133980.2,  143246. ]),\n",
       " <a list of 10 Patch objects>)"
      ]
     },
     "execution_count": 13,
     "metadata": {},
     "output_type": "execute_result"
    },
    {
     "data": {
      "image/png": "[encoded data removed]",
      "text/plain": [
       "<Figure size 432x288 with 1 Axes>"
      ]
     },
     "metadata": {
      "needs_background": "light"
     },
     "output_type": "display_data"
    }
   ],
   "source": [
    "plt.hist(train.groupby(by=['date_block_num'])['item_cnt_day'].count())"
   ]
  },
  {
   "cell_type": "markdown",
   "metadata": {},
   "source": [
    "The item count has quite a few outliers. The amount of rows for each month is also vastly different. Both of these findings can influence training."
   ]
  },
  {
   "cell_type": "markdown",
   "metadata": {},
   "source": [
    "## Test"
   ]
  },
  {
   "cell_type": "code",
   "execution_count": 14,
   "metadata": {},
   "outputs": [
    {
     "name": "stdout",
     "output_type": "stream",
     "text": [
      "Size of test-set: 214200\n"
     ]
    },
    {
     "data": {
      "text/html": [
       "<div>\n",
       "<style scoped>\n",
       "    .dataframe tbody tr th:only-of-type {\n",
       "        vertical-align: middle;\n",
       "    }\n",
       "\n",
       "    .dataframe tbody tr th {\n",
       "        vertical-align: top;\n",
       "    }\n",
       "\n",
       "    .dataframe thead th {\n",
       "        text-align: right;\n",
       "    }\n",
       "</style>\n",
       "<table border=\"1\" class=\"dataframe\">\n",
       "  <thead>\n",
       "    <tr style=\"text-align: right;\">\n",
       "      <th></th>\n",
       "      <th>ID</th>\n",
       "      <th>shop_id</th>\n",
       "      <th>item_id</th>\n",
       "    </tr>\n",
       "  </thead>\n",
       "  <tbody>\n",
       "    <tr>\n",
       "      <th>0</th>\n",
       "      <td>0</td>\n",
       "      <td>5</td>\n",
       "      <td>5037</td>\n",
       "    </tr>\n",
       "    <tr>\n",
       "      <th>1</th>\n",
       "      <td>1</td>\n",
       "      <td>5</td>\n",
       "      <td>5320</td>\n",
       "    </tr>\n",
       "    <tr>\n",
       "      <th>2</th>\n",
       "      <td>2</td>\n",
       "      <td>5</td>\n",
       "      <td>5233</td>\n",
       "    </tr>\n",
       "    <tr>\n",
       "      <th>3</th>\n",
       "      <td>3</td>\n",
       "      <td>5</td>\n",
       "      <td>5232</td>\n",
       "    </tr>\n",
       "    <tr>\n",
       "      <th>4</th>\n",
       "      <td>4</td>\n",
       "      <td>5</td>\n",
       "      <td>5268</td>\n",
       "    </tr>\n",
       "  </tbody>\n",
       "</table>\n",
       "</div>"
      ],
      "text/plain": [
       "   ID  shop_id  item_id\n",
       "0   0        5     5037\n",
       "1   1        5     5320\n",
       "2   2        5     5233\n",
       "3   3        5     5232\n",
       "4   4        5     5268"
      ]
     },
     "execution_count": 14,
     "metadata": {},
     "output_type": "execute_result"
    }
   ],
   "source": [
    "print('Size of test-set:', len(test))\n",
    "test.head()"
   ]
  },
  {
   "cell_type": "markdown",
   "metadata": {},
   "source": [
    "as we can see test does not have many features. We will have to create those."
   ]
  },
  {
   "cell_type": "code",
   "execution_count": 15,
   "metadata": {},
   "outputs": [
    {
     "data": {
      "text/plain": [
       "(18, 16707, 363, 0)"
      ]
     },
     "execution_count": 15,
     "metadata": {},
     "output_type": "execute_result"
    }
   ],
   "source": [
    "train['shop_id'].nunique() - test['shop_id'].nunique(), \\\n",
    "train['item_id'].nunique() - test['item_id'].nunique(), \\\n",
    "len(list(set(test['item_id']) - set(train['item_id']))), \\\n",
    "len(list(set(test['shop_id']) - set(train['shop_id'])))"
   ]
  },
  {
   "cell_type": "markdown",
   "metadata": {},
   "source": [
    "We can see that some shops and many items do not appear in the test set but do in the train set. These will not be necessary for training.\n",
    "\n",
    "Also 363 items that appear in the test set never appear in the train set. Since training on the test dataframe will almost never give output as 0, we should make sure the distribution between train and test is similar to improve training performance. We can do this by adding rows with 0 sales as values."
   ]
  },
  {
   "cell_type": "markdown",
   "metadata": {},
   "source": [
    "# Data Leakages\n",
    "During EDA we discovered that many items and shops are not being asked for in the test set. We remove these from the train set."
   ]
  },
  {
   "cell_type": "code",
   "execution_count": 16,
   "metadata": {},
   "outputs": [
    {
     "name": "stdout",
     "output_type": "stream",
     "text": [
      "before size: 2935843 \n",
      " after size: 1224434\n"
     ]
    }
   ],
   "source": [
    "before_size = len(train)\n",
    "train = train[train['shop_id'].isin(test['shop_id'].unique())]\n",
    "train = train[train['item_id'].isin(test['item_id'].unique())]\n",
    "after_size = len(train)\n",
    "print(f'before size: {before_size}', '\\n', f'after size: {after_size}')"
   ]
  },
  {
   "cell_type": "markdown",
   "metadata": {},
   "source": [
    "# Data Preprocessing and Generation\n",
    "We are dealing with a 1 month future prediction problem. If we teach the model to predict sales 1 month into the future, then we can use all features provided in the training set instead of being limited to the test sets features."
   ]
  },
  {
   "cell_type": "code",
   "execution_count": 17,
   "metadata": {},
   "outputs": [],
   "source": [
    "train_data = train.drop(columns=['date']) \\\n",
    ".groupby(by=['date_block_num', 'shop_id', 'item_id'], as_index=False) \\\n",
    ".agg({'item_price':['sum', 'mean'], 'item_cnt_day':['sum', 'mean', 'count']})\n",
    "\n",
    "# Rename columns\n",
    "train_data.columns = ['date_block_num', 'shop_id', 'item_id', \\\n",
    "                      'summed_item_price', 'mean_item_price', \\\n",
    "                      'total_item_cnt', 'mean_item_cnt', 'transactions']"
   ]
  },
  {
   "cell_type": "markdown",
   "metadata": {},
   "source": [
    "## Add Missing Combinations\n",
    "We add the missing product shop month combos to make the distribution train/test similar"
   ]
  },
  {
   "cell_type": "code",
   "execution_count": 18,
   "metadata": {},
   "outputs": [],
   "source": [
    "# Build empty DataFrame\n",
    "shop_ids = train_data['shop_id'].unique()\n",
    "item_ids = train_data['item_id'].unique()  \n",
    "\n",
    "# Extend later with item ids in test\n",
    "item_ids = np.concatenate([item_ids, np.array(list(set(test['item_id']) - set(train['item_id'])))])\n",
    "item_ids.sort()\n",
    "\n",
    "empty_df = []\n",
    "for month_block in range(34):\n",
    "    for shop_id in shop_ids:\n",
    "        for item_id in item_ids:\n",
    "            empty_df.append([month_block, shop_id, item_id])\n",
    "\n",
    "empty_df = pd.DataFrame(empty_df, columns=['date_block_num', 'shop_id', 'item_id'])"
   ]
  },
  {
   "cell_type": "code",
   "execution_count": 19,
   "metadata": {},
   "outputs": [],
   "source": [
    "# Merge train_data into empty_df and fill NaNs with 0\n",
    "train_data = pd.merge(empty_df, train_data, on=['date_block_num', 'shop_id', 'item_id'], how='left').fillna(0)"
   ]
  },
  {
   "cell_type": "markdown",
   "metadata": {},
   "source": [
    "## Clean Data"
   ]
  },
  {
   "cell_type": "code",
   "execution_count": 20,
   "metadata": {},
   "outputs": [],
   "source": [
    "# Remove price outliers\n",
    "train_data = train_data[train_data['summed_item_price'] >= 0]\n",
    "train_data = train_data[train_data['summed_item_price'] < 400000]"
   ]
  },
  {
   "cell_type": "code",
   "execution_count": 21,
   "metadata": {},
   "outputs": [],
   "source": [
    "# Remove count outliers\n",
    "train_data = train_data[train_data['total_item_cnt'] >= 0]\n",
    "train_data = train_data[train_data['total_item_cnt'] <= 20]\n",
    "\n",
    "# Or Clip them\n",
    "# train_data['item_cnt_day'] = train_data['item_cnt_day'].clip(0, 20)"
   ]
  },
  {
   "cell_type": "markdown",
   "metadata": {},
   "source": [
    "## Target"
   ]
  },
  {
   "cell_type": "code",
   "execution_count": 22,
   "metadata": {},
   "outputs": [],
   "source": [
    "train_data['target'] = train_data.sort_values('date_block_num')\\\n",
    ".groupby(['shop_id', 'item_id'])['total_item_cnt']\\\n",
    ".shift(-1)"
   ]
  },
  {
   "cell_type": "markdown",
   "metadata": {},
   "source": [
    "## Basic Features"
   ]
  },
  {
   "cell_type": "markdown",
   "metadata": {},
   "source": [
    "### Month"
   ]
  },
  {
   "cell_type": "code",
   "execution_count": 23,
   "metadata": {},
   "outputs": [],
   "source": [
    "train_data['month'] = train_data['date_block_num'] % 12"
   ]
  },
  {
   "cell_type": "markdown",
   "metadata": {},
   "source": [
    "### Year"
   ]
  },
  {
   "cell_type": "code",
   "execution_count": 24,
   "metadata": {},
   "outputs": [],
   "source": [
    "train_data['year'] = train_data['date_block_num'] // 12 + 2013"
   ]
  },
  {
   "cell_type": "markdown",
   "metadata": {},
   "source": [
    "### Days in Month"
   ]
  },
  {
   "cell_type": "code",
   "execution_count": 25,
   "metadata": {},
   "outputs": [],
   "source": [
    "days_in_month = pd.Series([31,28,31,30,31,30,31,31,30,31,30,31])\n",
    "train_data['days_in_month'] = train_data['month'].map(days_in_month).astype(np.int8)"
   ]
  },
  {
   "cell_type": "markdown",
   "metadata": {},
   "source": [
    "### Item Category"
   ]
  },
  {
   "cell_type": "code",
   "execution_count": 26,
   "metadata": {},
   "outputs": [],
   "source": [
    "item_category_map = items[['item_id', 'item_category_id']]\n",
    "train_data = pd.merge(train_data, item_category_map, on=['item_id'])"
   ]
  },
  {
   "cell_type": "markdown",
   "metadata": {},
   "source": [
    "### Unit Price"
   ]
  },
  {
   "cell_type": "code",
   "execution_count": 27,
   "metadata": {},
   "outputs": [],
   "source": [
    "train_data['unit_item_price'] = (train_data['summed_item_price'] // train_data['total_item_cnt']).fillna(0).replace(np.inf, 0)"
   ]
  },
  {
   "cell_type": "markdown",
   "metadata": {},
   "source": [
    "### Month Shop Sales"
   ]
  },
  {
   "cell_type": "code",
   "execution_count": 28,
   "metadata": {},
   "outputs": [],
   "source": [
    "month_shop_sales = train_data.groupby(['date_block_num', 'shop_id'], as_index=False)['total_item_cnt'].sum().rename(columns={'total_item_cnt': 'month_shop_sales'})\n",
    "train_data = pd.merge(train_data, month_shop_sales, on=['date_block_num', 'shop_id'], how='left').fillna(0)"
   ]
  },
  {
   "cell_type": "markdown",
   "metadata": {},
   "source": [
    "### Month Item Sales"
   ]
  },
  {
   "cell_type": "code",
   "execution_count": 29,
   "metadata": {},
   "outputs": [],
   "source": [
    "month_item_sales = train_data.groupby(['date_block_num', 'item_id'], as_index=False)['total_item_cnt'].sum().rename(columns={'total_item_cnt': 'month_item_sales'})\n",
    "train_data = pd.merge(train_data, month_item_sales, on=['date_block_num', 'item_id'], how='left').fillna(0)"
   ]
  },
  {
   "cell_type": "markdown",
   "metadata": {},
   "source": [
    "## Historical Features\n",
    "### Historical Prices"
   ]
  },
  {
   "cell_type": "code",
   "execution_count": 30,
   "metadata": {},
   "outputs": [],
   "source": [
    "historical_prices = train_data.groupby(by=['item_id'], as_index=False) \\\n",
    ".agg({'summed_item_price': [np.min, np.max]})\n",
    "\n",
    "historical_prices.columns = ['item_id', 'hist_min_price', 'hist_max_price']\n",
    "train_data = pd.merge(train_data, historical_prices, on='item_id', how='left').fillna(0)"
   ]
  },
  {
   "cell_type": "markdown",
   "metadata": {},
   "source": [
    "### Change from Historical Prices"
   ]
  },
  {
   "cell_type": "code",
   "execution_count": 31,
   "metadata": {},
   "outputs": [],
   "source": [
    "train_data['price_increase'] = train_data['summed_item_price'] - train_data['hist_min_price']\n",
    "train_data['price_decrease'] = train_data['summed_item_price'] - train_data['hist_max_price']"
   ]
  },
  {
   "cell_type": "markdown",
   "metadata": {},
   "source": [
    "## Downcast types"
   ]
  },
  {
   "cell_type": "code",
   "execution_count": 32,
   "metadata": {},
   "outputs": [],
   "source": [
    "train_data['date_block_num'] = train_data['date_block_num'].astype(np.int8)\n",
    "train_data['shop_id'] = train_data['shop_id'].astype(np.int16)\n",
    "train_data['item_id'] = train_data['item_id'].astype(np.int16)\n",
    "train_data['summed_item_price'] = train_data['summed_item_price'].astype(np.float32)\n",
    "train_data['mean_item_price'] = train_data['mean_item_price'].astype(np.float32)\n",
    "train_data['unit_item_price'] = train_data['unit_item_price'].astype(np.int32)\n",
    "train_data['hist_min_price'] = train_data['hist_min_price'].astype(np.float32)\n",
    "train_data['hist_max_price'] = train_data['hist_max_price'].astype(np.float32)\n",
    "train_data['price_increase'] = train_data['price_increase'].astype(np.float32)\n",
    "train_data['price_decrease'] = train_data['price_decrease'].astype(np.float32)\n",
    "train_data['total_item_cnt'] = train_data['total_item_cnt'].astype(np.int32)\n",
    "train_data['mean_item_cnt'] = train_data['total_item_cnt'].astype(np.float32)\n",
    "train_data['transactions'] = train_data['transactions'].astype(np.int32)\n",
    "train_data['month'] = train_data['month'].astype(np.int8)\n",
    "train_data['year'] = train_data['year'].astype(np.int16)\n",
    "train_data['item_category_id'] = train_data['item_category_id'].astype(np.int16)\n",
    "train_data['month_shop_sales'] = train_data['month_shop_sales'].astype(np.int32)\n",
    "train_data['month_item_sales'] = train_data['month_item_sales'].astype(np.int32)"
   ]
  },
  {
   "cell_type": "markdown",
   "metadata": {},
   "source": [
    "## Lag Based Features\n",
    "### Sale Lags"
   ]
  },
  {
   "cell_type": "code",
   "execution_count": 33,
   "metadata": {},
   "outputs": [],
   "source": [
    "lags = [1, 2, 3, 6, 12]\n",
    "\n",
    "def add_lag_features(train_data, grouped_data, lags, old_name, new_name, merge_list):\n",
    "    for lag in lags:\n",
    "        lag_series = grouped_data.copy()\n",
    "        composed_name = f'{new_name}_lag{lag}m'\n",
    "        lag_series['date_block_num'] += lag\n",
    "        lag_series.rename(columns={old_name: composed_name}, inplace=True)\n",
    "        \n",
    "        train_data = pd.merge(train_data, lag_series, on=merge_list, how='left').fillna(0)\n",
    "        train_data[composed_name] = train_data[composed_name].astype(train_data[old_name].dtype)\n",
    "        \n",
    "        del lag_series\n",
    "        gc.collect()\n",
    "    return train_data"
   ]
  },
  {
   "cell_type": "code",
   "execution_count": 34,
   "metadata": {},
   "outputs": [],
   "source": [
    "# Month Shop Item Sales\n",
    "month_shop_item = train_data[['date_block_num', 'shop_id', 'item_id', 'total_item_cnt']]\n",
    "train_data = add_lag_features(train_data, month_shop_item, lags, 'total_item_cnt', 'month_shop_item_sales', ['date_block_num', 'shop_id', 'item_id'])\n",
    "\n",
    "# Month Shop Sales\n",
    "month_shop = train_data.groupby(['date_block_num', 'shop_id'], as_index=False)['month_shop_sales'].mean()\n",
    "train_data = add_lag_features(train_data, month_shop, lags, 'month_shop_sales', 'month_shop_sales', ['date_block_num', 'shop_id'])\n",
    "\n",
    "# Month Item Sales\n",
    "month_item = train_data.groupby(['date_block_num', 'item_id'], as_index=False)['month_item_sales'].mean()\n",
    "train_data = add_lag_features(train_data, month_item, lags, 'month_item_sales', 'month_item_sales', ['date_block_num', 'item_id'])"
   ]
  },
  {
   "cell_type": "markdown",
   "metadata": {},
   "source": [
    "### Sales Count Trend"
   ]
  },
  {
   "cell_type": "code",
   "execution_count": 35,
   "metadata": {},
   "outputs": [],
   "source": [
    "def add_trend(train_data, total_count, lags, base_feat_name, new_name):\n",
    "    train_data[new_name] = total_count\n",
    "    for lag in lags:\n",
    "        composed_name = f'{base_feat_name}_lag{lag}m'\n",
    "        train_data[new_name] -= train_data[composed_name]\n",
    "    \n",
    "    train_data[new_name] /= len(lags) + 1\n",
    "    train_data[new_name] = train_data[new_name].astype(np.float32)\n",
    "    return train_data"
   ]
  },
  {
   "cell_type": "code",
   "execution_count": 36,
   "metadata": {},
   "outputs": [],
   "source": [
    "# Trend Shop Item Sales\n",
    "train_data = add_trend(train_data, train_data['total_item_cnt'], lags, 'month_shop_item_sales', 'shop_item_trend')\n",
    "\n",
    "# Trend Shop Sales\n",
    "train_data = add_trend(train_data, train_data['month_shop_sales'], lags, 'month_shop_sales', 'shop_trend')\n",
    "\n",
    "# Trend Item Sales\n",
    "train_data = add_trend(train_data, train_data['month_item_sales'], lags, 'month_item_sales', 'item_trend')"
   ]
  },
  {
   "cell_type": "markdown",
   "metadata": {},
   "source": [
    "Remove the first max(lag) months of train dataset as these have no lag values."
   ]
  },
  {
   "cell_type": "code",
   "execution_count": 37,
   "metadata": {},
   "outputs": [],
   "source": [
    "train_data = train_data[train_data['date_block_num'] >= max(lags)]"
   ]
  },
  {
   "cell_type": "markdown",
   "metadata": {},
   "source": [
    "## Result"
   ]
  },
  {
   "cell_type": "code",
   "execution_count": 38,
   "metadata": {},
   "outputs": [
    {
     "data": {
      "text/html": [
       "<div>\n",
       "<style scoped>\n",
       "    .dataframe tbody tr th:only-of-type {\n",
       "        vertical-align: middle;\n",
       "    }\n",
       "\n",
       "    .dataframe tbody tr th {\n",
       "        vertical-align: top;\n",
       "    }\n",
       "\n",
       "    .dataframe thead th {\n",
       "        text-align: right;\n",
       "    }\n",
       "</style>\n",
       "<table border=\"1\" class=\"dataframe\">\n",
       "  <thead>\n",
       "    <tr style=\"text-align: right;\">\n",
       "      <th></th>\n",
       "      <th>count</th>\n",
       "      <th>mean</th>\n",
       "      <th>std</th>\n",
       "      <th>min</th>\n",
       "      <th>25%</th>\n",
       "      <th>50%</th>\n",
       "      <th>75%</th>\n",
       "      <th>max</th>\n",
       "    </tr>\n",
       "  </thead>\n",
       "  <tbody>\n",
       "    <tr>\n",
       "      <th>date_block_num</th>\n",
       "      <td>4708036.0</td>\n",
       "      <td>22.499862</td>\n",
       "      <td>6.344737</td>\n",
       "      <td>12.000000</td>\n",
       "      <td>17.000000</td>\n",
       "      <td>22.000000</td>\n",
       "      <td>28.000000</td>\n",
       "      <td>33.000000</td>\n",
       "    </tr>\n",
       "    <tr>\n",
       "      <th>shop_id</th>\n",
       "      <td>4708036.0</td>\n",
       "      <td>31.643266</td>\n",
       "      <td>17.563453</td>\n",
       "      <td>2.000000</td>\n",
       "      <td>16.000000</td>\n",
       "      <td>35.000000</td>\n",
       "      <td>47.000000</td>\n",
       "      <td>59.000000</td>\n",
       "    </tr>\n",
       "    <tr>\n",
       "      <th>item_id</th>\n",
       "      <td>4708036.0</td>\n",
       "      <td>11019.941696</td>\n",
       "      <td>6251.749247</td>\n",
       "      <td>30.000000</td>\n",
       "      <td>5382.000000</td>\n",
       "      <td>11207.000000</td>\n",
       "      <td>16071.000000</td>\n",
       "      <td>22167.000000</td>\n",
       "    </tr>\n",
       "    <tr>\n",
       "      <th>summed_item_price</th>\n",
       "      <td>4708036.0</td>\n",
       "      <td>201.474991</td>\n",
       "      <td>2062.762939</td>\n",
       "      <td>0.000000</td>\n",
       "      <td>0.000000</td>\n",
       "      <td>0.000000</td>\n",
       "      <td>0.000000</td>\n",
       "      <td>366860.000000</td>\n",
       "    </tr>\n",
       "    <tr>\n",
       "      <th>mean_item_price</th>\n",
       "      <td>4708036.0</td>\n",
       "      <td>96.350044</td>\n",
       "      <td>605.202209</td>\n",
       "      <td>0.000000</td>\n",
       "      <td>0.000000</td>\n",
       "      <td>0.000000</td>\n",
       "      <td>0.000000</td>\n",
       "      <td>42990.000000</td>\n",
       "    </tr>\n",
       "    <tr>\n",
       "      <th>total_item_cnt</th>\n",
       "      <td>4708036.0</td>\n",
       "      <td>0.204145</td>\n",
       "      <td>0.929529</td>\n",
       "      <td>0.000000</td>\n",
       "      <td>0.000000</td>\n",
       "      <td>0.000000</td>\n",
       "      <td>0.000000</td>\n",
       "      <td>20.000000</td>\n",
       "    </tr>\n",
       "    <tr>\n",
       "      <th>mean_item_cnt</th>\n",
       "      <td>4708036.0</td>\n",
       "      <td>0.204145</td>\n",
       "      <td>0.929529</td>\n",
       "      <td>0.000000</td>\n",
       "      <td>0.000000</td>\n",
       "      <td>0.000000</td>\n",
       "      <td>0.000000</td>\n",
       "      <td>20.000000</td>\n",
       "    </tr>\n",
       "    <tr>\n",
       "      <th>transactions</th>\n",
       "      <td>4708036.0</td>\n",
       "      <td>0.185371</td>\n",
       "      <td>0.762452</td>\n",
       "      <td>0.000000</td>\n",
       "      <td>0.000000</td>\n",
       "      <td>0.000000</td>\n",
       "      <td>0.000000</td>\n",
       "      <td>18.000000</td>\n",
       "    </tr>\n",
       "    <tr>\n",
       "      <th>target</th>\n",
       "      <td>4708036.0</td>\n",
       "      <td>0.196718</td>\n",
       "      <td>0.908252</td>\n",
       "      <td>0.000000</td>\n",
       "      <td>0.000000</td>\n",
       "      <td>0.000000</td>\n",
       "      <td>0.000000</td>\n",
       "      <td>20.000000</td>\n",
       "    </tr>\n",
       "    <tr>\n",
       "      <th>month</th>\n",
       "      <td>4708036.0</td>\n",
       "      <td>5.044846</td>\n",
       "      <td>3.239628</td>\n",
       "      <td>0.000000</td>\n",
       "      <td>2.000000</td>\n",
       "      <td>5.000000</td>\n",
       "      <td>8.000000</td>\n",
       "      <td>11.000000</td>\n",
       "    </tr>\n",
       "    <tr>\n",
       "      <th>year</th>\n",
       "      <td>4708036.0</td>\n",
       "      <td>2014.454585</td>\n",
       "      <td>0.497933</td>\n",
       "      <td>2014.000000</td>\n",
       "      <td>2014.000000</td>\n",
       "      <td>2014.000000</td>\n",
       "      <td>2015.000000</td>\n",
       "      <td>2015.000000</td>\n",
       "    </tr>\n",
       "    <tr>\n",
       "      <th>days_in_month</th>\n",
       "      <td>4708036.0</td>\n",
       "      <td>30.409064</td>\n",
       "      <td>0.887276</td>\n",
       "      <td>28.000000</td>\n",
       "      <td>30.000000</td>\n",
       "      <td>31.000000</td>\n",
       "      <td>31.000000</td>\n",
       "      <td>31.000000</td>\n",
       "    </tr>\n",
       "    <tr>\n",
       "      <th>item_category_id</th>\n",
       "      <td>4708036.0</td>\n",
       "      <td>46.314478</td>\n",
       "      <td>16.709694</td>\n",
       "      <td>0.000000</td>\n",
       "      <td>37.000000</td>\n",
       "      <td>43.000000</td>\n",
       "      <td>58.000000</td>\n",
       "      <td>83.000000</td>\n",
       "    </tr>\n",
       "    <tr>\n",
       "      <th>unit_item_price</th>\n",
       "      <td>4708036.0</td>\n",
       "      <td>92.534029</td>\n",
       "      <td>582.465133</td>\n",
       "      <td>0.000000</td>\n",
       "      <td>0.000000</td>\n",
       "      <td>0.000000</td>\n",
       "      <td>0.000000</td>\n",
       "      <td>94970.000000</td>\n",
       "    </tr>\n",
       "    <tr>\n",
       "      <th>month_shop_sales</th>\n",
       "      <td>4708036.0</td>\n",
       "      <td>1039.465576</td>\n",
       "      <td>774.436703</td>\n",
       "      <td>0.000000</td>\n",
       "      <td>612.000000</td>\n",
       "      <td>854.000000</td>\n",
       "      <td>1166.000000</td>\n",
       "      <td>6645.000000</td>\n",
       "    </tr>\n",
       "    <tr>\n",
       "      <th>month_item_sales</th>\n",
       "      <td>4708036.0</td>\n",
       "      <td>8.434005</td>\n",
       "      <td>24.090913</td>\n",
       "      <td>0.000000</td>\n",
       "      <td>0.000000</td>\n",
       "      <td>0.000000</td>\n",
       "      <td>7.000000</td>\n",
       "      <td>392.000000</td>\n",
       "    </tr>\n",
       "    <tr>\n",
       "      <th>hist_min_price</th>\n",
       "      <td>4708036.0</td>\n",
       "      <td>0.000000</td>\n",
       "      <td>0.000000</td>\n",
       "      <td>0.000000</td>\n",
       "      <td>0.000000</td>\n",
       "      <td>0.000000</td>\n",
       "      <td>0.000000</td>\n",
       "      <td>0.000000</td>\n",
       "    </tr>\n",
       "    <tr>\n",
       "      <th>hist_max_price</th>\n",
       "      <td>4708036.0</td>\n",
       "      <td>5196.814941</td>\n",
       "      <td>11356.205078</td>\n",
       "      <td>0.000000</td>\n",
       "      <td>798.000000</td>\n",
       "      <td>2099.000000</td>\n",
       "      <td>5196.000000</td>\n",
       "      <td>366860.000000</td>\n",
       "    </tr>\n",
       "    <tr>\n",
       "      <th>price_increase</th>\n",
       "      <td>4708036.0</td>\n",
       "      <td>201.474991</td>\n",
       "      <td>2062.762939</td>\n",
       "      <td>0.000000</td>\n",
       "      <td>0.000000</td>\n",
       "      <td>0.000000</td>\n",
       "      <td>0.000000</td>\n",
       "      <td>366860.000000</td>\n",
       "    </tr>\n",
       "    <tr>\n",
       "      <th>price_decrease</th>\n",
       "      <td>4708036.0</td>\n",
       "      <td>-4995.342773</td>\n",
       "      <td>10661.282227</td>\n",
       "      <td>-366860.000000</td>\n",
       "      <td>-5094.160156</td>\n",
       "      <td>-2093.000000</td>\n",
       "      <td>-796.000000</td>\n",
       "      <td>0.000000</td>\n",
       "    </tr>\n",
       "    <tr>\n",
       "      <th>month_shop_item_sales_lag1m</th>\n",
       "      <td>4708036.0</td>\n",
       "      <td>0.200695</td>\n",
       "      <td>0.925135</td>\n",
       "      <td>0.000000</td>\n",
       "      <td>0.000000</td>\n",
       "      <td>0.000000</td>\n",
       "      <td>0.000000</td>\n",
       "      <td>20.000000</td>\n",
       "    </tr>\n",
       "    <tr>\n",
       "      <th>month_shop_item_sales_lag2m</th>\n",
       "      <td>4708036.0</td>\n",
       "      <td>0.196975</td>\n",
       "      <td>0.924936</td>\n",
       "      <td>0.000000</td>\n",
       "      <td>0.000000</td>\n",
       "      <td>0.000000</td>\n",
       "      <td>0.000000</td>\n",
       "      <td>20.000000</td>\n",
       "    </tr>\n",
       "    <tr>\n",
       "      <th>month_shop_item_sales_lag3m</th>\n",
       "      <td>4708036.0</td>\n",
       "      <td>0.190937</td>\n",
       "      <td>0.918426</td>\n",
       "      <td>0.000000</td>\n",
       "      <td>0.000000</td>\n",
       "      <td>0.000000</td>\n",
       "      <td>0.000000</td>\n",
       "      <td>20.000000</td>\n",
       "    </tr>\n",
       "    <tr>\n",
       "      <th>month_shop_item_sales_lag6m</th>\n",
       "      <td>4708036.0</td>\n",
       "      <td>0.177754</td>\n",
       "      <td>0.907024</td>\n",
       "      <td>0.000000</td>\n",
       "      <td>0.000000</td>\n",
       "      <td>0.000000</td>\n",
       "      <td>0.000000</td>\n",
       "      <td>20.000000</td>\n",
       "    </tr>\n",
       "    <tr>\n",
       "      <th>month_shop_item_sales_lag12m</th>\n",
       "      <td>4708036.0</td>\n",
       "      <td>0.135875</td>\n",
       "      <td>0.811886</td>\n",
       "      <td>0.000000</td>\n",
       "      <td>0.000000</td>\n",
       "      <td>0.000000</td>\n",
       "      <td>0.000000</td>\n",
       "      <td>20.000000</td>\n",
       "    </tr>\n",
       "    <tr>\n",
       "      <th>month_shop_sales_lag1m</th>\n",
       "      <td>4708036.0</td>\n",
       "      <td>1033.267255</td>\n",
       "      <td>765.434378</td>\n",
       "      <td>0.000000</td>\n",
       "      <td>605.000000</td>\n",
       "      <td>853.000000</td>\n",
       "      <td>1172.000000</td>\n",
       "      <td>6645.000000</td>\n",
       "    </tr>\n",
       "    <tr>\n",
       "      <th>month_shop_sales_lag2m</th>\n",
       "      <td>4708036.0</td>\n",
       "      <td>1011.421169</td>\n",
       "      <td>756.966873</td>\n",
       "      <td>0.000000</td>\n",
       "      <td>593.000000</td>\n",
       "      <td>835.000000</td>\n",
       "      <td>1157.000000</td>\n",
       "      <td>6645.000000</td>\n",
       "    </tr>\n",
       "    <tr>\n",
       "      <th>month_shop_sales_lag3m</th>\n",
       "      <td>4708036.0</td>\n",
       "      <td>979.990167</td>\n",
       "      <td>745.719247</td>\n",
       "      <td>0.000000</td>\n",
       "      <td>571.000000</td>\n",
       "      <td>808.000000</td>\n",
       "      <td>1120.000000</td>\n",
       "      <td>6645.000000</td>\n",
       "    </tr>\n",
       "    <tr>\n",
       "      <th>month_shop_sales_lag6m</th>\n",
       "      <td>4708036.0</td>\n",
       "      <td>910.910871</td>\n",
       "      <td>718.591625</td>\n",
       "      <td>0.000000</td>\n",
       "      <td>523.000000</td>\n",
       "      <td>753.000000</td>\n",
       "      <td>1079.000000</td>\n",
       "      <td>6645.000000</td>\n",
       "    </tr>\n",
       "    <tr>\n",
       "      <th>month_shop_sales_lag12m</th>\n",
       "      <td>4708036.0</td>\n",
       "      <td>696.048347</td>\n",
       "      <td>539.057077</td>\n",
       "      <td>0.000000</td>\n",
       "      <td>392.000000</td>\n",
       "      <td>592.000000</td>\n",
       "      <td>880.000000</td>\n",
       "      <td>3585.000000</td>\n",
       "    </tr>\n",
       "    <tr>\n",
       "      <th>month_item_sales_lag1m</th>\n",
       "      <td>4708036.0</td>\n",
       "      <td>8.446752</td>\n",
       "      <td>24.860195</td>\n",
       "      <td>0.000000</td>\n",
       "      <td>0.000000</td>\n",
       "      <td>0.000000</td>\n",
       "      <td>6.000000</td>\n",
       "      <td>392.000000</td>\n",
       "    </tr>\n",
       "    <tr>\n",
       "      <th>month_item_sales_lag2m</th>\n",
       "      <td>4708036.0</td>\n",
       "      <td>8.287220</td>\n",
       "      <td>24.895182</td>\n",
       "      <td>0.000000</td>\n",
       "      <td>0.000000</td>\n",
       "      <td>0.000000</td>\n",
       "      <td>6.000000</td>\n",
       "      <td>390.000000</td>\n",
       "    </tr>\n",
       "    <tr>\n",
       "      <th>month_item_sales_lag3m</th>\n",
       "      <td>4708036.0</td>\n",
       "      <td>8.035976</td>\n",
       "      <td>24.727446</td>\n",
       "      <td>0.000000</td>\n",
       "      <td>0.000000</td>\n",
       "      <td>0.000000</td>\n",
       "      <td>6.000000</td>\n",
       "      <td>390.000000</td>\n",
       "    </tr>\n",
       "    <tr>\n",
       "      <th>month_item_sales_lag6m</th>\n",
       "      <td>4708036.0</td>\n",
       "      <td>7.480455</td>\n",
       "      <td>24.629530</td>\n",
       "      <td>0.000000</td>\n",
       "      <td>0.000000</td>\n",
       "      <td>0.000000</td>\n",
       "      <td>4.000000</td>\n",
       "      <td>390.000000</td>\n",
       "    </tr>\n",
       "    <tr>\n",
       "      <th>month_item_sales_lag12m</th>\n",
       "      <td>4708036.0</td>\n",
       "      <td>5.717215</td>\n",
       "      <td>22.215477</td>\n",
       "      <td>0.000000</td>\n",
       "      <td>0.000000</td>\n",
       "      <td>0.000000</td>\n",
       "      <td>1.000000</td>\n",
       "      <td>390.000000</td>\n",
       "    </tr>\n",
       "    <tr>\n",
       "      <th>shop_item_trend</th>\n",
       "      <td>4708036.0</td>\n",
       "      <td>-0.116348</td>\n",
       "      <td>0.463425</td>\n",
       "      <td>-12.666667</td>\n",
       "      <td>0.000000</td>\n",
       "      <td>0.000000</td>\n",
       "      <td>0.000000</td>\n",
       "      <td>3.333333</td>\n",
       "    </tr>\n",
       "    <tr>\n",
       "      <th>shop_trend</th>\n",
       "      <td>4708036.0</td>\n",
       "      <td>-598.695374</td>\n",
       "      <td>438.775757</td>\n",
       "      <td>-2956.833252</td>\n",
       "      <td>-704.166687</td>\n",
       "      <td>-508.333344</td>\n",
       "      <td>-368.333344</td>\n",
       "      <td>119.833336</td>\n",
       "    </tr>\n",
       "    <tr>\n",
       "      <th>item_trend</th>\n",
       "      <td>4708036.0</td>\n",
       "      <td>-4.922266</td>\n",
       "      <td>13.556808</td>\n",
       "      <td>-219.166672</td>\n",
       "      <td>-4.333333</td>\n",
       "      <td>-0.166667</td>\n",
       "      <td>0.000000</td>\n",
       "      <td>65.333336</td>\n",
       "    </tr>\n",
       "  </tbody>\n",
       "</table>\n",
       "</div>"
      ],
      "text/plain": [
       "                                  count          mean           std  \\\n",
       "date_block_num                4708036.0     22.499862      6.344737   \n",
       "shop_id                       4708036.0     31.643266     17.563453   \n",
       "item_id                       4708036.0  11019.941696   6251.749247   \n",
       "summed_item_price             4708036.0    201.474991   2062.762939   \n",
       "mean_item_price               4708036.0     96.350044    605.202209   \n",
       "total_item_cnt                4708036.0      0.204145      0.929529   \n",
       "mean_item_cnt                 4708036.0      0.204145      0.929529   \n",
       "transactions                  4708036.0      0.185371      0.762452   \n",
       "target                        4708036.0      0.196718      0.908252   \n",
       "month                         4708036.0      5.044846      3.239628   \n",
       "year                          4708036.0   2014.454585      0.497933   \n",
       "days_in_month                 4708036.0     30.409064      0.887276   \n",
       "item_category_id              4708036.0     46.314478     16.709694   \n",
       "unit_item_price               4708036.0     92.534029    582.465133   \n",
       "month_shop_sales              4708036.0   1039.465576    774.436703   \n",
       "month_item_sales              4708036.0      8.434005     24.090913   \n",
       "hist_min_price                4708036.0      0.000000      0.000000   \n",
       "hist_max_price                4708036.0   5196.814941  11356.205078   \n",
       "price_increase                4708036.0    201.474991   2062.762939   \n",
       "price_decrease                4708036.0  -4995.342773  10661.282227   \n",
       "month_shop_item_sales_lag1m   4708036.0      0.200695      0.925135   \n",
       "month_shop_item_sales_lag2m   4708036.0      0.196975      0.924936   \n",
       "month_shop_item_sales_lag3m   4708036.0      0.190937      0.918426   \n",
       "month_shop_item_sales_lag6m   4708036.0      0.177754      0.907024   \n",
       "month_shop_item_sales_lag12m  4708036.0      0.135875      0.811886   \n",
       "month_shop_sales_lag1m        4708036.0   1033.267255    765.434378   \n",
       "month_shop_sales_lag2m        4708036.0   1011.421169    756.966873   \n",
       "month_shop_sales_lag3m        4708036.0    979.990167    745.719247   \n",
       "month_shop_sales_lag6m        4708036.0    910.910871    718.591625   \n",
       "month_shop_sales_lag12m       4708036.0    696.048347    539.057077   \n",
       "month_item_sales_lag1m        4708036.0      8.446752     24.860195   \n",
       "month_item_sales_lag2m        4708036.0      8.287220     24.895182   \n",
       "month_item_sales_lag3m        4708036.0      8.035976     24.727446   \n",
       "month_item_sales_lag6m        4708036.0      7.480455     24.629530   \n",
       "month_item_sales_lag12m       4708036.0      5.717215     22.215477   \n",
       "shop_item_trend               4708036.0     -0.116348      0.463425   \n",
       "shop_trend                    4708036.0   -598.695374    438.775757   \n",
       "item_trend                    4708036.0     -4.922266     13.556808   \n",
       "\n",
       "                                        min          25%           50%  \\\n",
       "date_block_num                    12.000000    17.000000     22.000000   \n",
       "shop_id                            2.000000    16.000000     35.000000   \n",
       "item_id                           30.000000  5382.000000  11207.000000   \n",
       "summed_item_price                  0.000000     0.000000      0.000000   \n",
       "mean_item_price                    0.000000     0.000000      0.000000   \n",
       "total_item_cnt                     0.000000     0.000000      0.000000   \n",
       "mean_item_cnt                      0.000000     0.000000      0.000000   \n",
       "transactions                       0.000000     0.000000      0.000000   \n",
       "target                             0.000000     0.000000      0.000000   \n",
       "month                              0.000000     2.000000      5.000000   \n",
       "year                            2014.000000  2014.000000   2014.000000   \n",
       "days_in_month                     28.000000    30.000000     31.000000   \n",
       "item_category_id                   0.000000    37.000000     43.000000   \n",
       "unit_item_price                    0.000000     0.000000      0.000000   \n",
       "month_shop_sales                   0.000000   612.000000    854.000000   \n",
       "month_item_sales                   0.000000     0.000000      0.000000   \n",
       "hist_min_price                     0.000000     0.000000      0.000000   \n",
       "hist_max_price                     0.000000   798.000000   2099.000000   \n",
       "price_increase                     0.000000     0.000000      0.000000   \n",
       "price_decrease               -366860.000000 -5094.160156  -2093.000000   \n",
       "month_shop_item_sales_lag1m        0.000000     0.000000      0.000000   \n",
       "month_shop_item_sales_lag2m        0.000000     0.000000      0.000000   \n",
       "month_shop_item_sales_lag3m        0.000000     0.000000      0.000000   \n",
       "month_shop_item_sales_lag6m        0.000000     0.000000      0.000000   \n",
       "month_shop_item_sales_lag12m       0.000000     0.000000      0.000000   \n",
       "month_shop_sales_lag1m             0.000000   605.000000    853.000000   \n",
       "month_shop_sales_lag2m             0.000000   593.000000    835.000000   \n",
       "month_shop_sales_lag3m             0.000000   571.000000    808.000000   \n",
       "month_shop_sales_lag6m             0.000000   523.000000    753.000000   \n",
       "month_shop_sales_lag12m            0.000000   392.000000    592.000000   \n",
       "month_item_sales_lag1m             0.000000     0.000000      0.000000   \n",
       "month_item_sales_lag2m             0.000000     0.000000      0.000000   \n",
       "month_item_sales_lag3m             0.000000     0.000000      0.000000   \n",
       "month_item_sales_lag6m             0.000000     0.000000      0.000000   \n",
       "month_item_sales_lag12m            0.000000     0.000000      0.000000   \n",
       "shop_item_trend                  -12.666667     0.000000      0.000000   \n",
       "shop_trend                     -2956.833252  -704.166687   -508.333344   \n",
       "item_trend                      -219.166672    -4.333333     -0.166667   \n",
       "\n",
       "                                       75%            max  \n",
       "date_block_num                   28.000000      33.000000  \n",
       "shop_id                          47.000000      59.000000  \n",
       "item_id                       16071.000000   22167.000000  \n",
       "summed_item_price                 0.000000  366860.000000  \n",
       "mean_item_price                   0.000000   42990.000000  \n",
       "total_item_cnt                    0.000000      20.000000  \n",
       "mean_item_cnt                     0.000000      20.000000  \n",
       "transactions                      0.000000      18.000000  \n",
       "target                            0.000000      20.000000  \n",
       "month                             8.000000      11.000000  \n",
       "year                           2015.000000    2015.000000  \n",
       "days_in_month                    31.000000      31.000000  \n",
       "item_category_id                 58.000000      83.000000  \n",
       "unit_item_price                   0.000000   94970.000000  \n",
       "month_shop_sales               1166.000000    6645.000000  \n",
       "month_item_sales                  7.000000     392.000000  \n",
       "hist_min_price                    0.000000       0.000000  \n",
       "hist_max_price                 5196.000000  366860.000000  \n",
       "price_increase                    0.000000  366860.000000  \n",
       "price_decrease                 -796.000000       0.000000  \n",
       "month_shop_item_sales_lag1m       0.000000      20.000000  \n",
       "month_shop_item_sales_lag2m       0.000000      20.000000  \n",
       "month_shop_item_sales_lag3m       0.000000      20.000000  \n",
       "month_shop_item_sales_lag6m       0.000000      20.000000  \n",
       "month_shop_item_sales_lag12m      0.000000      20.000000  \n",
       "month_shop_sales_lag1m         1172.000000    6645.000000  \n",
       "month_shop_sales_lag2m         1157.000000    6645.000000  \n",
       "month_shop_sales_lag3m         1120.000000    6645.000000  \n",
       "month_shop_sales_lag6m         1079.000000    6645.000000  \n",
       "month_shop_sales_lag12m         880.000000    3585.000000  \n",
       "month_item_sales_lag1m            6.000000     392.000000  \n",
       "month_item_sales_lag2m            6.000000     390.000000  \n",
       "month_item_sales_lag3m            6.000000     390.000000  \n",
       "month_item_sales_lag6m            4.000000     390.000000  \n",
       "month_item_sales_lag12m           1.000000     390.000000  \n",
       "shop_item_trend                   0.000000       3.333333  \n",
       "shop_trend                     -368.333344     119.833336  \n",
       "item_trend                        0.000000      65.333336  "
      ]
     },
     "execution_count": 38,
     "metadata": {},
     "output_type": "execute_result"
    }
   ],
   "source": [
    "train_data.describe().T"
   ]
  },
  {
   "cell_type": "markdown",
   "metadata": {},
   "source": [
    "### Memory Cleanup"
   ]
  },
  {
   "cell_type": "code",
   "execution_count": 39,
   "metadata": {},
   "outputs": [
    {
     "data": {
      "text/plain": [
       "0"
      ]
     },
     "execution_count": 39,
     "metadata": {},
     "output_type": "execute_result"
    }
   ],
   "source": [
    "del month_item\n",
    "del month_shop\n",
    "del month_shop_item\n",
    "del historical_prices\n",
    "del month_item_sales\n",
    "del month_shop_sales\n",
    "del item_category_map\n",
    "del days_in_month\n",
    "del empty_df\n",
    "del train\n",
    "gc.collect()"
   ]
  },
  {
   "cell_type": "markdown",
   "metadata": {},
   "source": [
    "# Validation\n",
    "The Train/Test split is a time based split. The test data is the month (date_block_num 34) directly after the data in the train data (date_block_num 12 - 33). We will be using ensembling later so our validation set will be used to train the 2nd layer model. Hence for training we will use a time based split as well by using block 12 - 28 as training and using 29-32 as validation.\n",
    "\n",
    "After submitting the csv a few times and observing the loss for the public and private leaderboard to be almost identical we take these are both randomly sampled from the test set.\n",
    "\n",
    "### Train Validation Split"
   ]
  },
  {
   "cell_type": "code",
   "execution_count": 40,
   "metadata": {},
   "outputs": [],
   "source": [
    "X = train_data.drop(columns=['target'])\n",
    "y = train_data['target']\n",
    "\n",
    "#del train_data\n",
    "#gc.collect()"
   ]
  },
  {
   "cell_type": "code",
   "execution_count": 41,
   "metadata": {},
   "outputs": [],
   "source": [
    "X_train = X[X['date_block_num'] < 32]\n",
    "y_train = y[X['date_block_num'] < 32]\n",
    "X_val = X[X['date_block_num'] == 32]\n",
    "y_val = y[X['date_block_num'] == 32]"
   ]
  },
  {
   "cell_type": "markdown",
   "metadata": {},
   "source": [
    "# Training"
   ]
  },
  {
   "cell_type": "code",
   "execution_count": 42,
   "metadata": {},
   "outputs": [],
   "source": [
    "def print_prediciton_scores(model_name, y, preds, pred_type):\n",
    "    print(f'{pred_type} R-squared for {model_name}: {r2_score(y, preds)}' )\n",
    "    print(f'{pred_type} RMSE for {model_name}: {np.sqrt(mean_squared_error(y, preds))}')\n",
    "    print(f'{pred_type} Accuracy Score for {model_name}: {accuracy_score(y, np.around(preds))}')"
   ]
  },
  {
   "cell_type": "markdown",
   "metadata": {},
   "source": [
    "## Linear Regression"
   ]
  },
  {
   "cell_type": "code",
   "execution_count": 43,
   "metadata": {},
   "outputs": [
    {
     "data": {
      "text/plain": [
       "LinearRegression(copy_X=True, fit_intercept=True, n_jobs=1, normalize=False)"
      ]
     },
     "execution_count": 43,
     "metadata": {},
     "output_type": "execute_result"
    }
   ],
   "source": [
    "lr = LinearRegression()\n",
    "lr.fit(X_train, y_train)"
   ]
  },
  {
   "cell_type": "code",
   "execution_count": 44,
   "metadata": {},
   "outputs": [
    {
     "name": "stdout",
     "output_type": "stream",
     "text": [
      "Train R-squared for LR: 0.3836095150232868\n",
      "Train RMSE for LR: 0.7301686075695035\n",
      "Train Accuracy Score for LR: 0.8825015373630626\n",
      "Validation R-squared for LR: 0.2617381385061095\n",
      "Validation RMSE for LR: 0.772314298574841\n",
      "Validation Accuracy Score for LR: 0.835390446458198\n"
     ]
    }
   ],
   "source": [
    "train_pred_lr = lr.predict(X_train.values)\n",
    "pred_lr = lr.predict(X_val.values)\n",
    "print_prediciton_scores('LR', y_train, train_pred_lr, 'Train')\n",
    "print_prediciton_scores('LR', y_val, pred_lr, 'Validation')"
   ]
  },
  {
   "cell_type": "markdown",
   "metadata": {},
   "source": [
    "## XGBoost"
   ]
  },
  {
   "cell_type": "code",
   "execution_count": 45,
   "metadata": {},
   "outputs": [
    {
     "name": "stderr",
     "output_type": "stream",
     "text": [
      "/home/dustin/anaconda3/envs/coursera-aml/lib/python3.6/site-packages/xgboost/core.py:587: FutureWarning: Series.base is deprecated and will be removed in a future version\n",
      "  if getattr(data, 'base', None) is not None and \\\n"
     ]
    },
    {
     "data": {
      "text/plain": [
       "XGBRegressor(alpha=500, base_score=0.5, booster='gbtree', colsample_bylevel=1,\n",
       "       colsample_bynode=1, colsample_bytree=0.5, gamma=0,\n",
       "       importance_type='gain', learning_rate=0.01, max_delta_step=0,\n",
       "       max_depth=10, min_child_weight=3, missing=None, n_estimators=1000,\n",
       "       n_jobs=1, nthread=None, objective='reg:squarederror',\n",
       "       random_state=0, reg_alpha=0, reg_lambda=1, scale_pos_weight=1,\n",
       "       seed=None, silent=None, subsample=0.8, tree_method='gpu_hist',\n",
       "       verbosity=1)"
      ]
     },
     "execution_count": 45,
     "metadata": {},
     "output_type": "execute_result"
    }
   ],
   "source": [
    "colsample_bytree = 0.5\n",
    "subsample = 0.8\n",
    "min_child_weight = 3\n",
    "learning_rate = 0.01\n",
    "max_depth = 10\n",
    "alpha = 500\n",
    "n_estimators = 1000\n",
    "\n",
    "xgb_reg = xgb.XGBRegressor(tree_method = 'gpu_hist', objective = 'reg:squarederror', \n",
    "                          colsample_bytree = colsample_bytree, learning_rate = learning_rate, max_depth = max_depth, \n",
    "                          alpha = alpha, n_estimators = n_estimators, min_child_weight = min_child_weight,\n",
    "                          subsample = subsample)\n",
    "\n",
    "xgb_reg.fit(X_train, y_train)"
   ]
  },
  {
   "cell_type": "code",
   "execution_count": 46,
   "metadata": {},
   "outputs": [
    {
     "name": "stdout",
     "output_type": "stream",
     "text": [
      "Train R-squared for XGB: 0.5936029392393498\n",
      "Train RMSE for XGB: 0.5928850143572767\n",
      "Train Accuracy Score for XGB: 0.8881946871723174\n",
      "Validation R-squared for XGB: 0.3345956828833495\n",
      "Validation RMSE for XGB: 0.7332155482044783\n",
      "Validation Accuracy Score for XGB: 0.8449290331023073\n"
     ]
    }
   ],
   "source": [
    "train_pred_xgb = xgb_reg.predict(X_train)\n",
    "pred_xgb = xgb_reg.predict(X_val)\n",
    "print_prediciton_scores('XGB', y_train, train_pred_xgb, 'Train')\n",
    "print_prediciton_scores('XGB', y_val, pred_xgb, 'Validation')"
   ]
  },
  {
   "cell_type": "markdown",
   "metadata": {},
   "source": [
    "## Random Forest\n",
    "We use Random forest to plot accuracy against amount of trees to get an idea how good our features work with tree besed classifiers."
   ]
  },
  {
   "cell_type": "code",
   "execution_count": 47,
   "metadata": {},
   "outputs": [
    {
     "data": {
      "text/plain": [
       "RandomForestClassifier(bootstrap=True, class_weight=None, criterion='gini',\n",
       "            max_depth=7, max_features='auto', max_leaf_nodes=None,\n",
       "            min_impurity_decrease=0.0, min_impurity_split=None,\n",
       "            min_samples_leaf=1, min_samples_split=2,\n",
       "            min_weight_fraction_leaf=0.0, n_estimators=100, n_jobs=-1,\n",
       "            oob_score=False, random_state=None, verbose=0,\n",
       "            warm_start=False)"
      ]
     },
     "execution_count": 47,
     "metadata": {},
     "output_type": "execute_result"
    }
   ],
   "source": [
    "rf = RandomForestClassifier(n_estimators=100, max_depth=7, n_jobs=-1)\n",
    "rf.fit(X_train, y_train)"
   ]
  },
  {
   "cell_type": "code",
   "execution_count": 49,
   "metadata": {},
   "outputs": [
    {
     "name": "stdout",
     "output_type": "stream",
     "text": [
      "Validation R-squared for RF: 0.09093060537360798\n",
      "Validation RMSE for RF: 0.8570129354895505\n",
      "Validation Accuracy Score for RF: 0.8683338552060307\n"
     ]
    }
   ],
   "source": [
    "# train_pred_rf = rf.predict(X_train)\n",
    "pred_rf = rf.predict(X_val)\n",
    "# print_validation_scores('RF', y_train, train_pred_rf, 'Train')\n",
    "print_prediciton_scores('RF', y_val, pred_rf, 'Validation')"
   ]
  },
  {
   "cell_type": "markdown",
   "metadata": {},
   "source": [
    "## Prediction Comparisons"
   ]
  },
  {
   "cell_type": "code",
   "execution_count": 50,
   "metadata": {},
   "outputs": [],
   "source": [
    "def draw_scatter(x, y):\n",
    "    fig, ax = plt.subplots()\n",
    "    ax.scatter(x, y)\n",
    "    \n",
    "    lims = [\n",
    "        np.min([ax.get_xlim(), ax.get_ylim()]),  # min of both axes\n",
    "        np.max([ax.get_xlim(), ax.get_ylim()]),  # max of both axes\n",
    "    ]\n",
    "    \n",
    "    ax.plot(lims, lims, 'k-', alpha=0.75, zorder=0)\n",
    "    plt.draw()"
   ]
  },
  {
   "cell_type": "code",
   "execution_count": 51,
   "metadata": {},
   "outputs": [
    {
     "data": {
      "image/png": "[encoded data removed]",
      "text/plain": [
       "<Figure size 432x288 with 1 Axes>"
      ]
     },
     "metadata": {
      "needs_background": "light"
     },
     "output_type": "display_data"
    },
    {
     "data": {
      "image/png": "[encoded data removed]",
      "text/plain": [
       "<Figure size 432x288 with 1 Axes>"
      ]
     },
     "metadata": {
      "needs_background": "light"
     },
     "output_type": "display_data"
    },
    {
     "data": {
      "image/png": "[encoded data removed]",
      "text/plain": [
       "<Figure size 432x288 with 1 Axes>"
      ]
     },
     "metadata": {
      "needs_background": "light"
     },
     "output_type": "display_data"
    }
   ],
   "source": [
    "draw_scatter(pred_lr, pred_xgb)\n",
    "draw_scatter(pred_lr, pred_rf)\n",
    "draw_scatter(pred_xgb, pred_rf)"
   ]
  },
  {
   "cell_type": "markdown",
   "metadata": {},
   "source": [
    "As we can see, the XGB and LR model provide generally similar classifications, whereas the RF model tends to give vastly different predictions."
   ]
  },
  {
   "cell_type": "markdown",
   "metadata": {},
   "source": [
    "# Predicting Competition Data\n",
    "## Build Test Set\n",
    "We want to predict block 34 so block 33 is our trianing data. We build the dataframe to contain all data we need."
   ]
  },
  {
   "cell_type": "code",
   "execution_count": 108,
   "metadata": {},
   "outputs": [],
   "source": [
    "X_test = pd.merge(test, X[X['date_block_num'] == 33], on=['shop_id', 'item_id'], how='left').drop(columns=['ID'])"
   ]
  },
  {
   "cell_type": "code",
   "execution_count": 109,
   "metadata": {},
   "outputs": [],
   "source": [
    "for shop_id in X_test['shop_id'].unique():\n",
    "    for column in X_test.columns:\n",
    "        shop_median = X_test[X_test['shop_id'] == shop_id][column].median()\n",
    "        X_test.loc[(X_test[column].isnull()) \\\n",
    "                   & (X_test['shop_id'] == shop_id), column] = shop_median\n",
    "X_test.fillna(X_test.mean(), inplace=True)"
   ]
  },
  {
   "cell_type": "code",
   "execution_count": 116,
   "metadata": {},
   "outputs": [],
   "source": [
    "X_test = X_test[X_train.columns]"
   ]
  },
  {
   "cell_type": "markdown",
   "metadata": {},
   "source": [
    "## Predict"
   ]
  },
  {
   "cell_type": "code",
   "execution_count": 107,
   "metadata": {},
   "outputs": [],
   "source": [
    "lr = LinearRegression()\n",
    "lr.fit(pd.concat([X_train, X_val]), pd.concat([y_train, y_val]))"
   ]
  },
  {
   "cell_type": "code",
   "execution_count": 111,
   "metadata": {},
   "outputs": [
    {
     "data": {
      "text/plain": [
       "array([ 0.46789074,  0.01593161,  0.8486228 , ...,  0.01682234,\n",
       "        0.00839567,  0.03040552])"
      ]
     },
     "execution_count": 111,
     "metadata": {},
     "output_type": "execute_result"
    }
   ],
   "source": [
    "pred_lr = lr.predict(X_test.values)\n",
    "pred_lr"
   ]
  },
  {
   "cell_type": "markdown",
   "metadata": {},
   "source": [
    "## Build Submission CSV"
   ]
  },
  {
   "cell_type": "code",
   "execution_count": 112,
   "metadata": {},
   "outputs": [
    {
     "data": {
      "text/html": [
       "<div>\n",
       "<style scoped>\n",
       "    .dataframe tbody tr th:only-of-type {\n",
       "        vertical-align: middle;\n",
       "    }\n",
       "\n",
       "    .dataframe tbody tr th {\n",
       "        vertical-align: top;\n",
       "    }\n",
       "\n",
       "    .dataframe thead th {\n",
       "        text-align: right;\n",
       "    }\n",
       "</style>\n",
       "<table border=\"1\" class=\"dataframe\">\n",
       "  <thead>\n",
       "    <tr style=\"text-align: right;\">\n",
       "      <th></th>\n",
       "      <th>ID</th>\n",
       "      <th>item_cnt_month</th>\n",
       "    </tr>\n",
       "  </thead>\n",
       "  <tbody>\n",
       "    <tr>\n",
       "      <th>count</th>\n",
       "      <td>214200.000000</td>\n",
       "      <td>214200.000000</td>\n",
       "    </tr>\n",
       "    <tr>\n",
       "      <th>mean</th>\n",
       "      <td>107099.500000</td>\n",
       "      <td>0.255107</td>\n",
       "    </tr>\n",
       "    <tr>\n",
       "      <th>std</th>\n",
       "      <td>61834.358168</td>\n",
       "      <td>0.797728</td>\n",
       "    </tr>\n",
       "    <tr>\n",
       "      <th>min</th>\n",
       "      <td>0.000000</td>\n",
       "      <td>0.000000</td>\n",
       "    </tr>\n",
       "    <tr>\n",
       "      <th>25%</th>\n",
       "      <td>53549.750000</td>\n",
       "      <td>0.028107</td>\n",
       "    </tr>\n",
       "    <tr>\n",
       "      <th>50%</th>\n",
       "      <td>107099.500000</td>\n",
       "      <td>0.071373</td>\n",
       "    </tr>\n",
       "    <tr>\n",
       "      <th>75%</th>\n",
       "      <td>160649.250000</td>\n",
       "      <td>0.230802</td>\n",
       "    </tr>\n",
       "    <tr>\n",
       "      <th>max</th>\n",
       "      <td>214199.000000</td>\n",
       "      <td>20.000000</td>\n",
       "    </tr>\n",
       "  </tbody>\n",
       "</table>\n",
       "</div>"
      ],
      "text/plain": [
       "                  ID  item_cnt_month\n",
       "count  214200.000000   214200.000000\n",
       "mean   107099.500000        0.255107\n",
       "std     61834.358168        0.797728\n",
       "min         0.000000        0.000000\n",
       "25%     53549.750000        0.028107\n",
       "50%    107099.500000        0.071373\n",
       "75%    160649.250000        0.230802\n",
       "max    214199.000000       20.000000"
      ]
     },
     "execution_count": 112,
     "metadata": {},
     "output_type": "execute_result"
    }
   ],
   "source": [
    "submission = pd.DataFrame()\n",
    "submission['ID'] = sample_submission['ID']\n",
    "submission['item_cnt_month'] = pred_lr.clip(0, 20)\n",
    "\n",
    "submission_rounded = submission.copy()\n",
    "submission_rounded['item_cnt_month'] = np.around(submission['item_cnt_month'])\n",
    "\n",
    "submission.describe()"
   ]
  },
  {
   "cell_type": "code",
   "execution_count": 113,
   "metadata": {},
   "outputs": [],
   "source": [
    "submission.to_csv('submission.csv', index=False)\n",
    "submission_rounded.to_csv('submission_rounded.csv', index=False)"
   ]
  },
  {
   "cell_type": "code",
   "execution_count": null,
   "metadata": {},
   "outputs": [],
   "source": []
  }
 ],
 "metadata": {
  "kernelspec": {
   "display_name": "Python 3",
   "language": "python",
   "name": "python3"
  },
  "language_info": {
   "codemirror_mode": {
    "name": "ipython",
    "version": 3
   },
   "file_extension": ".py",
   "mimetype": "text/x-python",
   "name": "python",
   "nbconvert_exporter": "python",
   "pygments_lexer": "ipython3",
   "version": "3.6.10"
  }
 },
 "nbformat": 4,
 "nbformat_minor": 4
}
